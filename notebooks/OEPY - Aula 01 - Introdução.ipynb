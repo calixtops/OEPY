{
 "cells": [
  {
   "cell_type": "markdown",
   "metadata": {},
   "source": [
    "\n",
    "<h1 style=\"text-align: center; background-color:  #003d99; opacity: 0.7; padding: 30px; color: white; border-radius: 8px; border-left: 6px solid red\">  Aula 1 - Introdução à programação - Elementos básicos e Funções Matemáticas </h1>\n",
    "<a id='section_id1'></a>\n"
   ]
  },
  {
   "cell_type": "markdown",
   "metadata": {},
   "source": [
    "----"
   ]
  },
  {
   "cell_type": "markdown",
   "metadata": {},
   "source": [
    "# Índice\n",
    "\n",
    "- [**Aula 1 - Introdução à programação - Elementos básicos e Funções Matemáticas**](#section_id1)\n",
    "    - [1.1 O que é uma variável?](#section_id2)\n",
    "    - [1.2 Funções Built-in](#section_id3)\n",
    "    - [1.3 Valores Inteiros e Strings](#section_id4)\n",
    "    - [1.4 Função input()](#section_id5)\n",
    "    - [1.5 Operações Aritméticas](#section_id6)\n"
   ]
  },
  {
   "cell_type": "markdown",
   "metadata": {
    "id": "m5jVYGIcfDjX"
   },
   "source": [
    "## 1.1 O que é uma variável ? \n",
    "\n",
    "<a id='section_id2'></a>\n"
   ]
  },
  {
   "cell_type": "markdown",
   "metadata": {
    "id": "ElE-GD0HfDjd"
   },
   "source": [
    "<div class=\"alert alert-block alert-success\">\n",
    "\n",
    "\n",
    "\n",
    "  \n",
    "Variavel é um local na memória que é reservado para armazenar uma informação;</p>\n",
    "\n",
    "<b>exemplo</b>: Armazenar nome de estações, parâmetros, como temperatura, salinidade, entre outros. \n",
    "    </div>"
   ]
  },
  {
   "cell_type": "markdown",
   "metadata": {
    "id": "EpbGIaMOPNiL"
   },
   "source": [
    "No bloco de código abaixo declaramos o valor inteiro 10 como a variável 'a'."
   ]
  },
  {
   "cell_type": "code",
   "execution_count": 1,
   "metadata": {
    "id": "FoT11iP6fDjf"
   },
   "outputs": [],
   "source": [
    "a = 10"
   ]
  },
  {
   "cell_type": "markdown",
   "metadata": {
    "id": "HIPnB7SXfDjz"
   },
   "source": [
    "Daqui para frente, \"a\" vai representar o número inteiro 10 até que essa variável seja apagada ou sobrescrita. Para imprimir uma variável no momento de interpretar(rodar) o programa, usamos a função <mark style=\"background-color:red\">print</mark>."
   ]
  },
  {
   "cell_type": "code",
   "execution_count": 2,
   "metadata": {
    "colab": {
     "base_uri": "https://localhost:8080/",
     "height": 168
    },
    "executionInfo": {
     "elapsed": 1243,
     "status": "error",
     "timestamp": 1617646518669,
     "user": {
      "displayName": "Pedro Calixto",
      "photoUrl": "https://lh3.googleusercontent.com/a-/AOh14Gg0lRxjwA8brpeHxk7aHwRimkQ3KrPTXDrnAl0X8Lg=s64",
      "userId": "06936679020888677524"
     },
     "user_tz": 180
    },
    "id": "DR1gyG1yfDj0",
    "outputId": "af5d1f8f-45e2-4a92-dfe9-e2a6d97dfaec"
   },
   "outputs": [
    {
     "name": "stdout",
     "output_type": "stream",
     "text": [
      "10\n"
     ]
    }
   ],
   "source": [
    "print(a)"
   ]
  },
  {
   "cell_type": "markdown",
   "metadata": {
    "id": "Gs05-SXFfDj_"
   },
   "source": [
    "De onde veio essa função? "
   ]
  },
  {
   "cell_type": "markdown",
   "metadata": {},
   "source": [
    "## 1.2 Funções Built-in\n",
    "\n",
    "<a id='section_id3'></a>\n"
   ]
  },
  {
   "cell_type": "markdown",
   "metadata": {
    "id": "SEWSROitfDkB"
   },
   "source": [
    "Em python, temos Módulos e Pacotes que incluem funções de diversas naturezas. Porém, existe algumas funções internas do python. Por hora, não importaremos nenhum desses pacotes ou módulos. Essas funções são conhecidas como Funções <b>Built-in."
   ]
  },
  {
   "cell_type": "markdown",
   "metadata": {
    "id": "M_iGxqLOfDkD"
   },
   "source": [
    "<div class=\"alert alert-block alert-success\">\n",
    "\n",
    "<b>Funções built-in são funções internas e nativas, ou seja, que já vem incorporadas na linguagem e estão sempre disponíveis para utilização. Assim não é necessário a importação. Basta utilizá-las diretamente no seu código quando desejar.  O Python possui diversas funções built-in.\n",
    "    </div>"
   ]
  },
  {
   "cell_type": "markdown",
   "metadata": {
    "id": "Kf4Qnxi_fDkE"
   },
   "source": [
    " ![built functions](https://i.stack.imgur.com/O0eOZ.png)"
   ]
  },
  {
   "cell_type": "code",
   "execution_count": 3,
   "metadata": {
    "colab": {
     "base_uri": "https://localhost:8080/"
    },
    "executionInfo": {
     "elapsed": 1002,
     "status": "ok",
     "timestamp": 1617646615638,
     "user": {
      "displayName": "Pedro Calixto",
      "photoUrl": "https://lh3.googleusercontent.com/a-/AOh14Gg0lRxjwA8brpeHxk7aHwRimkQ3KrPTXDrnAl0X8Lg=s64",
      "userId": "06936679020888677524"
     },
     "user_tz": 180
    },
    "id": "w_6hhYiXfDkI",
    "outputId": "abbb2380-e173-4eb2-a346-f6336f138c57"
   },
   "outputs": [
    {
     "name": "stdout",
     "output_type": "stream",
     "text": [
      "\n"
     ]
    }
   ],
   "source": [
    "print()"
   ]
  },
  {
   "cell_type": "code",
   "execution_count": 4,
   "metadata": {
    "executionInfo": {
     "elapsed": 1107,
     "status": "ok",
     "timestamp": 1617646589215,
     "user": {
      "displayName": "Pedro Calixto",
      "photoUrl": "https://lh3.googleusercontent.com/a-/AOh14Gg0lRxjwA8brpeHxk7aHwRimkQ3KrPTXDrnAl0X8Lg=s64",
      "userId": "06936679020888677524"
     },
     "user_tz": 180
    },
    "id": "Mb603D2OfDkR"
   },
   "outputs": [],
   "source": [
    "b = 20"
   ]
  },
  {
   "cell_type": "markdown",
   "metadata": {
    "id": "5IaD4yIefDkh"
   },
   "source": [
    "A função interna PRINT, é utilizada também para exibir mensagens no decorrer da execução do programa."
   ]
  },
  {
   "cell_type": "code",
   "execution_count": 5,
   "metadata": {
    "colab": {
     "base_uri": "https://localhost:8080/"
    },
    "executionInfo": {
     "elapsed": 657,
     "status": "ok",
     "timestamp": 1606930074976,
     "user": {
      "displayName": "Pedro Calixto",
      "photoUrl": "https://lh3.googleusercontent.com/a-/AOh14Gg0lRxjwA8brpeHxk7aHwRimkQ3KrPTXDrnAl0X8Lg=s64",
      "userId": "06936679020888677524"
     },
     "user_tz": 180
    },
    "id": "Ti1lJW4LfDkj",
    "outputId": "fd5749af-dd2b-4bfb-a84d-2ce0d448a57c"
   },
   "outputs": [
    {
     "name": "stdout",
     "output_type": "stream",
     "text": [
      "Programa finalizado\n"
     ]
    }
   ],
   "source": [
    "print(\"Programa finalizado\")"
   ]
  },
  {
   "cell_type": "markdown",
   "metadata": {
    "id": "TWzwMXhWfDkp"
   },
   "source": [
    "Posso declarar essa mensagem de texto como uma variável? \n"
   ]
  },
  {
   "cell_type": "code",
   "execution_count": 6,
   "metadata": {
    "id": "VnTaoST6fDkr"
   },
   "outputs": [],
   "source": [
    "a = \"Programa finalizado\""
   ]
  },
  {
   "cell_type": "code",
   "execution_count": 7,
   "metadata": {
    "colab": {
     "base_uri": "https://localhost:8080/"
    },
    "executionInfo": {
     "elapsed": 1312,
     "status": "ok",
     "timestamp": 1606930103251,
     "user": {
      "displayName": "Pedro Calixto",
      "photoUrl": "https://lh3.googleusercontent.com/a-/AOh14Gg0lRxjwA8brpeHxk7aHwRimkQ3KrPTXDrnAl0X8Lg=s64",
      "userId": "06936679020888677524"
     },
     "user_tz": 180
    },
    "id": "B0PQyOVlfDkz",
    "outputId": "d05ef4ac-5cdc-4df5-883b-116749b8d869"
   },
   "outputs": [
    {
     "name": "stdout",
     "output_type": "stream",
     "text": [
      "Programa finalizado\n"
     ]
    }
   ],
   "source": [
    "print(a)"
   ]
  },
  {
   "cell_type": "markdown",
   "metadata": {
    "id": "F18LHE8OfDk6"
   },
   "source": [
    "**Mas qual a diferença?**"
   ]
  },
  {
   "cell_type": "markdown",
   "metadata": {
    "id": "XN6TCYNpfDk8"
   },
   "source": [
    "## 1.3 Valores Inteiros e Strings\n",
    "\n",
    "<a id='section_id4'> </a>"
   ]
  },
  {
   "cell_type": "markdown",
   "metadata": {
    "id": "K2QKZHEhfDk-"
   },
   "source": [
    "Até agora nos deparamos com 2 tipos de de \"valores\". \n",
    "\n",
    "Primeiramente declaramos uma variável \"a\" com um valor Inteiro(10). Posteriormente declaramos essa mesma variável com uma String (\"Programa Finalizado\"). \n",
    "\n",
    "Trata-se de dois tipos diferente de valores, o primeiro é um valor Inteiro e o segundo uma String."
   ]
  },
  {
   "cell_type": "markdown",
   "metadata": {
    "id": "8fLIc8TkfDk_"
   },
   "source": [
    "<div class=\"alert alert-block alert-success\">\n",
    "\n",
    "\n",
    "<b>Uma string é uma cadeia de caractere ou um caractere simples separado por aspas (\") ou apóstrofo (')\n",
    "    </div>"
   ]
  },
  {
   "cell_type": "markdown",
   "metadata": {
    "id": "VkROb_EpfDk_"
   },
   "source": [
    "Para conferir o Tipo de cada variável utilizaremos a função interna type()"
   ]
  },
  {
   "cell_type": "code",
   "execution_count": 8,
   "metadata": {
    "colab": {
     "base_uri": "https://localhost:8080/"
    },
    "executionInfo": {
     "elapsed": 834,
     "status": "ok",
     "timestamp": 1617646726289,
     "user": {
      "displayName": "Pedro Calixto",
      "photoUrl": "https://lh3.googleusercontent.com/a-/AOh14Gg0lRxjwA8brpeHxk7aHwRimkQ3KrPTXDrnAl0X8Lg=s64",
      "userId": "06936679020888677524"
     },
     "user_tz": 180
    },
    "id": "-MF8C_nafDlB",
    "outputId": "950edf3e-0b2c-44d3-bff5-0dfbb91064e5"
   },
   "outputs": [
    {
     "data": {
      "text/plain": [
       "str"
      ]
     },
     "execution_count": 8,
     "metadata": {},
     "output_type": "execute_result"
    }
   ],
   "source": [
    "type(\"Olá mundo\")"
   ]
  },
  {
   "cell_type": "code",
   "execution_count": 9,
   "metadata": {
    "colab": {
     "base_uri": "https://localhost:8080/",
     "height": 168
    },
    "executionInfo": {
     "elapsed": 1030,
     "status": "error",
     "timestamp": 1617646728421,
     "user": {
      "displayName": "Pedro Calixto",
      "photoUrl": "https://lh3.googleusercontent.com/a-/AOh14Gg0lRxjwA8brpeHxk7aHwRimkQ3KrPTXDrnAl0X8Lg=s64",
      "userId": "06936679020888677524"
     },
     "user_tz": 180
    },
    "id": "Khj2cMc2fDlJ",
    "outputId": "f503740a-19be-4869-a0b1-ca5fd75d6ecd"
   },
   "outputs": [
    {
     "data": {
      "text/plain": [
       "str"
      ]
     },
     "execution_count": 9,
     "metadata": {},
     "output_type": "execute_result"
    }
   ],
   "source": [
    "type(a)"
   ]
  },
  {
   "cell_type": "code",
   "execution_count": 10,
   "metadata": {
    "colab": {
     "base_uri": "https://localhost:8080/"
    },
    "executionInfo": {
     "elapsed": 550,
     "status": "ok",
     "timestamp": 1617646729837,
     "user": {
      "displayName": "Pedro Calixto",
      "photoUrl": "https://lh3.googleusercontent.com/a-/AOh14Gg0lRxjwA8brpeHxk7aHwRimkQ3KrPTXDrnAl0X8Lg=s64",
      "userId": "06936679020888677524"
     },
     "user_tz": 180
    },
    "id": "5BnhZKuKfDlQ",
    "outputId": "15035b14-a72e-4b9a-fc4a-ebc5c68eb8d5"
   },
   "outputs": [
    {
     "data": {
      "text/plain": [
       "int"
      ]
     },
     "execution_count": 10,
     "metadata": {},
     "output_type": "execute_result"
    }
   ],
   "source": [
    "type(b)"
   ]
  },
  {
   "cell_type": "markdown",
   "metadata": {
    "id": "CnjfbstWfDlX"
   },
   "source": [
    "<b>int</b> quer dizer que temos um valor inteiro e <b>str</b> quer dizer que temos uma string"
   ]
  },
  {
   "cell_type": "markdown",
   "metadata": {
    "id": "ke13z0DAfDlY"
   },
   "source": [
    "* Até agora conhecemos duas funções internas do python: <b> Type e Print"
   ]
  },
  {
   "cell_type": "code",
   "execution_count": 11,
   "metadata": {
    "colab": {
     "base_uri": "https://localhost:8080/",
     "height": 202
    },
    "executionInfo": {
     "elapsed": 859,
     "status": "error",
     "timestamp": 1617646752455,
     "user": {
      "displayName": "Pedro Calixto",
      "photoUrl": "https://lh3.googleusercontent.com/a-/AOh14Gg0lRxjwA8brpeHxk7aHwRimkQ3KrPTXDrnAl0X8Lg=s64",
      "userId": "06936679020888677524"
     },
     "user_tz": 180
    },
    "id": "sInt5rurgmDX",
    "outputId": "b2a601f7-8986-4a19-bb8a-e5c8af014931"
   },
   "outputs": [],
   "source": [
    "tstr = type(\"Ola Mundo\")\n",
    "ta = type(a)\n",
    "tb = type(b)"
   ]
  },
  {
   "cell_type": "code",
   "execution_count": 12,
   "metadata": {
    "colab": {
     "base_uri": "https://localhost:8080/",
     "height": 289
    },
    "executionInfo": {
     "elapsed": 1299,
     "status": "error",
     "timestamp": 1617646754779,
     "user": {
      "displayName": "Pedro Calixto",
      "photoUrl": "https://lh3.googleusercontent.com/a-/AOh14Gg0lRxjwA8brpeHxk7aHwRimkQ3KrPTXDrnAl0X8Lg=s64",
      "userId": "06936679020888677524"
     },
     "user_tz": 180
    },
    "id": "n79o382CfDlZ",
    "outputId": "ac9ec441-f6a2-445a-c078-5c509df2170f"
   },
   "outputs": [
    {
     "name": "stdout",
     "output_type": "stream",
     "text": [
      "------------\n",
      "Tipo de cada variável\n",
      "<class 'str'>\n",
      "<class 'str'>\n",
      "<class 'int'>\n",
      "-----FIM-------\n"
     ]
    }
   ],
   "source": [
    "print(\"------------\")\n",
    "print('Tipo de cada variável')\n",
    "print(type(\"Olá, mundo!\"))\n",
    "print(type(a))\n",
    "print(type(b))\n",
    "print(\"-----FIM-------\")\n"
   ]
  },
  {
   "cell_type": "markdown",
   "metadata": {
    "id": "hBMlcbt5fDlf"
   },
   "source": [
    "Posso misturar variaveis de tipos diferentes?"
   ]
  },
  {
   "cell_type": "markdown",
   "metadata": {
    "id": "B4YrpkCsfDli"
   },
   "source": [
    "Numeros inteiros podem ser utilizados dentro de uma string."
   ]
  },
  {
   "cell_type": "code",
   "execution_count": 13,
   "metadata": {
    "id": "VD2qQEzUfDlm"
   },
   "outputs": [],
   "source": [
    "strin = \"O numero utilizado na string é:\""
   ]
  },
  {
   "cell_type": "code",
   "execution_count": 14,
   "metadata": {
    "colab": {
     "base_uri": "https://localhost:8080/"
    },
    "executionInfo": {
     "elapsed": 2315,
     "status": "ok",
     "timestamp": 1606930461275,
     "user": {
      "displayName": "Pedro Calixto",
      "photoUrl": "https://lh3.googleusercontent.com/a-/AOh14Gg0lRxjwA8brpeHxk7aHwRimkQ3KrPTXDrnAl0X8Lg=s64",
      "userId": "06936679020888677524"
     },
     "user_tz": 180
    },
    "id": "GlsKueW6fDls",
    "outputId": "4f152356-7e7f-43d4-fa11-d1d3b43d7f94"
   },
   "outputs": [
    {
     "name": "stdout",
     "output_type": "stream",
     "text": [
      "O numero utilizado na string é:>20\n"
     ]
    }
   ],
   "source": [
    "print(strin,b,sep='>')"
   ]
  },
  {
   "cell_type": "markdown",
   "metadata": {
    "id": "noLU29CzfDly"
   },
   "source": [
    "Em programação, geralmente, temos diversos caminhos para realizar diferentes trabalhos"
   ]
  },
  {
   "cell_type": "markdown",
   "metadata": {
    "id": "igbqfCLRfDlz"
   },
   "source": [
    "Primeira forma"
   ]
  },
  {
   "cell_type": "code",
   "execution_count": 15,
   "metadata": {
    "colab": {
     "base_uri": "https://localhost:8080/"
    },
    "executionInfo": {
     "elapsed": 1494,
     "status": "ok",
     "timestamp": 1606930495854,
     "user": {
      "displayName": "Pedro Calixto",
      "photoUrl": "https://lh3.googleusercontent.com/a-/AOh14Gg0lRxjwA8brpeHxk7aHwRimkQ3KrPTXDrnAl0X8Lg=s64",
      "userId": "06936679020888677524"
     },
     "user_tz": 180
    },
    "id": "GrhWqcgqfDl0",
    "outputId": "a05a4bc2-df19-4323-f64f-79e64fc4dd88"
   },
   "outputs": [
    {
     "name": "stdout",
     "output_type": "stream",
     "text": [
      "O numero utilizado na string é: 20\n"
     ]
    }
   ],
   "source": [
    "print(strin,b)"
   ]
  },
  {
   "cell_type": "markdown",
   "metadata": {
    "id": "xDtNvHCAfDl5"
   },
   "source": [
    "Segunda forma"
   ]
  },
  {
   "cell_type": "code",
   "execution_count": 16,
   "metadata": {
    "colab": {
     "base_uri": "https://localhost:8080/"
    },
    "executionInfo": {
     "elapsed": 2540,
     "status": "ok",
     "timestamp": 1606930633982,
     "user": {
      "displayName": "Pedro Calixto",
      "photoUrl": "https://lh3.googleusercontent.com/a-/AOh14Gg0lRxjwA8brpeHxk7aHwRimkQ3KrPTXDrnAl0X8Lg=s64",
      "userId": "06936679020888677524"
     },
     "user_tz": 180
    },
    "id": "iO5ED7xGfDl7",
    "outputId": "50c1305b-ad23-4c1d-97a2-6dd752e6393f"
   },
   "outputs": [
    {
     "name": "stdout",
     "output_type": "stream",
     "text": [
      "O numero utilizado na string é:20\n"
     ]
    }
   ],
   "source": [
    "print('{}{}'.format(strin,b))"
   ]
  },
  {
   "cell_type": "markdown",
   "metadata": {
    "id": "TSOpamSvRUX6"
   },
   "source": [
    "<b> A melhor forma é a que você tem mais facilidade </b>"
   ]
  },
  {
   "cell_type": "markdown",
   "metadata": {
    "id": "E3zANvCvfDmB"
   },
   "source": [
    "Na segunda forma apresentada, cada chave representa uma das variáveis que colocamos dentro da função <b>format()</b>"
   ]
  },
  {
   "cell_type": "markdown",
   "metadata": {
    "id": "IUKBxe-xfDmD"
   },
   "source": [
    "Podemos utilizar as chaves para ordenar as variaveis na mensagem"
   ]
  },
  {
   "cell_type": "code",
   "execution_count": 17,
   "metadata": {
    "colab": {
     "base_uri": "https://localhost:8080/"
    },
    "executionInfo": {
     "elapsed": 2491,
     "status": "ok",
     "timestamp": 1606930675259,
     "user": {
      "displayName": "Pedro Calixto",
      "photoUrl": "https://lh3.googleusercontent.com/a-/AOh14Gg0lRxjwA8brpeHxk7aHwRimkQ3KrPTXDrnAl0X8Lg=s64",
      "userId": "06936679020888677524"
     },
     "user_tz": 180
    },
    "id": "QyH0MNOwfDmD",
    "outputId": "80bb08b1-553f-4b6e-da7b-a68d811e7511"
   },
   "outputs": [
    {
     "name": "stdout",
     "output_type": "stream",
     "text": [
      "O numero utilizado na string é: 20\n"
     ]
    }
   ],
   "source": [
    "print('{0} {1}'.format(strin,b))"
   ]
  },
  {
   "cell_type": "code",
   "execution_count": 18,
   "metadata": {
    "colab": {
     "base_uri": "https://localhost:8080/"
    },
    "executionInfo": {
     "elapsed": 2261,
     "status": "ok",
     "timestamp": 1606930685451,
     "user": {
      "displayName": "Pedro Calixto",
      "photoUrl": "https://lh3.googleusercontent.com/a-/AOh14Gg0lRxjwA8brpeHxk7aHwRimkQ3KrPTXDrnAl0X8Lg=s64",
      "userId": "06936679020888677524"
     },
     "user_tz": 180
    },
    "id": "UCogJ10hfDmI",
    "outputId": "32aa974f-af02-4ebc-b3e8-400db7bb5a78"
   },
   "outputs": [
    {
     "name": "stdout",
     "output_type": "stream",
     "text": [
      "20 O numero utilizado na string é:\n"
     ]
    }
   ],
   "source": [
    "print('{1} {0}'.format(strin,b))"
   ]
  },
  {
   "cell_type": "markdown",
   "metadata": {
    "id": "N7bxrqvYfDmP"
   },
   "source": [
    "Quais funções conhecemos até agora? Type, Print, Format"
   ]
  },
  {
   "cell_type": "markdown",
   "metadata": {
    "id": "_dxHVEkYfDmP"
   },
   "source": [
    "## 1.4 Função input()\n",
    "\n",
    "<a id='section_id5'></a>\n"
   ]
  },
  {
   "cell_type": "markdown",
   "metadata": {
    "id": "QlmZWisxfDmR"
   },
   "source": [
    "Voce pode utilizar a função input() para receber dados ou valores que o usuario fornece <b>durante a execução do programa</b> utilizando o teclado"
   ]
  },
  {
   "cell_type": "code",
   "execution_count": null,
   "metadata": {
    "colab": {
     "base_uri": "https://localhost:8080/"
    },
    "executionInfo": {
     "elapsed": 13621,
     "status": "ok",
     "timestamp": 1606930753091,
     "user": {
      "displayName": "Pedro Calixto",
      "photoUrl": "https://lh3.googleusercontent.com/a-/AOh14Gg0lRxjwA8brpeHxk7aHwRimkQ3KrPTXDrnAl0X8Lg=s64",
      "userId": "06936679020888677524"
     },
     "user_tz": 180
    },
    "id": "RNEf72USfDmR",
    "outputId": "d018e954-96f2-40c2-fee5-0d0a7c55e4fe"
   },
   "outputs": [],
   "source": [
    "variavel = input()"
   ]
  },
  {
   "cell_type": "code",
   "execution_count": null,
   "metadata": {
    "colab": {
     "base_uri": "https://localhost:8080/"
    },
    "executionInfo": {
     "elapsed": 1511,
     "status": "ok",
     "timestamp": 1606930763415,
     "user": {
      "displayName": "Pedro Calixto",
      "photoUrl": "https://lh3.googleusercontent.com/a-/AOh14Gg0lRxjwA8brpeHxk7aHwRimkQ3KrPTXDrnAl0X8Lg=s64",
      "userId": "06936679020888677524"
     },
     "user_tz": 180
    },
    "id": "4x0adyJYfDmX",
    "outputId": "90594e23-d1fb-4a5a-87e5-cf14b752df1c"
   },
   "outputs": [],
   "source": [
    "print(variavel)"
   ]
  },
  {
   "cell_type": "markdown",
   "metadata": {
    "id": "MFOd3DDKfDme"
   },
   "source": [
    "Dessa forma, o interpretador fica aguardando o \"input\" do usuario. Para os mais desavisados, pode parecer que o programa simplesmente parou ou travou. Para evitar isso é comum imprimir mensagens antes da atribuição de variavel pelo método input()"
   ]
  },
  {
   "cell_type": "code",
   "execution_count": null,
   "metadata": {
    "colab": {
     "base_uri": "https://localhost:8080/"
    },
    "executionInfo": {
     "elapsed": 32135,
     "status": "ok",
     "timestamp": 1606930835569,
     "user": {
      "displayName": "Pedro Calixto",
      "photoUrl": "https://lh3.googleusercontent.com/a-/AOh14Gg0lRxjwA8brpeHxk7aHwRimkQ3KrPTXDrnAl0X8Lg=s64",
      "userId": "06936679020888677524"
     },
     "user_tz": 180
    },
    "id": "c9ZerPxFfDme",
    "outputId": "1a6fd140-9593-4e98-cd08-77f216200e9d"
   },
   "outputs": [],
   "source": [
    "print('Digite um numero a ser atribuido a variavel')\n",
    "variavel = input()\n",
    "print('Numero digitado foi atribuido à variavel')\n",
    "print('=======================================')"
   ]
  },
  {
   "cell_type": "markdown",
   "metadata": {
    "id": "lvIYMQ-7fDmj"
   },
   "source": [
    "Podemos usar o \"format\" para melhorar a informação para o usuario"
   ]
  },
  {
   "cell_type": "code",
   "execution_count": null,
   "metadata": {
    "colab": {
     "base_uri": "https://localhost:8080/"
    },
    "executionInfo": {
     "elapsed": 5190,
     "status": "ok",
     "timestamp": 1606930869462,
     "user": {
      "displayName": "Pedro Calixto",
      "photoUrl": "https://lh3.googleusercontent.com/a-/AOh14Gg0lRxjwA8brpeHxk7aHwRimkQ3KrPTXDrnAl0X8Lg=s64",
      "userId": "06936679020888677524"
     },
     "user_tz": 180
    },
    "id": "lyVZz4qSfDmj",
    "outputId": "a6a16fe2-36bc-4df3-d2b4-2dfa11351968"
   },
   "outputs": [],
   "source": [
    "print('Digite um numero a ser atribuido a variavel')\n",
    "variavel = input()\n",
    "print('A variavel atribuida a partir da funcao input é {}'.format(variavel))\n",
    "print('Numero digitado foi atribuido à variavel')\n",
    "print('================FIM===================')"
   ]
  },
  {
   "cell_type": "code",
   "execution_count": null,
   "metadata": {
    "id": "1HfYlK26fDmp"
   },
   "outputs": [],
   "source": [
    "# Note que a variavel pode ser substituida a qualquer momento\n",
    "# Cuidado para nao atribuir valores a variaveis com nomes iguais\n",
    "# Voce vai sobreescrever a variavel e vai perder a inicial"
   ]
  },
  {
   "cell_type": "markdown",
   "metadata": {
    "id": "U3KyDIeHfDmt"
   },
   "source": [
    "A \"hashtag\" ou \"jogo da velha\" serve para indicar uma linha que não deve ser executado no bloco de codigo."
   ]
  },
  {
   "cell_type": "code",
   "execution_count": null,
   "metadata": {
    "colab": {
     "base_uri": "https://localhost:8080/"
    },
    "executionInfo": {
     "elapsed": 6966,
     "status": "ok",
     "timestamp": 1606930943885,
     "user": {
      "displayName": "Pedro Calixto",
      "photoUrl": "https://lh3.googleusercontent.com/a-/AOh14Gg0lRxjwA8brpeHxk7aHwRimkQ3KrPTXDrnAl0X8Lg=s64",
      "userId": "06936679020888677524"
     },
     "user_tz": 180
    },
    "id": "lAfgbGFxfDmv",
    "outputId": "20fabaa2-f29e-49b7-8f0b-d2c111cb9d2b"
   },
   "outputs": [],
   "source": [
    "print('Digite um numero a ser atribuido a variavel')\n",
    "variavel = input()\n",
    "print(u'A variavel atribuida a partir da funcao input é {}'.format(variavel))\n",
    "print('Numero digitado foi atribuido à variavel')\n",
    "#print('================FIM===================')"
   ]
  },
  {
   "cell_type": "markdown",
   "metadata": {
    "id": "l8RiJNNPfDmy"
   },
   "source": [
    "Dessa forma toda a linha será ignorada no fluxo do programa."
   ]
  },
  {
   "cell_type": "markdown",
   "metadata": {
    "id": "9Au5q3x-fDm0"
   },
   "source": [
    "## 1.5 Operações Aritmeticas Básicas \n",
    "\n",
    "<a id='section_id6'></a>\n"
   ]
  },
  {
   "cell_type": "markdown",
   "metadata": {
    "id": "krqq2_MsfDm0"
   },
   "source": [
    "O python pode ser utilizado com uma calculadora matemática avançada. Praticamente, todos os operadores aritméticos funcionam da mesma forma como os conhecemos da matemática elementar."
   ]
  },
  {
   "cell_type": "markdown",
   "metadata": {
    "id": "PGUWlKEQfDm1"
   },
   "source": [
    "Para realizar essas pequenas operações aritiméticas, utilizamos os seguinte operadores:"
   ]
  },
  {
   "cell_type": "markdown",
   "metadata": {
    "id": "lM8WcH2mfDm2"
   },
   "source": [
    "<img src=\"https://1.bp.blogspot.com/-N4BTD_uvqPg/XJh7TKNaH3I/AAAAAAAACI4/X73EKI50S-QGxynBSiT5i3kWjJS0vbCIgCLcBGAs/s1600/Arithmetic%2Boperators.png\" width=500px height=500px/>"
   ]
  },
  {
   "cell_type": "markdown",
   "metadata": {
    "id": "cO7taX4wfDm3"
   },
   "source": [
    "<b>As operações matematicas são realizadas da seguinte forma:</b>"
   ]
  },
  {
   "cell_type": "code",
   "execution_count": null,
   "metadata": {
    "id": "I8XjlDePfDm4"
   },
   "outputs": [],
   "source": [
    "a = 3;\n",
    "b = 2;\n",
    "c = a+b # adicao\n",
    "d = a-b # subtracao\n",
    "e = a*b # multiplicacao\n",
    "f = a/b # divisao\n",
    "g = a**b # potenciacao\n"
   ]
  },
  {
   "cell_type": "markdown",
   "metadata": {
    "id": "AwZZ8k3tfDm8"
   },
   "source": [
    "Essas funções que utilizamos são todas internas do Python. Não importamos nenhum modulo ou pacote com funções. \n",
    "\n",
    "Para aliviar a ansiedade vamos abordar um pequeno exemplo da utilização de uma função de um dos modulos mais importantes para a computação científica: Numpy.\n",
    "\n"
   ]
  },
  {
   "cell_type": "markdown",
   "metadata": {
    "id": "021xeaNDfDm9"
   },
   "source": [
    "Para importar as funções de um modulo, utilizamos a função <b> import </b>"
   ]
  },
  {
   "cell_type": "code",
   "execution_count": null,
   "metadata": {
    "executionInfo": {
     "elapsed": 1792,
     "status": "ok",
     "timestamp": 1617647101432,
     "user": {
      "displayName": "Pedro Calixto",
      "photoUrl": "https://lh3.googleusercontent.com/a-/AOh14Gg0lRxjwA8brpeHxk7aHwRimkQ3KrPTXDrnAl0X8Lg=s64",
      "userId": "06936679020888677524"
     },
     "user_tz": 180
    },
    "id": "XXSAwz5WfDm9"
   },
   "outputs": [],
   "source": [
    "import numpy"
   ]
  },
  {
   "cell_type": "markdown",
   "metadata": {
    "id": "KJrqYRDBfDnB"
   },
   "source": [
    "Para distinguir bem quais as funções intrínsecas a cada modulo, convêm \"apelidar\" os modulos da seguinte forma."
   ]
  },
  {
   "cell_type": "code",
   "execution_count": null,
   "metadata": {
    "executionInfo": {
     "elapsed": 1525,
     "status": "ok",
     "timestamp": 1617647146934,
     "user": {
      "displayName": "Pedro Calixto",
      "photoUrl": "https://lh3.googleusercontent.com/a-/AOh14Gg0lRxjwA8brpeHxk7aHwRimkQ3KrPTXDrnAl0X8Lg=s64",
      "userId": "06936679020888677524"
     },
     "user_tz": 180
    },
    "id": "vFp87NtbfDnD"
   },
   "outputs": [],
   "source": [
    "import numpy as np"
   ]
  },
  {
   "cell_type": "code",
   "execution_count": null,
   "metadata": {
    "executionInfo": {
     "elapsed": 1379,
     "status": "ok",
     "timestamp": 1617647152252,
     "user": {
      "displayName": "Pedro Calixto",
      "photoUrl": "https://lh3.googleusercontent.com/a-/AOh14Gg0lRxjwA8brpeHxk7aHwRimkQ3KrPTXDrnAl0X8Lg=s64",
      "userId": "06936679020888677524"
     },
     "user_tz": 180
    },
    "id": "pGLPa258kDDp"
   },
   "outputs": [],
   "source": [
    "np.sum?"
   ]
  },
  {
   "cell_type": "markdown",
   "metadata": {
    "id": "DKqEvOyQfDnY"
   },
   "source": [
    "Dessa forma todas as funções pertencentes ao modulo numpy, devem ser chamadas utilizando o prefixo <b> np. </b>\n",
    "\n",
    "exemplo: np.funçãoX"
   ]
  },
  {
   "cell_type": "markdown",
   "metadata": {
    "id": "VtS_0g3OfDnZ"
   },
   "source": [
    "Existem algumas tarefas que podemos executar utilizando somente as funções próprias do python, porém, a utilização de módulos variados nós permite realizar as tarefas de forma mais dinâmica."
   ]
  },
  {
   "cell_type": "code",
   "execution_count": null,
   "metadata": {
    "colab": {
     "base_uri": "https://localhost:8080/"
    },
    "executionInfo": {
     "elapsed": 793,
     "status": "ok",
     "timestamp": 1617647203418,
     "user": {
      "displayName": "Pedro Calixto",
      "photoUrl": "https://lh3.googleusercontent.com/a-/AOh14Gg0lRxjwA8brpeHxk7aHwRimkQ3KrPTXDrnAl0X8Lg=s64",
      "userId": "06936679020888677524"
     },
     "user_tz": 180
    },
    "id": "t90sZ9jxfDna",
    "outputId": "86452fe5-14ae-4126-925f-09107f7da93e"
   },
   "outputs": [],
   "source": [
    "np.sqrt(16)"
   ]
  },
  {
   "cell_type": "markdown",
   "metadata": {
    "id": "FwV7YauBfDnd"
   },
   "source": [
    "Como posso conferir quais funções existem no modulo e suas respectivas aplicações?"
   ]
  },
  {
   "cell_type": "markdown",
   "metadata": {
    "id": "8hpj5lM1fDne"
   },
   "source": [
    "<b> Função help </b>"
   ]
  },
  {
   "cell_type": "code",
   "execution_count": null,
   "metadata": {
    "id": "datgcyWmfDnf"
   },
   "outputs": [],
   "source": [
    "help(np.sqrt)"
   ]
  },
  {
   "cell_type": "markdown",
   "metadata": {
    "id": "q7tXzA8ifDnk"
   },
   "source": [
    "---------"
   ]
  },
  {
   "cell_type": "markdown",
   "metadata": {},
   "source": [
    "<img  style=\" width: 75px; height:85%; width: 25%\" src=\"https://raw.githubusercontent.com/calixtops/ES/main/img/logo_OEPY.png\">"
   ]
  },
  {
   "cell_type": "code",
   "execution_count": null,
   "metadata": {},
   "outputs": [],
   "source": []
  }
 ],
 "metadata": {
  "colab": {
   "collapsed_sections": [
    "ZKbiUzB0fDnl"
   ],
   "name": "ADADOS - Aula1 - Intro / Funcs / Math.ipynb",
   "provenance": [],
   "toc_visible": true
  },
  "kernelspec": {
   "display_name": "Python 3",
   "language": "python",
   "name": "python3"
  },
  "language_info": {
   "codemirror_mode": {
    "name": "ipython",
    "version": 3
   },
   "file_extension": ".py",
   "mimetype": "text/x-python",
   "name": "python",
   "nbconvert_exporter": "python",
   "pygments_lexer": "ipython3",
   "version": "3.8.3"
  }
 },
 "nbformat": 4,
 "nbformat_minor": 1
}
