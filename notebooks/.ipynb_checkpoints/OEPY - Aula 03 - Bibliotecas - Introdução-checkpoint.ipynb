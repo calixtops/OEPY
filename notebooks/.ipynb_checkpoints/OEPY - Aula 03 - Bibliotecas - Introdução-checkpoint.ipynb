{
 "cells": [
  {
   "cell_type": "markdown",
   "metadata": {},
   "source": [
    "\n",
    "\n",
    "<h1 style=\"text-align: center; background-color:  #003d99; opacity: 0.7; padding: 30px; color: white; border-radius: 8px; border-left: 6px solid red\">   Aula 3 - Bibliotecas </h1>\n",
    "<a id='section_id1'></a>\n"
   ]
  },
  {
   "cell_type": "markdown",
   "metadata": {},
   "source": [
    "---"
   ]
  },
  {
   "cell_type": "markdown",
   "metadata": {},
   "source": [
    "# Índice\n",
    "\n",
    "[**Aula 3 - Bibliotecas**](#section_id1)\n",
    "- [1. Numpy](#section_id2)\n",
    "    - [1.1 Numpy Array](#section_id3)\n",
    "    - [1.2 Importando arquivo .txt](#section_id4)\n",
    "- [2. Matplotlib / Seaborn\n",
    "](#section_id5)\n",
    "- [3. Basemap](#section_id6)\n",
    "- [4. NetCDF4](#section_id7)\n"
   ]
  },
  {
   "cell_type": "markdown",
   "metadata": {
    "id": "JdiSP21oSmNI"
   },
   "source": [
    "# 1. Numpy \n",
    "\n",
    "<a id='section_id2'></a>\n"
   ]
  },
  {
   "cell_type": "markdown",
   "metadata": {},
   "source": [
    "<div class=\"alert alert-block alert-success\">\n",
    "\n",
    "\n",
    "<b> O NumPy é a biblioteca central para computação científica em Python. Permite trabalhar com arranjos, vetores e matrizes de N dimensões, de uma forma comparável e com uma sintaxe semelhante ao software Matlab, mas com mais eficiência, e com toda a expressividade da linguagem. Provê diversas funções e operações sofisticadas. Por exemplo, permite calcular a média ou desvio padrão de uma lista de valores.<b>\n",
    "    </div>"
   ]
  },
  {
   "cell_type": "markdown",
   "metadata": {
    "id": "kQ09bTyoSmNP"
   },
   "source": [
    "Para utilizar as bibliotecas é preciso importar-las. "
   ]
  },
  {
   "cell_type": "code",
   "execution_count": 3,
   "metadata": {
    "id": "v7ttkz0CSmNS"
   },
   "outputs": [],
   "source": [
    "import numpy as np \n",
    "import warnings\n",
    "warnings.filterwarnings('ignore')"
   ]
  },
  {
   "cell_type": "markdown",
   "metadata": {},
   "source": [
    "Comumente \"apelidamos\" a biblioteca com uma abreviação, on caso \"np\" e utilizamos os métodos ou funções da biblioteca da seguinte forma:<br>\n",
    "\n",
    "**np.método()**"
   ]
  },
  {
   "cell_type": "code",
   "execution_count": 6,
   "metadata": {},
   "outputs": [
    {
     "data": {
      "text/plain": [
       "<function numpy.sum(a, axis=None, dtype=None, out=None, keepdims=<no value>, initial=<no value>, where=<no value>)>"
      ]
     },
     "execution_count": 6,
     "metadata": {},
     "output_type": "execute_result"
    }
   ],
   "source": [
    "np.sum"
   ]
  },
  {
   "cell_type": "markdown",
   "metadata": {
    "id": "EevFuu_qSmNs"
   },
   "source": [
    "## 1.1 Numpy Array\n",
    "\n",
    "<a id='section_id3'></a>\n"
   ]
  },
  {
   "cell_type": "markdown",
   "metadata": {},
   "source": [
    "<div class=\"alert alert-block alert-info\">\n",
    "\n",
    "<b> O principal objeto de ferramenta do pacote é o <b>Numpy array</b>. Uma matriz numpy é uma grade de valores, todos do mesmo tipo e indexada por uma tupla de inteiros não negativos. O número de dimensões é a classificação da matriz; a forma de uma matriz é uma tupla de inteiros que fornece o tamanho da matriz ao longo de cada dimensão.\n",
    "    </div>"
   ]
  },
  {
   "cell_type": "code",
   "execution_count": 7,
   "metadata": {},
   "outputs": [],
   "source": [
    "array1 = np.array([1,2,3,4]) # Criando o array "
   ]
  },
  {
   "cell_type": "code",
   "execution_count": 8,
   "metadata": {
    "id": "CwaEY8f4Np0E"
   },
   "outputs": [
    {
     "data": {
      "text/plain": [
       "(4,)"
      ]
     },
     "execution_count": 8,
     "metadata": {},
     "output_type": "execute_result"
    }
   ],
   "source": [
    "array1.shape"
   ]
  },
  {
   "cell_type": "code",
   "execution_count": 9,
   "metadata": {
    "id": "z_YwVwxJSmNv"
   },
   "outputs": [],
   "source": [
    "lista1 = [1,2,3,4] # Criando uma lista"
   ]
  },
  {
   "cell_type": "code",
   "execution_count": 10,
   "metadata": {
    "id": "Y5kmEEhhSmOE"
   },
   "outputs": [
    {
     "data": {
      "text/plain": [
       "array([1, 2, 3, 4])"
      ]
     },
     "execution_count": 10,
     "metadata": {},
     "output_type": "execute_result"
    }
   ],
   "source": [
    "array1"
   ]
  },
  {
   "cell_type": "markdown",
   "metadata": {
    "id": "xKQ2NUl8SmOM"
   },
   "source": [
    "Com o array que criamos, podemos utilizar as funções do numpy para facilitar as operações matematicas como média e desvio padrão."
   ]
  },
  {
   "cell_type": "code",
   "execution_count": 11,
   "metadata": {
    "id": "5tLv4DBbSmOO"
   },
   "outputs": [
    {
     "data": {
      "text/plain": [
       "(2.5, 2.5)"
      ]
     },
     "execution_count": 11,
     "metadata": {},
     "output_type": "execute_result"
    }
   ],
   "source": [
    "array1.mean(), np.mean(array1) # Duas formas de tirar a média do array"
   ]
  },
  {
   "cell_type": "code",
   "execution_count": 13,
   "metadata": {
    "id": "gfgajmHqSmOZ"
   },
   "outputs": [
    {
     "data": {
      "text/plain": [
       "(1.118033988749895, 1.118033988749895)"
      ]
     },
     "execution_count": 13,
     "metadata": {},
     "output_type": "execute_result"
    }
   ],
   "source": [
    "array1.std(), np.std(array1)  # Duas formas de tirar a média do array"
   ]
  },
  {
   "cell_type": "markdown",
   "metadata": {
    "id": "ASvlmEWZSmOh"
   },
   "source": [
    "Podemos criar matrizes também:"
   ]
  },
  {
   "cell_type": "code",
   "execution_count": 14,
   "metadata": {
    "id": "Nuq4c22ZSmOi"
   },
   "outputs": [],
   "source": [
    "array2 = np.array([[1,2,3,4],[5,6,7,8]])"
   ]
  },
  {
   "cell_type": "code",
   "execution_count": 15,
   "metadata": {
    "id": "1l-d_yr3SmOp"
   },
   "outputs": [
    {
     "data": {
      "text/plain": [
       "array([[1, 2, 3, 4],\n",
       "       [5, 6, 7, 8]])"
      ]
     },
     "execution_count": 15,
     "metadata": {},
     "output_type": "execute_result"
    }
   ],
   "source": [
    "array2"
   ]
  },
  {
   "cell_type": "markdown",
   "metadata": {
    "id": "RBCZw-v_SmOw"
   },
   "source": [
    "O atributo **shape**, retorna o número de objetos por dimensão. Em um array bidimensional, irá retornar uma **tupla** com o número de linhas e o número de colunas."
   ]
  },
  {
   "cell_type": "code",
   "execution_count": 16,
   "metadata": {
    "id": "4Ci-yeGPSmOx",
    "scrolled": true
   },
   "outputs": [
    {
     "data": {
      "text/plain": [
       "(2, 4)"
      ]
     },
     "execution_count": 16,
     "metadata": {},
     "output_type": "execute_result"
    }
   ],
   "source": [
    "array2.shape"
   ]
  },
  {
   "cell_type": "markdown",
   "metadata": {
    "id": "zvDA47-4SmO4"
   },
   "source": [
    "O **array2** possui o formato de uma matriz com duas linhas e quatro colunas."
   ]
  },
  {
   "cell_type": "markdown",
   "metadata": {
    "id": "rNXMfM-OSmO5"
   },
   "source": [
    "Podemos criar um **array** a partir de um intervalo pré-definido. Utilizando a função **\"range(built-in)\"** ou a função do **Numpy** \"arange\":"
   ]
  },
  {
   "cell_type": "code",
   "execution_count": 17,
   "metadata": {
    "id": "-amsWlmlSmO6"
   },
   "outputs": [],
   "source": [
    "range?"
   ]
  },
  {
   "cell_type": "code",
   "execution_count": 18,
   "metadata": {
    "id": "v9Dl9T4fSmPD"
   },
   "outputs": [],
   "source": [
    "lista2 = range(0,10) # criando lista com função range"
   ]
  },
  {
   "cell_type": "code",
   "execution_count": 19,
   "metadata": {
    "id": "PxC2UQ44SmPL"
   },
   "outputs": [
    {
     "data": {
      "text/plain": [
       "range(0, 10)"
      ]
     },
     "execution_count": 19,
     "metadata": {},
     "output_type": "execute_result"
    }
   ],
   "source": [
    "lista2"
   ]
  },
  {
   "cell_type": "code",
   "execution_count": 20,
   "metadata": {
    "id": "1myYFIjKSmPR"
   },
   "outputs": [
    {
     "data": {
      "text/plain": [
       "range"
      ]
     },
     "execution_count": 20,
     "metadata": {},
     "output_type": "execute_result"
    }
   ],
   "source": [
    "type(lista2)"
   ]
  },
  {
   "cell_type": "code",
   "execution_count": 21,
   "metadata": {
    "id": "JnpXMsfBSmPZ"
   },
   "outputs": [],
   "source": [
    "array3 = np.array(lista2)"
   ]
  },
  {
   "cell_type": "code",
   "execution_count": 22,
   "metadata": {
    "id": "cgMbO1q-OgnL"
   },
   "outputs": [
    {
     "data": {
      "text/plain": [
       "array([0, 1, 2, 3, 4, 5, 6, 7, 8, 9])"
      ]
     },
     "execution_count": 22,
     "metadata": {},
     "output_type": "execute_result"
    }
   ],
   "source": [
    "array3\n"
   ]
  },
  {
   "cell_type": "code",
   "execution_count": 23,
   "metadata": {},
   "outputs": [
    {
     "data": {
      "text/plain": [
       "numpy.ndarray"
      ]
     },
     "execution_count": 23,
     "metadata": {},
     "output_type": "execute_result"
    }
   ],
   "source": [
    "type(array3)"
   ]
  },
  {
   "cell_type": "markdown",
   "metadata": {
    "id": "CiZMZCW_SmPe"
   },
   "source": [
    "A função analoga à função range, no numpy, é a função **arrange**!"
   ]
  },
  {
   "cell_type": "code",
   "execution_count": 24,
   "metadata": {
    "id": "kOOtVwCESmPf"
   },
   "outputs": [],
   "source": [
    "array4 = np.arange(0,10)"
   ]
  },
  {
   "cell_type": "code",
   "execution_count": 25,
   "metadata": {
    "id": "FRrJ6XB3SmPm"
   },
   "outputs": [
    {
     "data": {
      "text/plain": [
       "(array([0, 1, 2, 3, 4, 5, 6, 7, 8, 9]), array([0, 1, 2, 3, 4, 5, 6, 7, 8, 9]))"
      ]
     },
     "execution_count": 25,
     "metadata": {},
     "output_type": "execute_result"
    }
   ],
   "source": [
    "array3,array4"
   ]
  },
  {
   "cell_type": "markdown",
   "metadata": {
    "id": "afrJ8_M-SmPr"
   },
   "source": [
    "A função np.arange permite atribuir intervalos que nao sejam inteiros:"
   ]
  },
  {
   "cell_type": "code",
   "execution_count": 26,
   "metadata": {
    "id": "6TM5HxFiSmPt"
   },
   "outputs": [],
   "source": [
    "temp = np.arange(26,30+0.1,0.1) # criando array entre os intervalos 26 e 30 com passo de 0.1"
   ]
  },
  {
   "cell_type": "code",
   "execution_count": 27,
   "metadata": {
    "id": "hgD0R3pxSmPx"
   },
   "outputs": [
    {
     "data": {
      "text/plain": [
       "array([26. , 26.1, 26.2, 26.3, 26.4, 26.5, 26.6, 26.7, 26.8, 26.9, 27. ,\n",
       "       27.1, 27.2, 27.3, 27.4, 27.5, 27.6, 27.7, 27.8, 27.9, 28. , 28.1,\n",
       "       28.2, 28.3, 28.4, 28.5, 28.6, 28.7, 28.8, 28.9, 29. , 29.1, 29.2,\n",
       "       29.3, 29.4, 29.5, 29.6, 29.7, 29.8, 29.9, 30. , 30.1])"
      ]
     },
     "execution_count": 27,
     "metadata": {},
     "output_type": "execute_result"
    }
   ],
   "source": [
    "temp"
   ]
  },
  {
   "cell_type": "markdown",
   "metadata": {
    "id": "isackn8uSmP4"
   },
   "source": [
    "Podemos criar **arrays** preenchidos com algum valor. Para isso tempos duas funções especificas: **numpy.full** ou **numpy.zeros**. Os parametros da função full são o shape do novo array a ser criado e o valor para preencher. A função zeros só recebe como argumento o shape do array e o preenche com 0."
   ]
  },
  {
   "cell_type": "code",
   "execution_count": 28,
   "metadata": {
    "id": "LdJx-BQxSmP5"
   },
   "outputs": [],
   "source": [
    "array5 = np.full((2,4),-999)\n",
    "array6 = np.zeros((2,4))"
   ]
  },
  {
   "cell_type": "code",
   "execution_count": 29,
   "metadata": {
    "id": "dE6-_nJsSmP-"
   },
   "outputs": [
    {
     "data": {
      "text/plain": [
       "array([[-999, -999, -999, -999],\n",
       "       [-999, -999, -999, -999]])"
      ]
     },
     "execution_count": 29,
     "metadata": {},
     "output_type": "execute_result"
    }
   ],
   "source": [
    "array5"
   ]
  },
  {
   "cell_type": "code",
   "execution_count": 30,
   "metadata": {
    "id": "vclozIUoSmQE"
   },
   "outputs": [
    {
     "data": {
      "text/plain": [
       "array([[0., 0., 0., 0.],\n",
       "       [0., 0., 0., 0.]])"
      ]
     },
     "execution_count": 30,
     "metadata": {},
     "output_type": "execute_result"
    }
   ],
   "source": [
    "array6"
   ]
  },
  {
   "cell_type": "markdown",
   "metadata": {
    "id": "lcyU2RNzSmQL"
   },
   "source": [
    "Já aprendemos o básico de indexação, como funciona a <mark> indexação </mark> para uma matriz nas aulas anteriores.\n",
    "\n",
    "Basicamente a indexação funciona da mesma forma que utilizamos nas aulas anteriores, porém, como temos 2 dimensões, deveremos usar a indexação para cada uma das dimensões."
   ]
  },
  {
   "cell_type": "code",
   "execution_count": 31,
   "metadata": {
    "id": "9FFPYOH2SmQM"
   },
   "outputs": [
    {
     "data": {
      "text/plain": [
       "0.0"
      ]
     },
     "execution_count": 31,
     "metadata": {},
     "output_type": "execute_result"
    }
   ],
   "source": [
    "array6[1,2] # A indexação para uma matriz é formada por 2 numeros\n",
    "# que representam a linha e a coluna da matriz. O primeiro representa\n",
    "# a linha e o segundo a coluna."
   ]
  },
  {
   "cell_type": "code",
   "execution_count": 32,
   "metadata": {
    "id": "D63imGI9SmQR"
   },
   "outputs": [
    {
     "data": {
      "text/plain": [
       "array([0., 0., 0., 0.])"
      ]
     },
     "execution_count": 32,
     "metadata": {},
     "output_type": "execute_result"
    }
   ],
   "source": [
    "array6[0,:] # Dois pontos representa que queremos selecionar\n",
    "# todas os elementos. Nesse caso, todas as colunas da linha 0."
   ]
  },
  {
   "cell_type": "markdown",
   "metadata": {
    "id": "XHmQPruGSmQY"
   },
   "source": [
    "Podemos também utilizar condições para visualizar elementos que respeitem a condição definida. Para tal, utilizamos a função numpy.where"
   ]
  },
  {
   "cell_type": "markdown",
   "metadata": {
    "id": "vYDZo6jpSmQY"
   },
   "source": [
    "**Imaginemos uma situação na qual criamos um array entre os intervalos de 20 a 31 a com intervalos de 0.5 a fim de \n",
    "representar dados de temperatura da superficie do mar**"
   ]
  },
  {
   "cell_type": "code",
   "execution_count": 33,
   "metadata": {
    "id": "BZoQZraiSmQa"
   },
   "outputs": [],
   "source": [
    "temp = np.arange(20,31,0.5)"
   ]
  },
  {
   "cell_type": "code",
   "execution_count": 34,
   "metadata": {
    "id": "neONVU_HSmQd"
   },
   "outputs": [
    {
     "data": {
      "text/plain": [
       "array([26.5, 27. , 27.5, 28. , 28.5, 29. , 29.5, 30. , 30.5])"
      ]
     },
     "execution_count": 34,
     "metadata": {},
     "output_type": "execute_result"
    }
   ],
   "source": [
    "temp[13::]"
   ]
  },
  {
   "cell_type": "markdown",
   "metadata": {
    "id": "Q-qABp3CSmQj"
   },
   "source": [
    "Para o estudo que queremos fazer, consideramos que valores abaixo de 26 nao deveriam fazer parte do array **temp**."
   ]
  },
  {
   "cell_type": "markdown",
   "metadata": {},
   "source": [
    "Para encontrar os **índices** referentes aos valores maiores ou iguais a 26, utilizamos a função **np.where**."
   ]
  },
  {
   "cell_type": "code",
   "execution_count": 31,
   "metadata": {
    "id": "y8w3NYybSmQk"
   },
   "outputs": [],
   "source": [
    "indexes = np.where(temp >= 26) # Encontrando os indices aonde o array \n",
    "# possui valores maiores que 26"
   ]
  },
  {
   "cell_type": "code",
   "execution_count": 32,
   "metadata": {
    "id": "9_6m5EbkSmQo",
    "scrolled": true
   },
   "outputs": [
    {
     "name": "stdout",
     "output_type": "stream",
     "text": [
      "(array([12, 13, 14, 15, 16, 17, 18, 19, 20, 21]),)\n"
     ]
    }
   ],
   "source": [
    "print(indexes) "
   ]
  },
  {
   "cell_type": "code",
   "execution_count": 33,
   "metadata": {
    "id": "mdKuAFshSmQu"
   },
   "outputs": [
    {
     "data": {
      "text/plain": [
       "array([26. , 26.5, 27. , 27.5, 28. , 28.5, 29. , 29.5, 30. , 30.5])"
      ]
     },
     "execution_count": 33,
     "metadata": {},
     "output_type": "execute_result"
    }
   ],
   "source": [
    "temp[indexes]"
   ]
  },
  {
   "cell_type": "markdown",
   "metadata": {
    "id": "WBweU45bSmQy"
   },
   "source": [
    "Podemos fazer a indexação diretamente sem executar os comando acima. Dessa forma utilizamos as condições dentro da indexação."
   ]
  },
  {
   "cell_type": "code",
   "execution_count": 34,
   "metadata": {
    "id": "HY5NSgILSmQ0"
   },
   "outputs": [
    {
     "data": {
      "text/plain": [
       "array([26.5, 27. , 27.5, 28. , 28.5, 29. , 29.5, 30. , 30.5])"
      ]
     },
     "execution_count": 34,
     "metadata": {},
     "output_type": "execute_result"
    }
   ],
   "source": [
    "temp[temp>26]"
   ]
  },
  {
   "cell_type": "code",
   "execution_count": 35,
   "metadata": {
    "id": "JA9iQ-cRSmQ4"
   },
   "outputs": [
    {
     "data": {
      "text/plain": [
       "array([20. , 20.5, 21. , 21.5, 22. , 22.5, 23. , 23.5, 24. , 24.5, 25. ,\n",
       "       25.5, 26. , 26.5, 27. , 27.5, 28. , 28.5, 29. , 29.5, 30. , 30.5])"
      ]
     },
     "execution_count": 35,
     "metadata": {},
     "output_type": "execute_result"
    }
   ],
   "source": [
    "temp"
   ]
  },
  {
   "cell_type": "markdown",
   "metadata": {},
   "source": [
    "<div class=\"alert alert-block alert-info\">\n",
    "\n",
    "<b> As vezes é necessario \"invalidar\" os valores que acreditamos que sejam inúteis para a nossa finalidade. Por exemplo, no exemplo anterior, poderiamos invalidar os valores de temperatura com valor menor que 26. Para tal, chamamos esses valores a serem ignorados de **NaN**. **NaN** significa **Not a Number** que quer dizer que não é um número. \n",
    "    </div>"
   ]
  },
  {
   "cell_type": "code",
   "execution_count": 36,
   "metadata": {
    "id": "8ukSRTu8SmRA"
   },
   "outputs": [],
   "source": [
    "temp[temp < 26] = np.nan"
   ]
  },
  {
   "cell_type": "code",
   "execution_count": 37,
   "metadata": {
    "id": "dpNSU3kpSmRI"
   },
   "outputs": [
    {
     "data": {
      "text/plain": [
       "array([ nan,  nan,  nan,  nan,  nan,  nan,  nan,  nan,  nan,  nan,  nan,\n",
       "        nan, 26. , 26.5, 27. , 27.5, 28. , 28.5, 29. , 29.5, 30. , 30.5])"
      ]
     },
     "execution_count": 37,
     "metadata": {},
     "output_type": "execute_result"
    }
   ],
   "source": [
    "temp"
   ]
  },
  {
   "cell_type": "markdown",
   "metadata": {
    "id": "GFonYBObSmRN"
   },
   "source": [
    "## 1.2 Importando arquivos de dados\n",
    "\n",
    "<a id='section_id4'></a>\n"
   ]
  },
  {
   "cell_type": "markdown",
   "metadata": {
    "id": "RGtUD5L8SmRO"
   },
   "source": [
    "A biblioteca numpy tambem nos permite **ler/importar** arquivos de texto com a função **loadtxt**."
   ]
  },
  {
   "cell_type": "markdown",
   "metadata": {},
   "source": [
    "Como exemplo, utilizaremos um arquivo .txt com dados mensais de precipitação para o estado do ceará. O arquivo possui três colunas**[ANO MES PRECIPITAÇÃO]** separadas por um espaço **\\t**."
   ]
  },
  {
   "cell_type": "code",
   "execution_count": 38,
   "metadata": {
    "id": "HKgFn0YESmRP"
   },
   "outputs": [],
   "source": [
    "dado = np.loadtxt('../dados/pr_ceara.txt')"
   ]
  },
  {
   "cell_type": "code",
   "execution_count": 39,
   "metadata": {
    "id": "NnNekTD1Vio2"
   },
   "outputs": [
    {
     "data": {
      "text/plain": [
       "(256, 3)"
      ]
     },
     "execution_count": 39,
     "metadata": {},
     "output_type": "execute_result"
    }
   ],
   "source": [
    "dado.shape"
   ]
  },
  {
   "cell_type": "markdown",
   "metadata": {
    "id": "ko2dnnS6SmRS"
   },
   "source": [
    "<mark> De forma muito semelhante à função **loadtxt(numpy)** temos a função **read_csv(pandas)**; A biblioteca pandas será abordada melhor nas proximas aulas."
   ]
  },
  {
   "cell_type": "markdown",
   "metadata": {
    "id": "dt-e_FRaSmRa"
   },
   "source": [
    "A função loadtxt indentificou que temos 3 colunas de dados. Quando temos as colunas separadas por outro tipo de caracteres é necessario especificar o separador, definimos o argumento **sep = 'separador'**."
   ]
  },
  {
   "cell_type": "markdown",
   "metadata": {
    "id": "wkIQ-kk4SmRb"
   },
   "source": [
    "Usamos a indexação para acessar cada uma das colunas:"
   ]
  },
  {
   "cell_type": "code",
   "execution_count": 40,
   "metadata": {
    "id": "mOMVNDQHSmRc"
   },
   "outputs": [
    {
     "data": {
      "text/plain": [
       "array([1998., 1998., 1998., 1998., 1998., 1998., 1998., 1998., 1998.,\n",
       "       1998., 1998., 1998., 1999., 1999., 1999., 1999., 1999., 1999.,\n",
       "       1999., 1999., 1999., 1999., 1999., 1999., 2000., 2000., 2000.,\n",
       "       2000., 2000., 2000., 2000., 2000., 2000., 2000., 2000., 2000.,\n",
       "       2001., 2001., 2001., 2001., 2001., 2001., 2001., 2001., 2001.,\n",
       "       2001., 2001., 2001., 2002., 2002., 2002., 2002., 2002., 2002.,\n",
       "       2002., 2002., 2002., 2002., 2002., 2002., 2003., 2003., 2003.,\n",
       "       2003., 2003., 2003., 2003., 2003., 2003., 2003., 2003., 2003.,\n",
       "       2004., 2004., 2004., 2004., 2004., 2004., 2004., 2004., 2004.,\n",
       "       2004., 2004., 2004., 2005., 2005., 2005., 2005., 2005., 2005.,\n",
       "       2005., 2005., 2005., 2005., 2005., 2005., 2006., 2006., 2006.,\n",
       "       2006., 2006., 2006., 2006., 2006., 2006., 2006., 2006., 2006.,\n",
       "       2007., 2007., 2007., 2007., 2007., 2007., 2007., 2007., 2007.,\n",
       "       2007., 2007., 2007., 2008., 2008., 2008., 2008., 2008., 2008.,\n",
       "       2008., 2008., 2008., 2008., 2008., 2008., 2009., 2009., 2009.,\n",
       "       2009., 2009., 2009., 2009., 2009., 2009., 2009., 2009., 2009.,\n",
       "       2010., 2010., 2010., 2010., 2010., 2010., 2010., 2010., 2010.,\n",
       "       2010., 2010., 2010., 2011., 2011., 2011., 2011., 2011., 2011.,\n",
       "       2011., 2011., 2011., 2011., 2011., 2011., 2012., 2012., 2012.,\n",
       "       2012., 2012., 2012., 2012., 2012., 2012., 2012., 2012., 2012.,\n",
       "       2013., 2013., 2013., 2013., 2013., 2013., 2013., 2013., 2013.,\n",
       "       2013., 2013., 2013., 2014., 2014., 2014., 2014., 2014., 2014.,\n",
       "       2014., 2014., 2014., 2014., 2014., 2014., 2015., 2015., 2015.,\n",
       "       2015., 2015., 2015., 2015., 2015., 2015., 2015., 2015., 2015.,\n",
       "       2016., 2016., 2016., 2016., 2016., 2016., 2016., 2016., 2016.,\n",
       "       2016., 2016., 2016., 2017., 2017., 2017., 2017., 2017., 2017.,\n",
       "       2017., 2017., 2017., 2017., 2017., 2017., 2018., 2018., 2018.,\n",
       "       2018., 2018., 2018., 2018., 2018., 2018., 2018., 2018., 2018.,\n",
       "       2019., 2019., 2019., 2019.])"
      ]
     },
     "execution_count": 40,
     "metadata": {},
     "output_type": "execute_result"
    }
   ],
   "source": [
    "dado[:,0] # coluna com as datas"
   ]
  },
  {
   "cell_type": "code",
   "execution_count": 41,
   "metadata": {
    "id": "i-O3AXRuSmRe"
   },
   "outputs": [
    {
     "data": {
      "text/plain": [
       "array([ 1.,  2.,  3.,  4.,  5.,  6.,  7.,  8.,  9., 10., 11., 12.,  1.,\n",
       "        2.,  3.,  4.,  5.,  6.,  7.,  8.,  9., 10., 11., 12.,  1.,  2.,\n",
       "        3.,  4.,  5.,  6.,  7.,  8.,  9., 10., 11., 12.,  1.,  2.,  3.,\n",
       "        4.,  5.,  6.,  7.,  8.,  9., 10., 11., 12.,  1.,  2.,  3.,  4.,\n",
       "        5.,  6.,  7.,  8.,  9., 10., 11., 12.,  1.,  2.,  3.,  4.,  5.,\n",
       "        6.,  7.,  8.,  9., 10., 11., 12.,  1.,  2.,  3.,  4.,  5.,  6.,\n",
       "        7.,  8.,  9., 10., 11., 12.,  1.,  2.,  3.,  4.,  5.,  6.,  7.,\n",
       "        8.,  9., 10., 11., 12.,  1.,  2.,  3.,  4.,  5.,  6.,  7.,  8.,\n",
       "        9., 10., 11., 12.,  1.,  2.,  3.,  4.,  5.,  6.,  7.,  8.,  9.,\n",
       "       10., 11., 12.,  1.,  2.,  3.,  4.,  5.,  6.,  7.,  8.,  9., 10.,\n",
       "       11., 12.,  1.,  2.,  3.,  4.,  5.,  6.,  7.,  8.,  9., 10., 11.,\n",
       "       12.,  1.,  2.,  3.,  4.,  5.,  6.,  7.,  8.,  9., 10., 11., 12.,\n",
       "        1.,  2.,  3.,  4.,  5.,  6.,  7.,  8.,  9., 10., 11., 12.,  1.,\n",
       "        2.,  3.,  4.,  5.,  6.,  7.,  8.,  9., 10., 11., 12.,  1.,  2.,\n",
       "        3.,  4.,  5.,  6.,  7.,  8.,  9., 10., 11., 12.,  1.,  2.,  3.,\n",
       "        4.,  5.,  6.,  7.,  8.,  9., 10., 11., 12.,  1.,  2.,  3.,  4.,\n",
       "        5.,  6.,  7.,  8.,  9., 10., 11., 12.,  1.,  2.,  3.,  4.,  5.,\n",
       "        6.,  7.,  8.,  9., 10., 11., 12.,  1.,  2.,  3.,  4.,  5.,  6.,\n",
       "        7.,  8.,  9., 10., 11., 12.,  1.,  2.,  3.,  4.,  5.,  6.,  7.,\n",
       "        8.,  9., 10., 11., 12.,  1.,  2.,  3.,  4.])"
      ]
     },
     "execution_count": 41,
     "metadata": {},
     "output_type": "execute_result"
    }
   ],
   "source": [
    "dado[:,1] # coluna com os meses \n"
   ]
  },
  {
   "cell_type": "markdown",
   "metadata": {
    "id": "TqahddmkSmRj"
   },
   "source": [
    "Usualmente, atribuimos cada uma das colunas à uma variável."
   ]
  },
  {
   "cell_type": "code",
   "execution_count": 42,
   "metadata": {
    "id": "6TOC_M0QSmRk"
   },
   "outputs": [],
   "source": [
    "ano = dado[:,0]\n",
    "mes = dado[:,1]\n",
    "pr = dado[:,2]"
   ]
  },
  {
   "cell_type": "code",
   "execution_count": 43,
   "metadata": {
    "id": "AwNHmUe6SmRq"
   },
   "outputs": [
    {
     "data": {
      "text/plain": [
       "array([[1.99800000e+03, 1.00000000e+00, 1.48375399e+02],\n",
       "       [1.99800000e+03, 2.00000000e+00, 5.68442937e+01],\n",
       "       [1.99800000e+03, 3.00000000e+00, 1.74739920e+02],\n",
       "       [1.99800000e+03, 4.00000000e+00, 7.99469653e+01],\n",
       "       [1.99800000e+03, 5.00000000e+00, 2.22325598e+01],\n",
       "       [1.99800000e+03, 6.00000000e+00, 1.50683688e+01],\n",
       "       [1.99800000e+03, 7.00000000e+00, 1.14826024e+01],\n",
       "       [1.99800000e+03, 8.00000000e+00, 1.30818911e+01],\n",
       "       [1.99800000e+03, 9.00000000e+00, 1.60494717e+00],\n",
       "       [1.99800000e+03, 1.00000000e+01, 2.32260597e+00],\n",
       "       [1.99800000e+03, 1.10000000e+01, 7.41653031e+00],\n",
       "       [1.99800000e+03, 1.20000000e+01, 2.76519546e+01],\n",
       "       [1.99900000e+03, 1.00000000e+00, 1.17404686e+02],\n",
       "       [1.99900000e+03, 2.00000000e+00, 1.36869174e+02],\n",
       "       [1.99900000e+03, 3.00000000e+00, 2.12194775e+02],\n",
       "       [1.99900000e+03, 4.00000000e+00, 1.08766304e+02],\n",
       "       [1.99900000e+03, 5.00000000e+00, 1.68655946e+02],\n",
       "       [1.99900000e+03, 6.00000000e+00, 2.86824510e+01],\n",
       "       [1.99900000e+03, 7.00000000e+00, 1.25758985e+01],\n",
       "       [1.99900000e+03, 8.00000000e+00, 8.55846327e-01],\n",
       "       [1.99900000e+03, 9.00000000e+00, 6.47083054e+00],\n",
       "       [1.99900000e+03, 1.00000000e+01, 9.01918767e+00],\n",
       "       [1.99900000e+03, 1.10000000e+01, 4.41479373e+01],\n",
       "       [1.99900000e+03, 1.20000000e+01, 8.19688057e+01],\n",
       "       [2.00000000e+03, 1.00000000e+00, 1.55702770e+02],\n",
       "       [2.00000000e+03, 2.00000000e+00, 2.09802401e+02],\n",
       "       [2.00000000e+03, 3.00000000e+00, 1.78875890e+02],\n",
       "       [2.00000000e+03, 4.00000000e+00, 2.97627600e+02],\n",
       "       [2.00000000e+03, 5.00000000e+00, 9.37523570e+01],\n",
       "       [2.00000000e+03, 6.00000000e+00, 7.13448744e+01],\n",
       "       [2.00000000e+03, 7.00000000e+00, 8.26106010e+01],\n",
       "       [2.00000000e+03, 8.00000000e+00, 4.98676376e+01],\n",
       "       [2.00000000e+03, 9.00000000e+00, 4.89516549e+01],\n",
       "       [2.00000000e+03, 1.00000000e+01, 1.78711064e+00],\n",
       "       [2.00000000e+03, 1.10000000e+01, 8.46137324e+00],\n",
       "       [2.00000000e+03, 1.20000000e+01, 4.67643536e+01],\n",
       "       [2.00100000e+03, 1.00000000e+00, 6.78618875e+01],\n",
       "       [2.00100000e+03, 2.00000000e+00, 9.35394060e+01],\n",
       "       [2.00100000e+03, 3.00000000e+00, 1.69127190e+02],\n",
       "       [2.00100000e+03, 4.00000000e+00, 2.09601356e+02],\n",
       "       [2.00100000e+03, 5.00000000e+00, 2.63591198e+01],\n",
       "       [2.00100000e+03, 6.00000000e+00, 7.26372031e+01],\n",
       "       [2.00100000e+03, 7.00000000e+00, 2.47624156e+01],\n",
       "       [2.00100000e+03, 8.00000000e+00, 8.49621098e+00],\n",
       "       [2.00100000e+03, 9.00000000e+00, 2.60819551e+00],\n",
       "       [2.00100000e+03, 1.00000000e+01, 8.91494498e+00],\n",
       "       [2.00100000e+03, 1.10000000e+01, 3.80133700e+00],\n",
       "       [2.00100000e+03, 1.20000000e+01, 4.17804336e+01],\n",
       "       [2.00200000e+03, 1.00000000e+00, 2.91920060e+02],\n",
       "       [2.00200000e+03, 2.00000000e+00, 9.53925831e+01],\n",
       "       [2.00200000e+03, 3.00000000e+00, 1.73795237e+02],\n",
       "       [2.00200000e+03, 4.00000000e+00, 2.05154715e+02],\n",
       "       [2.00200000e+03, 5.00000000e+00, 1.17760846e+02],\n",
       "       [2.00200000e+03, 6.00000000e+00, 6.80376025e+01],\n",
       "       [2.00200000e+03, 7.00000000e+00, 3.70089007e+01],\n",
       "       [2.00200000e+03, 8.00000000e+00, 6.13576239e+00],\n",
       "       [2.00200000e+03, 9.00000000e+00, 8.48843243e+00],\n",
       "       [2.00200000e+03, 1.00000000e+01, 2.07583892e+00],\n",
       "       [2.00200000e+03, 1.10000000e+01, 7.24798631e+00],\n",
       "       [2.00200000e+03, 1.20000000e+01, 1.62295263e+01],\n",
       "       [2.00300000e+03, 1.00000000e+00, 9.91097845e+01],\n",
       "       [2.00300000e+03, 2.00000000e+00, 1.96673340e+02],\n",
       "       [2.00300000e+03, 3.00000000e+00, 2.79012826e+02],\n",
       "       [2.00300000e+03, 4.00000000e+00, 1.73287739e+02],\n",
       "       [2.00300000e+03, 5.00000000e+00, 9.39372190e+01],\n",
       "       [2.00300000e+03, 6.00000000e+00, 7.61653543e+01],\n",
       "       [2.00300000e+03, 7.00000000e+00, 8.35778951e+00],\n",
       "       [2.00300000e+03, 8.00000000e+00, 9.75028603e+00],\n",
       "       [2.00300000e+03, 9.00000000e+00, 2.29390947e+00],\n",
       "       [2.00300000e+03, 1.00000000e+01, 2.50159069e+00],\n",
       "       [2.00300000e+03, 1.10000000e+01, 1.25249398e+01],\n",
       "       [2.00300000e+03, 1.20000000e+01, 3.79392717e+01],\n",
       "       [2.00400000e+03, 1.00000000e+00, 4.46356305e+02],\n",
       "       [2.00400000e+03, 2.00000000e+00, 2.63073533e+02],\n",
       "       [2.00400000e+03, 3.00000000e+00, 1.62965105e+02],\n",
       "       [2.00400000e+03, 4.00000000e+00, 1.12948203e+02],\n",
       "       [2.00400000e+03, 5.00000000e+00, 6.08179823e+01],\n",
       "       [2.00400000e+03, 6.00000000e+00, 9.91431548e+01],\n",
       "       [2.00400000e+03, 7.00000000e+00, 4.43667310e+01],\n",
       "       [2.00400000e+03, 8.00000000e+00, 3.87296020e+00],\n",
       "       [2.00400000e+03, 9.00000000e+00, 5.24949868e+00],\n",
       "       [2.00400000e+03, 1.00000000e+01, 2.15336530e+00],\n",
       "       [2.00400000e+03, 1.10000000e+01, 7.42145786e+00],\n",
       "       [2.00400000e+03, 1.20000000e+01, 1.63436844e+01],\n",
       "       [2.00500000e+03, 1.00000000e+00, 6.87125116e+01],\n",
       "       [2.00500000e+03, 2.00000000e+00, 5.81581415e+01],\n",
       "       [2.00500000e+03, 3.00000000e+00, 2.01846781e+02],\n",
       "       [2.00500000e+03, 4.00000000e+00, 9.88698550e+01],\n",
       "       [2.00500000e+03, 5.00000000e+00, 1.19871718e+02],\n",
       "       [2.00500000e+03, 6.00000000e+00, 4.49759799e+01],\n",
       "       [2.00500000e+03, 7.00000000e+00, 9.37782414e+00],\n",
       "       [2.00500000e+03, 8.00000000e+00, 4.89705341e+00],\n",
       "       [2.00500000e+03, 9.00000000e+00, 5.86532310e-01],\n",
       "       [2.00500000e+03, 1.00000000e+01, 2.07095556e+00],\n",
       "       [2.00500000e+03, 1.10000000e+01, 1.69942457e+00],\n",
       "       [2.00500000e+03, 1.20000000e+01, 4.96488743e+01],\n",
       "       [2.00600000e+03, 1.00000000e+00, 2.59584394e+01],\n",
       "       [2.00600000e+03, 2.00000000e+00, 1.47885729e+02],\n",
       "       [2.00600000e+03, 3.00000000e+00, 1.97254046e+02],\n",
       "       [2.00600000e+03, 4.00000000e+00, 2.23408240e+02],\n",
       "       [2.00600000e+03, 5.00000000e+00, 1.54917122e+02],\n",
       "       [2.00600000e+03, 6.00000000e+00, 6.63103540e+01],\n",
       "       [2.00600000e+03, 7.00000000e+00, 9.50588376e+00],\n",
       "       [2.00600000e+03, 8.00000000e+00, 5.59550348e+00],\n",
       "       [2.00600000e+03, 9.00000000e+00, 2.48293973e+00],\n",
       "       [2.00600000e+03, 1.00000000e+01, 8.91876204e+00],\n",
       "       [2.00600000e+03, 1.10000000e+01, 7.03163930e+00],\n",
       "       [2.00600000e+03, 1.20000000e+01, 2.92172728e+01],\n",
       "       [2.00700000e+03, 1.00000000e+00, 3.42177011e+01],\n",
       "       [2.00700000e+03, 2.00000000e+00, 2.73767395e+02],\n",
       "       [2.00700000e+03, 3.00000000e+00, 1.56365408e+02],\n",
       "       [2.00700000e+03, 4.00000000e+00, 1.76391645e+02],\n",
       "       [2.00700000e+03, 5.00000000e+00, 6.86704186e+01],\n",
       "       [2.00700000e+03, 6.00000000e+00, 3.74940408e+01],\n",
       "       [2.00700000e+03, 7.00000000e+00, 9.13050295e+00],\n",
       "       [2.00700000e+03, 8.00000000e+00, 5.11422322e+01],\n",
       "       [2.00700000e+03, 9.00000000e+00, 7.11991009e+01],\n",
       "       [2.00700000e+03, 1.00000000e+01, 3.15798584e+01],\n",
       "       [2.00700000e+03, 1.10000000e+01, 6.07848134e+00],\n",
       "       [2.00700000e+03, 1.20000000e+01, 5.51829262e+01],\n",
       "       [2.00800000e+03, 1.00000000e+00, 1.39245804e+02],\n",
       "       [2.00800000e+03, 2.00000000e+00, 1.27811568e+02],\n",
       "       [2.00800000e+03, 3.00000000e+00, 3.50618450e+02],\n",
       "       [2.00800000e+03, 4.00000000e+00, 2.47380320e+02],\n",
       "       [2.00800000e+03, 5.00000000e+00, 1.29056641e+02],\n",
       "       [2.00800000e+03, 6.00000000e+00, 3.65192975e+01],\n",
       "       [2.00800000e+03, 7.00000000e+00, 2.69368709e+01],\n",
       "       [2.00800000e+03, 8.00000000e+00, 2.73746026e+01],\n",
       "       [2.00800000e+03, 9.00000000e+00, 8.76475052e-01],\n",
       "       [2.00800000e+03, 1.00000000e+01, 2.79365893e+00],\n",
       "       [2.00800000e+03, 1.10000000e+01, 3.70502760e+00],\n",
       "       [2.00800000e+03, 1.20000000e+01, 1.98914553e+01],\n",
       "       [2.00900000e+03, 1.00000000e+00, 1.14656653e+02],\n",
       "       [2.00900000e+03, 2.00000000e+00, 1.54210504e+02],\n",
       "       [2.00900000e+03, 3.00000000e+00, 2.19500410e+02],\n",
       "       [2.00900000e+03, 4.00000000e+00, 3.90612060e+02],\n",
       "       [2.00900000e+03, 5.00000000e+00, 2.61579390e+02],\n",
       "       [2.00900000e+03, 6.00000000e+00, 7.94577685e+01],\n",
       "       [2.00900000e+03, 7.00000000e+00, 5.62453598e+01],\n",
       "       [2.00900000e+03, 8.00000000e+00, 3.47931698e+01],\n",
       "       [2.00900000e+03, 9.00000000e+00, 5.58711674e+00],\n",
       "       [2.00900000e+03, 1.00000000e+01, 3.24936881e+00],\n",
       "       [2.00900000e+03, 1.10000000e+01, 9.01494901e+00],\n",
       "       [2.00900000e+03, 1.20000000e+01, 1.63917789e+01],\n",
       "       [2.01000000e+03, 1.00000000e+00, 1.07992064e+02],\n",
       "       [2.01000000e+03, 2.00000000e+00, 3.63445693e+01],\n",
       "       [2.01000000e+03, 3.00000000e+00, 8.52363867e+01],\n",
       "       [2.01000000e+03, 4.00000000e+00, 1.73836278e+02],\n",
       "       [2.01000000e+03, 5.00000000e+00, 5.28133117e+01],\n",
       "       [2.01000000e+03, 6.00000000e+00, 3.55459928e+01],\n",
       "       [2.01000000e+03, 7.00000000e+00, 1.11398262e+01],\n",
       "       [2.01000000e+03, 8.00000000e+00, 3.18856777e+00],\n",
       "       [2.01000000e+03, 9.00000000e+00, 4.51253902e+00],\n",
       "       [2.01000000e+03, 1.00000000e+01, 5.35743374e+01],\n",
       "       [2.01000000e+03, 1.10000000e+01, 4.30004525e+00],\n",
       "       [2.01000000e+03, 1.20000000e+01, 1.12125866e+02],\n",
       "       [2.01100000e+03, 1.00000000e+00, 2.37049367e+02],\n",
       "       [2.01100000e+03, 2.00000000e+00, 1.92743767e+02],\n",
       "       [2.01100000e+03, 3.00000000e+00, 1.73589719e+02],\n",
       "       [2.01100000e+03, 4.00000000e+00, 2.14293234e+02],\n",
       "       [2.01100000e+03, 5.00000000e+00, 1.35525263e+02],\n",
       "       [2.01100000e+03, 6.00000000e+00, 3.85058916e+01],\n",
       "       [2.01100000e+03, 7.00000000e+00, 5.27612607e+01],\n",
       "       [2.01100000e+03, 8.00000000e+00, 2.31792283e+01],\n",
       "       [2.01100000e+03, 9.00000000e+00, 9.61138443e-01],\n",
       "       [2.01100000e+03, 1.00000000e+01, 5.20662163e+01],\n",
       "       [2.01100000e+03, 1.10000000e+01, 1.65151811e+01],\n",
       "       [2.01100000e+03, 1.20000000e+01, 1.55163511e+01],\n",
       "       [2.01200000e+03, 1.00000000e+00, 7.29732343e+01],\n",
       "       [2.01200000e+03, 2.00000000e+00, 1.47443322e+02],\n",
       "       [2.01200000e+03, 3.00000000e+00, 1.17447368e+02],\n",
       "       [2.01200000e+03, 4.00000000e+00, 6.88926790e+01],\n",
       "       [2.01200000e+03, 5.00000000e+00, 2.38741897e+01],\n",
       "       [2.01200000e+03, 6.00000000e+00, 3.60886455e+01],\n",
       "       [2.01200000e+03, 7.00000000e+00, 6.88696494e+00],\n",
       "       [2.01200000e+03, 8.00000000e+00, 1.18603697e+00],\n",
       "       [2.01200000e+03, 9.00000000e+00, 2.41452265e+00],\n",
       "       [2.01200000e+03, 1.00000000e+01, 5.04176226e+00],\n",
       "       [2.01200000e+03, 1.10000000e+01, 4.88025804e+00],\n",
       "       [2.01200000e+03, 1.20000000e+01, 7.73772101e+00],\n",
       "       [2.01300000e+03, 1.00000000e+00, 5.15057504e+01],\n",
       "       [2.01300000e+03, 2.00000000e+00, 6.50451282e+01],\n",
       "       [2.01300000e+03, 3.00000000e+00, 7.22927580e+01],\n",
       "       [2.01300000e+03, 4.00000000e+00, 1.23459078e+02],\n",
       "       [2.01300000e+03, 5.00000000e+00, 9.40079300e+01],\n",
       "       [2.01300000e+03, 6.00000000e+00, 7.14908636e+01],\n",
       "       [2.01300000e+03, 7.00000000e+00, 4.39311865e+01],\n",
       "       [2.01300000e+03, 8.00000000e+00, 3.95358221e+00],\n",
       "       [2.01300000e+03, 9.00000000e+00, 2.41113026e+00],\n",
       "       [2.01300000e+03, 1.00000000e+01, 1.10884462e+01],\n",
       "       [2.01300000e+03, 1.10000000e+01, 2.79108868e+01],\n",
       "       [2.01300000e+03, 1.20000000e+01, 2.80545827e+01],\n",
       "       [2.01400000e+03, 1.00000000e+00, 6.52578847e+01],\n",
       "       [2.01400000e+03, 2.00000000e+00, 8.50121012e+01],\n",
       "       [2.01400000e+03, 3.00000000e+00, 1.52640951e+02],\n",
       "       [2.01400000e+03, 4.00000000e+00, 1.38769311e+02],\n",
       "       [2.01400000e+03, 5.00000000e+00, 8.31197475e+01],\n",
       "       [2.01400000e+03, 6.00000000e+00, 1.80461096e+01],\n",
       "       [2.01400000e+03, 7.00000000e+00, 1.90936082e+01],\n",
       "       [2.01400000e+03, 8.00000000e+00, 1.76222400e+00],\n",
       "       [2.01400000e+03, 9.00000000e+00, 5.82731958e+00],\n",
       "       [2.01400000e+03, 1.00000000e+01, 2.02659332e+01],\n",
       "       [2.01400000e+03, 1.10000000e+01, 2.97630149e+01],\n",
       "       [2.01400000e+03, 1.20000000e+01, 1.78232824e+01],\n",
       "       [2.01500000e+03, 1.00000000e+00, 3.49142401e+01],\n",
       "       [2.01500000e+03, 2.00000000e+00, 1.03191613e+02],\n",
       "       [2.01500000e+03, 3.00000000e+00, 2.01714718e+02],\n",
       "       [2.01500000e+03, 4.00000000e+00, 1.28147867e+02],\n",
       "       [2.01500000e+03, 5.00000000e+00, 5.54621357e+01],\n",
       "       [2.01500000e+03, 6.00000000e+00, 5.43447618e+01],\n",
       "       [2.01500000e+03, 7.00000000e+00, 5.06560530e+01],\n",
       "       [2.01500000e+03, 8.00000000e+00, 2.65397865e+00],\n",
       "       [2.01500000e+03, 9.00000000e+00, 1.94360610e+00],\n",
       "       [2.01500000e+03, 1.00000000e+01, 1.21776663e+00],\n",
       "       [2.01500000e+03, 1.10000000e+01, 9.77489739e-01],\n",
       "       [2.01500000e+03, 1.20000000e+01, 2.39396877e+01],\n",
       "       [2.01600000e+03, 1.00000000e+00, 2.02549495e+02],\n",
       "       [2.01600000e+03, 2.00000000e+00, 5.96200020e+01],\n",
       "       [2.01600000e+03, 3.00000000e+00, 1.36400110e+02],\n",
       "       [2.01600000e+03, 4.00000000e+00, 1.04798738e+02],\n",
       "       [2.01600000e+03, 5.00000000e+00, 4.78106320e+01],\n",
       "       [2.01600000e+03, 6.00000000e+00, 2.29881281e+01],\n",
       "       [2.01600000e+03, 7.00000000e+00, 4.01468600e+00],\n",
       "       [2.01600000e+03, 8.00000000e+00, 6.21150438e-01],\n",
       "       [2.01600000e+03, 9.00000000e+00, 2.80462705e+00],\n",
       "       [2.01600000e+03, 1.00000000e+01, 2.28685588e+00],\n",
       "       [2.01600000e+03, 1.10000000e+01, 2.74586594e+00],\n",
       "       [2.01600000e+03, 1.20000000e+01, 2.88707786e+01],\n",
       "       [2.01700000e+03, 1.00000000e+00, 7.61071577e+01],\n",
       "       [2.01700000e+03, 2.00000000e+00, 1.68027889e+02],\n",
       "       [2.01700000e+03, 3.00000000e+00, 2.15091720e+02],\n",
       "       [2.01700000e+03, 4.00000000e+00, 1.33337421e+02],\n",
       "       [2.01700000e+03, 5.00000000e+00, 8.25171555e+01],\n",
       "       [2.01700000e+03, 6.00000000e+00, 3.32984239e+01],\n",
       "       [2.01700000e+03, 7.00000000e+00, 3.53223149e+01],\n",
       "       [2.01700000e+03, 8.00000000e+00, 3.72120134e+00],\n",
       "       [2.01700000e+03, 9.00000000e+00, 3.63231937e+00],\n",
       "       [2.01700000e+03, 1.00000000e+01, 7.61230697e+00],\n",
       "       [2.01700000e+03, 1.10000000e+01, 9.94600829e+00],\n",
       "       [2.01700000e+03, 1.20000000e+01, 3.05964980e+01],\n",
       "       [2.01800000e+03, 1.00000000e+00, 8.58828042e+01],\n",
       "       [2.01800000e+03, 2.00000000e+00, 2.00900904e+02],\n",
       "       [2.01800000e+03, 3.00000000e+00, 1.42591793e+02],\n",
       "       [2.01800000e+03, 4.00000000e+00, 2.21116538e+02],\n",
       "       [2.01800000e+03, 5.00000000e+00, 6.48326976e+01],\n",
       "       [2.01800000e+03, 6.00000000e+00, 6.54984119e+00],\n",
       "       [2.01800000e+03, 7.00000000e+00, 1.79246157e+01],\n",
       "       [2.01800000e+03, 8.00000000e+00, 8.06968861e+00],\n",
       "       [2.01800000e+03, 9.00000000e+00, 1.24493886e+00],\n",
       "       [2.01800000e+03, 1.00000000e+01, 7.54327750e+00],\n",
       "       [2.01800000e+03, 1.10000000e+01, 2.08314763e+01],\n",
       "       [2.01800000e+03, 1.20000000e+01, 1.05461175e+02],\n",
       "       [2.01900000e+03, 1.00000000e+00, 1.33316372e+02],\n",
       "       [2.01900000e+03, 2.00000000e+00, 1.90794750e+02],\n",
       "       [2.01900000e+03, 3.00000000e+00, 2.28818790e+02],\n",
       "       [2.01900000e+03, 4.00000000e+00, 3.80019300e+01]])"
      ]
     },
     "execution_count": 43,
     "metadata": {},
     "output_type": "execute_result"
    }
   ],
   "source": [
    "dado"
   ]
  },
  {
   "cell_type": "markdown",
   "metadata": {
    "id": "3pGiWamSSmRt"
   },
   "source": [
    "Para mais informações sobre as funções disponiveis na biblioteca Numpy acesse a documentação. \n",
    "https://www.numpy.org/devdocs/user/quickstart.html\n"
   ]
  },
  {
   "cell_type": "markdown",
   "metadata": {
    "id": "W5TbHSX3SmRt"
   },
   "source": [
    "# 2) Matplotlib / Seaborn\n",
    "\n",
    "<a id='section_id5'></a>\n"
   ]
  },
  {
   "cell_type": "markdown",
   "metadata": {},
   "source": [
    "<div class=\"alert alert-block alert-success\">\n",
    "\n",
    "\n",
    "<b> Matplotlib é uma biblioteca de Plot para Python. A biblioteca nos permite realizar tarefas de modo facil e intuitivo. Com o matplotlib podemos criar gráficos de linha, histogramas, espectros de enegia, digramas de disperção entre outros. A vantagem é que podemos realizar plots de maneira fácil e com boa qualidade gráfica. Usaremos essa biblioteca aliada à biblioteca \"seaborn\" que melhora a qualidade dos gráficos.<b>\n",
    "    </div>"
   ]
  },
  {
   "cell_type": "markdown",
   "metadata": {},
   "source": [
    "<div class=\"alert alert-block alert-success\">\n",
    "\n",
    "\n",
    "<b> Seaborn é uma biblioteca de visualização de dados Python baseada em matplotlib. Ele fornece uma interface de alto nível para desenhar gráficos estatísticos atraentes e informativos.<b>\n",
    "    </div>"
   ]
  },
  {
   "cell_type": "markdown",
   "metadata": {
    "id": "mnpRWVoNYFfu"
   },
   "source": [
    "**Pesquisar sobre a biblioteca Seaborn**"
   ]
  },
  {
   "cell_type": "code",
   "execution_count": 44,
   "metadata": {
    "id": "FeLx6E5_SmRv"
   },
   "outputs": [],
   "source": [
    "import matplotlib.pyplot as plt \n",
    "import seaborn as sns\n",
    "sns.set() # \"Ativando\" o seaborn"
   ]
  },
  {
   "cell_type": "markdown",
   "metadata": {
    "id": "sC6wXvYGSmR0"
   },
   "source": [
    "Nesse momento exploraremos somente o plot mais básico e vamos desenvolvendo outras formas de plot ao decorrer do curso."
   ]
  },
  {
   "cell_type": "code",
   "execution_count": 45,
   "metadata": {
    "id": "6IaE2WS5SmR2"
   },
   "outputs": [],
   "source": [
    "a = np.arange(0,150) # criando um array de 0 a 200"
   ]
  },
  {
   "cell_type": "markdown",
   "metadata": {
    "id": "trjfOLBUSmR6"
   },
   "source": [
    "Utilizaremos primeiramente a função **plt.figure** e a função **plt.plot**. <br/>\n",
    "\n",
    "plt.figure() --> abre uma figura nova\n",
    "\n",
    "plt.plot() -----> função para plotar um gráfico de linha."
   ]
  },
  {
   "cell_type": "code",
   "execution_count": 46,
   "metadata": {
    "id": "9uvcxO-jSmR7"
   },
   "outputs": [
    {
     "data": {
      "text/plain": [
       "[<matplotlib.lines.Line2D at 0x7f7de7d481f0>]"
      ]
     },
     "execution_count": 46,
     "metadata": {},
     "output_type": "execute_result"
    },
    {
     "data": {
      "image/png": "[encoded data removed]",
      "text/plain": [
       "<Figure size 864x576 with 1 Axes>"
      ]
     },
     "metadata": {},
     "output_type": "display_data"
    }
   ],
   "source": [
    "plt.figure(figsize=(12,8))\n",
    "\n",
    "plt.plot(np.sin(a))"
   ]
  },
  {
   "cell_type": "markdown",
   "metadata": {},
   "source": [
    "<div class=\"alert alert-block alert-info\">\n",
    "\n",
    "<b> As funções geralmente possuem argumentos que nos permite utilizar a função em sua totalidade. Alguns argumentos são obrigatórios e outros não. Por exemplo, para a função **plt.plot** é obrigatorio que seja disponibilizado pelo menos um array que será plotado com a função, outros argumentos que nao são obrigatórios podem ser utilizados de forma complementar, como a cor da linha e outros. Para mais informações acesse a documentação da função [plt.plot](https://matplotlib.org/stable/api/_as_gen/matplotlib.pyplot.plot.html)\n",
    "    </div>"
   ]
  },
  {
   "cell_type": "markdown",
   "metadata": {
    "id": "8aphuD1zSmSE"
   },
   "source": [
    "Um dos argumentos que podem auxiliar na qualidade do gráfico é o <b>figsize</b>. Com esse argumento podemos definir o tamanho da figura que pode variar dependendo da finalidade do gráfico."
   ]
  },
  {
   "cell_type": "code",
   "execution_count": 47,
   "metadata": {
    "id": "iRsHa1LRSmSF"
   },
   "outputs": [
    {
     "data": {
      "text/plain": [
       "[<matplotlib.lines.Line2D at 0x7f7de611bdf0>]"
      ]
     },
     "execution_count": 47,
     "metadata": {},
     "output_type": "execute_result"
    },
    {
     "data": {
      "image/png": "[encoded data removed]",
      "text/plain": [
       "<Figure size 720x720 with 1 Axes>"
      ]
     },
     "metadata": {},
     "output_type": "display_data"
    }
   ],
   "source": [
    "plt.figure(figsize = (10,10))\n",
    "plt.plot(np.sin(a))"
   ]
  },
  {
   "cell_type": "markdown",
   "metadata": {
    "id": "cSdZK8FOSmSJ"
   },
   "source": [
    "Outros exemplos de argumentos que podemos utilizar: \n",
    "\n",
    "* color\n",
    "* linestyle"
   ]
  },
  {
   "cell_type": "code",
   "execution_count": 48,
   "metadata": {
    "id": "ZerJLNXWSmSN",
    "scrolled": true
   },
   "outputs": [
    {
     "data": {
      "text/plain": [
       "[<matplotlib.lines.Line2D at 0x7f7de5f092b0>]"
      ]
     },
     "execution_count": 48,
     "metadata": {},
     "output_type": "execute_result"
    },
    {
     "data": {
      "image/png": "[encoded data removed]",
      "text/plain": [
       "<Figure size 432x288 with 1 Axes>"
      ]
     },
     "metadata": {},
     "output_type": "display_data"
    }
   ],
   "source": [
    "plt.figure()\n",
    "plt.plot(a,color='red',linestyle='dashed')"
   ]
  },
  {
   "cell_type": "markdown",
   "metadata": {
    "id": "4vWZ5mp5SmSR"
   },
   "source": [
    "Algumas vezes podemos utilizar atalhos para facilitar a aplicação dos argumentos."
   ]
  },
  {
   "cell_type": "code",
   "execution_count": 49,
   "metadata": {
    "id": "NQ7YQI0USmSR"
   },
   "outputs": [
    {
     "data": {
      "text/plain": [
       "[<matplotlib.lines.Line2D at 0x7f7de6094bb0>]"
      ]
     },
     "execution_count": 49,
     "metadata": {},
     "output_type": "execute_result"
    },
    {
     "data": {
      "image/png": "[encoded data removed]",
      "text/plain": [
       "<Figure size 432x288 with 1 Axes>"
      ]
     },
     "metadata": {},
     "output_type": "display_data"
    }
   ],
   "source": [
    "plt.figure()\n",
    "plt.plot(a,'--g')"
   ]
  },
  {
   "cell_type": "markdown",
   "metadata": {},
   "source": [
    "Com a função [**subplot**](https://matplotlib.org/stable/api/_as_gen/matplotlib.pyplot.subplot.html), podemos adicionar diferentes eixos à figura que abrimos e realizar varios plots em um mesmo painel."
   ]
  },
  {
   "cell_type": "markdown",
   "metadata": {
    "id": "eGFJyWZASmSV"
   },
   "source": [
    "Podemos fazer dois plots ao mesmo tempo se abrirmos a figura (plt.figure) usando a função subplots (plt.subplots)"
   ]
  },
  {
   "cell_type": "code",
   "execution_count": 50,
   "metadata": {
    "id": "MLiR2GQWSmSW"
   },
   "outputs": [
    {
     "data": {
      "text/plain": [
       "[<matplotlib.lines.Line2D at 0x7f7de601efd0>]"
      ]
     },
     "execution_count": 50,
     "metadata": {},
     "output_type": "execute_result"
    },
    {
     "data": {
      "image/png": "[encoded data removed]",
      "text/plain": [
       "<Figure size 432x288 with 2 Axes>"
      ]
     },
     "metadata": {},
     "output_type": "display_data"
    }
   ],
   "source": [
    "fig, (ax1, ax2) = plt.subplots(1, 2)\n",
    "ax1.plot(a,'--g')\n",
    "ax2.plot(a,'*m')"
   ]
  },
  {
   "cell_type": "markdown",
   "metadata": {
    "id": "YkBHviXxSmSb"
   },
   "source": [
    "Basicamente, podemos construir um gráfico em 4 passos. \n",
    "\n",
    "1. Abrir a figura e definir as suas dimensões.\n",
    "    * plt.figure(figsize=(w,h))\n",
    "2. O gráfico de linhas é feito usando a função <b>plot</b>\n",
    "3. Qualquer comando para aprimorar a figura (Titulo, nomear eixos, etc..)\n",
    "4. Salvar a figura [plt.savefig](https://matplotlib.org/stable/api/_as_gen/matplotlib.pyplot.savefig.html);"
   ]
  },
  {
   "cell_type": "code",
   "execution_count": 51,
   "metadata": {
    "id": "_2w6XhPKSmSc",
    "scrolled": true
   },
   "outputs": [
    {
     "data": {
      "image/png": "[encoded data removed]",
      "text/plain": [
       "<Figure size 720x720 with 1 Axes>"
      ]
     },
     "metadata": {},
     "output_type": "display_data"
    }
   ],
   "source": [
    "plt.figure(figsize=(10,10)) # 1\n",
    "\n",
    "\n",
    "plt.plot(a,'--g')           # 2\n",
    "\n",
    "plt.ylabel(u'Eixo Y')       # 3\n",
    "plt.xlabel(u'Eixo X')       # 3 \n",
    "plt.title(u'Meu Primeiro Gráfico Em Python',fontweight='bold',fontsize=18)  # 3\n",
    "\n",
    "\n",
    "plt.savefig('{0}primeiro_grafico.png'.format('../imagens/aula_01/'),\n",
    "            dpi=300,tight_layout= True) # 4"
   ]
  },
  {
   "cell_type": "markdown",
   "metadata": {
    "id": "7B6_cafVSmSg"
   },
   "source": [
    "Procure sobre os argumentos utilizados na função **savefig()**. Eles serão fundamentais para que você possa ter uma figura com boa qualidade."
   ]
  },
  {
   "cell_type": "markdown",
   "metadata": {},
   "source": [
    "<p style=\"background:black\">\n",
    "<code style=\"background:black;color:white\">plt.savefig('primeiro_grafico.png',dpi=300,tight_layout= True)\n",
    "</code>\n",
    "</p>"
   ]
  },
  {
   "cell_type": "markdown",
   "metadata": {
    "id": "5xeqWayP2HDz"
   },
   "source": [
    "\n",
    "<div class=\"alert alert-block alert-danger\">Se estamos trabalhando fora da pasta raiz do projeto, todos os caminhos devem ser especificados no momento de salvar uma figura. O comando para salvar a figura deve estar no mesmo bloco de codigo do plot.\n",
    "    </div>\n"
   ]
  },
  {
   "cell_type": "markdown",
   "metadata": {
    "id": "udVFeN8vSmSk"
   },
   "source": [
    "# 3. Basemap\n",
    "\n",
    "<a id='section_id6'></a>\n"
   ]
  },
  {
   "cell_type": "markdown",
   "metadata": {},
   "source": [
    "<div class=\"alert alert-block alert-success\">\n",
    "\n",
    "\n",
    "O kit de ferramentas matplotlib Basemap é uma biblioteca para plot 2D de mapas em Python. O Basemap nos permite criar mapas utilizando 24 tipos de projeções diferentes com suas vantagens e desvantagens individuais.\n",
    "    </div>"
   ]
  },
  {
   "cell_type": "markdown",
   "metadata": {
    "id": "u4OJgf5_SmSl"
   },
   "source": [
    "Quando o mapa é criado, é necessario especificar a projeção mais adequada para aquele mapa, bem como a informação da porção de superficie terrestre que queremos representar.\n",
    "\n",
    "Para definir a região que deve ser mostrada no mapa podemos utilizar duas formas:\n",
    "\n",
    "* Fornecer a latitude e longitude para cada um dos vertices do retangulo a ser representado <br />\n",
    "\n",
    "Ex: llcrnrlon=-100.,llcrnrlat=0.,urcrnrlon=-20.,urcrnrlat=57.\n",
    "\n",
    "* Outra forma é fornecer valor de lat e lon no qual estaá centrada a nossa projeção <br />\n",
    "\n",
    "Ex: lat_0=0, lon_0=0\n",
    "\n",
    "Os tipos de projeções podem ser conferidas nesse link:\n",
    "[Projeções Basemap](https://matplotlib.org/basemap/users/mapsetup.html) <br/>\n",
    "\n",
    "Aproveite para explorar esse link que mostra os tipos de \"background\" que podem ser utilizados na sua projeção: https://matplotlib.org/basemap/users/geography.html"
   ]
  },
  {
   "cell_type": "markdown",
   "metadata": {
    "id": "clFb5zjzSmSm"
   },
   "source": [
    "Dessa forma, podemos criar o nosso primeiro mapa utilizando as funções mais básicas oferecidas pelo Basemap."
   ]
  },
  {
   "cell_type": "markdown",
   "metadata": {},
   "source": [
    "\n",
    "<div class=\"alert alert-block alert-danger\"> Vale ressaltar que a biblioteca Basemap está sendo descontinuada em favor da biblioteca Cartopy. Contudo, ainda convêm tomarmos conhecimento desta biblioteca. A biblioteca Cartopy será abordada nas aulas seguintes. \n",
    "    </div>"
   ]
  },
  {
   "cell_type": "markdown",
   "metadata": {
    "id": "-BaqVChs30YN"
   },
   "source": [
    "<mark> Caso você nao possua o Basemap, instale a partir dos seguintes comandos:"
   ]
  },
  {
   "cell_type": "markdown",
   "metadata": {},
   "source": [
    "<p style=\"background:black\">\n",
    "<code style=\"background:black;color:white\"> \n",
    "apt install proj-bin libproj-dev libgeos-dev<br>\n",
    "pip install https://github.com/matplotlib/basemap/archive/master.zip\n",
    "</code>\n",
    "</p>"
   ]
  },
  {
   "cell_type": "code",
   "execution_count": 52,
   "metadata": {
    "id": "mGZVggEdSmSm"
   },
   "outputs": [],
   "source": [
    "from mpl_toolkits.basemap import Basemap"
   ]
  },
  {
   "cell_type": "code",
   "execution_count": 53,
   "metadata": {
    "id": "NJBa7AKBSmSq"
   },
   "outputs": [
    {
     "data": {
      "text/plain": [
       "<matplotlib.collections.LineCollection at 0x7f7de545b640>"
      ]
     },
     "execution_count": 53,
     "metadata": {},
     "output_type": "execute_result"
    },
    {
     "data": {
      "image/png": "[encoded data removed]",
      "text/plain": [
       "<Figure size 1008x720 with 1 Axes>"
      ]
     },
     "metadata": {},
     "output_type": "display_data"
    }
   ],
   "source": [
    "plt.figure(figsize=(14,10))\n",
    "\n",
    "map = Basemap(projection='merc',llcrnrlon=-180,llcrnrlat=-60,\n",
    "              urcrnrlon=180,urcrnrlat=60)\n",
    "\n",
    "# Peenche o globo com a cor azul\n",
    "map.drawmapboundary(fill_color='aqua')\n",
    "# Preenchendo o continente com a cor escolhida\n",
    "map.fillcontinents(color='black',lake_color='aqua')\n",
    "# Desenhando a linha de costa\n",
    "map.drawcoastlines()\n"
   ]
  },
  {
   "cell_type": "markdown",
   "metadata": {
    "id": "s4otRUerSmSt"
   },
   "source": [
    "Iniciamos a projeção atribuindo o mapa à variavel map. A partir daí podemos utilizar as classes disponiveis à este objeto. <br>\n",
    "\n",
    "Funções utilizadas: <br>\n",
    "\n",
    "* drawmapboundary\n",
    "* fillcontinents\n",
    "* drawcoastlines"
   ]
  },
  {
   "cell_type": "markdown",
   "metadata": {},
   "source": [
    "[Veja alguns exemplos de plots que podemos fazer utilizando o Basemap](https://matplotlib.org/basemap/users/examples.html)"
   ]
  },
  {
   "cell_type": "markdown",
   "metadata": {
    "id": "VyHpR3BeSmSu"
   },
   "source": [
    "# 4) netCDF4 \n",
    "\n",
    "<a id=\"section_id7\">"
   ]
  },
  {
   "cell_type": "markdown",
   "metadata": {},
   "source": [
    "<div class=\"alert alert-block alert-success\">\n",
    "\n",
    "\n",
    "A extensão NetCDF é utilizada para armazenamento de grande quantidade de dados de forma a acessar dados orientada a matrizes em três dimensões possuindo suporte para diversas linguagens como C, Fortran, C++, Java e etc. A partir da biblioteca NetCDF4, podemos importar e manusear dados netcdf com facilidade. \n",
    "    </div>"
   ]
  },
  {
   "cell_type": "markdown",
   "metadata": {
    "id": "8yyq-iWxSmSv"
   },
   "source": [
    "Para exercitar a utilização de arquivos netCDF em python, faremos a aquisição dos dados em netCDF oriundos de base de dados oceanograficos que dispõe seus dados. Para esse exemplo utilizaremos os dados de clorofila-a mensal amostrada pelo sensor Aqua/MODIS. O dado está disponivel para dowload no link: https://neo.sci.gsfc.nasa.gov/view.php?datasetId=MY1DMM_CHLORA "
   ]
  },
  {
   "cell_type": "markdown",
   "metadata": {},
   "source": [
    "Caso você nao possua a biblioteca NetCDF4, instale da seguinte forma:"
   ]
  },
  {
   "cell_type": "markdown",
   "metadata": {},
   "source": [
    "<p style=\"background:black\">\n",
    "<code style=\"background:black;color:white\"> pip install netCDF4\n",
    "</code>\n",
    "</p>"
   ]
  },
  {
   "cell_type": "markdown",
   "metadata": {
    "id": "dgO4ZmJQSmSw"
   },
   "source": [
    "Muitas vezes, precisamos somente de uma função específica de uma dada biblioteca, para importar somente uma função fazemos:"
   ]
  },
  {
   "cell_type": "code",
   "execution_count": 54,
   "metadata": {},
   "outputs": [],
   "source": [
    "from netCDF4 import Dataset"
   ]
  },
  {
   "cell_type": "markdown",
   "metadata": {
    "id": "LoXSVD1PSmS0"
   },
   "source": [
    "A função **Dataset** que importamos agora, é utilizada para importar os dados a partir de um arquivo local ou remoto (OpenDAP). Falaremos sobre OpenDAP e mais sobre a extensão netcdf nas próximas aulas."
   ]
  },
  {
   "cell_type": "markdown",
   "metadata": {
    "id": "MgAZnnOF4wIs"
   },
   "source": [
    "Por facilidade, atribuiremos o caminho para o nosso dado em uma variável."
   ]
  },
  {
   "cell_type": "code",
   "execution_count": 55,
   "metadata": {},
   "outputs": [],
   "source": [
    "data_path = '../dados/A20190322019059.L3m_MO_CHL_chlor_a_4km.nc'"
   ]
  },
  {
   "cell_type": "code",
   "execution_count": 56,
   "metadata": {
    "id": "eZOALWhRSmS0"
   },
   "outputs": [],
   "source": [
    "data = Dataset(data_path)"
   ]
  },
  {
   "cell_type": "code",
   "execution_count": 57,
   "metadata": {
    "id": "GGLAk-6qSmTL"
   },
   "outputs": [
    {
     "name": "stdout",
     "output_type": "stream",
     "text": [
      "<class 'netCDF4._netCDF4.Dataset'>\n",
      "root group (NETCDF4 data model, file format HDF5):\n",
      "    product_name: A20190322019059.L3m_MO_CHL_chlor_a_4km.nc\n",
      "    instrument: MODIS\n",
      "    title: MODISA Level-3 Standard Mapped Image\n",
      "    project: Ocean Biology Processing Group (NASA/GSFC/OBPG)\n",
      "    platform: Aqua\n",
      "    temporal_range: month\n",
      "    processing_version: 2018.0\n",
      "    date_created: 2019-03-31T05:31:23.000Z\n",
      "    history: l3mapgen par=A20190322019059.L3m_MO_CHL_chlor_a_4km.nc.param \n",
      "    l2_flag_names: ATMFAIL,LAND,HILT,HISATZEN,STRAYLIGHT,CLDICE,COCCOLITH,LOWLW,CHLWARN,CHLFAIL,NAVWARN,MAXAERITER,ATMWARN,HISOLZEN,NAVFAIL,FILTER,HIGLINT\n",
      "    time_coverage_start: 2019-02-01T00:20:00.000Z\n",
      "    time_coverage_end: 2019-03-01T02:20:00.000Z\n",
      "    start_orbit_number: 89076\n",
      "    end_orbit_number: 89484\n",
      "    map_projection: Equidistant Cylindrical\n",
      "    latitude_units: degrees_north\n",
      "    longitude_units: degrees_east\n",
      "    northernmost_latitude: 90.0\n",
      "    southernmost_latitude: -90.0\n",
      "    westernmost_longitude: -180.0\n",
      "    easternmost_longitude: 180.0\n",
      "    geospatial_lat_max: 90.0\n",
      "    geospatial_lat_min: -90.0\n",
      "    geospatial_lon_max: 180.0\n",
      "    geospatial_lon_min: -180.0\n",
      "    latitude_step: 0.041666668\n",
      "    longitude_step: 0.041666668\n",
      "    sw_point_latitude: -89.979164\n",
      "    sw_point_longitude: -179.97917\n",
      "    geospatial_lon_resolution: 4.6383123\n",
      "    geospatial_lat_resolution: 4.6383123\n",
      "    geospatial_lat_units: degrees_north\n",
      "    geospatial_lon_units: degrees_east\n",
      "    spatialResolution: 4.64 km\n",
      "    number_of_lines: 4320\n",
      "    number_of_columns: 8640\n",
      "    measure: Mean\n",
      "    suggested_image_scaling_minimum: 0.01\n",
      "    suggested_image_scaling_maximum: 20.0\n",
      "    suggested_image_scaling_type: LOG\n",
      "    suggested_image_scaling_applied: No\n",
      "    _lastModified: 2019-03-31T05:31:23.000Z\n",
      "    Conventions: CF-1.6 ACDD-1.3\n",
      "    institution: NASA Goddard Space Flight Center, Ocean Ecology Laboratory, Ocean Biology Processing Group\n",
      "    standard_name_vocabulary: CF Standard Name Table v36\n",
      "    naming_authority: gov.nasa.gsfc.sci.oceandata\n",
      "    id: A20190322019059.L3b_MO_CHL.nc/L3/A20190322019059.L3b_MO_CHL.nc\n",
      "    license: http://science.nasa.gov/earth-science/earth-science-data/data-information-policy/\n",
      "    creator_name: NASA/GSFC/OBPG\n",
      "    publisher_name: NASA/GSFC/OBPG\n",
      "    creator_email: data@oceancolor.gsfc.nasa.gov\n",
      "    publisher_email: data@oceancolor.gsfc.nasa.gov\n",
      "    creator_url: http://oceandata.sci.gsfc.nasa.gov\n",
      "    publisher_url: http://oceandata.sci.gsfc.nasa.gov\n",
      "    processing_level: L3 Mapped\n",
      "    cdm_data_type: grid\n",
      "    identifier_product_doi_authority: http://dx.doi.org\n",
      "    identifier_product_doi: 10.5067/AQUA/MODIS/L3M/CHL/2018\n",
      "    keywords: Earth Science > Oceans > Ocean Chemistry > Pigments > Chlorophyll; Earth Science > Oceans > Ocean Chemistry > Chlorophyllr\n",
      "    keywords_vocabulary: NASA Global Change Master Directory (GCMD) Science Keywords\n",
      "    data_bins: 17993862\n",
      "    data_minimum: 0.007553715\n",
      "    data_maximum: 99.44192\n",
      "    dimensions(sizes): lat(4320), lon(8640), rgb(3), eightbitcolor(256)\n",
      "    variables(dimensions): float32 chlor_a(lat,lon), float32 lat(lat), float32 lon(lon), uint8 palette(rgb,eightbitcolor)\n",
      "    groups: processing_control\n"
     ]
    }
   ],
   "source": [
    "print(data)"
   ]
  },
  {
   "cell_type": "markdown",
   "metadata": {
    "id": "EGzLI8qGSmTK"
   },
   "source": [
    "Podemos observar as variavéis contidas no arquivo da seguinte forma:"
   ]
  },
  {
   "cell_type": "code",
   "execution_count": 58,
   "metadata": {
    "id": "jl0D5xVQSmTP"
   },
   "outputs": [
    {
     "name": "stdout",
     "output_type": "stream",
     "text": [
      "{'chlor_a': <class 'netCDF4._netCDF4.Variable'>\n",
      "float32 chlor_a(lat, lon)\n",
      "    long_name: Chlorophyll Concentration, OCI Algorithm\n",
      "    units: mg m^-3\n",
      "    standard_name: mass_concentration_of_chlorophyll_in_sea_water\n",
      "    _FillValue: -32767.0\n",
      "    valid_min: 0.001\n",
      "    valid_max: 100.0\n",
      "    reference: Hu, C., Lee Z., and Franz, B.A. (2012). Chlorophyll-a algorithms for oligotrophic oceans: A novel approach based on three-band reflectance difference, J. Geophys. Res., 117, C01011, doi:10.1029/2011JC007395.\n",
      "    display_scale: log\n",
      "    display_min: 0.01\n",
      "    display_max: 20.0\n",
      "unlimited dimensions: \n",
      "current shape = (4320, 8640)\n",
      "filling on, 'lat': <class 'netCDF4._netCDF4.Variable'>\n",
      "float32 lat(lat)\n",
      "    long_name: Latitude\n",
      "    units: degrees_north\n",
      "    standard_name: latitude\n",
      "    _FillValue: -999.0\n",
      "    valid_min: -90.0\n",
      "    valid_max: 90.0\n",
      "unlimited dimensions: \n",
      "current shape = (4320,)\n",
      "filling on, 'lon': <class 'netCDF4._netCDF4.Variable'>\n",
      "float32 lon(lon)\n",
      "    long_name: Longitude\n",
      "    units: degrees_east\n",
      "    standard_name: longitude\n",
      "    _FillValue: -999.0\n",
      "    valid_min: -180.0\n",
      "    valid_max: 180.0\n",
      "unlimited dimensions: \n",
      "current shape = (8640,)\n",
      "filling on, 'palette': <class 'netCDF4._netCDF4.Variable'>\n",
      "uint8 palette(rgb, eightbitcolor)\n",
      "unlimited dimensions: \n",
      "current shape = (3, 256)\n",
      "filling on, default _FillValue of 255 ignored}\n"
     ]
    }
   ],
   "source": [
    "print(data.variables)"
   ]
  },
  {
   "cell_type": "code",
   "execution_count": 59,
   "metadata": {
    "id": "sCt4KPsZSmTS"
   },
   "outputs": [
    {
     "name": "stdout",
     "output_type": "stream",
     "text": [
      "dict_keys(['chlor_a', 'lat', 'lon', 'palette'])\n"
     ]
    }
   ],
   "source": [
    "print (data.variables.keys())"
   ]
  },
  {
   "cell_type": "markdown",
   "metadata": {
    "id": "ZibvP7tJSmTV"
   },
   "source": [
    "Escolhemos a variavel central dentro do nosso arquivo."
   ]
  },
  {
   "cell_type": "code",
   "execution_count": 60,
   "metadata": {
    "id": "PvD5_JPnSmTV"
   },
   "outputs": [
    {
     "data": {
      "text/plain": [
       "<class 'netCDF4._netCDF4.Variable'>\n",
       "float32 chlor_a(lat, lon)\n",
       "    long_name: Chlorophyll Concentration, OCI Algorithm\n",
       "    units: mg m^-3\n",
       "    standard_name: mass_concentration_of_chlorophyll_in_sea_water\n",
       "    _FillValue: -32767.0\n",
       "    valid_min: 0.001\n",
       "    valid_max: 100.0\n",
       "    reference: Hu, C., Lee Z., and Franz, B.A. (2012). Chlorophyll-a algorithms for oligotrophic oceans: A novel approach based on three-band reflectance difference, J. Geophys. Res., 117, C01011, doi:10.1029/2011JC007395.\n",
       "    display_scale: log\n",
       "    display_min: 0.01\n",
       "    display_max: 20.0\n",
       "unlimited dimensions: \n",
       "current shape = (4320, 8640)\n",
       "filling on"
      ]
     },
     "execution_count": 60,
     "metadata": {},
     "output_type": "execute_result"
    }
   ],
   "source": [
    "data['chlor_a']"
   ]
  },
  {
   "cell_type": "markdown",
   "metadata": {
    "id": "xyAbTLIBSmTY"
   },
   "source": [
    "Atribuindo as variaveis do netCDF para outras variaveis."
   ]
  },
  {
   "cell_type": "code",
   "execution_count": 61,
   "metadata": {
    "id": "hWgoZDbMSmTa"
   },
   "outputs": [],
   "source": [
    "cloro = data['chlor_a'][:]\n",
    "lat = data['lat'][:]\n",
    "lon = data['lon'][:]"
   ]
  },
  {
   "cell_type": "markdown",
   "metadata": {
    "id": "tVNaKU-mSmTj"
   },
   "source": [
    "Agora temos os valores armazenados em variaveis que criamos e podemos utilizar como quisermos."
   ]
  },
  {
   "cell_type": "code",
   "execution_count": 62,
   "metadata": {
    "id": "_SwWxrp5SmTk"
   },
   "outputs": [
    {
     "data": {
      "text/plain": [
       "((4320, 8640), (4320,), (8640,))"
      ]
     },
     "execution_count": 62,
     "metadata": {},
     "output_type": "execute_result"
    }
   ],
   "source": [
    "cloro.shape,lat.shape,lon.shape"
   ]
  },
  {
   "cell_type": "markdown",
   "metadata": {},
   "source": [
    "<div class=\"alert alert-block alert-warning\">Nas próximas aulas, aplicaremos todas as bibliotecas que vimos nessa aula.</div>"
   ]
  },
  {
   "cell_type": "markdown",
   "metadata": {},
   "source": [
    "---"
   ]
  },
  {
   "cell_type": "markdown",
   "metadata": {},
   "source": [
    "<img  style=\" width: 75px; height:85%; width: 25%\" src=\"https://raw.githubusercontent.com/calixtops/ES/main/img/logo_OEPY.png\">"
   ]
  }
 ],
 "metadata": {
  "colab": {
   "collapsed_sections": [],
   "name": "ADADOS - Aula 3 - Bibliotecas - Numpy - Basemap - Matplotlib - NetCDF4.ipynb",
   "provenance": []
  },
  "kernelspec": {
   "display_name": "Python 3",
   "language": "python",
   "name": "python3"
  },
  "language_info": {
   "codemirror_mode": {
    "name": "ipython",
    "version": 3
   },
   "file_extension": ".py",
   "mimetype": "text/x-python",
   "name": "python",
   "nbconvert_exporter": "python",
   "pygments_lexer": "ipython3",
   "version": "3.8.3"
  }
 },
 "nbformat": 4,
 "nbformat_minor": 1
}
