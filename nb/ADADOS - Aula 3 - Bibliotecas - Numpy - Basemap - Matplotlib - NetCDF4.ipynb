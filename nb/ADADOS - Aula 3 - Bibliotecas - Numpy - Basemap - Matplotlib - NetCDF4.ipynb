{
 "cells": [
  {
   "cell_type": "markdown",
   "metadata": {},
   "source": []
  },
  {
   "cell_type": "markdown",
   "metadata": {},
   "source": [
    "<div class=\"alert alert-block alert-info\" style=\"background-color: white; padding: 2px 10px 10px 10px;\">\n",
    "<div style=\"float:right;\">\n",
    "    <img src=\"https://raw.githubusercontent.com/calixtops/ES/main/img/logo_OEPY.png\" style=\" width: 150px; height:60px;\">\n",
    "</div>\n",
    "<h1> Aula 2 - Estrutura de Dados em Python </h1>\n",
    "</div>\n",
    "<a id='section_id1'></a>\n"
   ]
  },
  {
   "cell_type": "markdown",
   "metadata": {},
   "source": [
    "\n",
    "\n",
    "<div style='background-color: red;border: 1px solid gray;width: 150px;height: 150px;float:left;'>   \n",
    "    Conteúdo 1\n",
    "</div>\n",
    "<div style='background-color: red;border: 1px solid gray;width: 150px;height: 150px;float:left;'> \n",
    "    Conteúdo 2\n",
    "</div>       \n",
    "<div style='background-color: red;border: 1px solid gray;width: 150px;height: 150px; float: left'>  \n",
    "    Conteúdo 3\n",
    "</div>\n"
   ]
  },
  {
   "cell_type": "markdown",
   "metadata": {
    "id": "gA9lWXbKSmNE"
   },
   "source": [
    " # Aula 3 - Bibliotecas - Numpy - Basemap - Matplotlib - Pandas - NetCDF4"
   ]
  },
  {
   "cell_type": "markdown",
   "metadata": {
    "id": "JdiSP21oSmNI"
   },
   "source": [
    "# 1) Numpy "
   ]
  },
  {
   "cell_type": "markdown",
   "metadata": {
    "id": "EY6n8MTaSmNM"
   },
   "source": [
    "O NumPy é a biblioteca central para computação científica em Python. Permite trabalhar com arranjos, vetores e matrizes de N dimensões, de uma forma comparável e com uma sintaxe semelhante ao software Matlab, mas com mais eficiência, e com toda a expressividade da linguagem. Provê diversas funções e operações sofisticadas. Por exemplo, permite calcular a média ou desvio padrão de uma lista de valores."
   ]
  },
  {
   "cell_type": "markdown",
   "metadata": {
    "id": "kQ09bTyoSmNP"
   },
   "source": [
    "Para utilizar as bibliotecas é preciso importar-las"
   ]
  },
  {
   "cell_type": "code",
   "execution_count": null,
   "metadata": {
    "id": "v7ttkz0CSmNS"
   },
   "outputs": [],
   "source": [
    "import numpy as np "
   ]
  },
  {
   "cell_type": "code",
   "execution_count": null,
   "metadata": {
    "id": "KUNJvUwIMtBK"
   },
   "outputs": [],
   "source": [
    "import numpy "
   ]
  },
  {
   "cell_type": "markdown",
   "metadata": {
    "id": "EevFuu_qSmNs"
   },
   "source": [
    "1.1 Criando Arrays"
   ]
  },
  {
   "cell_type": "markdown",
   "metadata": {
    "id": "vxU2TjhySmNt"
   },
   "source": [
    "O principal objeto de ferramenta do pacote é o <b>Numpy array</b>. Uma matriz numpy é uma grade de valores, todos do mesmo tipo e é indexada por uma tupla de inteiros não negativos. O número de dimensões é a classificação da matriz; a forma de uma matriz é uma tupla de inteiros que fornece o tamanho da matriz ao longo de cada dimensão."
   ]
  },
  {
   "cell_type": "code",
   "execution_count": null,
   "metadata": {
    "id": "CwaEY8f4Np0E"
   },
   "outputs": [],
   "source": [
    "array1.shape"
   ]
  },
  {
   "cell_type": "code",
   "execution_count": null,
   "metadata": {
    "id": "z_YwVwxJSmNv"
   },
   "outputs": [],
   "source": [
    "lista1 = [1,2,3,4] # Criando uma lista"
   ]
  },
  {
   "cell_type": "code",
   "execution_count": null,
   "metadata": {
    "id": "gYF74FWOSmN5"
   },
   "outputs": [],
   "source": [
    "array1 = np.array([1,2,3,4]) # Criando o array "
   ]
  },
  {
   "cell_type": "code",
   "execution_count": null,
   "metadata": {
    "id": "Y5kmEEhhSmOE"
   },
   "outputs": [],
   "source": [
    "array1"
   ]
  },
  {
   "cell_type": "markdown",
   "metadata": {
    "id": "xKQ2NUl8SmOM"
   },
   "source": [
    "Como o array criado podemos utilizar suas funções para facilitar as operações matematicas como média e desvio padrão."
   ]
  },
  {
   "cell_type": "code",
   "execution_count": null,
   "metadata": {
    "id": "5tLv4DBbSmOO"
   },
   "outputs": [],
   "source": [
    "array1.mean(), np.mean(array1) # Duas formas de tirar a média do array"
   ]
  },
  {
   "cell_type": "code",
   "execution_count": null,
   "metadata": {
    "id": "gfgajmHqSmOZ"
   },
   "outputs": [],
   "source": [
    "array1.std(), np.std(array1)  # Duas formas de tirar a média do array"
   ]
  },
  {
   "cell_type": "markdown",
   "metadata": {
    "id": "ASvlmEWZSmOh"
   },
   "source": [
    "Podemos criar matrizes também:"
   ]
  },
  {
   "cell_type": "code",
   "execution_count": null,
   "metadata": {
    "id": "Nuq4c22ZSmOi"
   },
   "outputs": [],
   "source": [
    "array2 = np.array([[1,2,3,4],[5,6,7,8]])"
   ]
  },
  {
   "cell_type": "code",
   "execution_count": null,
   "metadata": {
    "id": "1l-d_yr3SmOp"
   },
   "outputs": [],
   "source": [
    "array2"
   ]
  },
  {
   "cell_type": "markdown",
   "metadata": {
    "id": "RBCZw-v_SmOw"
   },
   "source": [
    "O atributo shape, retorna o número de objetos por dimensão. Em um array bidimensional, irá retornar o número de linhas e o número de colunas."
   ]
  },
  {
   "cell_type": "code",
   "execution_count": null,
   "metadata": {
    "id": "4Ci-yeGPSmOx",
    "scrolled": true
   },
   "outputs": [],
   "source": [
    "array2.shape"
   ]
  },
  {
   "cell_type": "markdown",
   "metadata": {
    "id": "zvDA47-4SmO4"
   },
   "source": [
    "O array2 possui o formato de uma matriz com duas linhas e quatro colunas."
   ]
  },
  {
   "cell_type": "markdown",
   "metadata": {
    "id": "rNXMfM-OSmO5"
   },
   "source": [
    "Podemos criar um array a partir de um intervalo pré-definido. Utilizando a função \"range\" ou a função do Numpy \"arange\":"
   ]
  },
  {
   "cell_type": "code",
   "execution_count": null,
   "metadata": {
    "id": "-amsWlmlSmO6"
   },
   "outputs": [],
   "source": [
    "range?\n"
   ]
  },
  {
   "cell_type": "code",
   "execution_count": null,
   "metadata": {
    "id": "v9Dl9T4fSmPD"
   },
   "outputs": [],
   "source": [
    "lista2 = range(0,10) # criando lista com função range"
   ]
  },
  {
   "cell_type": "code",
   "execution_count": null,
   "metadata": {
    "id": "PxC2UQ44SmPL"
   },
   "outputs": [],
   "source": [
    "lista2"
   ]
  },
  {
   "cell_type": "code",
   "execution_count": null,
   "metadata": {
    "id": "1myYFIjKSmPR"
   },
   "outputs": [],
   "source": [
    "type(lista2)"
   ]
  },
  {
   "cell_type": "code",
   "execution_count": null,
   "metadata": {
    "id": "JnpXMsfBSmPZ"
   },
   "outputs": [],
   "source": [
    "array3 = np.array(lista2)"
   ]
  },
  {
   "cell_type": "code",
   "execution_count": null,
   "metadata": {
    "id": "cgMbO1q-OgnL"
   },
   "outputs": [],
   "source": [
    "array3\n"
   ]
  },
  {
   "cell_type": "markdown",
   "metadata": {
    "id": "CiZMZCW_SmPe"
   },
   "source": [
    "A função analoga à função range, no numpy, é a função arange! ** help(np.arange) **"
   ]
  },
  {
   "cell_type": "code",
   "execution_count": null,
   "metadata": {
    "id": "kOOtVwCESmPf"
   },
   "outputs": [],
   "source": [
    "array4 = np.arange(0,10)"
   ]
  },
  {
   "cell_type": "code",
   "execution_count": null,
   "metadata": {
    "id": "FRrJ6XB3SmPm"
   },
   "outputs": [],
   "source": [
    "array3,array4"
   ]
  },
  {
   "cell_type": "markdown",
   "metadata": {
    "id": "afrJ8_M-SmPr"
   },
   "source": [
    "A função np.arange permite atribuir intervalos que nao sejam inteiros:"
   ]
  },
  {
   "cell_type": "code",
   "execution_count": null,
   "metadata": {
    "id": "6TM5HxFiSmPt"
   },
   "outputs": [],
   "source": [
    "temp = np.arange(26,30+0.1,0.1) # criando array entre os intervalos 26 e 30 com passo de 0.1"
   ]
  },
  {
   "cell_type": "code",
   "execution_count": null,
   "metadata": {
    "id": "hgD0R3pxSmPx"
   },
   "outputs": [],
   "source": [
    "temp\n"
   ]
  },
  {
   "cell_type": "markdown",
   "metadata": {
    "id": "isackn8uSmP4"
   },
   "source": [
    "Podemos criar arrays preenchidos com algum valor. Para isso tempos duas funções especificas: numpy.full ou numpy.zeros. Os parametros da função full são o shape do novo array a ser criado e o valor para preencher. A função zeros só recebe como argumento o shape do array e o preenche com 0."
   ]
  },
  {
   "cell_type": "code",
   "execution_count": null,
   "metadata": {
    "id": "LdJx-BQxSmP5"
   },
   "outputs": [],
   "source": [
    "array5 = np.full((2,4),-999)\n",
    "array6 = np.zeros((2,4))"
   ]
  },
  {
   "cell_type": "code",
   "execution_count": null,
   "metadata": {
    "id": "dE6-_nJsSmP-"
   },
   "outputs": [],
   "source": [
    "array5"
   ]
  },
  {
   "cell_type": "code",
   "execution_count": null,
   "metadata": {
    "id": "vclozIUoSmQE"
   },
   "outputs": [],
   "source": [
    "array6"
   ]
  },
  {
   "cell_type": "markdown",
   "metadata": {
    "id": "lcyU2RNzSmQL"
   },
   "source": [
    "Já aprendemos o básico de indexação, como funciona a <mark> indexação </mark> para uma matriz ? \n",
    "\n",
    "Basicamente a indexação funciona da mesma forma que utilizamos nas aulas anteriores, porém, como temos 2 dimensões, deveremos usar indexação utilizando para as duas dimensões."
   ]
  },
  {
   "cell_type": "code",
   "execution_count": null,
   "metadata": {
    "id": "9FFPYOH2SmQM"
   },
   "outputs": [],
   "source": [
    "array6[1,2] # A indexação para uma matriz é formada por 2 numeros\n",
    "# que representam a linha e a coluna da matriz. O primeiro representa\n",
    "# a linha e o segundo a coluna."
   ]
  },
  {
   "cell_type": "code",
   "execution_count": null,
   "metadata": {
    "id": "D63imGI9SmQR"
   },
   "outputs": [],
   "source": [
    "array6[0,:] # Dois pontos representa que queremos selecionar\n",
    "# todas as colunas"
   ]
  },
  {
   "cell_type": "markdown",
   "metadata": {
    "id": "XHmQPruGSmQY"
   },
   "source": [
    "Podemos também utilizar condições para visualizar elementos que respeitem a condição definida. Para tal, utilizamos a função numpy.where"
   ]
  },
  {
   "cell_type": "markdown",
   "metadata": {
    "id": "vYDZo6jpSmQY"
   },
   "source": [
    "<h2> Imaginemos uma situação na qual criamos um array entre os intervalos de 20 a 31 a um passo de 0.5 afim de representar dados de temperatura da superficie do mar"
   ]
  },
  {
   "cell_type": "code",
   "execution_count": null,
   "metadata": {
    "id": "BZoQZraiSmQa"
   },
   "outputs": [],
   "source": [
    "temp = np.arange(20,31,0.5)"
   ]
  },
  {
   "cell_type": "code",
   "execution_count": null,
   "metadata": {
    "id": "neONVU_HSmQd"
   },
   "outputs": [],
   "source": [
    "temp[13::]"
   ]
  },
  {
   "cell_type": "markdown",
   "metadata": {
    "id": "Q-qABp3CSmQj"
   },
   "source": [
    "Para o estudo que queremos fazer, consideramos que valores abaixo de 26 nao deveriam fazer parte do array temp."
   ]
  },
  {
   "cell_type": "code",
   "execution_count": null,
   "metadata": {
    "id": "y8w3NYybSmQk"
   },
   "outputs": [],
   "source": [
    "indexes = np.where(temp >= 26) # Encontrando os indices aonde o array \n",
    "# possui valores maiores que 26"
   ]
  },
  {
   "cell_type": "code",
   "execution_count": null,
   "metadata": {
    "id": "9_6m5EbkSmQo",
    "scrolled": true
   },
   "outputs": [],
   "source": [
    "print(indexes) "
   ]
  },
  {
   "cell_type": "code",
   "execution_count": null,
   "metadata": {
    "id": "mdKuAFshSmQu"
   },
   "outputs": [],
   "source": [
    "temp[indexes]"
   ]
  },
  {
   "cell_type": "markdown",
   "metadata": {
    "id": "xS9j7mdSSmQy"
   },
   "source": [
    "Para selecionar os valores que não estão estão na lista de indices que encontramos utilizamos o simbolo '~'. ex: temp[~indexes]"
   ]
  },
  {
   "cell_type": "markdown",
   "metadata": {
    "id": "WBweU45bSmQy"
   },
   "source": [
    "Podemos fazer a indexação diretamente sem executar os comando acima. Dessa forma utilizamos as condições dentro da indexação."
   ]
  },
  {
   "cell_type": "code",
   "execution_count": null,
   "metadata": {
    "id": "HY5NSgILSmQ0"
   },
   "outputs": [],
   "source": [
    "temp[temp>26]"
   ]
  },
  {
   "cell_type": "code",
   "execution_count": null,
   "metadata": {
    "id": "JA9iQ-cRSmQ4"
   },
   "outputs": [],
   "source": [
    "temp"
   ]
  },
  {
   "cell_type": "markdown",
   "metadata": {
    "id": "eG9ai1PoSmQ8"
   },
   "source": [
    "As vezes é necessario \"invalidar\" os valores que acreditamos que sejam inválidos para a nossa finalidade. Por exemplo, np caso acima poderiamos invalidar os valores de temperatura com valor menor que 26. Para tal, chamamos esses valores a serem ignorados de NaN. NaN significa Not a Number que quer dizer que não é um número. "
   ]
  },
  {
   "cell_type": "code",
   "execution_count": null,
   "metadata": {
    "id": "8ukSRTu8SmRA"
   },
   "outputs": [],
   "source": [
    "temp[temp < 26] = np.nan"
   ]
  },
  {
   "cell_type": "code",
   "execution_count": null,
   "metadata": {
    "id": "dpNSU3kpSmRI"
   },
   "outputs": [],
   "source": [
    "temp"
   ]
  },
  {
   "cell_type": "markdown",
   "metadata": {
    "id": "ogxA3jWBSmRM"
   },
   "source": [
    "-------------------------------------------"
   ]
  },
  {
   "cell_type": "markdown",
   "metadata": {
    "id": "GFonYBObSmRN"
   },
   "source": [
    "### 1.1 Importando arquivos de dados"
   ]
  },
  {
   "cell_type": "markdown",
   "metadata": {
    "id": "RGtUD5L8SmRO"
   },
   "source": [
    "A biblioteca numpy tambem nos permite ler arquivos de texto com a função \"loadtxt\""
   ]
  },
  {
   "cell_type": "markdown",
   "metadata": {
    "id": "XVEARI4UHUen"
   },
   "source": [
    "<h2> Agora que estamos utilizando o Colab podemos montar o nosso Drive e assim utilizar os arquivos que estão lá. Uma vantagem de utilizar esse caminho é que podemos começar a exercitar alguns comandos basicos de linux dentro do ambiente Colab.\n",
    "\n"
   ]
  },
  {
   "cell_type": "code",
   "execution_count": null,
   "metadata": {
    "id": "ajy3Dp92BanS"
   },
   "outputs": [],
   "source": [
    "from google.colab import drive\n",
    "drive.mount(\"/content/drive\")"
   ]
  },
  {
   "cell_type": "markdown",
   "metadata": {
    "id": "EFrM73UTIGyZ"
   },
   "source": [
    "O primeiro comando que vamos utilizar é o <mark> ls </mark>. Esse comando faz uma listagem dos arquivos dentro de uma determinada pasta:"
   ]
  },
  {
   "cell_type": "code",
   "execution_count": null,
   "metadata": {
    "id": "OUFVUHhuIgrY"
   },
   "outputs": [],
   "source": [
    "!ls '/content/drive/My Drive/'"
   ]
  },
  {
   "cell_type": "code",
   "execution_count": null,
   "metadata": {
    "id": "LTptvNMnT9Yq"
   },
   "outputs": [],
   "source": []
  },
  {
   "cell_type": "code",
   "execution_count": null,
   "metadata": {
    "id": "zr4wQpHpBoG4"
   },
   "outputs": [],
   "source": [
    "!ls '/content/drive/My Drive/Labomar - 2020.2/ADADOS4/Dados'"
   ]
  },
  {
   "cell_type": "code",
   "execution_count": null,
   "metadata": {
    "id": "HKgFn0YESmRP"
   },
   "outputs": [],
   "source": [
    "dado = np.loadtxt('/content/drive/My Drive/Labomar - 2020.2/ADADOS4/Dados/pr_ceara.txt')"
   ]
  },
  {
   "cell_type": "markdown",
   "metadata": {
    "id": "OPnrMJrdI-j5"
   },
   "source": [
    "Para facilitar a vida do programador, podemos utilizar atalhos para que os caminhos sejam menores:"
   ]
  },
  {
   "cell_type": "code",
   "execution_count": null,
   "metadata": {
    "id": "WstlkiuFJNCs"
   },
   "outputs": [],
   "source": [
    "txt_file = '/content/drive/My Drive/Labomar - 2020.2/ADADOS4/Dados/pr_ceara.txt'"
   ]
  },
  {
   "cell_type": "code",
   "execution_count": null,
   "metadata": {
    "id": "iybr62gxVjAd"
   },
   "outputs": [],
   "source": [
    "dado = np.loadtxt(txt_file)"
   ]
  },
  {
   "cell_type": "code",
   "execution_count": null,
   "metadata": {
    "id": "NnNekTD1Vio2"
   },
   "outputs": [],
   "source": [
    "dado.shape"
   ]
  },
  {
   "cell_type": "markdown",
   "metadata": {
    "id": "ko2dnnS6SmRS"
   },
   "source": [
    "<h2> De forma muito semelhante à função loadtxt(numpy) temos a função read_csv(pandas); A biblioteca pandas será abordada melhor nas proximas aulas  "
   ]
  },
  {
   "cell_type": "markdown",
   "metadata": {
    "id": "dt-e_FRaSmRa"
   },
   "source": [
    "A função loadtxt indentificou que temos 3 colunas de dados. Quando temos as colunas separadas por outro tipo de caracteres é necessario especificar o separador, definimos o argumento \"sep = 'separador'.\n",
    "\n",
    "dica: np.loadtxt?"
   ]
  },
  {
   "cell_type": "markdown",
   "metadata": {
    "id": "wkIQ-kk4SmRb"
   },
   "source": [
    "Usamos a indexação para acessar cada uma das colunas:"
   ]
  },
  {
   "cell_type": "code",
   "execution_count": null,
   "metadata": {
    "id": "mOMVNDQHSmRc"
   },
   "outputs": [],
   "source": [
    "dado[:,0] # coluna com as datas"
   ]
  },
  {
   "cell_type": "code",
   "execution_count": null,
   "metadata": {
    "id": "i-O3AXRuSmRe"
   },
   "outputs": [],
   "source": [
    "dado[:,1] # coluna com os meses \n"
   ]
  },
  {
   "cell_type": "markdown",
   "metadata": {
    "id": "TqahddmkSmRj"
   },
   "source": [
    "Usualmente, atribuimos cada uma das colunas à uma variável."
   ]
  },
  {
   "cell_type": "code",
   "execution_count": null,
   "metadata": {
    "id": "6TOC_M0QSmRk"
   },
   "outputs": [],
   "source": [
    "ano = dado[:,0]\n",
    "mes = dado[:,1]\n",
    "pr = dado[:,2]"
   ]
  },
  {
   "cell_type": "code",
   "execution_count": null,
   "metadata": {
    "id": "AwNHmUe6SmRq"
   },
   "outputs": [],
   "source": [
    "dado"
   ]
  },
  {
   "cell_type": "markdown",
   "metadata": {
    "id": "3pGiWamSSmRt"
   },
   "source": [
    "Para mais informações sobre as funções disponiveis na biblioteca Numpy acesse a documentação. \n",
    "https://www.numpy.org/devdocs/user/quickstart.html\n"
   ]
  },
  {
   "cell_type": "markdown",
   "metadata": {
    "id": "3te6Myurw7M-"
   },
   "source": [
    "## 1.5) Pandas"
   ]
  },
  {
   "cell_type": "markdown",
   "metadata": {
    "id": "wSn9L8r10LEY"
   },
   "source": [
    "Utilizando a biblioteca <mark> Pandas </mark>, podemos importar o dado de forma mais simples, ou compacta. Desta forma, importamos os dados e já nomeamos as colunas que irãão formar o nosso <mark> Dataframe </mark>. "
   ]
  },
  {
   "cell_type": "code",
   "execution_count": null,
   "metadata": {
    "id": "yZ6QlklVSmRU"
   },
   "outputs": [],
   "source": [
    "import pandas as pd \n",
    "dado2 = pd.read_csv(txt_file,sep = ' ',names = ['ano','mes','pr'])"
   ]
  },
  {
   "cell_type": "code",
   "execution_count": null,
   "metadata": {
    "id": "R2EfgEBxSmRX"
   },
   "outputs": [],
   "source": [
    "dado2['ano']\n"
   ]
  },
  {
   "cell_type": "markdown",
   "metadata": {
    "id": "x95Qv7v90sGO"
   },
   "source": [
    "Por enquanto vamos trabalhar apenas com o numpy, pois permite que agente tenha, inicialmente, mais \"contato\" com a manipulação de matrizes."
   ]
  },
  {
   "cell_type": "markdown",
   "metadata": {
    "id": "8kkhPb7V1KQZ"
   },
   "source": [
    "<mark> Pesquise sobre o Pandas e o Dataframe"
   ]
  },
  {
   "cell_type": "markdown",
   "metadata": {
    "id": "W5TbHSX3SmRt"
   },
   "source": [
    "# 2) Matplotlib <h2>"
   ]
  },
  {
   "cell_type": "markdown",
   "metadata": {
    "id": "2dHGrUY8SmRu"
   },
   "source": [
    "Matplotlib é uma biblioteca de Plot para Python. A biblioteca nos permite realizar tarefas de modo facil e intuitivo. Com o matplotlib podemos criar gráficos de linha, histogramas, espectros de enegia, digramas de disperção entre outros. A vantagem é que podemos realizar plots de maneira fácil e com boa qualidade gráfica. Usaremos essa biblioteca aliada à biblioteca \"seaborn\" que melhora a qualidade dos gráficos."
   ]
  },
  {
   "cell_type": "markdown",
   "metadata": {
    "id": "mnpRWVoNYFfu"
   },
   "source": [
    "Pesquisar sobre a biblioteca SEABORN"
   ]
  },
  {
   "cell_type": "code",
   "execution_count": null,
   "metadata": {
    "id": "FeLx6E5_SmRv"
   },
   "outputs": [],
   "source": [
    "import matplotlib.pyplot as plt \n",
    "import seaborn as sns\n",
    "sns.set() # \"Ativando\" o seaborn"
   ]
  },
  {
   "cell_type": "markdown",
   "metadata": {
    "id": "sC6wXvYGSmR0"
   },
   "source": [
    "Nesse momento exploraremos somente o plot mais basico e vamos desenvolvendo outras formas de plot ao decorrer do curso."
   ]
  },
  {
   "cell_type": "code",
   "execution_count": null,
   "metadata": {
    "id": "6IaE2WS5SmR2"
   },
   "outputs": [],
   "source": [
    "a = np.arange(0,150) # criando um array de 0 a 200"
   ]
  },
  {
   "cell_type": "markdown",
   "metadata": {
    "id": "trjfOLBUSmR6"
   },
   "source": [
    "Utilizaremos primeiramente a função \"figure\" e a função \"plot\". <br/>\n",
    "\n",
    "figure() --> abre uma figura nova\n",
    "\n",
    "plot() -----> função para plotar um gráfico de linha."
   ]
  },
  {
   "cell_type": "code",
   "execution_count": null,
   "metadata": {
    "id": "9uvcxO-jSmR7"
   },
   "outputs": [],
   "source": [
    "plt.figure(figsize=(12,8))\n",
    "plt.plot(np.sin(a))"
   ]
  },
  {
   "cell_type": "markdown",
   "metadata": {
    "id": "TtE1kjgvSmR9"
   },
   "source": [
    "<mark>As funções geralmente possuem argumentos que nos permite utilizar a função em sua totalidade. Alguns argumentos são obrigatorios e outros não. Por exemplo, para a função \"plot\" é obrigatorio que seja disponibilizado pelo menos um array que será plotado com a função, outros argumentos que nao sao obrigatorios podem ser utilizados de forma complementar, como a cor da linha entre outros. Para mais informações utilize acesse a documentação da função dessa forma (plt.plot?)."
   ]
  },
  {
   "cell_type": "code",
   "execution_count": null,
   "metadata": {
    "id": "4Mg2rVJHSmR-"
   },
   "outputs": [],
   "source": [
    "plt.plot?"
   ]
  },
  {
   "cell_type": "markdown",
   "metadata": {
    "id": "8aphuD1zSmSE"
   },
   "source": [
    "Um dos argumentos que podem auxiliar na qualidade do gráfico é o <b>figsize</b>. Com esse argumento podemos definir o tamanho da figura que pode variar dependendo da finalidade do gráfico."
   ]
  },
  {
   "cell_type": "code",
   "execution_count": null,
   "metadata": {
    "id": "iRsHa1LRSmSF"
   },
   "outputs": [],
   "source": [
    "plt.figure(figsize = (10,10))\n",
    "plt.plot(np.sin(a))"
   ]
  },
  {
   "cell_type": "markdown",
   "metadata": {
    "id": "cSdZK8FOSmSJ"
   },
   "source": [
    "Outros exemplos de argumentos que podem ser utilizados:"
   ]
  },
  {
   "cell_type": "markdown",
   "metadata": {
    "id": "LMeL4-gTSmSL"
   },
   "source": [
    "* color\n",
    "* linestyle"
   ]
  },
  {
   "cell_type": "code",
   "execution_count": null,
   "metadata": {
    "id": "ZerJLNXWSmSN",
    "scrolled": true
   },
   "outputs": [],
   "source": [
    "plt.figure()\n",
    "plt.plot(a,color='red',linestyle='dashed')"
   ]
  },
  {
   "cell_type": "markdown",
   "metadata": {
    "id": "4vWZ5mp5SmSR"
   },
   "source": [
    "Alguns argumentos podem ser \"jogados\" sem especificar o argumento;"
   ]
  },
  {
   "cell_type": "code",
   "execution_count": null,
   "metadata": {
    "id": "NQ7YQI0USmSR"
   },
   "outputs": [],
   "source": [
    "plt.figure()\n",
    "plt.plot(a,'--g')"
   ]
  },
  {
   "cell_type": "markdown",
   "metadata": {
    "id": "eGFJyWZASmSV"
   },
   "source": [
    "Podemos fazer dois plots ao mesmo tempo se abrirmos a figura (plt.figure) usando a função subplots (plt.subplots)"
   ]
  },
  {
   "cell_type": "code",
   "execution_count": null,
   "metadata": {
    "id": "MLiR2GQWSmSW"
   },
   "outputs": [],
   "source": [
    "fig, (ax1, ax2) = plt.subplots(1, 2)\n",
    "ax1.plot(a,'--g')\n",
    "ax2.plot(a,'*m')"
   ]
  },
  {
   "cell_type": "markdown",
   "metadata": {
    "id": "lx7rkoeDSmSa"
   },
   "source": [
    "\n",
    "Podemos trabalhar no plot nomeando os eixos e o titulo."
   ]
  },
  {
   "cell_type": "markdown",
   "metadata": {
    "id": "YkBHviXxSmSb"
   },
   "source": [
    "Basicamente, podemos construir um gráfico em 4 passos. \n",
    "\n",
    "1. Abrir a figura e definir as suas dimensões.\n",
    "    * plt.figure(figsize=(w,h))\n",
    "2. O gráfico de linhas é feito usando a função <b>plot</b>\n",
    "3. Qualquer comando para aprimorar a figura (Titulo, nomear eixos, etc..)\n",
    "4. Salvar a figura (plt.savefig);"
   ]
  },
  {
   "cell_type": "code",
   "execution_count": null,
   "metadata": {
    "id": "btClTHF7bP_n"
   },
   "outputs": [],
   "source": [
    "path_folder = txt_file.replace('pr_ceara.txt','')"
   ]
  },
  {
   "cell_type": "code",
   "execution_count": null,
   "metadata": {
    "id": "9YPyyynNa0qq"
   },
   "outputs": [],
   "source": [
    "path_folder"
   ]
  },
  {
   "cell_type": "code",
   "execution_count": null,
   "metadata": {
    "id": "7m4CGDrpadfI"
   },
   "outputs": [],
   "source": [
    "pwd"
   ]
  },
  {
   "cell_type": "code",
   "execution_count": null,
   "metadata": {
    "id": "_2w6XhPKSmSc",
    "scrolled": true
   },
   "outputs": [],
   "source": [
    "plt.figure(figsize=(10,10)) # 1\n",
    "\n",
    "\n",
    "plt.plot(a,'--g')           # 2\n",
    "\n",
    "plt.ylabel(u'Eixo Y')       # 3\n",
    "plt.xlabel(u'Eixo X')       # 3 \n",
    "plt.title(u'Meu Primeiro Gráfico Em Python',fontweight='bold',fontsize=18)  # 3\n",
    "\n",
    "\n",
    "#plt.savefig('{0}primeiro_grafico.png'.format(path_folder),\n",
    "#            dpi=300,tight_layout= True) # 4"
   ]
  },
  {
   "cell_type": "markdown",
   "metadata": {
    "id": "7B6_cafVSmSg"
   },
   "source": [
    "Procure sobre os argumentos utilizados na função savefig. Eles serão fundamentais para que você possa ter uma figura com boa qualidade"
   ]
  },
  {
   "cell_type": "code",
   "execution_count": null,
   "metadata": {
    "id": "vK58z3rESmSh"
   },
   "outputs": [],
   "source": [
    "plt.savefig('primeiro_grafico.png',dpi=300,tight_layout= True)"
   ]
  },
  {
   "cell_type": "markdown",
   "metadata": {
    "id": "5Fxm8A-71xVn"
   },
   "source": [
    "Pra onde foi a figura?"
   ]
  },
  {
   "cell_type": "code",
   "execution_count": null,
   "metadata": {
    "id": "cEA8V0kb10kV"
   },
   "outputs": [],
   "source": [
    "!ls"
   ]
  },
  {
   "cell_type": "markdown",
   "metadata": {
    "id": "5xeqWayP2HDz"
   },
   "source": [
    "Se estamos trabalhando fora da pasta raiz do projeto, todos os caminhos devem ser especificados no momento de salvar uma figura. O comando para salvar a figura deve estar no mesmo bloco de codigo do plot."
   ]
  },
  {
   "cell_type": "code",
   "execution_count": null,
   "metadata": {
    "id": "4OUCbRzn2ZPk"
   },
   "outputs": [],
   "source": [
    "plt.figure(figsize=(10,10)) # 1\n",
    "\n",
    "\n",
    "plt.plot(a,'--g')           # 2\n",
    "\n",
    "plt.ylabel(u'Eixo Y')       # 3\n",
    "plt.xlabel(u'Eixo X')       # 3 \n",
    "plt.title(u'Meu Primeiro Gráfico Em Python',fontweight='bold',fontsize=18)  # 3\n",
    "\n",
    "\n"
   ]
  },
  {
   "cell_type": "markdown",
   "metadata": {
    "id": "udVFeN8vSmSk"
   },
   "source": [
    "# 3) Basemap(passado) > Cartopy(futuro) < <h2>"
   ]
  },
  {
   "cell_type": "markdown",
   "metadata": {
    "id": "u4OJgf5_SmSl"
   },
   "source": [
    "O Basemap nos permite criar mapas utilizando 24 tipos de projeções diferentes com suas vantagens e desvantagens individuais. \n",
    "\n",
    "Quando o mapa é criado, é necessario especificar a projeção mais adequada para aquele mapa, bem como a informação da porção do superficie terrestre que queremos representar.\n",
    "\n",
    "Para definir a região que deve ser mostrada no mapa podemos utilizar duas formas:\n",
    "\n",
    "* Fornecer a latitude e longitude para cada um dos vertices do retangulo a ser representado <br />\n",
    "\n",
    "Ex: llcrnrlon=-100.,llcrnrlat=0.,urcrnrlon=-20.,urcrnrlat=57.\n",
    "\n",
    "* Outra forma é fornecer valor de lat e lon no qual estaá centrada a nossa projeção <br />\n",
    "\n",
    "Ex: lat_0=0, lon_0=0\n",
    "\n",
    "Os tipos de projeções podem ser conferidas nesse link:\n",
    "https://matplotlib.org/basemap/users/mapsetup.html <br/>\n",
    "\n",
    "Aproveite para explorar esse link que mostra os tipos de \"background\" que podem ser utilizados na sua projeção: https://matplotlib.org/basemap/users/geography.html"
   ]
  },
  {
   "cell_type": "markdown",
   "metadata": {
    "id": "clFb5zjzSmSm"
   },
   "source": [
    "Dessa forma, podemos criar o nosso primeiro mapa utilizando as funções mais básicas oferecidas pelo Basemap."
   ]
  },
  {
   "cell_type": "markdown",
   "metadata": {
    "id": "-BaqVChs30YN"
   },
   "source": [
    "<mark> Primeiramente, vamos instalar o Basemap "
   ]
  },
  {
   "cell_type": "code",
   "execution_count": null,
   "metadata": {
    "id": "nFOknov-3PI1"
   },
   "outputs": [],
   "source": [
    "!apt install proj-bin libproj-dev libgeos-dev\n",
    "!pip install https://github.com/matplotlib/basemap/archive/master.zip"
   ]
  },
  {
   "cell_type": "code",
   "execution_count": null,
   "metadata": {
    "id": "mGZVggEdSmSm"
   },
   "outputs": [],
   "source": [
    "from mpl_toolkits.basemap import Basemap"
   ]
  },
  {
   "cell_type": "code",
   "execution_count": null,
   "metadata": {
    "id": "NJBa7AKBSmSq"
   },
   "outputs": [],
   "source": [
    "map = Basemap(projection='merc',llcrnrlon=-180,llcrnrlat=-60,\n",
    "              urcrnrlon=180,urcrnrlat=60)\n",
    "\n",
    "# Peenche o globo com a cor azul\n",
    "map.drawmapboundary(fill_color='aqua')\n",
    "# Preenchendo o continente com a cor escolhida\n",
    "map.fillcontinents(color='black',lake_color='aqua')\n",
    "# Desenhando a linha de costa\n",
    "map.drawcoastlines()\n",
    "\n"
   ]
  },
  {
   "cell_type": "markdown",
   "metadata": {
    "id": "s4otRUerSmSt"
   },
   "source": [
    "Iniciamos a projeção atribuindo o mapa à variavel map. A partir disso podemos utilizar as funções disponiveis à este objeto. <br>\n",
    "\n",
    "Funções utilizadas: <br>\n",
    "\n",
    "* drawmapboundary\n",
    "* fillcontinents\n",
    "* drawcoastlines"
   ]
  },
  {
   "cell_type": "markdown",
   "metadata": {
    "id": "rBzLRXmiSmSu"
   },
   "source": [
    "No decorrer da aula abordaremos mais funções do Basemap."
   ]
  },
  {
   "cell_type": "markdown",
   "metadata": {
    "id": "VyHpR3BeSmSu"
   },
   "source": [
    "# 4) netCDF4 <h2>\n"
   ]
  },
  {
   "cell_type": "markdown",
   "metadata": {
    "id": "SKLKzwX3SmSv"
   },
   "source": [
    "A extensão NetCDF é utilizada para armazenamento de grande quantidade de dados de forma a acessar dados orientada a matrizes em três dimensões possuindo suporte para diversas linguagens como C, Fortran, C++, Java e etc. "
   ]
  },
  {
   "cell_type": "markdown",
   "metadata": {
    "id": "8yyq-iWxSmSv"
   },
   "source": [
    "Para exercitar a utilização de arquivos netCDF em python, faremos a aquisição dos dados em netCDF oriundos de base de dados oceanograficos que dispõe seus dados. Para esse exemplo utilizaremos os dados de clorofila a mensal amostrada pelo sensor Aqua/MODIS. O dado está disponivel para dowload noo link: https://neo.sci.gsfc.nasa.gov/view.php?datasetId=MY1DMM_CHLORA "
   ]
  },
  {
   "cell_type": "markdown",
   "metadata": {
    "id": "dgO4ZmJQSmSw"
   },
   "source": [
    "Geralmente, precisamos somente de uma função específica, para importar somente uma função fazemos,"
   ]
  },
  {
   "cell_type": "markdown",
   "metadata": {
    "id": "UiryDWX54She"
   },
   "source": [
    "<mark> Instalando a biblioteca NetCDF4. Pesquise sobre o <b>pip</b>, comando para instalar as bibliotecas."
   ]
  },
  {
   "cell_type": "code",
   "execution_count": null,
   "metadata": {
    "id": "Ptbbtdv54NV9"
   },
   "outputs": [],
   "source": [
    "!pip install netCDF4"
   ]
  },
  {
   "cell_type": "code",
   "execution_count": null,
   "metadata": {
    "id": "CotFc7f4SmSx"
   },
   "outputs": [],
   "source": [
    "from netCDF4 import Dataset"
   ]
  },
  {
   "cell_type": "markdown",
   "metadata": {
    "id": "LoXSVD1PSmS0"
   },
   "source": [
    "A função \"Dataset\" que importamos agora, é utilizada para importar os dados e um arquivo local ou remoto (OpenDAP)."
   ]
  },
  {
   "cell_type": "markdown",
   "metadata": {
    "id": "MgAZnnOF4wIs"
   },
   "source": [
    "Vamos utilizar o atalho para o nosso arquivo mais uma vez. Como podemos utilizar manipulação de Strings para aproveitar o caminho criado no começo da aula? Caminho -> arquivo."
   ]
  },
  {
   "cell_type": "code",
   "execution_count": null,
   "metadata": {
    "id": "v7C7mr9f4-Mc"
   },
   "outputs": [],
   "source": [
    "txt_file"
   ]
  },
  {
   "cell_type": "code",
   "execution_count": null,
   "metadata": {
    "id": "0cp3IaOf5BO4"
   },
   "outputs": [],
   "source": [
    "nc_file = txt_file.replace('pr_ceara.txt', 'A20190322019059.L3m_MO_CHL_chlor_a_4km.nc')"
   ]
  },
  {
   "cell_type": "code",
   "execution_count": null,
   "metadata": {
    "id": "eZOALWhRSmS0"
   },
   "outputs": [],
   "source": [
    "data = Dataset(nc_file)"
   ]
  },
  {
   "cell_type": "code",
   "execution_count": null,
   "metadata": {
    "id": "GGLAk-6qSmTL"
   },
   "outputs": [],
   "source": [
    "print(data)"
   ]
  },
  {
   "cell_type": "markdown",
   "metadata": {
    "id": "EGzLI8qGSmTK"
   },
   "source": [
    "Podemos observar as variavéis contidas no arquivo da seguinte forma:"
   ]
  },
  {
   "cell_type": "code",
   "execution_count": null,
   "metadata": {
    "id": "jl0D5xVQSmTP"
   },
   "outputs": [],
   "source": [
    "print(data.variables)"
   ]
  },
  {
   "cell_type": "code",
   "execution_count": null,
   "metadata": {
    "id": "sCt4KPsZSmTS"
   },
   "outputs": [],
   "source": [
    "print (data.variables.keys())"
   ]
  },
  {
   "cell_type": "markdown",
   "metadata": {
    "id": "ZibvP7tJSmTV"
   },
   "source": [
    "Escolhemos a variavel central dentro do nosso arquivo."
   ]
  },
  {
   "cell_type": "code",
   "execution_count": null,
   "metadata": {
    "id": "PvD5_JPnSmTV"
   },
   "outputs": [],
   "source": [
    "data['chlor_a']"
   ]
  },
  {
   "cell_type": "markdown",
   "metadata": {
    "id": "xyAbTLIBSmTY"
   },
   "source": [
    "Atribuindo as variaveis do netCDF para outras variaveis."
   ]
  },
  {
   "cell_type": "code",
   "execution_count": null,
   "metadata": {
    "id": "hWgoZDbMSmTa"
   },
   "outputs": [],
   "source": [
    "cloro = data['chlor_a'][:]\n",
    "lat = data['lat'][:]\n",
    "lon = data['lon'][:]"
   ]
  },
  {
   "cell_type": "markdown",
   "metadata": {
    "id": "tVNaKU-mSmTj"
   },
   "source": [
    "Agora temos os valores armazenados em variaveis que criamos e podemos utilizar como quisermos."
   ]
  },
  {
   "cell_type": "code",
   "execution_count": null,
   "metadata": {
    "id": "_SwWxrp5SmTk"
   },
   "outputs": [],
   "source": [
    "cloro.shape,lat.shape,lon.shape"
   ]
  },
  {
   "cell_type": "markdown",
   "metadata": {
    "id": "Q9_idTPv31l3"
   },
   "source": [
    "* <h2> Utilizando as bibliotecas que estudamos para construir um mapa global de clorofila a <h2>\n"
   ]
  },
  {
   "cell_type": "markdown",
   "metadata": {
    "id": "IiGfxsIL31l4"
   },
   "source": [
    "1) Plot de série histórica de precipitação "
   ]
  },
  {
   "cell_type": "markdown",
   "metadata": {
    "id": "zpBAeVHf31mE"
   },
   "source": [
    "Agora pesquisem como mudar os atributos do grafico criado. Ex: fontsize dos ticks de cada eixo, titulo do grafico, etc..."
   ]
  },
  {
   "cell_type": "markdown",
   "metadata": {
    "id": "HBmpsOoW31mF"
   },
   "source": [
    "2) Plot de mapa global de distribuição de clorofila a"
   ]
  },
  {
   "cell_type": "code",
   "execution_count": null,
   "metadata": {
    "id": "ffH68Ss-6367"
   },
   "outputs": [],
   "source": [
    "!pip install cmocean"
   ]
  },
  {
   "cell_type": "code",
   "execution_count": null,
   "metadata": {
    "id": "ayAL_Y4131mF"
   },
   "outputs": [],
   "source": [
    "from netCDF4 import Dataset\n",
    "import cmocean as cm\n",
    "from mpl_toolkits.basemap import Basemap\n",
    "sns.set_style(\"white\")"
   ]
  },
  {
   "cell_type": "code",
   "execution_count": null,
   "metadata": {
    "id": "39XYN-iA31mI"
   },
   "outputs": [],
   "source": [
    "data = Dataset(nc_file)"
   ]
  },
  {
   "cell_type": "code",
   "execution_count": null,
   "metadata": {
    "id": "nqrzeQeV31mJ"
   },
   "outputs": [],
   "source": [
    "print (data.variables.keys())"
   ]
  },
  {
   "cell_type": "code",
   "execution_count": null,
   "metadata": {
    "id": "Rg2tnGOD31mP"
   },
   "outputs": [],
   "source": [
    "levels = [0.01,.03,.1,.3,1,3,10,30,40,60]\n",
    "clor = data['chlor_a'][::20,::20]\n",
    "X,Y = np.meshgrid(data['lon'][::20],data['lat'][::20])"
   ]
  },
  {
   "cell_type": "code",
   "execution_count": null,
   "metadata": {
    "id": "0ryHpGd_31mT"
   },
   "outputs": [],
   "source": [
    "plt.figure(figsize=(14,10))\n",
    "m = Basemap(projection='merc',llcrnrlat=-70,urcrnrlat=70,\\\n",
    "            llcrnrlon=-180,urcrnrlon=180,lat_ts=20,resolution='c')\n",
    "\n",
    "m.drawcoastlines() # Desenhando a linha de costa\n",
    "m.fillcontinents(color='0.4') # Preenchendo o continente com uma cor 0.7 - escalas de cinza\n",
    "\n",
    "m.drawparallels(np.arange(-60,60 +10,20),labels=[1,0,0,0]) # Traçando as linhas de paralelo e definindo seu intervalo\n",
    "m.drawmeridians(np.arange(-360,360,40),labels=[0,0,0,1]) # Traçando as linhas de meridiano e definindo seu intervalo\n",
    "\n",
    "\n",
    "CF = m.contourf(X,Y,clor,levels[:], latlon = True,cmap=cm.cm.thermal) # Aqui fazemos o plot preenchido com cores no nosso mapa;\n",
    "m.colorbar()\n",
    "\n",
    "title = plt.title(u'Distribuição global de clorofila',fontsize=16)\n",
    "\n",
    "#plt.savefig('figura_cloro.png',dpi = 200, tight_layout='True')"
   ]
  },
  {
   "cell_type": "code",
   "execution_count": null,
   "metadata": {
    "id": "opRvemmYSmUw"
   },
   "outputs": [],
   "source": [
    "\n"
   ]
  },
  {
   "cell_type": "markdown",
   "metadata": {
    "id": "9rdzFojgiUSD"
   },
   "source": [
    "<mark> Função Contourf !! Pesquisar"
   ]
  },
  {
   "cell_type": "markdown",
   "metadata": {
    "id": "aDLXTSIASmUz"
   },
   "source": [
    "Por fim, utilizamos algumas das principais bibliotecas que serão utilizadas durante o curso, em outras aulas abordaremos mais sobre suas aplicações e metodos de otimização e aprensentação de dados oceanográficos. "
   ]
  }
 ],
 "metadata": {
  "colab": {
   "collapsed_sections": [],
   "name": "ADADOS - Aula 3 - Bibliotecas - Numpy - Basemap - Matplotlib - NetCDF4.ipynb",
   "provenance": []
  },
  "kernelspec": {
   "display_name": "Python 3",
   "language": "python",
   "name": "python3"
  },
  "language_info": {
   "codemirror_mode": {
    "name": "ipython",
    "version": 3
   },
   "file_extension": ".py",
   "mimetype": "text/x-python",
   "name": "python",
   "nbconvert_exporter": "python",
   "pygments_lexer": "ipython3",
   "version": "3.8.3"
  }
 },
 "nbformat": 4,
 "nbformat_minor": 1
}
