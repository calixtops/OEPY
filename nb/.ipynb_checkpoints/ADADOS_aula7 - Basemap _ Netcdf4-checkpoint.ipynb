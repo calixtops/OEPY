{
 "cells": [
  {
   "cell_type": "markdown",
   "metadata": {
    "id": "EwaakzQn5iHZ"
   },
   "source": [
    "# Construção de Mapa de Propriedades e Manipulação de Arquivos Netcdf\n",
    "\n",
    "\n"
   ]
  },
  {
   "cell_type": "markdown",
   "metadata": {
    "id": "7RG0sN-k5mI4"
   },
   "source": [
    "Nesta aula aprenderemos a utilizar bibliotecas de cartografia como o Basemap para plotar propriedades em um mapa.  \n"
   ]
  },
  {
   "cell_type": "markdown",
   "metadata": {
    "id": "TQGcW0pe5yh6"
   },
   "source": [
    "--------------"
   ]
  },
  {
   "cell_type": "markdown",
   "metadata": {
    "id": "0pDW98PA5mEf"
   },
   "source": [
    "Inicialmente aprenderemos como construir um mapa sem nenhuma propriedade utilizando o Cartopy e o Matplotlib."
   ]
  },
  {
   "cell_type": "code",
   "execution_count": null,
   "metadata": {
    "id": "LyHVxx0r57T3"
   },
   "outputs": [],
   "source": [
    "!apt install proj-bin libproj-dev libgeos-dev\n",
    "!pip install https://github.com/matplotlib/basemap/archive/master.zip"
   ]
  },
  {
   "cell_type": "code",
   "execution_count": null,
   "metadata": {
    "id": "Pm2CGzXy5bh4"
   },
   "outputs": [],
   "source": [
    "from mpl_toolkits.basemap import Basemap\n",
    "import pylab as plt\n",
    "import numpy as np"
   ]
  },
  {
   "cell_type": "markdown",
   "metadata": {
    "id": "jhObelrY74_d"
   },
   "source": [
    "De forma mais basica, podemos fazer um plor simples com algumas linhas de comando:"
   ]
  },
  {
   "cell_type": "code",
   "execution_count": null,
   "metadata": {
    "id": "2B7kGMVu54PR"
   },
   "outputs": [],
   "source": [
    "fig = plt.figure(figsize=(8, 6), edgecolor='w')\n",
    "\n",
    "m = Basemap(projection='cyl', resolution=None,\n",
    "            llcrnrlat=-90, urcrnrlat=90,\n",
    "            llcrnrlon=-180, urcrnrlon=180)\n",
    "\n",
    "m.shadedrelief(scale=0.2)\n",
    "      \n",
    "# lats and longs are returned as a dictionary\n",
    "lats = m.drawparallels(np.linspace(-90, 90, 13),labels=[True,0,0,0])\n",
    "lons = m.drawmeridians(np.linspace(-180, 180, 13),labels=[1,0,0,1])"
   ]
  },
  {
   "cell_type": "markdown",
   "metadata": {
    "id": "_oyGBv_L4-wQ"
   },
   "source": [
    "---------------"
   ]
  },
  {
   "cell_type": "markdown",
   "metadata": {
    "id": "OuMtzGQD4-wV"
   },
   "source": [
    "## 2. Aquisição de Dados "
   ]
  },
  {
   "cell_type": "markdown",
   "metadata": {
    "id": "Of0T7rUs4-wX"
   },
   "source": [
    "<p align=”justify”> Alguns dados globais são disponibilizados na internet. O conjunto de dados de Extended Reconstructed Sea Surface Temperature (ERSST) é um conjunto de dados mensal global de temperatura da superfície do mar, derivado do Conjunto de Dados do International Comprehensive Ocean–Atmosphere Dataset (ICOADS). É produzido em uma grade de 2° × 2° com completude espacial aprimorada usando métodos estatísticos. Essa análise mensal começa em janeiro de 1854, continuando até o presente e inclui anomalias calculadas com relação a uma climatologia mensal de 1971 a 2000. A versão mais recente do ERSST, versão 4, é baseada em parâmetros otimizados usando os conjuntos de dados mais recentes e métodos de análise aprimorados. Iremos utilizar esta base de dados para a aula de hoje. <p align=”justify”> \n",
    "\n",
    "link: https://www.ncdc.noaa.gov/data-access/marineocean-data/extended-reconstructed-sea-surface-temperature-ersst-v5"
   ]
  },
  {
   "cell_type": "markdown",
   "metadata": {
    "id": "mv9L91Dv4-wZ"
   },
   "source": [
    "No link fornecido, temos a opção de acessar os dados em dois formatos diferentes. Texto (.asc) e netCDF (.nc). Grandes bases de dados costumam fornecer os dados em netCDF, portanto, escolheremos esse formato para diversificar o conhecimento. \n",
    "\n",
    "O dado está dividido por ano e mes, sendo um arquivo para cada ano e mes desde 1854 até o presente. No caso, escolheremos o dado mais atual. Arquivo --> ersst.v5.201907.nc\n"
   ]
  },
  {
   "cell_type": "markdown",
   "metadata": {
    "collapsed": true,
    "id": "gEt4TaBQ4-wb"
   },
   "source": [
    "Vamos utilizar o arquivo do exemplo para realizar o Plot da propriedade."
   ]
  },
  {
   "cell_type": "markdown",
   "metadata": {
    "id": "DGVV91Yr4-wc"
   },
   "source": [
    "-------------------"
   ]
  },
  {
   "cell_type": "markdown",
   "metadata": {
    "id": "M0-VzrCz4-wd"
   },
   "source": [
    "## 3) netCDF4 "
   ]
  },
  {
   "cell_type": "markdown",
   "metadata": {
    "id": "N80Gf9Qn4-wf"
   },
   "source": [
    "A extensão NetCDF é utilizada para armazenamento de grande quantidade de dados de forma a acessar dados orientados a matrizes em três dimensões possuindo suporte para diversas linguagens como C, Fortran, C++, Java e etc. "
   ]
  },
  {
   "cell_type": "markdown",
   "metadata": {
    "id": "JPUhsGyc4-wg"
   },
   "source": [
    "#### Leitura/Importação dos dados"
   ]
  },
  {
   "cell_type": "markdown",
   "metadata": {
    "collapsed": true,
    "id": "oa_AjsSI4-wh"
   },
   "source": [
    "A leitura de arquivos netCDF é realizada a partir da função \"Dataset\" da biblioteca \"netCDF4\". Vamos importar essa função.\n"
   ]
  },
  {
   "cell_type": "code",
   "execution_count": 2,
   "metadata": {
    "colab": {
     "base_uri": "https://localhost:8080/"
    },
    "executionInfo": {
     "elapsed": 5385,
     "status": "ok",
     "timestamp": 1615231027780,
     "user": {
      "displayName": "Pedro Calixto",
      "photoUrl": "https://lh3.googleusercontent.com/a-/AOh14Gg0lRxjwA8brpeHxk7aHwRimkQ3KrPTXDrnAl0X8Lg=s64",
      "userId": "06936679020888677524"
     },
     "user_tz": 180
    },
    "id": "rXxvnibq4-wi",
    "outputId": "50ff415d-cbd9-4232-bbd3-a7307bb5d0c0"
   },
   "outputs": [
    {
     "name": "stdout",
     "output_type": "stream",
     "text": [
      "Collecting netCDF4\n",
      "\u001b[?25l  Downloading https://files.pythonhosted.org/packages/37/56/f65978898fb8e7e5df9c67531d86eb24eb04938deae3b61dbcce12c98212/netCDF4-1.5.6-cp37-cp37m-manylinux2014_x86_64.whl (4.7MB)\n",
      "\u001b[K     |████████████████████████████████| 4.7MB 7.2MB/s \n",
      "\u001b[?25hRequirement already satisfied: numpy>=1.9 in /usr/local/lib/python3.7/dist-packages (from netCDF4) (1.19.5)\n",
      "Collecting cftime\n",
      "\u001b[?25l  Downloading https://files.pythonhosted.org/packages/41/e0/3e120cca16571c5ee3b35f1ed432c2aae5dc91e2b789e8b9c3a70e721ea0/cftime-1.4.1-cp37-cp37m-manylinux2014_x86_64.whl (313kB)\n",
      "\u001b[K     |████████████████████████████████| 317kB 26.0MB/s \n",
      "\u001b[?25hInstalling collected packages: cftime, netCDF4\n",
      "Successfully installed cftime-1.4.1 netCDF4-1.5.6\n"
     ]
    }
   ],
   "source": [
    "!pip install netCDF4\n",
    "from netCDF4 import Dataset"
   ]
  },
  {
   "cell_type": "markdown",
   "metadata": {
    "id": "OIPlgXFA4-wp"
   },
   "source": [
    "Agora podemos ler o arquivo netCDF com dados globais de Temperatura"
   ]
  },
  {
   "cell_type": "code",
   "execution_count": null,
   "metadata": {
    "id": "_o5gouhQBD4k"
   },
   "outputs": [],
   "source": [
    "from google.colab import drive\n",
    "drive.mount(\"/content/drive\")\n",
    "!ls '/content/drive/My Drive/Labomar - 2020.2/ADADOS4/Dados/'"
   ]
  },
  {
   "cell_type": "code",
   "execution_count": null,
   "metadata": {
    "id": "TVnu1lnfBGc8"
   },
   "outputs": [],
   "source": [
    "data_path = '/content/drive/My Drive/Labomar - 2020.2/ADADOS4/Dados/'"
   ]
  },
  {
   "cell_type": "code",
   "execution_count": null,
   "metadata": {
    "id": "UsmksXHBlA7h"
   },
   "outputs": [],
   "source": [
    "data_path + 'ersst.v5.201907.nc'"
   ]
  },
  {
   "cell_type": "code",
   "execution_count": 4,
   "metadata": {
    "executionInfo": {
     "elapsed": 784,
     "status": "ok",
     "timestamp": 1615231044978,
     "user": {
      "displayName": "Pedro Calixto",
      "photoUrl": "https://lh3.googleusercontent.com/a-/AOh14Gg0lRxjwA8brpeHxk7aHwRimkQ3KrPTXDrnAl0X8Lg=s64",
      "userId": "06936679020888677524"
     },
     "user_tz": 180
    },
    "id": "cexGnIuO4-wq"
   },
   "outputs": [],
   "source": [
    "#dado = Dataset(data_path + 'ersst.v5.201907.nc')\n",
    "dado = Dataset('/content/ersst.v5.201907.nc')"
   ]
  },
  {
   "cell_type": "markdown",
   "metadata": {
    "id": "lMOCM7iz4-wu"
   },
   "source": [
    "Depois de importar o dado dentro da variavel 'dado' podemos checar quais as variaveis que estão contidas no arquivo.\n",
    "\n",
    "Para isso usamos a seguinte sintaxe."
   ]
  },
  {
   "cell_type": "code",
   "execution_count": null,
   "metadata": {
    "id": "fmAk8loK4-ww"
   },
   "outputs": [],
   "source": [
    "print(dado)"
   ]
  },
  {
   "cell_type": "markdown",
   "metadata": {
    "id": "doMTzAFg4-w1"
   },
   "source": [
    "Para acessar somente as \"chaves\" de cada variavél, com menos informações, podemos executar o comando:"
   ]
  },
  {
   "cell_type": "code",
   "execution_count": null,
   "metadata": {
    "id": "QuZoM6AS4-w3"
   },
   "outputs": [],
   "source": [
    "dado.variables.keys()"
   ]
  },
  {
   "cell_type": "code",
   "execution_count": null,
   "metadata": {
    "id": "dfWkIo_B4-w9"
   },
   "outputs": [],
   "source": [
    "dado['sst']"
   ]
  },
  {
   "cell_type": "markdown",
   "metadata": {
    "id": "TaTUoild4-xF"
   },
   "source": [
    "Temos, portanto, um arquivo netCDF que armazena diversas variáveis. Vamos acessar cada uma das variáveis e atribuir a outras variaveis facilitando entao o manuseio do dado. Vamos nos atentar também para a informação contida em \"dimensions(sizes)\" do arquivo netCDF. Temos a dimensão de TEMPO(1), LEV (Nível)(1), LAT(89) e LON(180), isto é, temos 1 periodo de tempo que representa o mes e ano do dado escolhido e temos a informação que a resolução espacial do dado em questao é de 2 graus."
   ]
  },
  {
   "cell_type": "markdown",
   "metadata": {
    "id": "L9LyxlUx4-xG"
   },
   "source": [
    "### Representação das dimensões de um arquivo NetCDF para dados de Temperatura do ar."
   ]
  },
  {
   "cell_type": "markdown",
   "metadata": {
    "id": "xnJ9rDaXm5Pu"
   },
   "source": [
    "![texto alternativo](https://www.researchgate.net/publication/315950787/figure/fig3/AS:567797237248005@1512384818972/An-example-of-how-a-dataset-netCDF-or-xarray-for-a-weather-forecast-might-be.png)"
   ]
  },
  {
   "cell_type": "markdown",
   "metadata": {
    "id": "g048F8uem8kw"
   },
   "source": [
    "--------"
   ]
  },
  {
   "cell_type": "markdown",
   "metadata": {
    "id": "ZRt8wQN-4-xH"
   },
   "source": [
    "![texto alternativo](https://simulatingcomplexity.files.wordpress.com/2014/11/netcdf-file-structure.png)"
   ]
  },
  {
   "cell_type": "markdown",
   "metadata": {
    "id": "eEPVu8g_nF-Y"
   },
   "source": [
    "![texto alternativo](https://www.esri.com/arcgis-blog/wp-content/uploads/2012/04/netCDF_SliceDiagram.png)"
   ]
  },
  {
   "cell_type": "markdown",
   "metadata": {
    "id": "wUr7JRMj_zHf"
   },
   "source": [
    "![texto alternativo](https://encrypted-tbn0.gstatic.com/images?q=tbn:ANd9GcRecxdMfB-icZ6ZqvI3gi4ktkcUkPKcrknE4OLdVGVEE8IW5hHV&s)"
   ]
  },
  {
   "cell_type": "markdown",
   "metadata": {
    "id": "Q9Z8f-Yj4-xK"
   },
   "source": [
    "Vamos checar a Variável SST."
   ]
  },
  {
   "cell_type": "code",
   "execution_count": null,
   "metadata": {
    "id": "x6_jGBkN4-xM"
   },
   "outputs": [],
   "source": [
    "dado['sst']"
   ]
  },
  {
   "cell_type": "markdown",
   "metadata": {
    "id": "69ZADJPm4-xS"
   },
   "source": [
    "Temos que selecionar, portanto, todos os dados de latitude e longitude para ter valores de SST para o globo. Para isso, selecionamos <b> o primeiro elemento de tempo e de profundidade e todos os elementos para a lat e lon."
   ]
  },
  {
   "cell_type": "code",
   "execution_count": null,
   "metadata": {
    "id": "P97jTnSv4-xU"
   },
   "outputs": [],
   "source": [
    "dado['sst'][0,0,:,:].shape"
   ]
  },
  {
   "cell_type": "code",
   "execution_count": null,
   "metadata": {
    "id": "jqWQm-IB4-xd"
   },
   "outputs": [],
   "source": [
    "sst = dado['sst'][0,0,:,:] # Escolhendo o primeiro passo de tempo e o primeiro \"level\" de profundidade\n",
    "lat = dado['lat'][:] #\n",
    "lon = dado['lon'][:] #"
   ]
  },
  {
   "cell_type": "markdown",
   "metadata": {
    "id": "kb_PeM5R4-xi"
   },
   "source": [
    "Agora que criamos as novas variáveis vamos observar o tamanho de cada uma:"
   ]
  },
  {
   "cell_type": "code",
   "execution_count": null,
   "metadata": {
    "id": "HpHayx7Y4-xj"
   },
   "outputs": [],
   "source": [
    "sst.shape,lat.shape,lon.shape"
   ]
  },
  {
   "cell_type": "markdown",
   "metadata": {
    "id": "5xcpoAFK4-xs"
   },
   "source": [
    "A variavel \"sst\" possui dimensoes de lat,lon. Nesse caso é comum falar que o dado está gridado, ou seja, se organiza na forma de uma grid com cada ponto representando um valor de lat e lon.\n",
    "\n",
    "Por isso, é necessario \"gridar\" os valores de lat e lon para que assumam a mesma dimensão da propriedade que se deseja plotar. para tal utilizamos uma função chamada \"meshgrid\" que pertence a biblioteca \"numpy\"."
   ]
  },
  {
   "cell_type": "markdown",
   "metadata": {
    "id": "ZFf6S8Sw4-xt"
   },
   "source": [
    "![texto alternativo](https://deepage.net/img/numpy/meshgrid/meshgrid-explanation.jpg)"
   ]
  },
  {
   "cell_type": "markdown",
   "metadata": {
    "id": "zQQh2KuO4-x1"
   },
   "source": [
    "Criamos entao novas variaveis para lat e lon:"
   ]
  },
  {
   "cell_type": "code",
   "execution_count": null,
   "metadata": {
    "id": "h0CCs1jz4-x1"
   },
   "outputs": [],
   "source": [
    "X,Y = np.meshgrid(lon,lat)"
   ]
  },
  {
   "cell_type": "code",
   "execution_count": null,
   "metadata": {
    "id": "9CMdYzVE4-x5"
   },
   "outputs": [],
   "source": [
    "X.shape,Y.shape"
   ]
  },
  {
   "cell_type": "code",
   "execution_count": null,
   "metadata": {
    "id": "ZAvfD7_JoFv7"
   },
   "outputs": [],
   "source": [
    "plt.contourf(X,Y,sst)"
   ]
  },
  {
   "cell_type": "markdown",
   "metadata": {
    "id": "jVAbO7fs4-x9"
   },
   "source": [
    "Agora temos a propriedade e os valores de latitude e longitude gridados e estamos prontos para efetivar o nosso plot.\n"
   ]
  },
  {
   "cell_type": "markdown",
   "metadata": {
    "id": "x_ukbS7_4-x9"
   },
   "source": [
    "### 3. Plotando dados em um mapa "
   ]
  },
  {
   "cell_type": "markdown",
   "metadata": {
    "id": "12Lwu89N4-x_"
   },
   "source": [
    "Primeiramente abrimos a nossa projeção como realizado na primeira seção."
   ]
  },
  {
   "cell_type": "code",
   "execution_count": null,
   "metadata": {
    "id": "uWxU-PROoqM0"
   },
   "outputs": [],
   "source": [
    "# Plotando o mapa\n",
    "fig = plt.figure(figsize=(16, 12), edgecolor='w')\n",
    "\n",
    "m = Basemap(projection='cyl', resolution=None,\n",
    "            llcrnrlat=-90, urcrnrlat=90,\n",
    "            llcrnrlon=0, urcrnrlon=360)\n",
    "\n",
    "m.shadedrelief(scale=0.2)\n",
    "\n",
    "# lats and longs are returned as a dictionary\n",
    "lats = m.drawparallels(np.linspace(-90, 90, 10),labels=[1,0,0,0])\n",
    "lons = m.drawmeridians(np.linspace(0,360,10),labels=[0,0,0,1])\n",
    "\n",
    "############ Fazendo o contourf \n",
    "\n",
    "cf = plt.contourf(X,Y,sst,levels=40,latlon=True)    # Plota contornos preenchidos por cores. \n",
    "\n",
    "plt.colorbar(cf)                             # Plotando barra de cores\n",
    "\n",
    "cs = plt.contour(X, Y, sst, range(0, 30,5), colors = '0.8',latlon=True ) # Plota somente os contornos sem preenchimento!\n",
    "plt.clabel(cs, inline=True, fmt='%1.0f', fontsize=10, colors='w')       # Comando que põe os valores nas linhas \n"
   ]
  },
  {
   "cell_type": "code",
   "execution_count": null,
   "metadata": {
    "id": "k3t60TEQ4-yA"
   },
   "outputs": [],
   "source": [
    "fig = plt.figure(figsize=(16, 12), edgecolor='w')\n",
    "m = Basemap(projection='cyl', resolution='c',\n",
    "            llcrnrlat=-90, urcrnrlat=90,\n",
    "            llcrnrlon=0, urcrnrlon=360)\n",
    "\n",
    "m.drawcoastlines() # Desenhando a linha de costa\n",
    "m.fillcontinents(color='0.1') # Preenchendo o continente com uma cor 0.7 - escalas de cinza\n",
    "\n",
    "lats = m.drawparallels(np.linspace(-90, 90, 10),labels=[1,0,0,0])\n",
    "lons = m.drawmeridians(np.linspace(0,360,10),labels=[0,0,0,1])\n",
    "\n",
    "\n",
    "###############\n",
    "\n",
    "\n",
    "cf = plt.contourf(X,Y,sst,20,latlon=True ,cmap = 'Dark2_r')    # Plota contornos preenchidos por cores. \n",
    "                                   # As cores podem ser alteradas com o argumento CMAP.\n",
    "    \n",
    "plt.colorbar(cf)         # Plotando barra de cores\n",
    "\n",
    "cs = plt.contour(X, Y, sst, range(0, 30,5), colors = '0.8',latlon=True ) # Plota somente os contornos sem preenchimento!\n",
    "plt.clabel(cs, inline=True, fmt='%1.0f', fontsize=10, colors='w')       # Comando que põe os valores nas linhas \n"
   ]
  },
  {
   "cell_type": "markdown",
   "metadata": {
    "id": "k9WdNBVP4-yG"
   },
   "source": [
    "### Dica "
   ]
  },
  {
   "cell_type": "markdown",
   "metadata": {
    "id": "YHhQnwmG4-yG"
   },
   "source": [
    " Quando tratamos com plots de propriedades utilizando o comando \"COUNTOURF\" podemos melhorar nossos mapas substancialmente mudando o que chamamos de \"colormap\". O colormap pode ser alterado a partir do comando <b>cmap</b>. Os colormaps mais conhecidos em oceanografia estão disponiveis no link abaixo:\n",
    "    \n",
    "   https://matplotlib.org/cmocean/"
   ]
  },
  {
   "cell_type": "markdown",
   "metadata": {
    "id": "FzBMtwVH4-yG"
   },
   "source": [
    "Abaixo usaremos o colormap \"Thermal\", proprio para temperatura."
   ]
  },
  {
   "cell_type": "code",
   "execution_count": null,
   "metadata": {
    "id": "Mz6Z1uf1H6g-"
   },
   "outputs": [],
   "source": [
    "!pip install cmocean"
   ]
  },
  {
   "cell_type": "code",
   "execution_count": null,
   "metadata": {
    "id": "jMR1HAi94-yH"
   },
   "outputs": [],
   "source": [
    "from cmocean import cm\n",
    "\n",
    "\n",
    "plt.figure(figsize=(14,10))\n",
    "m = Basemap(projection='merc',llcrnrlat=-70,urcrnrlat=70,\\\n",
    "            llcrnrlon=-180,urcrnrlon=180,lat_ts=20,resolution='c')\n",
    "m.drawcoastlines() # Desenhando a linha de costa\n",
    "m.fillcontinents(color='0.1') # Preenchendo o continente com uma cor 0.7 - escalas de cinza\n",
    "m.drawparallels(np.arange(-60,60 +10,10),labels=[1,0,0,1],\n",
    "                linewidth = 0,fontsize = 12 , fontweight = 'bold') \n",
    "m.drawmeridians(np.arange(-360,360,30),labels=[1,1,0,1],\n",
    "                linewidth = 0,fontsize = 12 , fontweight = 'bold')\n",
    "\n",
    "\n",
    "\n",
    "\n",
    "m.contourf(X,Y,sst,latlon=True, cmap = cm.thermal,extend = 'both')    # Plota contornos preenchidos por cores. \n",
    "                                   # As cores podem ser alteradas com o argumento CMAP.\n",
    "plt.colorbar(aspect=50)         # Plotando barra de cores\n",
    "\n",
    "cs = m.contour(X, Y, sst, range(0, 30,5), latlon=True, colors = '0.8' ) # Plota somente os contornos sem preenchimento!\n",
    "plt.clabel(cs, inline=True, fmt='%1.0f', fontsize=10, colors='w')       # Comando que põe os valores nas linhas \n",
    "\n",
    "\n",
    "#plt.savefig('TSM-2019-01.png',dpi = 300, tight_layout= True)\n",
    "\n",
    "pass"
   ]
  },
  {
   "cell_type": "code",
   "execution_count": null,
   "metadata": {
    "id": "5UqIO3yKiwNN"
   },
   "outputs": [],
   "source": []
  }
 ],
 "metadata": {
  "colab": {
   "collapsed_sections": [],
   "name": "ADADOS_aula7 - Basemap / Netcdf4.ipynb",
   "provenance": []
  },
  "kernelspec": {
   "display_name": "Python 3",
   "language": "python",
   "name": "python3"
  },
  "language_info": {
   "codemirror_mode": {
    "name": "ipython",
    "version": 3
   },
   "file_extension": ".py",
   "mimetype": "text/x-python",
   "name": "python",
   "nbconvert_exporter": "python",
   "pygments_lexer": "ipython3",
   "version": "3.8.3"
  }
 },
 "nbformat": 4,
 "nbformat_minor": 1
}
