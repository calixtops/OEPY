{
 "cells": [
  {
   "cell_type": "markdown",
   "metadata": {},
   "source": [
    "<img style='float: right; height:85%; width: 25%' src=\"https://raw.githubusercontent.com/calixtops/ES/main/img/logo_OEPY.png\" >\n"
   ]
  },
  {
   "cell_type": "markdown",
   "metadata": {},
   "source": [
    "\n",
    "<h1 style=\"text-align: center; background-color:  #003d99; opacity: 0.7; padding: 30px; color: white\">  Aula 1 - Introdução à programação - Elementos básicos e Funções Matemáticas </h1>\n",
    "<a id='section_id1'></a>\n"
   ]
  },
  {
   "cell_type": "markdown",
   "metadata": {},
   "source": [
    "----"
   ]
  },
  {
   "cell_type": "markdown",
   "metadata": {},
   "source": [
    "# Índice\n",
    "\n",
    "- [**Aula 1 - Introdução à programação - Elementos básicos e Funções Matemáticas**](#section_id1)\n",
    "    - [1.1 O que é uma variável?](#section_id2)\n",
    "    - [1.2 Funções Built-in](#section_id3)\n",
    "    - [1.3 Valores Inteiros e Strings](#section_id4)\n",
    "    - [1.4 Função input()](#section_id5)\n",
    "    - [1.5 Operações Aritméticas](#section_id6)\n"
   ]
  },
  {
   "cell_type": "markdown",
   "metadata": {
    "id": "m5jVYGIcfDjX"
   },
   "source": [
    "## 1.1 O que é uma variável ? \n",
    "\n",
    "<a id='section_id2'></a>\n"
   ]
  },
  {
   "cell_type": "markdown",
   "metadata": {
    "id": "ElE-GD0HfDjd"
   },
   "source": [
    "Variavel é um local na memória que é reservado para armazenar uma informação;</p>\n",
    "\n",
    "<b>exemplo</b>: Armazenar nome de estações, parâmetros, como temperatura, salinidade, entre outros. "
   ]
  },
  {
   "cell_type": "markdown",
   "metadata": {
    "id": "EpbGIaMOPNiL"
   },
   "source": [
    "No bloco de código abaixo declaramos o valor inteiro 10 como a variável 'a'."
   ]
  },
  {
   "cell_type": "code",
   "execution_count": 1,
   "metadata": {
    "id": "FoT11iP6fDjf"
   },
   "outputs": [],
   "source": [
    "a = 10"
   ]
  },
  {
   "cell_type": "markdown",
   "metadata": {
    "id": "HIPnB7SXfDjz"
   },
   "source": [
    "Daqui para frente, \"a\" vai representar o número inteiro 10 até que essa variável seja apagada ou sobrescrita. Para imprimir uma variável no momento de interpretar(rodar) o programa, usamos a função <mark style=\"background-color:red\">print</mark>."
   ]
  },
  {
   "cell_type": "code",
   "execution_count": 2,
   "metadata": {
    "colab": {
     "base_uri": "https://localhost:8080/",
     "height": 168
    },
    "executionInfo": {
     "elapsed": 1243,
     "status": "error",
     "timestamp": 1617646518669,
     "user": {
      "displayName": "Pedro Calixto",
      "photoUrl": "https://lh3.googleusercontent.com/a-/AOh14Gg0lRxjwA8brpeHxk7aHwRimkQ3KrPTXDrnAl0X8Lg=s64",
      "userId": "06936679020888677524"
     },
     "user_tz": 180
    },
    "id": "DR1gyG1yfDj0",
    "outputId": "af5d1f8f-45e2-4a92-dfe9-e2a6d97dfaec"
   },
   "outputs": [
    {
     "name": "stdout",
     "output_type": "stream",
     "text": [
      "10\n"
     ]
    }
   ],
   "source": [
    "print(a)"
   ]
  },
  {
   "cell_type": "markdown",
   "metadata": {
    "id": "Gs05-SXFfDj_"
   },
   "source": [
    "De onde veio essa função? "
   ]
  },
  {
   "cell_type": "markdown",
   "metadata": {},
   "source": [
    "## 1.2 Funções Built-in\n",
    "\n",
    "<a id='section_id3'></a>\n"
   ]
  },
  {
   "cell_type": "markdown",
   "metadata": {
    "id": "SEWSROitfDkB"
   },
   "source": [
    "Em python, temos Módulos e Pacotes que incluem funções de diversas naturezas. Porém, existe algumas funções internas do python. Por hora, não importaremos nenhum desses pacotes ou módulos. Essas funções são conhecidas como Funções <b>Built-in."
   ]
  },
  {
   "cell_type": "markdown",
   "metadata": {
    "id": "M_iGxqLOfDkD"
   },
   "source": [
    "<b>Funções built-in são funções internas e nativas, ou seja, que já vem incorporadas na linguagem e estão sempre disponíveis para utilização. Assim não é necessário a importação. Basta utilizá-las diretamente no seu código quando desejar.  O Python possui diversas funções built-in."
   ]
  },
  {
   "cell_type": "markdown",
   "metadata": {
    "id": "Kf4Qnxi_fDkE"
   },
   "source": [
    " ![built functions](https://i.stack.imgur.com/O0eOZ.png)"
   ]
  },
  {
   "cell_type": "code",
   "execution_count": 3,
   "metadata": {
    "colab": {
     "base_uri": "https://localhost:8080/"
    },
    "executionInfo": {
     "elapsed": 1002,
     "status": "ok",
     "timestamp": 1617646615638,
     "user": {
      "displayName": "Pedro Calixto",
      "photoUrl": "https://lh3.googleusercontent.com/a-/AOh14Gg0lRxjwA8brpeHxk7aHwRimkQ3KrPTXDrnAl0X8Lg=s64",
      "userId": "06936679020888677524"
     },
     "user_tz": 180
    },
    "id": "w_6hhYiXfDkI",
    "outputId": "abbb2380-e173-4eb2-a346-f6336f138c57"
   },
   "outputs": [
    {
     "name": "stdout",
     "output_type": "stream",
     "text": [
      "\n"
     ]
    }
   ],
   "source": [
    "print()"
   ]
  },
  {
   "cell_type": "code",
   "execution_count": 4,
   "metadata": {
    "executionInfo": {
     "elapsed": 1107,
     "status": "ok",
     "timestamp": 1617646589215,
     "user": {
      "displayName": "Pedro Calixto",
      "photoUrl": "https://lh3.googleusercontent.com/a-/AOh14Gg0lRxjwA8brpeHxk7aHwRimkQ3KrPTXDrnAl0X8Lg=s64",
      "userId": "06936679020888677524"
     },
     "user_tz": 180
    },
    "id": "Mb603D2OfDkR"
   },
   "outputs": [],
   "source": [
    "b = 20"
   ]
  },
  {
   "cell_type": "markdown",
   "metadata": {
    "id": "5IaD4yIefDkh"
   },
   "source": [
    "A função interna PRINT, é utilizada também para exibir mensagens no decorrer da execução do programa."
   ]
  },
  {
   "cell_type": "code",
   "execution_count": 5,
   "metadata": {
    "colab": {
     "base_uri": "https://localhost:8080/"
    },
    "executionInfo": {
     "elapsed": 657,
     "status": "ok",
     "timestamp": 1606930074976,
     "user": {
      "displayName": "Pedro Calixto",
      "photoUrl": "https://lh3.googleusercontent.com/a-/AOh14Gg0lRxjwA8brpeHxk7aHwRimkQ3KrPTXDrnAl0X8Lg=s64",
      "userId": "06936679020888677524"
     },
     "user_tz": 180
    },
    "id": "Ti1lJW4LfDkj",
    "outputId": "fd5749af-dd2b-4bfb-a84d-2ce0d448a57c"
   },
   "outputs": [
    {
     "name": "stdout",
     "output_type": "stream",
     "text": [
      "Programa finalizado\n"
     ]
    }
   ],
   "source": [
    "print(\"Programa finalizado\")"
   ]
  },
  {
   "cell_type": "markdown",
   "metadata": {
    "id": "TWzwMXhWfDkp"
   },
   "source": [
    "Posso declarar essa mensagem de texto como uma variável? \n"
   ]
  },
  {
   "cell_type": "code",
   "execution_count": 6,
   "metadata": {
    "id": "VnTaoST6fDkr"
   },
   "outputs": [],
   "source": [
    "a = \"Programa finalizado\""
   ]
  },
  {
   "cell_type": "code",
   "execution_count": 7,
   "metadata": {
    "colab": {
     "base_uri": "https://localhost:8080/"
    },
    "executionInfo": {
     "elapsed": 1312,
     "status": "ok",
     "timestamp": 1606930103251,
     "user": {
      "displayName": "Pedro Calixto",
      "photoUrl": "https://lh3.googleusercontent.com/a-/AOh14Gg0lRxjwA8brpeHxk7aHwRimkQ3KrPTXDrnAl0X8Lg=s64",
      "userId": "06936679020888677524"
     },
     "user_tz": 180
    },
    "id": "B0PQyOVlfDkz",
    "outputId": "d05ef4ac-5cdc-4df5-883b-116749b8d869"
   },
   "outputs": [
    {
     "name": "stdout",
     "output_type": "stream",
     "text": [
      "Programa finalizado\n"
     ]
    }
   ],
   "source": [
    "print(a)"
   ]
  },
  {
   "cell_type": "markdown",
   "metadata": {
    "id": "F18LHE8OfDk6"
   },
   "source": [
    "**Mas qual a diferença?**"
   ]
  },
  {
   "cell_type": "markdown",
   "metadata": {
    "id": "XN6TCYNpfDk8"
   },
   "source": [
    "## 1.3 Valores Inteiros e Strings\n",
    "\n",
    "<a id='section_id4'> </a>"
   ]
  },
  {
   "cell_type": "markdown",
   "metadata": {
    "id": "K2QKZHEhfDk-"
   },
   "source": [
    "Até agora nos deparamos com 2 tipos de de \"valores\". \n",
    "\n",
    "Primeiramente declaramos uma variável \"a\" com um valor Inteiro(10). Posteriormente declaramos essa mesma variável com uma String (\"Programa Finalizado\"). \n",
    "\n",
    "Trata-se de dois tipos diferente de valores, o primeiro é um valor Inteiro e o segundo uma String."
   ]
  },
  {
   "cell_type": "markdown",
   "metadata": {
    "id": "8fLIc8TkfDk_"
   },
   "source": [
    "<b>Uma string é uma cadeia de caractere ou um caractere simples separado por aspas (\") ou apóstrofo (')\n"
   ]
  },
  {
   "cell_type": "markdown",
   "metadata": {
    "id": "VkROb_EpfDk_"
   },
   "source": [
    "Para conferir o Tipo de cada variável utilizaremos a função interna type()"
   ]
  },
  {
   "cell_type": "code",
   "execution_count": 8,
   "metadata": {
    "colab": {
     "base_uri": "https://localhost:8080/"
    },
    "executionInfo": {
     "elapsed": 834,
     "status": "ok",
     "timestamp": 1617646726289,
     "user": {
      "displayName": "Pedro Calixto",
      "photoUrl": "https://lh3.googleusercontent.com/a-/AOh14Gg0lRxjwA8brpeHxk7aHwRimkQ3KrPTXDrnAl0X8Lg=s64",
      "userId": "06936679020888677524"
     },
     "user_tz": 180
    },
    "id": "-MF8C_nafDlB",
    "outputId": "950edf3e-0b2c-44d3-bff5-0dfbb91064e5"
   },
   "outputs": [
    {
     "data": {
      "text/plain": [
       "str"
      ]
     },
     "execution_count": 8,
     "metadata": {},
     "output_type": "execute_result"
    }
   ],
   "source": [
    "type(\"Olá mundo\")"
   ]
  },
  {
   "cell_type": "code",
   "execution_count": 9,
   "metadata": {
    "colab": {
     "base_uri": "https://localhost:8080/",
     "height": 168
    },
    "executionInfo": {
     "elapsed": 1030,
     "status": "error",
     "timestamp": 1617646728421,
     "user": {
      "displayName": "Pedro Calixto",
      "photoUrl": "https://lh3.googleusercontent.com/a-/AOh14Gg0lRxjwA8brpeHxk7aHwRimkQ3KrPTXDrnAl0X8Lg=s64",
      "userId": "06936679020888677524"
     },
     "user_tz": 180
    },
    "id": "Khj2cMc2fDlJ",
    "outputId": "f503740a-19be-4869-a0b1-ca5fd75d6ecd"
   },
   "outputs": [
    {
     "data": {
      "text/plain": [
       "str"
      ]
     },
     "execution_count": 9,
     "metadata": {},
     "output_type": "execute_result"
    }
   ],
   "source": [
    "type(a)"
   ]
  },
  {
   "cell_type": "code",
   "execution_count": 10,
   "metadata": {
    "colab": {
     "base_uri": "https://localhost:8080/"
    },
    "executionInfo": {
     "elapsed": 550,
     "status": "ok",
     "timestamp": 1617646729837,
     "user": {
      "displayName": "Pedro Calixto",
      "photoUrl": "https://lh3.googleusercontent.com/a-/AOh14Gg0lRxjwA8brpeHxk7aHwRimkQ3KrPTXDrnAl0X8Lg=s64",
      "userId": "06936679020888677524"
     },
     "user_tz": 180
    },
    "id": "5BnhZKuKfDlQ",
    "outputId": "15035b14-a72e-4b9a-fc4a-ebc5c68eb8d5"
   },
   "outputs": [
    {
     "data": {
      "text/plain": [
       "int"
      ]
     },
     "execution_count": 10,
     "metadata": {},
     "output_type": "execute_result"
    }
   ],
   "source": [
    "type(b)"
   ]
  },
  {
   "cell_type": "markdown",
   "metadata": {
    "id": "CnjfbstWfDlX"
   },
   "source": [
    "<b>int</b> quer dizer que temos um valor inteiro e <b>str</b> quer dizer que temos uma string"
   ]
  },
  {
   "cell_type": "markdown",
   "metadata": {
    "id": "ke13z0DAfDlY"
   },
   "source": [
    "* Até agora conhecemos duas funções internas do python: <b> Type e Print"
   ]
  },
  {
   "cell_type": "code",
   "execution_count": 11,
   "metadata": {
    "colab": {
     "base_uri": "https://localhost:8080/",
     "height": 202
    },
    "executionInfo": {
     "elapsed": 859,
     "status": "error",
     "timestamp": 1617646752455,
     "user": {
      "displayName": "Pedro Calixto",
      "photoUrl": "https://lh3.googleusercontent.com/a-/AOh14Gg0lRxjwA8brpeHxk7aHwRimkQ3KrPTXDrnAl0X8Lg=s64",
      "userId": "06936679020888677524"
     },
     "user_tz": 180
    },
    "id": "sInt5rurgmDX",
    "outputId": "b2a601f7-8986-4a19-bb8a-e5c8af014931"
   },
   "outputs": [],
   "source": [
    "tstr = type(\"Ola Mundo\")\n",
    "ta = type(a)\n",
    "tb = type(b)"
   ]
  },
  {
   "cell_type": "code",
   "execution_count": 12,
   "metadata": {
    "colab": {
     "base_uri": "https://localhost:8080/",
     "height": 289
    },
    "executionInfo": {
     "elapsed": 1299,
     "status": "error",
     "timestamp": 1617646754779,
     "user": {
      "displayName": "Pedro Calixto",
      "photoUrl": "https://lh3.googleusercontent.com/a-/AOh14Gg0lRxjwA8brpeHxk7aHwRimkQ3KrPTXDrnAl0X8Lg=s64",
      "userId": "06936679020888677524"
     },
     "user_tz": 180
    },
    "id": "n79o382CfDlZ",
    "outputId": "ac9ec441-f6a2-445a-c078-5c509df2170f"
   },
   "outputs": [
    {
     "name": "stdout",
     "output_type": "stream",
     "text": [
      "------------\n",
      "Tipo de cada variável\n",
      "<class 'str'>\n",
      "<class 'str'>\n",
      "<class 'int'>\n",
      "-----FIM-------\n"
     ]
    }
   ],
   "source": [
    "print(\"------------\")\n",
    "print('Tipo de cada variável')\n",
    "print(type(\"Olá, mundo!\"))\n",
    "print(type(a))\n",
    "print(type(b))\n",
    "print(\"-----FIM-------\")\n"
   ]
  },
  {
   "cell_type": "markdown",
   "metadata": {
    "id": "hBMlcbt5fDlf"
   },
   "source": [
    "Posso misturar variaveis de tipos diferentes?"
   ]
  },
  {
   "cell_type": "markdown",
   "metadata": {
    "id": "B4YrpkCsfDli"
   },
   "source": [
    "Numeros inteiros podem ser utilizados dentro de uma string."
   ]
  },
  {
   "cell_type": "code",
   "execution_count": 13,
   "metadata": {
    "id": "VD2qQEzUfDlm"
   },
   "outputs": [],
   "source": [
    "strin = \"O numero utilizado na string é:\""
   ]
  },
  {
   "cell_type": "code",
   "execution_count": 14,
   "metadata": {
    "colab": {
     "base_uri": "https://localhost:8080/"
    },
    "executionInfo": {
     "elapsed": 2315,
     "status": "ok",
     "timestamp": 1606930461275,
     "user": {
      "displayName": "Pedro Calixto",
      "photoUrl": "https://lh3.googleusercontent.com/a-/AOh14Gg0lRxjwA8brpeHxk7aHwRimkQ3KrPTXDrnAl0X8Lg=s64",
      "userId": "06936679020888677524"
     },
     "user_tz": 180
    },
    "id": "GlsKueW6fDls",
    "outputId": "4f152356-7e7f-43d4-fa11-d1d3b43d7f94"
   },
   "outputs": [
    {
     "name": "stdout",
     "output_type": "stream",
     "text": [
      "O numero utilizado na string é:>20\n"
     ]
    }
   ],
   "source": [
    "print(strin,b,sep='>')"
   ]
  },
  {
   "cell_type": "markdown",
   "metadata": {
    "id": "noLU29CzfDly"
   },
   "source": [
    "Em programação, geralmente, temos diversos caminhos para realizar diferentes trabalhos"
   ]
  },
  {
   "cell_type": "markdown",
   "metadata": {
    "id": "igbqfCLRfDlz"
   },
   "source": [
    "Primeira forma"
   ]
  },
  {
   "cell_type": "code",
   "execution_count": 15,
   "metadata": {
    "colab": {
     "base_uri": "https://localhost:8080/"
    },
    "executionInfo": {
     "elapsed": 1494,
     "status": "ok",
     "timestamp": 1606930495854,
     "user": {
      "displayName": "Pedro Calixto",
      "photoUrl": "https://lh3.googleusercontent.com/a-/AOh14Gg0lRxjwA8brpeHxk7aHwRimkQ3KrPTXDrnAl0X8Lg=s64",
      "userId": "06936679020888677524"
     },
     "user_tz": 180
    },
    "id": "GrhWqcgqfDl0",
    "outputId": "a05a4bc2-df19-4323-f64f-79e64fc4dd88"
   },
   "outputs": [
    {
     "name": "stdout",
     "output_type": "stream",
     "text": [
      "O numero utilizado na string é: 20\n"
     ]
    }
   ],
   "source": [
    "print(strin,b)"
   ]
  },
  {
   "cell_type": "markdown",
   "metadata": {
    "id": "xDtNvHCAfDl5"
   },
   "source": [
    "Segunda forma"
   ]
  },
  {
   "cell_type": "code",
   "execution_count": 16,
   "metadata": {
    "colab": {
     "base_uri": "https://localhost:8080/"
    },
    "executionInfo": {
     "elapsed": 2540,
     "status": "ok",
     "timestamp": 1606930633982,
     "user": {
      "displayName": "Pedro Calixto",
      "photoUrl": "https://lh3.googleusercontent.com/a-/AOh14Gg0lRxjwA8brpeHxk7aHwRimkQ3KrPTXDrnAl0X8Lg=s64",
      "userId": "06936679020888677524"
     },
     "user_tz": 180
    },
    "id": "iO5ED7xGfDl7",
    "outputId": "50c1305b-ad23-4c1d-97a2-6dd752e6393f"
   },
   "outputs": [
    {
     "name": "stdout",
     "output_type": "stream",
     "text": [
      "O numero utilizado na string é:20\n"
     ]
    }
   ],
   "source": [
    "print('{}{}'.format(strin,b))"
   ]
  },
  {
   "cell_type": "markdown",
   "metadata": {
    "id": "TSOpamSvRUX6"
   },
   "source": [
    "<b> A melhor forma é a que você tem mais facilidade </b>"
   ]
  },
  {
   "cell_type": "markdown",
   "metadata": {
    "id": "E3zANvCvfDmB"
   },
   "source": [
    "Na segunda forma apresentada, cada chave representa uma das variáveis que colocamos dentro da função <b>format()</b>"
   ]
  },
  {
   "cell_type": "markdown",
   "metadata": {
    "id": "IUKBxe-xfDmD"
   },
   "source": [
    "Podemos utilizar as chaves para ordenar as variaveis na mensagem"
   ]
  },
  {
   "cell_type": "code",
   "execution_count": 17,
   "metadata": {
    "colab": {
     "base_uri": "https://localhost:8080/"
    },
    "executionInfo": {
     "elapsed": 2491,
     "status": "ok",
     "timestamp": 1606930675259,
     "user": {
      "displayName": "Pedro Calixto",
      "photoUrl": "https://lh3.googleusercontent.com/a-/AOh14Gg0lRxjwA8brpeHxk7aHwRimkQ3KrPTXDrnAl0X8Lg=s64",
      "userId": "06936679020888677524"
     },
     "user_tz": 180
    },
    "id": "QyH0MNOwfDmD",
    "outputId": "80bb08b1-553f-4b6e-da7b-a68d811e7511"
   },
   "outputs": [
    {
     "name": "stdout",
     "output_type": "stream",
     "text": [
      "O numero utilizado na string é: 20\n"
     ]
    }
   ],
   "source": [
    "print('{0} {1}'.format(strin,b))"
   ]
  },
  {
   "cell_type": "code",
   "execution_count": 18,
   "metadata": {
    "colab": {
     "base_uri": "https://localhost:8080/"
    },
    "executionInfo": {
     "elapsed": 2261,
     "status": "ok",
     "timestamp": 1606930685451,
     "user": {
      "displayName": "Pedro Calixto",
      "photoUrl": "https://lh3.googleusercontent.com/a-/AOh14Gg0lRxjwA8brpeHxk7aHwRimkQ3KrPTXDrnAl0X8Lg=s64",
      "userId": "06936679020888677524"
     },
     "user_tz": 180
    },
    "id": "UCogJ10hfDmI",
    "outputId": "32aa974f-af02-4ebc-b3e8-400db7bb5a78"
   },
   "outputs": [
    {
     "name": "stdout",
     "output_type": "stream",
     "text": [
      "20 O numero utilizado na string é:\n"
     ]
    }
   ],
   "source": [
    "print('{1} {0}'.format(strin,b))"
   ]
  },
  {
   "cell_type": "markdown",
   "metadata": {
    "id": "N7bxrqvYfDmP"
   },
   "source": [
    "Quais funções conhecemos até agora? Type, Print, Format"
   ]
  },
  {
   "cell_type": "markdown",
   "metadata": {
    "id": "_dxHVEkYfDmP"
   },
   "source": [
    "## 1.4 Função input()\n",
    "\n",
    "<a id='section_id5'></a>\n"
   ]
  },
  {
   "cell_type": "markdown",
   "metadata": {
    "id": "QlmZWisxfDmR"
   },
   "source": [
    "Voce pode utilizar a função input() para receber dados ou valores que o usuario fornece <b>durante a execução do programa</b> utilizando o teclado"
   ]
  },
  {
   "cell_type": "code",
   "execution_count": 19,
   "metadata": {
    "colab": {
     "base_uri": "https://localhost:8080/"
    },
    "executionInfo": {
     "elapsed": 13621,
     "status": "ok",
     "timestamp": 1606930753091,
     "user": {
      "displayName": "Pedro Calixto",
      "photoUrl": "https://lh3.googleusercontent.com/a-/AOh14Gg0lRxjwA8brpeHxk7aHwRimkQ3KrPTXDrnAl0X8Lg=s64",
      "userId": "06936679020888677524"
     },
     "user_tz": 180
    },
    "id": "RNEf72USfDmR",
    "outputId": "d018e954-96f2-40c2-fee5-0d0a7c55e4fe"
   },
   "outputs": [
    {
     "name": "stdout",
     "output_type": "stream",
     "text": [
      "10\n"
     ]
    }
   ],
   "source": [
    "variavel = input()"
   ]
  },
  {
   "cell_type": "code",
   "execution_count": 20,
   "metadata": {
    "colab": {
     "base_uri": "https://localhost:8080/"
    },
    "executionInfo": {
     "elapsed": 1511,
     "status": "ok",
     "timestamp": 1606930763415,
     "user": {
      "displayName": "Pedro Calixto",
      "photoUrl": "https://lh3.googleusercontent.com/a-/AOh14Gg0lRxjwA8brpeHxk7aHwRimkQ3KrPTXDrnAl0X8Lg=s64",
      "userId": "06936679020888677524"
     },
     "user_tz": 180
    },
    "id": "4x0adyJYfDmX",
    "outputId": "90594e23-d1fb-4a5a-87e5-cf14b752df1c"
   },
   "outputs": [
    {
     "name": "stdout",
     "output_type": "stream",
     "text": [
      "10\n"
     ]
    }
   ],
   "source": [
    "print(variavel)"
   ]
  },
  {
   "cell_type": "markdown",
   "metadata": {
    "id": "MFOd3DDKfDme"
   },
   "source": [
    "Dessa forma, o interpretador fica aguardando o \"input\" do usuario. Para os mais desavisados, pode parecer que o programa simplesmente parou ou travou. Para evitar isso é comum imprimir mensagens antes da atribuição de variavel pelo método input()"
   ]
  },
  {
   "cell_type": "code",
   "execution_count": 21,
   "metadata": {
    "colab": {
     "base_uri": "https://localhost:8080/"
    },
    "executionInfo": {
     "elapsed": 32135,
     "status": "ok",
     "timestamp": 1606930835569,
     "user": {
      "displayName": "Pedro Calixto",
      "photoUrl": "https://lh3.googleusercontent.com/a-/AOh14Gg0lRxjwA8brpeHxk7aHwRimkQ3KrPTXDrnAl0X8Lg=s64",
      "userId": "06936679020888677524"
     },
     "user_tz": 180
    },
    "id": "c9ZerPxFfDme",
    "outputId": "1a6fd140-9593-4e98-cd08-77f216200e9d"
   },
   "outputs": [
    {
     "name": "stdout",
     "output_type": "stream",
     "text": [
      "Digite um numero a ser atribuido a variavel\n",
      "10\n",
      "Numero digitado foi atribuido à variavel\n",
      "=======================================\n"
     ]
    }
   ],
   "source": [
    "print('Digite um numero a ser atribuido a variavel')\n",
    "variavel = input()\n",
    "print('Numero digitado foi atribuido à variavel')\n",
    "print('=======================================')"
   ]
  },
  {
   "cell_type": "markdown",
   "metadata": {
    "id": "lvIYMQ-7fDmj"
   },
   "source": [
    "Podemos usar o \"format\" para melhorar a informação para o usuario"
   ]
  },
  {
   "cell_type": "code",
   "execution_count": 22,
   "metadata": {
    "colab": {
     "base_uri": "https://localhost:8080/"
    },
    "executionInfo": {
     "elapsed": 5190,
     "status": "ok",
     "timestamp": 1606930869462,
     "user": {
      "displayName": "Pedro Calixto",
      "photoUrl": "https://lh3.googleusercontent.com/a-/AOh14Gg0lRxjwA8brpeHxk7aHwRimkQ3KrPTXDrnAl0X8Lg=s64",
      "userId": "06936679020888677524"
     },
     "user_tz": 180
    },
    "id": "lyVZz4qSfDmj",
    "outputId": "a6a16fe2-36bc-4df3-d2b4-2dfa11351968"
   },
   "outputs": [
    {
     "name": "stdout",
     "output_type": "stream",
     "text": [
      "Digite um numero a ser atribuido a variavel\n",
      "10\n",
      "A variavel atribuida a partir da funcao input é 10\n",
      "Numero digitado foi atribuido à variavel\n",
      "================FIM===================\n"
     ]
    }
   ],
   "source": [
    "print('Digite um numero a ser atribuido a variavel')\n",
    "variavel = input()\n",
    "print('A variavel atribuida a partir da funcao input é {}'.format(variavel))\n",
    "print('Numero digitado foi atribuido à variavel')\n",
    "print('================FIM===================')"
   ]
  },
  {
   "cell_type": "code",
   "execution_count": 23,
   "metadata": {
    "id": "1HfYlK26fDmp"
   },
   "outputs": [],
   "source": [
    "# Note que a variavel pode ser substituida a qualquer momento\n",
    "# Cuidado para nao atribuir valores a variaveis com nomes iguais\n",
    "# Voce vai sobreescrever a variavel e vai perder a inicial"
   ]
  },
  {
   "cell_type": "markdown",
   "metadata": {
    "id": "U3KyDIeHfDmt"
   },
   "source": [
    "A \"hashtag\" ou \"jogo da velha\" serve para indicar uma linha que não deve ser executado no bloco de codigo."
   ]
  },
  {
   "cell_type": "code",
   "execution_count": 24,
   "metadata": {
    "colab": {
     "base_uri": "https://localhost:8080/"
    },
    "executionInfo": {
     "elapsed": 6966,
     "status": "ok",
     "timestamp": 1606930943885,
     "user": {
      "displayName": "Pedro Calixto",
      "photoUrl": "https://lh3.googleusercontent.com/a-/AOh14Gg0lRxjwA8brpeHxk7aHwRimkQ3KrPTXDrnAl0X8Lg=s64",
      "userId": "06936679020888677524"
     },
     "user_tz": 180
    },
    "id": "lAfgbGFxfDmv",
    "outputId": "20fabaa2-f29e-49b7-8f0b-d2c111cb9d2b"
   },
   "outputs": [
    {
     "name": "stdout",
     "output_type": "stream",
     "text": [
      "Digite um numero a ser atribuido a variavel\n",
      "10\n",
      "A variavel atribuida a partir da funcao input é 10\n",
      "Numero digitado foi atribuido à variavel\n"
     ]
    }
   ],
   "source": [
    "print('Digite um numero a ser atribuido a variavel')\n",
    "variavel = input()\n",
    "print(u'A variavel atribuida a partir da funcao input é {}'.format(variavel))\n",
    "print('Numero digitado foi atribuido à variavel')\n",
    "#print('================FIM===================')"
   ]
  },
  {
   "cell_type": "markdown",
   "metadata": {
    "id": "l8RiJNNPfDmy"
   },
   "source": [
    "Dessa forma toda a linha será ignorada no fluxo do programa."
   ]
  },
  {
   "cell_type": "markdown",
   "metadata": {
    "id": "9Au5q3x-fDm0"
   },
   "source": [
    "## 1.5 Operações Aritmeticas Básicas \n",
    "\n",
    "<a id='section_id6'></a>\n"
   ]
  },
  {
   "cell_type": "markdown",
   "metadata": {
    "id": "krqq2_MsfDm0"
   },
   "source": [
    "O python pode ser utilizado com uma calculadora matemática avançada. Praticamente, todos os operadores aritméticos funcionam da mesma forma como os conhecemos da matemática elementar."
   ]
  },
  {
   "cell_type": "markdown",
   "metadata": {
    "id": "PGUWlKEQfDm1"
   },
   "source": [
    "Para realizar essas pequenas operações aritiméticas, utilizamos os seguinte operadores:"
   ]
  },
  {
   "cell_type": "markdown",
   "metadata": {
    "id": "lM8WcH2mfDm2"
   },
   "source": [
    "<img src=\"https://1.bp.blogspot.com/-N4BTD_uvqPg/XJh7TKNaH3I/AAAAAAAACI4/X73EKI50S-QGxynBSiT5i3kWjJS0vbCIgCLcBGAs/s1600/Arithmetic%2Boperators.png\" width=500px height=500px/>"
   ]
  },
  {
   "cell_type": "markdown",
   "metadata": {
    "id": "cO7taX4wfDm3"
   },
   "source": [
    "<b>As operações matematicas são realizadas da seguinte forma:</b>"
   ]
  },
  {
   "cell_type": "code",
   "execution_count": 25,
   "metadata": {
    "id": "I8XjlDePfDm4"
   },
   "outputs": [],
   "source": [
    "a = 3;\n",
    "b = 2;\n",
    "c = a+b # adicao\n",
    "d = a-b # subtracao\n",
    "e = a*b # multiplicacao\n",
    "f = a/b # divisao\n",
    "g = a**b # potenciacao\n"
   ]
  },
  {
   "cell_type": "markdown",
   "metadata": {
    "id": "AwZZ8k3tfDm8"
   },
   "source": [
    "Essas funções que utilizamos são todas internas do Python. Não importamos nenhum modulo ou pacote com funções. \n",
    "\n",
    "Para aliviar a ansiedade vamos abordar um pequeno exemplo da utilização de uma função de um dos modulos mais importantes para a computação científica: Numpy.\n",
    "\n"
   ]
  },
  {
   "cell_type": "markdown",
   "metadata": {
    "id": "021xeaNDfDm9"
   },
   "source": [
    "Para importar as funções de um modulo, utilizamos a função <b> import </b>"
   ]
  },
  {
   "cell_type": "code",
   "execution_count": 26,
   "metadata": {
    "executionInfo": {
     "elapsed": 1792,
     "status": "ok",
     "timestamp": 1617647101432,
     "user": {
      "displayName": "Pedro Calixto",
      "photoUrl": "https://lh3.googleusercontent.com/a-/AOh14Gg0lRxjwA8brpeHxk7aHwRimkQ3KrPTXDrnAl0X8Lg=s64",
      "userId": "06936679020888677524"
     },
     "user_tz": 180
    },
    "id": "XXSAwz5WfDm9"
   },
   "outputs": [],
   "source": [
    "import numpy"
   ]
  },
  {
   "cell_type": "markdown",
   "metadata": {
    "id": "KJrqYRDBfDnB"
   },
   "source": [
    "Para distinguir bem quais as funções intrínsecas a cada modulo, convêm \"apelidar\" os modulos da seguinte forma."
   ]
  },
  {
   "cell_type": "code",
   "execution_count": 27,
   "metadata": {
    "executionInfo": {
     "elapsed": 1525,
     "status": "ok",
     "timestamp": 1617647146934,
     "user": {
      "displayName": "Pedro Calixto",
      "photoUrl": "https://lh3.googleusercontent.com/a-/AOh14Gg0lRxjwA8brpeHxk7aHwRimkQ3KrPTXDrnAl0X8Lg=s64",
      "userId": "06936679020888677524"
     },
     "user_tz": 180
    },
    "id": "vFp87NtbfDnD"
   },
   "outputs": [],
   "source": [
    "import numpy as np"
   ]
  },
  {
   "cell_type": "code",
   "execution_count": 28,
   "metadata": {
    "executionInfo": {
     "elapsed": 1379,
     "status": "ok",
     "timestamp": 1617647152252,
     "user": {
      "displayName": "Pedro Calixto",
      "photoUrl": "https://lh3.googleusercontent.com/a-/AOh14Gg0lRxjwA8brpeHxk7aHwRimkQ3KrPTXDrnAl0X8Lg=s64",
      "userId": "06936679020888677524"
     },
     "user_tz": 180
    },
    "id": "pGLPa258kDDp"
   },
   "outputs": [],
   "source": [
    "np.sum?"
   ]
  },
  {
   "cell_type": "markdown",
   "metadata": {
    "id": "DKqEvOyQfDnY"
   },
   "source": [
    "Dessa forma todas as funções pertencentes ao modulo numpy, devem ser chamadas utilizando o prefixo <b> np. </b>\n",
    "\n",
    "exemplo: np.funçãoX"
   ]
  },
  {
   "cell_type": "markdown",
   "metadata": {
    "id": "VtS_0g3OfDnZ"
   },
   "source": [
    "Existem algumas tarefas que podemos executar utilizando somente as funções próprias do python, porém, a utilização de módulos variados nós permite realizar as tarefas de forma mais dinâmica."
   ]
  },
  {
   "cell_type": "code",
   "execution_count": 29,
   "metadata": {
    "colab": {
     "base_uri": "https://localhost:8080/"
    },
    "executionInfo": {
     "elapsed": 793,
     "status": "ok",
     "timestamp": 1617647203418,
     "user": {
      "displayName": "Pedro Calixto",
      "photoUrl": "https://lh3.googleusercontent.com/a-/AOh14Gg0lRxjwA8brpeHxk7aHwRimkQ3KrPTXDrnAl0X8Lg=s64",
      "userId": "06936679020888677524"
     },
     "user_tz": 180
    },
    "id": "t90sZ9jxfDna",
    "outputId": "86452fe5-14ae-4126-925f-09107f7da93e"
   },
   "outputs": [
    {
     "data": {
      "text/plain": [
       "4.0"
      ]
     },
     "execution_count": 29,
     "metadata": {},
     "output_type": "execute_result"
    }
   ],
   "source": [
    "np.sqrt(16)"
   ]
  },
  {
   "cell_type": "markdown",
   "metadata": {
    "id": "FwV7YauBfDnd"
   },
   "source": [
    "Como posso conferir quais funções existem no modulo e suas respectivas aplicações?"
   ]
  },
  {
   "cell_type": "markdown",
   "metadata": {
    "id": "8hpj5lM1fDne"
   },
   "source": [
    "<b> Função help </b>"
   ]
  },
  {
   "cell_type": "code",
   "execution_count": 30,
   "metadata": {
    "id": "datgcyWmfDnf"
   },
   "outputs": [
    {
     "name": "stdout",
     "output_type": "stream",
     "text": [
      "Help on ufunc object:\n",
      "\n",
      "sqrt = class ufunc(builtins.object)\n",
      " |  Functions that operate element by element on whole arrays.\n",
      " |  \n",
      " |  To see the documentation for a specific ufunc, use `info`.  For\n",
      " |  example, ``np.info(np.sin)``.  Because ufuncs are written in C\n",
      " |  (for speed) and linked into Python with NumPy's ufunc facility,\n",
      " |  Python's help() function finds this page whenever help() is called\n",
      " |  on a ufunc.\n",
      " |  \n",
      " |  A detailed explanation of ufuncs can be found in the docs for :ref:`ufuncs`.\n",
      " |  \n",
      " |  Calling ufuncs:\n",
      " |  ===============\n",
      " |  \n",
      " |  op(*x[, out], where=True, **kwargs)\n",
      " |  Apply `op` to the arguments `*x` elementwise, broadcasting the arguments.\n",
      " |  \n",
      " |  The broadcasting rules are:\n",
      " |  \n",
      " |  * Dimensions of length 1 may be prepended to either array.\n",
      " |  * Arrays may be repeated along dimensions of length 1.\n",
      " |  \n",
      " |  Parameters\n",
      " |  ----------\n",
      " |  *x : array_like\n",
      " |      Input arrays.\n",
      " |  out : ndarray, None, or tuple of ndarray and None, optional\n",
      " |      Alternate array object(s) in which to put the result; if provided, it\n",
      " |      must have a shape that the inputs broadcast to. A tuple of arrays\n",
      " |      (possible only as a keyword argument) must have length equal to the\n",
      " |      number of outputs; use None for uninitialized outputs to be\n",
      " |      allocated by the ufunc.\n",
      " |  where : array_like, optional\n",
      " |      This condition is broadcast over the input. At locations where the\n",
      " |      condition is True, the `out` array will be set to the ufunc result.\n",
      " |      Elsewhere, the `out` array will retain its original value.\n",
      " |      Note that if an uninitialized `out` array is created via the default\n",
      " |      ``out=None``, locations within it where the condition is False will\n",
      " |      remain uninitialized.\n",
      " |  **kwargs\n",
      " |      For other keyword-only arguments, see the :ref:`ufunc docs <ufuncs.kwargs>`.\n",
      " |  \n",
      " |  Returns\n",
      " |  -------\n",
      " |  r : ndarray or tuple of ndarray\n",
      " |      `r` will have the shape that the arrays in `x` broadcast to; if `out` is\n",
      " |      provided, it will be returned. If not, `r` will be allocated and\n",
      " |      may contain uninitialized values. If the function has more than one\n",
      " |      output, then the result will be a tuple of arrays.\n",
      " |  \n",
      " |  Methods defined here:\n",
      " |  \n",
      " |  __call__(self, /, *args, **kwargs)\n",
      " |      Call self as a function.\n",
      " |  \n",
      " |  __repr__(self, /)\n",
      " |      Return repr(self).\n",
      " |  \n",
      " |  __str__(self, /)\n",
      " |      Return str(self).\n",
      " |  \n",
      " |  accumulate(...)\n",
      " |      accumulate(array, axis=0, dtype=None, out=None)\n",
      " |      \n",
      " |      Accumulate the result of applying the operator to all elements.\n",
      " |      \n",
      " |      For a one-dimensional array, accumulate produces results equivalent to::\n",
      " |      \n",
      " |        r = np.empty(len(A))\n",
      " |        t = op.identity        # op = the ufunc being applied to A's  elements\n",
      " |        for i in range(len(A)):\n",
      " |            t = op(t, A[i])\n",
      " |            r[i] = t\n",
      " |        return r\n",
      " |      \n",
      " |      For example, add.accumulate() is equivalent to np.cumsum().\n",
      " |      \n",
      " |      For a multi-dimensional array, accumulate is applied along only one\n",
      " |      axis (axis zero by default; see Examples below) so repeated use is\n",
      " |      necessary if one wants to accumulate over multiple axes.\n",
      " |      \n",
      " |      Parameters\n",
      " |      ----------\n",
      " |      array : array_like\n",
      " |          The array to act on.\n",
      " |      axis : int, optional\n",
      " |          The axis along which to apply the accumulation; default is zero.\n",
      " |      dtype : data-type code, optional\n",
      " |          The data-type used to represent the intermediate results. Defaults\n",
      " |          to the data-type of the output array if such is provided, or the\n",
      " |          the data-type of the input array if no output array is provided.\n",
      " |      out : ndarray, None, or tuple of ndarray and None, optional\n",
      " |          A location into which the result is stored. If not provided or None,\n",
      " |          a freshly-allocated array is returned. For consistency with\n",
      " |          ``ufunc.__call__``, if given as a keyword, this may be wrapped in a\n",
      " |          1-element tuple.\n",
      " |      \n",
      " |          .. versionchanged:: 1.13.0\n",
      " |             Tuples are allowed for keyword argument.\n",
      " |      \n",
      " |      Returns\n",
      " |      -------\n",
      " |      r : ndarray\n",
      " |          The accumulated values. If `out` was supplied, `r` is a reference to\n",
      " |          `out`.\n",
      " |      \n",
      " |      Examples\n",
      " |      --------\n",
      " |      1-D array examples:\n",
      " |      \n",
      " |      >>> np.add.accumulate([2, 3, 5])\n",
      " |      array([ 2,  5, 10])\n",
      " |      >>> np.multiply.accumulate([2, 3, 5])\n",
      " |      array([ 2,  6, 30])\n",
      " |      \n",
      " |      2-D array examples:\n",
      " |      \n",
      " |      >>> I = np.eye(2)\n",
      " |      >>> I\n",
      " |      array([[1.,  0.],\n",
      " |             [0.,  1.]])\n",
      " |      \n",
      " |      Accumulate along axis 0 (rows), down columns:\n",
      " |      \n",
      " |      >>> np.add.accumulate(I, 0)\n",
      " |      array([[1.,  0.],\n",
      " |             [1.,  1.]])\n",
      " |      >>> np.add.accumulate(I) # no axis specified = axis zero\n",
      " |      array([[1.,  0.],\n",
      " |             [1.,  1.]])\n",
      " |      \n",
      " |      Accumulate along axis 1 (columns), through rows:\n",
      " |      \n",
      " |      >>> np.add.accumulate(I, 1)\n",
      " |      array([[1.,  1.],\n",
      " |             [0.,  1.]])\n",
      " |  \n",
      " |  at(...)\n",
      " |      at(a, indices, b=None)\n",
      " |      \n",
      " |      Performs unbuffered in place operation on operand 'a' for elements\n",
      " |      specified by 'indices'. For addition ufunc, this method is equivalent to\n",
      " |      ``a[indices] += b``, except that results are accumulated for elements that\n",
      " |      are indexed more than once. For example, ``a[[0,0]] += 1`` will only\n",
      " |      increment the first element once because of buffering, whereas\n",
      " |      ``add.at(a, [0,0], 1)`` will increment the first element twice.\n",
      " |      \n",
      " |      .. versionadded:: 1.8.0\n",
      " |      \n",
      " |      Parameters\n",
      " |      ----------\n",
      " |      a : array_like\n",
      " |          The array to perform in place operation on.\n",
      " |      indices : array_like or tuple\n",
      " |          Array like index object or slice object for indexing into first\n",
      " |          operand. If first operand has multiple dimensions, indices can be a\n",
      " |          tuple of array like index objects or slice objects.\n",
      " |      b : array_like\n",
      " |          Second operand for ufuncs requiring two operands. Operand must be\n",
      " |          broadcastable over first operand after indexing or slicing.\n",
      " |      \n",
      " |      Examples\n",
      " |      --------\n",
      " |      Set items 0 and 1 to their negative values:\n",
      " |      \n",
      " |      >>> a = np.array([1, 2, 3, 4])\n",
      " |      >>> np.negative.at(a, [0, 1])\n",
      " |      >>> a\n",
      " |      array([-1, -2,  3,  4])\n",
      " |      \n",
      " |      Increment items 0 and 1, and increment item 2 twice:\n",
      " |      \n",
      " |      >>> a = np.array([1, 2, 3, 4])\n",
      " |      >>> np.add.at(a, [0, 1, 2, 2], 1)\n",
      " |      >>> a\n",
      " |      array([2, 3, 5, 4])\n",
      " |      \n",
      " |      Add items 0 and 1 in first array to second array,\n",
      " |      and store results in first array:\n",
      " |      \n",
      " |      >>> a = np.array([1, 2, 3, 4])\n",
      " |      >>> b = np.array([1, 2])\n",
      " |      >>> np.add.at(a, [0, 1], b)\n",
      " |      >>> a\n",
      " |      array([2, 4, 3, 4])\n",
      " |  \n",
      " |  outer(...)\n",
      " |      outer(A, B, **kwargs)\n",
      " |      \n",
      " |      Apply the ufunc `op` to all pairs (a, b) with a in `A` and b in `B`.\n",
      " |      \n",
      " |      Let ``M = A.ndim``, ``N = B.ndim``. Then the result, `C`, of\n",
      " |      ``op.outer(A, B)`` is an array of dimension M + N such that:\n",
      " |      \n",
      " |      .. math:: C[i_0, ..., i_{M-1}, j_0, ..., j_{N-1}] =\n",
      " |         op(A[i_0, ..., i_{M-1}], B[j_0, ..., j_{N-1}])\n",
      " |      \n",
      " |      For `A` and `B` one-dimensional, this is equivalent to::\n",
      " |      \n",
      " |        r = empty(len(A),len(B))\n",
      " |        for i in range(len(A)):\n",
      " |            for j in range(len(B)):\n",
      " |                r[i,j] = op(A[i], B[j]) # op = ufunc in question\n",
      " |      \n",
      " |      Parameters\n",
      " |      ----------\n",
      " |      A : array_like\n",
      " |          First array\n",
      " |      B : array_like\n",
      " |          Second array\n",
      " |      kwargs : any\n",
      " |          Arguments to pass on to the ufunc. Typically `dtype` or `out`.\n",
      " |      \n",
      " |      Returns\n",
      " |      -------\n",
      " |      r : ndarray\n",
      " |          Output array\n",
      " |      \n",
      " |      See Also\n",
      " |      --------\n",
      " |      numpy.outer\n",
      " |      \n",
      " |      Examples\n",
      " |      --------\n",
      " |      >>> np.multiply.outer([1, 2, 3], [4, 5, 6])\n",
      " |      array([[ 4,  5,  6],\n",
      " |             [ 8, 10, 12],\n",
      " |             [12, 15, 18]])\n",
      " |      \n",
      " |      A multi-dimensional example:\n",
      " |      \n",
      " |      >>> A = np.array([[1, 2, 3], [4, 5, 6]])\n",
      " |      >>> A.shape\n",
      " |      (2, 3)\n",
      " |      >>> B = np.array([[1, 2, 3, 4]])\n",
      " |      >>> B.shape\n",
      " |      (1, 4)\n",
      " |      >>> C = np.multiply.outer(A, B)\n",
      " |      >>> C.shape; C\n",
      " |      (2, 3, 1, 4)\n",
      " |      array([[[[ 1,  2,  3,  4]],\n",
      " |              [[ 2,  4,  6,  8]],\n",
      " |              [[ 3,  6,  9, 12]]],\n",
      " |             [[[ 4,  8, 12, 16]],\n",
      " |              [[ 5, 10, 15, 20]],\n",
      " |              [[ 6, 12, 18, 24]]]])\n",
      " |  \n",
      " |  reduce(...)\n",
      " |      reduce(a, axis=0, dtype=None, out=None, keepdims=False, initial=<no value>, where=True)\n",
      " |      \n",
      " |      Reduces `a`'s dimension by one, by applying ufunc along one axis.\n",
      " |      \n",
      " |      Let :math:`a.shape = (N_0, ..., N_i, ..., N_{M-1})`.  Then\n",
      " |      :math:`ufunc.reduce(a, axis=i)[k_0, ..,k_{i-1}, k_{i+1}, .., k_{M-1}]` =\n",
      " |      the result of iterating `j` over :math:`range(N_i)`, cumulatively applying\n",
      " |      ufunc to each :math:`a[k_0, ..,k_{i-1}, j, k_{i+1}, .., k_{M-1}]`.\n",
      " |      For a one-dimensional array, reduce produces results equivalent to:\n",
      " |      ::\n",
      " |      \n",
      " |       r = op.identity # op = ufunc\n",
      " |       for i in range(len(A)):\n",
      " |         r = op(r, A[i])\n",
      " |       return r\n",
      " |      \n",
      " |      For example, add.reduce() is equivalent to sum().\n",
      " |      \n",
      " |      Parameters\n",
      " |      ----------\n",
      " |      a : array_like\n",
      " |          The array to act on.\n",
      " |      axis : None or int or tuple of ints, optional\n",
      " |          Axis or axes along which a reduction is performed.\n",
      " |          The default (`axis` = 0) is perform a reduction over the first\n",
      " |          dimension of the input array. `axis` may be negative, in\n",
      " |          which case it counts from the last to the first axis.\n",
      " |      \n",
      " |          .. versionadded:: 1.7.0\n",
      " |      \n",
      " |          If this is None, a reduction is performed over all the axes.\n",
      " |          If this is a tuple of ints, a reduction is performed on multiple\n",
      " |          axes, instead of a single axis or all the axes as before.\n",
      " |      \n",
      " |          For operations which are either not commutative or not associative,\n",
      " |          doing a reduction over multiple axes is not well-defined. The\n",
      " |          ufuncs do not currently raise an exception in this case, but will\n",
      " |          likely do so in the future.\n",
      " |      dtype : data-type code, optional\n",
      " |          The type used to represent the intermediate results. Defaults\n",
      " |          to the data-type of the output array if this is provided, or\n",
      " |          the data-type of the input array if no output array is provided.\n",
      " |      out : ndarray, None, or tuple of ndarray and None, optional\n",
      " |          A location into which the result is stored. If not provided or None,\n",
      " |          a freshly-allocated array is returned. For consistency with\n",
      " |          ``ufunc.__call__``, if given as a keyword, this may be wrapped in a\n",
      " |          1-element tuple.\n",
      " |      \n",
      " |          .. versionchanged:: 1.13.0\n",
      " |             Tuples are allowed for keyword argument.\n",
      " |      keepdims : bool, optional\n",
      " |          If this is set to True, the axes which are reduced are left\n",
      " |          in the result as dimensions with size one. With this option,\n",
      " |          the result will broadcast correctly against the original `arr`.\n",
      " |      \n",
      " |          .. versionadded:: 1.7.0\n",
      " |      initial : scalar, optional\n",
      " |          The value with which to start the reduction.\n",
      " |          If the ufunc has no identity or the dtype is object, this defaults\n",
      " |          to None - otherwise it defaults to ufunc.identity.\n",
      " |          If ``None`` is given, the first element of the reduction is used,\n",
      " |          and an error is thrown if the reduction is empty.\n",
      " |      \n",
      " |          .. versionadded:: 1.15.0\n",
      " |      \n",
      " |      where : array_like of bool, optional\n",
      " |          A boolean array which is broadcasted to match the dimensions\n",
      " |          of `a`, and selects elements to include in the reduction. Note\n",
      " |          that for ufuncs like ``minimum`` that do not have an identity\n",
      " |          defined, one has to pass in also ``initial``.\n",
      " |      \n",
      " |          .. versionadded:: 1.17.0\n",
      " |      \n",
      " |      Returns\n",
      " |      -------\n",
      " |      r : ndarray\n",
      " |          The reduced array. If `out` was supplied, `r` is a reference to it.\n",
      " |      \n",
      " |      Examples\n",
      " |      --------\n",
      " |      >>> np.multiply.reduce([2,3,5])\n",
      " |      30\n",
      " |      \n",
      " |      A multi-dimensional array example:\n",
      " |      \n",
      " |      >>> X = np.arange(8).reshape((2,2,2))\n",
      " |      >>> X\n",
      " |      array([[[0, 1],\n",
      " |              [2, 3]],\n",
      " |             [[4, 5],\n",
      " |              [6, 7]]])\n",
      " |      >>> np.add.reduce(X, 0)\n",
      " |      array([[ 4,  6],\n",
      " |             [ 8, 10]])\n",
      " |      >>> np.add.reduce(X) # confirm: default axis value is 0\n",
      " |      array([[ 4,  6],\n",
      " |             [ 8, 10]])\n",
      " |      >>> np.add.reduce(X, 1)\n",
      " |      array([[ 2,  4],\n",
      " |             [10, 12]])\n",
      " |      >>> np.add.reduce(X, 2)\n",
      " |      array([[ 1,  5],\n",
      " |             [ 9, 13]])\n",
      " |      \n",
      " |      You can use the ``initial`` keyword argument to initialize the reduction\n",
      " |      with a different value, and ``where`` to select specific elements to include:\n",
      " |      \n",
      " |      >>> np.add.reduce([10], initial=5)\n",
      " |      15\n",
      " |      >>> np.add.reduce(np.ones((2, 2, 2)), axis=(0, 2), initial=10)\n",
      " |      array([14., 14.])\n",
      " |      >>> a = np.array([10., np.nan, 10])\n",
      " |      >>> np.add.reduce(a, where=~np.isnan(a))\n",
      " |      20.0\n",
      " |      \n",
      " |      Allows reductions of empty arrays where they would normally fail, i.e.\n",
      " |      for ufuncs without an identity.\n",
      " |      \n",
      " |      >>> np.minimum.reduce([], initial=np.inf)\n",
      " |      inf\n",
      " |      >>> np.minimum.reduce([[1., 2.], [3., 4.]], initial=10., where=[True, False])\n",
      " |      array([ 1., 10.])\n",
      " |      >>> np.minimum.reduce([])\n",
      " |      Traceback (most recent call last):\n",
      " |          ...\n",
      " |      ValueError: zero-size array to reduction operation minimum which has no identity\n",
      " |  \n",
      " |  reduceat(...)\n",
      " |      reduceat(a, indices, axis=0, dtype=None, out=None)\n",
      " |      \n",
      " |      Performs a (local) reduce with specified slices over a single axis.\n",
      " |      \n",
      " |      For i in ``range(len(indices))``, `reduceat` computes\n",
      " |      ``ufunc.reduce(a[indices[i]:indices[i+1]])``, which becomes the i-th\n",
      " |      generalized \"row\" parallel to `axis` in the final result (i.e., in a\n",
      " |      2-D array, for example, if `axis = 0`, it becomes the i-th row, but if\n",
      " |      `axis = 1`, it becomes the i-th column).  There are three exceptions to this:\n",
      " |      \n",
      " |      * when ``i = len(indices) - 1`` (so for the last index),\n",
      " |        ``indices[i+1] = a.shape[axis]``.\n",
      " |      * if ``indices[i] >= indices[i + 1]``, the i-th generalized \"row\" is\n",
      " |        simply ``a[indices[i]]``.\n",
      " |      * if ``indices[i] >= len(a)`` or ``indices[i] < 0``, an error is raised.\n",
      " |      \n",
      " |      The shape of the output depends on the size of `indices`, and may be\n",
      " |      larger than `a` (this happens if ``len(indices) > a.shape[axis]``).\n",
      " |      \n",
      " |      Parameters\n",
      " |      ----------\n",
      " |      a : array_like\n",
      " |          The array to act on.\n",
      " |      indices : array_like\n",
      " |          Paired indices, comma separated (not colon), specifying slices to\n",
      " |          reduce.\n",
      " |      axis : int, optional\n",
      " |          The axis along which to apply the reduceat.\n",
      " |      dtype : data-type code, optional\n",
      " |          The type used to represent the intermediate results. Defaults\n",
      " |          to the data type of the output array if this is provided, or\n",
      " |          the data type of the input array if no output array is provided.\n",
      " |      out : ndarray, None, or tuple of ndarray and None, optional\n",
      " |          A location into which the result is stored. If not provided or None,\n",
      " |          a freshly-allocated array is returned. For consistency with\n",
      " |          ``ufunc.__call__``, if given as a keyword, this may be wrapped in a\n",
      " |          1-element tuple.\n",
      " |      \n",
      " |          .. versionchanged:: 1.13.0\n",
      " |             Tuples are allowed for keyword argument.\n",
      " |      \n",
      " |      Returns\n",
      " |      -------\n",
      " |      r : ndarray\n",
      " |          The reduced values. If `out` was supplied, `r` is a reference to\n",
      " |          `out`.\n",
      " |      \n",
      " |      Notes\n",
      " |      -----\n",
      " |      A descriptive example:\n",
      " |      \n",
      " |      If `a` is 1-D, the function `ufunc.accumulate(a)` is the same as\n",
      " |      ``ufunc.reduceat(a, indices)[::2]`` where `indices` is\n",
      " |      ``range(len(array) - 1)`` with a zero placed\n",
      " |      in every other element:\n",
      " |      ``indices = zeros(2 * len(a) - 1)``, ``indices[1::2] = range(1, len(a))``.\n",
      " |      \n",
      " |      Don't be fooled by this attribute's name: `reduceat(a)` is not\n",
      " |      necessarily smaller than `a`.\n",
      " |      \n",
      " |      Examples\n",
      " |      --------\n",
      " |      To take the running sum of four successive values:\n",
      " |      \n",
      " |      >>> np.add.reduceat(np.arange(8),[0,4, 1,5, 2,6, 3,7])[::2]\n",
      " |      array([ 6, 10, 14, 18])\n",
      " |      \n",
      " |      A 2-D example:\n",
      " |      \n",
      " |      >>> x = np.linspace(0, 15, 16).reshape(4,4)\n",
      " |      >>> x\n",
      " |      array([[ 0.,   1.,   2.,   3.],\n",
      " |             [ 4.,   5.,   6.,   7.],\n",
      " |             [ 8.,   9.,  10.,  11.],\n",
      " |             [12.,  13.,  14.,  15.]])\n",
      " |      \n",
      " |      ::\n",
      " |      \n",
      " |       # reduce such that the result has the following five rows:\n",
      " |       # [row1 + row2 + row3]\n",
      " |       # [row4]\n",
      " |       # [row2]\n",
      " |       # [row3]\n",
      " |       # [row1 + row2 + row3 + row4]\n",
      " |      \n",
      " |      >>> np.add.reduceat(x, [0, 3, 1, 2, 0])\n",
      " |      array([[12.,  15.,  18.,  21.],\n",
      " |             [12.,  13.,  14.,  15.],\n",
      " |             [ 4.,   5.,   6.,   7.],\n",
      " |             [ 8.,   9.,  10.,  11.],\n",
      " |             [24.,  28.,  32.,  36.]])\n",
      " |      \n",
      " |      ::\n",
      " |      \n",
      " |       # reduce such that result has the following two columns:\n",
      " |       # [col1 * col2 * col3, col4]\n",
      " |      \n",
      " |      >>> np.multiply.reduceat(x, [0, 3], 1)\n",
      " |      array([[   0.,     3.],\n",
      " |             [ 120.,     7.],\n",
      " |             [ 720.,    11.],\n",
      " |             [2184.,    15.]])\n",
      " |  \n",
      " |  ----------------------------------------------------------------------\n",
      " |  Data descriptors defined here:\n",
      " |  \n",
      " |  identity\n",
      " |      The identity value.\n",
      " |      \n",
      " |      Data attribute containing the identity element for the ufunc, if it has one.\n",
      " |      If it does not, the attribute value is None.\n",
      " |      \n",
      " |      Examples\n",
      " |      --------\n",
      " |      >>> np.add.identity\n",
      " |      0\n",
      " |      >>> np.multiply.identity\n",
      " |      1\n",
      " |      >>> np.power.identity\n",
      " |      1\n",
      " |      >>> print(np.exp.identity)\n",
      " |      None\n",
      " |  \n",
      " |  nargs\n",
      " |      The number of arguments.\n",
      " |      \n",
      " |      Data attribute containing the number of arguments the ufunc takes, including\n",
      " |      optional ones.\n",
      " |      \n",
      " |      Notes\n",
      " |      -----\n",
      " |      Typically this value will be one more than what you might expect because all\n",
      " |      ufuncs take  the optional \"out\" argument.\n",
      " |      \n",
      " |      Examples\n",
      " |      --------\n",
      " |      >>> np.add.nargs\n",
      " |      3\n",
      " |      >>> np.multiply.nargs\n",
      " |      3\n",
      " |      >>> np.power.nargs\n",
      " |      3\n",
      " |      >>> np.exp.nargs\n",
      " |      2\n",
      " |  \n",
      " |  nin\n",
      " |      The number of inputs.\n",
      " |      \n",
      " |      Data attribute containing the number of arguments the ufunc treats as input.\n",
      " |      \n",
      " |      Examples\n",
      " |      --------\n",
      " |      >>> np.add.nin\n",
      " |      2\n",
      " |      >>> np.multiply.nin\n",
      " |      2\n",
      " |      >>> np.power.nin\n",
      " |      2\n",
      " |      >>> np.exp.nin\n",
      " |      1\n",
      " |  \n",
      " |  nout\n",
      " |      The number of outputs.\n",
      " |      \n",
      " |      Data attribute containing the number of arguments the ufunc treats as output.\n",
      " |      \n",
      " |      Notes\n",
      " |      -----\n",
      " |      Since all ufuncs can take output arguments, this will always be (at least) 1.\n",
      " |      \n",
      " |      Examples\n",
      " |      --------\n",
      " |      >>> np.add.nout\n",
      " |      1\n",
      " |      >>> np.multiply.nout\n",
      " |      1\n",
      " |      >>> np.power.nout\n",
      " |      1\n",
      " |      >>> np.exp.nout\n",
      " |      1\n",
      " |  \n",
      " |  ntypes\n",
      " |      The number of types.\n",
      " |      \n",
      " |      The number of numerical NumPy types - of which there are 18 total - on which\n",
      " |      the ufunc can operate.\n",
      " |      \n",
      " |      See Also\n",
      " |      --------\n",
      " |      numpy.ufunc.types\n",
      " |      \n",
      " |      Examples\n",
      " |      --------\n",
      " |      >>> np.add.ntypes\n",
      " |      18\n",
      " |      >>> np.multiply.ntypes\n",
      " |      18\n",
      " |      >>> np.power.ntypes\n",
      " |      17\n",
      " |      >>> np.exp.ntypes\n",
      " |      7\n",
      " |      >>> np.remainder.ntypes\n",
      " |      14\n",
      " |  \n",
      " |  signature\n",
      " |      Definition of the core elements a generalized ufunc operates on.\n",
      " |      \n",
      " |      The signature determines how the dimensions of each input/output array\n",
      " |      are split into core and loop dimensions:\n",
      " |      \n",
      " |      1. Each dimension in the signature is matched to a dimension of the\n",
      " |         corresponding passed-in array, starting from the end of the shape tuple.\n",
      " |      2. Core dimensions assigned to the same label in the signature must have\n",
      " |         exactly matching sizes, no broadcasting is performed.\n",
      " |      3. The core dimensions are removed from all inputs and the remaining\n",
      " |         dimensions are broadcast together, defining the loop dimensions.\n",
      " |      \n",
      " |      Notes\n",
      " |      -----\n",
      " |      Generalized ufuncs are used internally in many linalg functions, and in\n",
      " |      the testing suite; the examples below are taken from these.\n",
      " |      For ufuncs that operate on scalars, the signature is None, which is\n",
      " |      equivalent to '()' for every argument.\n",
      " |      \n",
      " |      Examples\n",
      " |      --------\n",
      " |      >>> np.core.umath_tests.matrix_multiply.signature\n",
      " |      '(m,n),(n,p)->(m,p)'\n",
      " |      >>> np.linalg._umath_linalg.det.signature\n",
      " |      '(m,m)->()'\n",
      " |      >>> np.add.signature is None\n",
      " |      True  # equivalent to '(),()->()'\n",
      " |  \n",
      " |  types\n",
      " |      Returns a list with types grouped input->output.\n",
      " |      \n",
      " |      Data attribute listing the data-type \"Domain-Range\" groupings the ufunc can\n",
      " |      deliver. The data-types are given using the character codes.\n",
      " |      \n",
      " |      See Also\n",
      " |      --------\n",
      " |      numpy.ufunc.ntypes\n",
      " |      \n",
      " |      Examples\n",
      " |      --------\n",
      " |      >>> np.add.types\n",
      " |      ['??->?', 'bb->b', 'BB->B', 'hh->h', 'HH->H', 'ii->i', 'II->I', 'll->l',\n",
      " |      'LL->L', 'qq->q', 'QQ->Q', 'ff->f', 'dd->d', 'gg->g', 'FF->F', 'DD->D',\n",
      " |      'GG->G', 'OO->O']\n",
      " |      \n",
      " |      >>> np.multiply.types\n",
      " |      ['??->?', 'bb->b', 'BB->B', 'hh->h', 'HH->H', 'ii->i', 'II->I', 'll->l',\n",
      " |      'LL->L', 'qq->q', 'QQ->Q', 'ff->f', 'dd->d', 'gg->g', 'FF->F', 'DD->D',\n",
      " |      'GG->G', 'OO->O']\n",
      " |      \n",
      " |      >>> np.power.types\n",
      " |      ['bb->b', 'BB->B', 'hh->h', 'HH->H', 'ii->i', 'II->I', 'll->l', 'LL->L',\n",
      " |      'qq->q', 'QQ->Q', 'ff->f', 'dd->d', 'gg->g', 'FF->F', 'DD->D', 'GG->G',\n",
      " |      'OO->O']\n",
      " |      \n",
      " |      >>> np.exp.types\n",
      " |      ['f->f', 'd->d', 'g->g', 'F->F', 'D->D', 'G->G', 'O->O']\n",
      " |      \n",
      " |      >>> np.remainder.types\n",
      " |      ['bb->b', 'BB->B', 'hh->h', 'HH->H', 'ii->i', 'II->I', 'll->l', 'LL->L',\n",
      " |      'qq->q', 'QQ->Q', 'ff->f', 'dd->d', 'gg->g', 'OO->O']\n",
      "\n"
     ]
    }
   ],
   "source": [
    "help(np.sqrt)"
   ]
  },
  {
   "cell_type": "markdown",
   "metadata": {
    "id": "q7tXzA8ifDnk"
   },
   "source": [
    "---------"
   ]
  },
  {
   "cell_type": "markdown",
   "metadata": {},
   "source": [
    "<img src=\"https://raw.githubusercontent.com/calixtops/ES/main/img/logo_OEPY.png\" style=\" width: 150px; height:60px; align:center\">"
   ]
  }
 ],
 "metadata": {
  "colab": {
   "collapsed_sections": [
    "ZKbiUzB0fDnl"
   ],
   "name": "ADADOS - Aula1 - Intro / Funcs / Math.ipynb",
   "provenance": [],
   "toc_visible": true
  },
  "kernelspec": {
   "display_name": "Python 3",
   "language": "python",
   "name": "python3"
  },
  "language_info": {
   "codemirror_mode": {
    "name": "ipython",
    "version": 3
   },
   "file_extension": ".py",
   "mimetype": "text/x-python",
   "name": "python",
   "nbconvert_exporter": "python",
   "pygments_lexer": "ipython3",
   "version": "3.8.3"
  }
 },
 "nbformat": 4,
 "nbformat_minor": 1
}
