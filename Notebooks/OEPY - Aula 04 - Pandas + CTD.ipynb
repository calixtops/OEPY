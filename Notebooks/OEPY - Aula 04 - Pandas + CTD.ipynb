{
 "cells": [
  {
   "cell_type": "markdown",
   "metadata": {},
   "source": [
    "<img style='float: right; height:85%; width: 25%' src=\"https://raw.githubusercontent.com/calixtops/ES/main/img/logo_OEPY.png\" >\n"
   ]
  },
  {
   "cell_type": "markdown",
   "metadata": {},
   "source": [
    "<h1 style=\"text-align: center; background-color:  #003d99; opacity: 0.7; padding: 30px; color: white\"> Aula 4 - Utilizando Pandas para trabalhar com dados de CTD </h1>\n",
    "<a id='section_id1'></a>\n"
   ]
  },
  {
   "cell_type": "markdown",
   "metadata": {},
   "source": [
    "---"
   ]
  },
  {
   "cell_type": "markdown",
   "metadata": {},
   "source": [
    "# Índice\n",
    "\n",
    "[**Aula 4 - Pandas**](#section_id1)\n",
    "- [1. Pandas](#section_id2)\n",
    "- [2 Plots](#section_id3)\n",
    "    - [2.1 Subplots](#section_id4)\n",
    "    - [2.2 Plot com dois eixos](#section_id6)\n",
    "    - [2.3 Diagrama TS](#section_id6)\n"
   ]
  },
  {
   "cell_type": "markdown",
   "metadata": {},
   "source": [
    "# 1. Pandas\n",
    "\n",
    "<a id='section_id2'></a>\n"
   ]
  },
  {
   "cell_type": "markdown",
   "metadata": {},
   "source": [
    "<div class=\"alert alert-block alert-success\">\n",
    "\n",
    "\n",
    "<b> Pandas é uma biblioteca que fornece estruturas de dados de alto desempenho e faceis de usar, além de ferramentas de análise se dados para Python. O nome é derivado do termo inglês \"panel data\"(dados em painel) que remete à uma das principais caracteristicas da biblioteca, a tabulação dos dados em Dataframes que pode ser comparado às matrizes de Numpy Array.\n",
    "<b>\n",
    "    </div>"
   ]
  },
  {
   "cell_type": "markdown",
   "metadata": {},
   "source": [
    "Vamos importar as bibliotecas que já vimos durante o curso"
   ]
  },
  {
   "cell_type": "code",
   "execution_count": 1,
   "metadata": {
    "id": "X32n2u3vuQUu"
   },
   "outputs": [],
   "source": [
    "import pandas as pd\n",
    "import pylab as plt\n",
    "import seaborn as sns\n",
    "import numpy as np\n",
    "sns.set()"
   ]
  },
  {
   "cell_type": "markdown",
   "metadata": {},
   "source": [
    "Utilizaremos o arquivo **rad1_doei002.cnv** para exemplificar a importação de dados .csv utilizando o **Pandas**."
   ]
  },
  {
   "cell_type": "markdown",
   "metadata": {
    "id": "n7dL2APBuQU8"
   },
   "source": [
    "Os nossos arquivos estão em formato de texto com extensão .csv. Para importar os dados utilizaremos a função [pd.read_csv](https://pandas.pydata.org/docs/reference/api/pandas.read_csv.html). <mark> Arquivos de texto como CSV e TXT geralmente são importados da mesma forma. "
   ]
  },
  {
   "cell_type": "markdown",
   "metadata": {},
   "source": [
    "O dado que vamos trabalhar é um perfil de CTD e convêm avaliar o arquivo rad1_doei002.cnv antes de importar-lo."
   ]
  },
  {
   "cell_type": "code",
   "execution_count": 2,
   "metadata": {
    "id": "xh4OvYoZuQU8"
   },
   "outputs": [],
   "source": [
    "dado = pd.read_csv('../dados/rad1_doei002.cnv',\n",
    "                   names=['prDM','t068C','c0S/m','depSM','sal00','sigma-t','density','svCM','dz/dtM','flag','nbin'],\n",
    "                   skiprows=72,delim_whitespace= True)"
   ]
  },
  {
   "cell_type": "markdown",
   "metadata": {
    "id": "5EGJ5oTGuQVE"
   },
   "source": [
    "A função possui alguns **argumentos**:\n",
    "\n",
    "1. Caminho do arquivo\n",
    "    * '../dados/rad1_doei002.cnv'\n",
    "2. names\n",
    "    * Nome de cada uma das colunas na forma de Lista\n",
    "3. skiprows\n",
    "    * O arquivo possui um cabeçalho com informações. Para selecionar somente os dado, efetivamente, devemos pular algumas linhas. No caso 72.\n",
    "4. delim_whitespace\n",
    "    * Reconhece os espaços em branco entre as colunas de dado."
   ]
  },
  {
   "cell_type": "markdown",
   "metadata": {
    "id": "NV9599H5uQVF"
   },
   "source": [
    "Após a leitura dos dados temos agora um <b> Dataframe </b>:"
   ]
  },
  {
   "cell_type": "code",
   "execution_count": 3,
   "metadata": {
    "colab": {
     "base_uri": "https://localhost:8080/",
     "height": 424
    },
    "executionInfo": {
     "elapsed": 888,
     "status": "ok",
     "timestamp": 1610728185086,
     "user": {
      "displayName": "Pedro Calixto",
      "photoUrl": "https://lh3.googleusercontent.com/a-/AOh14Gg0lRxjwA8brpeHxk7aHwRimkQ3KrPTXDrnAl0X8Lg=s64",
      "userId": "06936679020888677524"
     },
     "user_tz": 180
    },
    "id": "YLMMNn6Z28wG",
    "outputId": "f0080eac-e3f3-47d5-86c4-e38122f8b730"
   },
   "outputs": [
    {
     "data": {
      "text/html": [
       "<div>\n",
       "<style scoped>\n",
       "    .dataframe tbody tr th:only-of-type {\n",
       "        vertical-align: middle;\n",
       "    }\n",
       "\n",
       "    .dataframe tbody tr th {\n",
       "        vertical-align: top;\n",
       "    }\n",
       "\n",
       "    .dataframe thead th {\n",
       "        text-align: right;\n",
       "    }\n",
       "</style>\n",
       "<table border=\"1\" class=\"dataframe\">\n",
       "  <thead>\n",
       "    <tr style=\"text-align: right;\">\n",
       "      <th></th>\n",
       "      <th>prDM</th>\n",
       "      <th>t068C</th>\n",
       "      <th>c0S/m</th>\n",
       "      <th>depSM</th>\n",
       "      <th>sal00</th>\n",
       "      <th>sigma-t</th>\n",
       "      <th>density</th>\n",
       "      <th>svCM</th>\n",
       "      <th>dz/dtM</th>\n",
       "      <th>flag</th>\n",
       "      <th>nbin</th>\n",
       "    </tr>\n",
       "  </thead>\n",
       "  <tbody>\n",
       "    <tr>\n",
       "      <th>0</th>\n",
       "      <td>2.0</td>\n",
       "      <td>26.2701</td>\n",
       "      <td>5.736224</td>\n",
       "      <td>1.988</td>\n",
       "      <td>37.1592</td>\n",
       "      <td>24.5802</td>\n",
       "      <td>1024.5888</td>\n",
       "      <td>1539.74</td>\n",
       "      <td>0.501</td>\n",
       "      <td>0.0</td>\n",
       "      <td>32.0</td>\n",
       "    </tr>\n",
       "    <tr>\n",
       "      <th>1</th>\n",
       "      <td>3.0</td>\n",
       "      <td>26.2719</td>\n",
       "      <td>5.736580</td>\n",
       "      <td>2.982</td>\n",
       "      <td>37.1600</td>\n",
       "      <td>24.5802</td>\n",
       "      <td>1024.5931</td>\n",
       "      <td>1539.76</td>\n",
       "      <td>0.022</td>\n",
       "      <td>0.0</td>\n",
       "      <td>326.0</td>\n",
       "    </tr>\n",
       "    <tr>\n",
       "      <th>2</th>\n",
       "      <td>4.0</td>\n",
       "      <td>26.2747</td>\n",
       "      <td>5.736947</td>\n",
       "      <td>3.977</td>\n",
       "      <td>37.1601</td>\n",
       "      <td>24.5794</td>\n",
       "      <td>1024.5966</td>\n",
       "      <td>1539.78</td>\n",
       "      <td>0.536</td>\n",
       "      <td>0.0</td>\n",
       "      <td>48.0</td>\n",
       "    </tr>\n",
       "    <tr>\n",
       "      <th>3</th>\n",
       "      <td>5.0</td>\n",
       "      <td>26.2755</td>\n",
       "      <td>5.737059</td>\n",
       "      <td>4.971</td>\n",
       "      <td>37.1600</td>\n",
       "      <td>24.5791</td>\n",
       "      <td>1024.6005</td>\n",
       "      <td>1539.80</td>\n",
       "      <td>0.467</td>\n",
       "      <td>0.0</td>\n",
       "      <td>52.0</td>\n",
       "    </tr>\n",
       "    <tr>\n",
       "      <th>4</th>\n",
       "      <td>6.0</td>\n",
       "      <td>26.2747</td>\n",
       "      <td>5.737086</td>\n",
       "      <td>5.965</td>\n",
       "      <td>37.1604</td>\n",
       "      <td>24.5796</td>\n",
       "      <td>1024.6054</td>\n",
       "      <td>1539.82</td>\n",
       "      <td>0.608</td>\n",
       "      <td>0.0</td>\n",
       "      <td>43.0</td>\n",
       "    </tr>\n",
       "    <tr>\n",
       "      <th>...</th>\n",
       "      <td>...</td>\n",
       "      <td>...</td>\n",
       "      <td>...</td>\n",
       "      <td>...</td>\n",
       "      <td>...</td>\n",
       "      <td>...</td>\n",
       "      <td>...</td>\n",
       "      <td>...</td>\n",
       "      <td>...</td>\n",
       "      <td>...</td>\n",
       "      <td>...</td>\n",
       "    </tr>\n",
       "    <tr>\n",
       "      <th>2527</th>\n",
       "      <td>2529.0</td>\n",
       "      <td>3.2829</td>\n",
       "      <td>3.296963</td>\n",
       "      <td>2499.165</td>\n",
       "      <td>34.9784</td>\n",
       "      <td>27.8413</td>\n",
       "      <td>1039.3490</td>\n",
       "      <td>1505.63</td>\n",
       "      <td>1.806</td>\n",
       "      <td>0.0</td>\n",
       "      <td>12.0</td>\n",
       "    </tr>\n",
       "    <tr>\n",
       "      <th>2528</th>\n",
       "      <td>2530.0</td>\n",
       "      <td>3.2815</td>\n",
       "      <td>3.296870</td>\n",
       "      <td>2500.147</td>\n",
       "      <td>34.9783</td>\n",
       "      <td>27.8413</td>\n",
       "      <td>1039.3536</td>\n",
       "      <td>1505.64</td>\n",
       "      <td>1.349</td>\n",
       "      <td>0.0</td>\n",
       "      <td>18.0</td>\n",
       "    </tr>\n",
       "    <tr>\n",
       "      <th>2529</th>\n",
       "      <td>2531.0</td>\n",
       "      <td>3.2804</td>\n",
       "      <td>3.296785</td>\n",
       "      <td>2501.129</td>\n",
       "      <td>34.9781</td>\n",
       "      <td>27.8413</td>\n",
       "      <td>1039.3580</td>\n",
       "      <td>1505.66</td>\n",
       "      <td>0.176</td>\n",
       "      <td>0.0</td>\n",
       "      <td>58.0</td>\n",
       "    </tr>\n",
       "    <tr>\n",
       "      <th>2530</th>\n",
       "      <td>2532.0</td>\n",
       "      <td>3.2792</td>\n",
       "      <td>3.296732</td>\n",
       "      <td>2502.112</td>\n",
       "      <td>34.9782</td>\n",
       "      <td>27.8415</td>\n",
       "      <td>1039.3628</td>\n",
       "      <td>1505.67</td>\n",
       "      <td>1.355</td>\n",
       "      <td>0.0</td>\n",
       "      <td>15.0</td>\n",
       "    </tr>\n",
       "    <tr>\n",
       "      <th>2531</th>\n",
       "      <td>2533.0</td>\n",
       "      <td>3.2777</td>\n",
       "      <td>3.296609</td>\n",
       "      <td>2503.094</td>\n",
       "      <td>34.9779</td>\n",
       "      <td>27.8414</td>\n",
       "      <td>1039.3672</td>\n",
       "      <td>1505.68</td>\n",
       "      <td>0.815</td>\n",
       "      <td>0.0</td>\n",
       "      <td>16.0</td>\n",
       "    </tr>\n",
       "  </tbody>\n",
       "</table>\n",
       "<p>2532 rows × 11 columns</p>\n",
       "</div>"
      ],
      "text/plain": [
       "        prDM    t068C     c0S/m     depSM    sal00  sigma-t    density  \\\n",
       "0        2.0  26.2701  5.736224     1.988  37.1592  24.5802  1024.5888   \n",
       "1        3.0  26.2719  5.736580     2.982  37.1600  24.5802  1024.5931   \n",
       "2        4.0  26.2747  5.736947     3.977  37.1601  24.5794  1024.5966   \n",
       "3        5.0  26.2755  5.737059     4.971  37.1600  24.5791  1024.6005   \n",
       "4        6.0  26.2747  5.737086     5.965  37.1604  24.5796  1024.6054   \n",
       "...      ...      ...       ...       ...      ...      ...        ...   \n",
       "2527  2529.0   3.2829  3.296963  2499.165  34.9784  27.8413  1039.3490   \n",
       "2528  2530.0   3.2815  3.296870  2500.147  34.9783  27.8413  1039.3536   \n",
       "2529  2531.0   3.2804  3.296785  2501.129  34.9781  27.8413  1039.3580   \n",
       "2530  2532.0   3.2792  3.296732  2502.112  34.9782  27.8415  1039.3628   \n",
       "2531  2533.0   3.2777  3.296609  2503.094  34.9779  27.8414  1039.3672   \n",
       "\n",
       "         svCM  dz/dtM  flag   nbin  \n",
       "0     1539.74   0.501   0.0   32.0  \n",
       "1     1539.76   0.022   0.0  326.0  \n",
       "2     1539.78   0.536   0.0   48.0  \n",
       "3     1539.80   0.467   0.0   52.0  \n",
       "4     1539.82   0.608   0.0   43.0  \n",
       "...       ...     ...   ...    ...  \n",
       "2527  1505.63   1.806   0.0   12.0  \n",
       "2528  1505.64   1.349   0.0   18.0  \n",
       "2529  1505.66   0.176   0.0   58.0  \n",
       "2530  1505.67   1.355   0.0   15.0  \n",
       "2531  1505.68   0.815   0.0   16.0  \n",
       "\n",
       "[2532 rows x 11 columns]"
      ]
     },
     "execution_count": 3,
     "metadata": {},
     "output_type": "execute_result"
    }
   ],
   "source": [
    "dado"
   ]
  },
  {
   "cell_type": "markdown",
   "metadata": {},
   "source": [
    "<div class=\"alert alert-block alert-info\">\n",
    "\n",
    "<b> Um DataFrame é uma estrutura de dados tabulares bidimensionais, com eixos rotulados (linhas e colunas). Pandas DataFrame consiste em três componentes principais, os dados, linhas e colunas. Basicamente, é uma planilha.\n",
    "    </div>"
   ]
  },
  {
   "cell_type": "markdown",
   "metadata": {
    "id": "G6ztHLSWuQVH"
   },
   "source": [
    "![texto alternativo](https://res.cloudinary.com/dyd911kmh/image/upload/f_auto,q_auto:best/v1524477162/data-frames-in-python-banner_cgzjxy.png)"
   ]
  },
  {
   "cell_type": "code",
   "execution_count": 4,
   "metadata": {
    "colab": {
     "base_uri": "https://localhost:8080/",
     "height": 424
    },
    "executionInfo": {
     "elapsed": 920,
     "status": "ok",
     "timestamp": 1610728212228,
     "user": {
      "displayName": "Pedro Calixto",
      "photoUrl": "https://lh3.googleusercontent.com/a-/AOh14Gg0lRxjwA8brpeHxk7aHwRimkQ3KrPTXDrnAl0X8Lg=s64",
      "userId": "06936679020888677524"
     },
     "user_tz": 180
    },
    "id": "ARh-ggxkuQVJ",
    "outputId": "d81de07e-40cb-419b-e17d-ce9c89bca11b"
   },
   "outputs": [
    {
     "data": {
      "text/html": [
       "<div>\n",
       "<style scoped>\n",
       "    .dataframe tbody tr th:only-of-type {\n",
       "        vertical-align: middle;\n",
       "    }\n",
       "\n",
       "    .dataframe tbody tr th {\n",
       "        vertical-align: top;\n",
       "    }\n",
       "\n",
       "    .dataframe thead th {\n",
       "        text-align: right;\n",
       "    }\n",
       "</style>\n",
       "<table border=\"1\" class=\"dataframe\">\n",
       "  <thead>\n",
       "    <tr style=\"text-align: right;\">\n",
       "      <th></th>\n",
       "      <th>prDM</th>\n",
       "      <th>t068C</th>\n",
       "      <th>c0S/m</th>\n",
       "      <th>depSM</th>\n",
       "      <th>sal00</th>\n",
       "      <th>sigma-t</th>\n",
       "      <th>density</th>\n",
       "      <th>svCM</th>\n",
       "      <th>dz/dtM</th>\n",
       "      <th>flag</th>\n",
       "      <th>nbin</th>\n",
       "    </tr>\n",
       "  </thead>\n",
       "  <tbody>\n",
       "    <tr>\n",
       "      <th>0</th>\n",
       "      <td>2.0</td>\n",
       "      <td>26.2701</td>\n",
       "      <td>5.736224</td>\n",
       "      <td>1.988</td>\n",
       "      <td>37.1592</td>\n",
       "      <td>24.5802</td>\n",
       "      <td>1024.5888</td>\n",
       "      <td>1539.74</td>\n",
       "      <td>0.501</td>\n",
       "      <td>0.0</td>\n",
       "      <td>32.0</td>\n",
       "    </tr>\n",
       "    <tr>\n",
       "      <th>1</th>\n",
       "      <td>3.0</td>\n",
       "      <td>26.2719</td>\n",
       "      <td>5.736580</td>\n",
       "      <td>2.982</td>\n",
       "      <td>37.1600</td>\n",
       "      <td>24.5802</td>\n",
       "      <td>1024.5931</td>\n",
       "      <td>1539.76</td>\n",
       "      <td>0.022</td>\n",
       "      <td>0.0</td>\n",
       "      <td>326.0</td>\n",
       "    </tr>\n",
       "    <tr>\n",
       "      <th>2</th>\n",
       "      <td>4.0</td>\n",
       "      <td>26.2747</td>\n",
       "      <td>5.736947</td>\n",
       "      <td>3.977</td>\n",
       "      <td>37.1601</td>\n",
       "      <td>24.5794</td>\n",
       "      <td>1024.5966</td>\n",
       "      <td>1539.78</td>\n",
       "      <td>0.536</td>\n",
       "      <td>0.0</td>\n",
       "      <td>48.0</td>\n",
       "    </tr>\n",
       "    <tr>\n",
       "      <th>3</th>\n",
       "      <td>5.0</td>\n",
       "      <td>26.2755</td>\n",
       "      <td>5.737059</td>\n",
       "      <td>4.971</td>\n",
       "      <td>37.1600</td>\n",
       "      <td>24.5791</td>\n",
       "      <td>1024.6005</td>\n",
       "      <td>1539.80</td>\n",
       "      <td>0.467</td>\n",
       "      <td>0.0</td>\n",
       "      <td>52.0</td>\n",
       "    </tr>\n",
       "    <tr>\n",
       "      <th>4</th>\n",
       "      <td>6.0</td>\n",
       "      <td>26.2747</td>\n",
       "      <td>5.737086</td>\n",
       "      <td>5.965</td>\n",
       "      <td>37.1604</td>\n",
       "      <td>24.5796</td>\n",
       "      <td>1024.6054</td>\n",
       "      <td>1539.82</td>\n",
       "      <td>0.608</td>\n",
       "      <td>0.0</td>\n",
       "      <td>43.0</td>\n",
       "    </tr>\n",
       "    <tr>\n",
       "      <th>...</th>\n",
       "      <td>...</td>\n",
       "      <td>...</td>\n",
       "      <td>...</td>\n",
       "      <td>...</td>\n",
       "      <td>...</td>\n",
       "      <td>...</td>\n",
       "      <td>...</td>\n",
       "      <td>...</td>\n",
       "      <td>...</td>\n",
       "      <td>...</td>\n",
       "      <td>...</td>\n",
       "    </tr>\n",
       "    <tr>\n",
       "      <th>2527</th>\n",
       "      <td>2529.0</td>\n",
       "      <td>3.2829</td>\n",
       "      <td>3.296963</td>\n",
       "      <td>2499.165</td>\n",
       "      <td>34.9784</td>\n",
       "      <td>27.8413</td>\n",
       "      <td>1039.3490</td>\n",
       "      <td>1505.63</td>\n",
       "      <td>1.806</td>\n",
       "      <td>0.0</td>\n",
       "      <td>12.0</td>\n",
       "    </tr>\n",
       "    <tr>\n",
       "      <th>2528</th>\n",
       "      <td>2530.0</td>\n",
       "      <td>3.2815</td>\n",
       "      <td>3.296870</td>\n",
       "      <td>2500.147</td>\n",
       "      <td>34.9783</td>\n",
       "      <td>27.8413</td>\n",
       "      <td>1039.3536</td>\n",
       "      <td>1505.64</td>\n",
       "      <td>1.349</td>\n",
       "      <td>0.0</td>\n",
       "      <td>18.0</td>\n",
       "    </tr>\n",
       "    <tr>\n",
       "      <th>2529</th>\n",
       "      <td>2531.0</td>\n",
       "      <td>3.2804</td>\n",
       "      <td>3.296785</td>\n",
       "      <td>2501.129</td>\n",
       "      <td>34.9781</td>\n",
       "      <td>27.8413</td>\n",
       "      <td>1039.3580</td>\n",
       "      <td>1505.66</td>\n",
       "      <td>0.176</td>\n",
       "      <td>0.0</td>\n",
       "      <td>58.0</td>\n",
       "    </tr>\n",
       "    <tr>\n",
       "      <th>2530</th>\n",
       "      <td>2532.0</td>\n",
       "      <td>3.2792</td>\n",
       "      <td>3.296732</td>\n",
       "      <td>2502.112</td>\n",
       "      <td>34.9782</td>\n",
       "      <td>27.8415</td>\n",
       "      <td>1039.3628</td>\n",
       "      <td>1505.67</td>\n",
       "      <td>1.355</td>\n",
       "      <td>0.0</td>\n",
       "      <td>15.0</td>\n",
       "    </tr>\n",
       "    <tr>\n",
       "      <th>2531</th>\n",
       "      <td>2533.0</td>\n",
       "      <td>3.2777</td>\n",
       "      <td>3.296609</td>\n",
       "      <td>2503.094</td>\n",
       "      <td>34.9779</td>\n",
       "      <td>27.8414</td>\n",
       "      <td>1039.3672</td>\n",
       "      <td>1505.68</td>\n",
       "      <td>0.815</td>\n",
       "      <td>0.0</td>\n",
       "      <td>16.0</td>\n",
       "    </tr>\n",
       "  </tbody>\n",
       "</table>\n",
       "<p>2532 rows × 11 columns</p>\n",
       "</div>"
      ],
      "text/plain": [
       "        prDM    t068C     c0S/m     depSM    sal00  sigma-t    density  \\\n",
       "0        2.0  26.2701  5.736224     1.988  37.1592  24.5802  1024.5888   \n",
       "1        3.0  26.2719  5.736580     2.982  37.1600  24.5802  1024.5931   \n",
       "2        4.0  26.2747  5.736947     3.977  37.1601  24.5794  1024.5966   \n",
       "3        5.0  26.2755  5.737059     4.971  37.1600  24.5791  1024.6005   \n",
       "4        6.0  26.2747  5.737086     5.965  37.1604  24.5796  1024.6054   \n",
       "...      ...      ...       ...       ...      ...      ...        ...   \n",
       "2527  2529.0   3.2829  3.296963  2499.165  34.9784  27.8413  1039.3490   \n",
       "2528  2530.0   3.2815  3.296870  2500.147  34.9783  27.8413  1039.3536   \n",
       "2529  2531.0   3.2804  3.296785  2501.129  34.9781  27.8413  1039.3580   \n",
       "2530  2532.0   3.2792  3.296732  2502.112  34.9782  27.8415  1039.3628   \n",
       "2531  2533.0   3.2777  3.296609  2503.094  34.9779  27.8414  1039.3672   \n",
       "\n",
       "         svCM  dz/dtM  flag   nbin  \n",
       "0     1539.74   0.501   0.0   32.0  \n",
       "1     1539.76   0.022   0.0  326.0  \n",
       "2     1539.78   0.536   0.0   48.0  \n",
       "3     1539.80   0.467   0.0   52.0  \n",
       "4     1539.82   0.608   0.0   43.0  \n",
       "...       ...     ...   ...    ...  \n",
       "2527  1505.63   1.806   0.0   12.0  \n",
       "2528  1505.64   1.349   0.0   18.0  \n",
       "2529  1505.66   0.176   0.0   58.0  \n",
       "2530  1505.67   1.355   0.0   15.0  \n",
       "2531  1505.68   0.815   0.0   16.0  \n",
       "\n",
       "[2532 rows x 11 columns]"
      ]
     },
     "execution_count": 4,
     "metadata": {},
     "output_type": "execute_result"
    }
   ],
   "source": [
    "dado"
   ]
  },
  {
   "cell_type": "markdown",
   "metadata": {},
   "source": [
    "Trabalhar com Dataframes nos fornece alguma facilidade em analisar o dado. Começaremos pelo básico."
   ]
  },
  {
   "cell_type": "markdown",
   "metadata": {},
   "source": [
    "Ultilizando o método [**info()**](https://pandas.pydata.org/pandas-docs/stable/reference/api/pandas.DataFrame.info.html), podemos receber informações sobre o nosso dataframe."
   ]
  },
  {
   "cell_type": "code",
   "execution_count": 5,
   "metadata": {},
   "outputs": [
    {
     "name": "stdout",
     "output_type": "stream",
     "text": [
      "<class 'pandas.core.frame.DataFrame'>\n",
      "RangeIndex: 2532 entries, 0 to 2531\n",
      "Data columns (total 11 columns):\n",
      " #   Column   Non-Null Count  Dtype  \n",
      "---  ------   --------------  -----  \n",
      " 0   prDM     2532 non-null   float64\n",
      " 1   t068C    2532 non-null   float64\n",
      " 2   c0S/m    2532 non-null   float64\n",
      " 3   depSM    2532 non-null   float64\n",
      " 4   sal00    2532 non-null   float64\n",
      " 5   sigma-t  2532 non-null   float64\n",
      " 6   density  2532 non-null   float64\n",
      " 7   svCM     2532 non-null   float64\n",
      " 8   dz/dtM   2532 non-null   float64\n",
      " 9   flag     2532 non-null   float64\n",
      " 10  nbin     2532 non-null   float64\n",
      "dtypes: float64(11)\n",
      "memory usage: 217.7 KB\n"
     ]
    }
   ],
   "source": [
    "dado.info()"
   ]
  },
  {
   "cell_type": "markdown",
   "metadata": {},
   "source": [
    "Para selecionar as colunas de um Dataframe, utilizamos uma sintaxe muito parecida com a manipulação de dicionários, aonde temos as **keys** orientando os objetos."
   ]
  },
  {
   "cell_type": "code",
   "execution_count": 6,
   "metadata": {},
   "outputs": [
    {
     "data": {
      "text/plain": [
       "Index(['prDM', 't068C', 'c0S/m', 'depSM', 'sal00', 'sigma-t', 'density',\n",
       "       'svCM', 'dz/dtM', 'flag', 'nbin'],\n",
       "      dtype='object')"
      ]
     },
     "execution_count": 6,
     "metadata": {},
     "output_type": "execute_result"
    }
   ],
   "source": [
    "dado.keys()"
   ]
  },
  {
   "cell_type": "markdown",
   "metadata": {},
   "source": [
    "Com o método [.keys()](https://pandas.pydata.org/docs/reference/api/pandas.DataFrame.keys.html), podemos adquirir as informações dos indices referente às colunas do Dataframe. Dessa forma podemos acessar qualquer uma das séries que compõe o Dataframe. Podemos acessar, portanto, as **séries** de um dataframe a partir das keys."
   ]
  },
  {
   "cell_type": "markdown",
   "metadata": {},
   "source": [
    "<div class=\"alert alert-block alert-success\">\n",
    "\n",
    "\n",
    "<b> Uma Série Pandas é como uma coluna de uma tabela. É uma matriz unidimensional que contém dados de qualquer tipo.\n",
    "<b>\n",
    "    </div>"
   ]
  },
  {
   "cell_type": "code",
   "execution_count": 7,
   "metadata": {},
   "outputs": [
    {
     "data": {
      "text/plain": [
       "0          2.0\n",
       "1          3.0\n",
       "2          4.0\n",
       "3          5.0\n",
       "4          6.0\n",
       "         ...  \n",
       "2527    2529.0\n",
       "2528    2530.0\n",
       "2529    2531.0\n",
       "2530    2532.0\n",
       "2531    2533.0\n",
       "Name: prDM, Length: 2532, dtype: float64"
      ]
     },
     "execution_count": 7,
     "metadata": {},
     "output_type": "execute_result"
    }
   ],
   "source": [
    "dado['prDM']"
   ]
  },
  {
   "cell_type": "markdown",
   "metadata": {},
   "source": [
    "Utilizando séries de um dataframe, diversos métodos podem ser aplicados diretamente. Confira a [**documentação**](https://pandas.pydata.org/pandas-docs/stable/reference/api/pandas.Series.html)."
   ]
  },
  {
   "cell_type": "code",
   "execution_count": 8,
   "metadata": {},
   "outputs": [
    {
     "data": {
      "text/plain": [
       "(26.2755, 4.0764, 6.531926974723545)"
      ]
     },
     "execution_count": 8,
     "metadata": {},
     "output_type": "execute_result"
    }
   ],
   "source": [
    "dado['t068C'].max(),dado['t068C'].median(),dado['t068C'].mean()"
   ]
  },
  {
   "cell_type": "markdown",
   "metadata": {},
   "source": [
    "Utilizando o método [**.corr**](https://pandas.pydata.org/pandas-docs/stable/reference/api/pandas.DataFrame.corr.html) no nosso Dataframe, podemos rapidamente criar uma tabela de correlação entre as colunas do dataframe"
   ]
  },
  {
   "cell_type": "code",
   "execution_count": 9,
   "metadata": {},
   "outputs": [
    {
     "data": {
      "text/html": [
       "<div>\n",
       "<style scoped>\n",
       "    .dataframe tbody tr th:only-of-type {\n",
       "        vertical-align: middle;\n",
       "    }\n",
       "\n",
       "    .dataframe tbody tr th {\n",
       "        vertical-align: top;\n",
       "    }\n",
       "\n",
       "    .dataframe thead th {\n",
       "        text-align: right;\n",
       "    }\n",
       "</style>\n",
       "<table border=\"1\" class=\"dataframe\">\n",
       "  <thead>\n",
       "    <tr style=\"text-align: right;\">\n",
       "      <th></th>\n",
       "      <th>prDM</th>\n",
       "      <th>t068C</th>\n",
       "      <th>c0S/m</th>\n",
       "      <th>depSM</th>\n",
       "      <th>sal00</th>\n",
       "      <th>sigma-t</th>\n",
       "      <th>density</th>\n",
       "      <th>svCM</th>\n",
       "      <th>dz/dtM</th>\n",
       "      <th>flag</th>\n",
       "      <th>nbin</th>\n",
       "    </tr>\n",
       "  </thead>\n",
       "  <tbody>\n",
       "    <tr>\n",
       "      <th>prDM</th>\n",
       "      <td>1.000000</td>\n",
       "      <td>-0.697139</td>\n",
       "      <td>-0.629220</td>\n",
       "      <td>0.999999</td>\n",
       "      <td>-0.319822</td>\n",
       "      <td>0.792689</td>\n",
       "      <td>0.992933</td>\n",
       "      <td>-0.132160</td>\n",
       "      <td>0.011371</td>\n",
       "      <td>NaN</td>\n",
       "      <td>0.017600</td>\n",
       "    </tr>\n",
       "    <tr>\n",
       "      <th>t068C</th>\n",
       "      <td>-0.697139</td>\n",
       "      <td>1.000000</td>\n",
       "      <td>0.994950</td>\n",
       "      <td>-0.698021</td>\n",
       "      <td>0.886770</td>\n",
       "      <td>-0.977783</td>\n",
       "      <td>-0.775382</td>\n",
       "      <td>0.800663</td>\n",
       "      <td>-0.057865</td>\n",
       "      <td>NaN</td>\n",
       "      <td>0.048317</td>\n",
       "    </tr>\n",
       "    <tr>\n",
       "      <th>c0S/m</th>\n",
       "      <td>-0.629220</td>\n",
       "      <td>0.994950</td>\n",
       "      <td>1.000000</td>\n",
       "      <td>-0.630149</td>\n",
       "      <td>0.927239</td>\n",
       "      <td>-0.961688</td>\n",
       "      <td>-0.715102</td>\n",
       "      <td>0.846863</td>\n",
       "      <td>-0.062447</td>\n",
       "      <td>NaN</td>\n",
       "      <td>0.056878</td>\n",
       "    </tr>\n",
       "    <tr>\n",
       "      <th>depSM</th>\n",
       "      <td>0.999999</td>\n",
       "      <td>-0.698021</td>\n",
       "      <td>-0.630149</td>\n",
       "      <td>1.000000</td>\n",
       "      <td>-0.320791</td>\n",
       "      <td>0.793466</td>\n",
       "      <td>0.993087</td>\n",
       "      <td>-0.133398</td>\n",
       "      <td>0.011476</td>\n",
       "      <td>NaN</td>\n",
       "      <td>0.017499</td>\n",
       "    </tr>\n",
       "    <tr>\n",
       "      <th>sal00</th>\n",
       "      <td>-0.319822</td>\n",
       "      <td>0.886770</td>\n",
       "      <td>0.927239</td>\n",
       "      <td>-0.320791</td>\n",
       "      <td>1.000000</td>\n",
       "      <td>-0.799154</td>\n",
       "      <td>-0.423537</td>\n",
       "      <td>0.948847</td>\n",
       "      <td>-0.066300</td>\n",
       "      <td>NaN</td>\n",
       "      <td>0.074962</td>\n",
       "    </tr>\n",
       "    <tr>\n",
       "      <th>sigma-t</th>\n",
       "      <td>0.792689</td>\n",
       "      <td>-0.977783</td>\n",
       "      <td>-0.961688</td>\n",
       "      <td>0.793466</td>\n",
       "      <td>-0.799154</td>\n",
       "      <td>1.000000</td>\n",
       "      <td>0.859366</td>\n",
       "      <td>-0.682616</td>\n",
       "      <td>0.059693</td>\n",
       "      <td>NaN</td>\n",
       "      <td>-0.047597</td>\n",
       "    </tr>\n",
       "    <tr>\n",
       "      <th>density</th>\n",
       "      <td>0.992933</td>\n",
       "      <td>-0.775382</td>\n",
       "      <td>-0.715102</td>\n",
       "      <td>0.993087</td>\n",
       "      <td>-0.423537</td>\n",
       "      <td>0.859366</td>\n",
       "      <td>1.000000</td>\n",
       "      <td>-0.244644</td>\n",
       "      <td>0.021007</td>\n",
       "      <td>NaN</td>\n",
       "      <td>0.005817</td>\n",
       "    </tr>\n",
       "    <tr>\n",
       "      <th>svCM</th>\n",
       "      <td>-0.132160</td>\n",
       "      <td>0.800663</td>\n",
       "      <td>0.846863</td>\n",
       "      <td>-0.133398</td>\n",
       "      <td>0.948847</td>\n",
       "      <td>-0.682616</td>\n",
       "      <td>-0.244644</td>\n",
       "      <td>1.000000</td>\n",
       "      <td>-0.066492</td>\n",
       "      <td>NaN</td>\n",
       "      <td>0.075317</td>\n",
       "    </tr>\n",
       "    <tr>\n",
       "      <th>dz/dtM</th>\n",
       "      <td>0.011371</td>\n",
       "      <td>-0.057865</td>\n",
       "      <td>-0.062447</td>\n",
       "      <td>0.011476</td>\n",
       "      <td>-0.066300</td>\n",
       "      <td>0.059693</td>\n",
       "      <td>0.021007</td>\n",
       "      <td>-0.066492</td>\n",
       "      <td>1.000000</td>\n",
       "      <td>NaN</td>\n",
       "      <td>-0.683464</td>\n",
       "    </tr>\n",
       "    <tr>\n",
       "      <th>flag</th>\n",
       "      <td>NaN</td>\n",
       "      <td>NaN</td>\n",
       "      <td>NaN</td>\n",
       "      <td>NaN</td>\n",
       "      <td>NaN</td>\n",
       "      <td>NaN</td>\n",
       "      <td>NaN</td>\n",
       "      <td>NaN</td>\n",
       "      <td>NaN</td>\n",
       "      <td>NaN</td>\n",
       "      <td>NaN</td>\n",
       "    </tr>\n",
       "    <tr>\n",
       "      <th>nbin</th>\n",
       "      <td>0.017600</td>\n",
       "      <td>0.048317</td>\n",
       "      <td>0.056878</td>\n",
       "      <td>0.017499</td>\n",
       "      <td>0.074962</td>\n",
       "      <td>-0.047597</td>\n",
       "      <td>0.005817</td>\n",
       "      <td>0.075317</td>\n",
       "      <td>-0.683464</td>\n",
       "      <td>NaN</td>\n",
       "      <td>1.000000</td>\n",
       "    </tr>\n",
       "  </tbody>\n",
       "</table>\n",
       "</div>"
      ],
      "text/plain": [
       "             prDM     t068C     c0S/m     depSM     sal00   sigma-t   density  \\\n",
       "prDM     1.000000 -0.697139 -0.629220  0.999999 -0.319822  0.792689  0.992933   \n",
       "t068C   -0.697139  1.000000  0.994950 -0.698021  0.886770 -0.977783 -0.775382   \n",
       "c0S/m   -0.629220  0.994950  1.000000 -0.630149  0.927239 -0.961688 -0.715102   \n",
       "depSM    0.999999 -0.698021 -0.630149  1.000000 -0.320791  0.793466  0.993087   \n",
       "sal00   -0.319822  0.886770  0.927239 -0.320791  1.000000 -0.799154 -0.423537   \n",
       "sigma-t  0.792689 -0.977783 -0.961688  0.793466 -0.799154  1.000000  0.859366   \n",
       "density  0.992933 -0.775382 -0.715102  0.993087 -0.423537  0.859366  1.000000   \n",
       "svCM    -0.132160  0.800663  0.846863 -0.133398  0.948847 -0.682616 -0.244644   \n",
       "dz/dtM   0.011371 -0.057865 -0.062447  0.011476 -0.066300  0.059693  0.021007   \n",
       "flag          NaN       NaN       NaN       NaN       NaN       NaN       NaN   \n",
       "nbin     0.017600  0.048317  0.056878  0.017499  0.074962 -0.047597  0.005817   \n",
       "\n",
       "             svCM    dz/dtM  flag      nbin  \n",
       "prDM    -0.132160  0.011371   NaN  0.017600  \n",
       "t068C    0.800663 -0.057865   NaN  0.048317  \n",
       "c0S/m    0.846863 -0.062447   NaN  0.056878  \n",
       "depSM   -0.133398  0.011476   NaN  0.017499  \n",
       "sal00    0.948847 -0.066300   NaN  0.074962  \n",
       "sigma-t -0.682616  0.059693   NaN -0.047597  \n",
       "density -0.244644  0.021007   NaN  0.005817  \n",
       "svCM     1.000000 -0.066492   NaN  0.075317  \n",
       "dz/dtM  -0.066492  1.000000   NaN -0.683464  \n",
       "flag          NaN       NaN   NaN       NaN  \n",
       "nbin     0.075317 -0.683464   NaN  1.000000  "
      ]
     },
     "execution_count": 9,
     "metadata": {},
     "output_type": "execute_result"
    }
   ],
   "source": [
    "dado.corr(method='pearson')"
   ]
  },
  {
   "cell_type": "markdown",
   "metadata": {},
   "source": [
    "Não só os métodos estatistícos mas os métodos de [**Plot**](https://pandas.pydata.org/pandas-docs/stable/reference/api/pandas.Series.plot.html#pandas.Series.plot) podem ser muito úteis."
   ]
  },
  {
   "cell_type": "markdown",
   "metadata": {},
   "source": [
    "<div class=\"alert alert-block alert-info\">\n",
    "\n",
    "<b> Agora que importamos o dado e temos o dataframe tabulado, podemos acessar cada uma das colunas do nosso dado da seguinte forma:\n",
    "\n",
    "dado['pres'] ou dado.pres-> Acessa a coluna referente a pressão <br>\n",
    "dado['sal'] ou dado.sal-> Acessa a coluna referente a salinidade  <br>\n",
    "dado['t68'] ou dado.t68-> Acessa a coluna referente a temperatura <br>\n",
    "    </div>\n"
   ]
  },
  {
   "cell_type": "markdown",
   "metadata": {},
   "source": [
    "# 2 Plots\n",
    "\n",
    "<a id='section_id3'></a>\n"
   ]
  },
  {
   "cell_type": "markdown",
   "metadata": {},
   "source": [
    "Faremos alguns plots utilizando Pandas e Matplotlib. Relembrando o \"caminho\" de um plot de linhas da aula passada temos:"
   ]
  },
  {
   "cell_type": "markdown",
   "metadata": {},
   "source": [
    "Basicamente, podemos construir um gráfico em 3 passos. \n",
    "\n",
    "1. Abrir a figura e definir as suas dimensões.\n",
    "    * plt.figure(figsize=(w,h))\n",
    "2. O gráfico de linhas é feito usando a função <b>plot</b>\n",
    "3. Qualquer comando para aprimorar a figura"
   ]
  },
  {
   "cell_type": "code",
   "execution_count": 10,
   "metadata": {},
   "outputs": [
    {
     "data": {
      "text/plain": [
       "Text(0.5, 1.0, 'Perfil de Temperatura')"
      ]
     },
     "execution_count": 10,
     "metadata": {},
     "output_type": "execute_result"
    },
    {
     "data": {
      "image/png": "[encoded data removed]",
      "text/plain": [
       "<Figure size 576x864 with 1 Axes>"
      ]
     },
     "metadata": {},
     "output_type": "display_data"
    }
   ],
   "source": [
    "sns.set_style(\"whitegrid\")\n",
    "plt.figure(figsize = (8,12)) #1\n",
    "\n",
    "plt.plot(dado.t068C,-dado.prDM) # 2 #\n",
    "\n",
    "\n",
    "plt.xlabel('Temperatura [ºC]') # 3 #\n",
    "plt.ylabel('Pressão [db]')\n",
    "plt.title('Perfil de Temperatura')"
   ]
  },
  {
   "cell_type": "markdown",
   "metadata": {},
   "source": [
    "Podemos fazer gráficos utilizando os métodos disponiveis no Pandas Dataframe."
   ]
  },
  {
   "cell_type": "code",
   "execution_count": 11,
   "metadata": {},
   "outputs": [
    {
     "data": {
      "text/plain": [
       "<matplotlib.axes._subplots.AxesSubplot at 0x7f0cc8562640>"
      ]
     },
     "execution_count": 11,
     "metadata": {},
     "output_type": "execute_result"
    },
    {
     "data": {
      "image/png": "[encoded data removed]",
      "text/plain": [
       "<Figure size 432x288 with 1 Axes>"
      ]
     },
     "metadata": {},
     "output_type": "display_data"
    }
   ],
   "source": [
    "dado.plot(x='prDM', y=['t068C', 'sal00','sigma-t'])"
   ]
  },
  {
   "cell_type": "markdown",
   "metadata": {},
   "source": [
    "[Confira a documentação para saber quais tipos de plot você pode fazer com o Pandas :)](https://pandas.pydata.org/pandas-docs/stable/reference/api/pandas.DataFrame.plot.html)"
   ]
  },
  {
   "cell_type": "markdown",
   "metadata": {},
   "source": [
    "# 1.2 Subplots\n",
    "<a id='section_id4'></a>\n"
   ]
  },
  {
   "cell_type": "markdown",
   "metadata": {},
   "source": [
    "Exemplo de subplot com os valores de temperatura e salinidade"
   ]
  },
  {
   "cell_type": "code",
   "execution_count": 12,
   "metadata": {},
   "outputs": [
    {
     "data": {
      "text/plain": [
       "Text(0.5, 1.0, 'Perfil de Salinidade')"
      ]
     },
     "execution_count": 12,
     "metadata": {},
     "output_type": "execute_result"
    },
    {
     "data": {
      "image/png": "[encoded data removed]",
      "text/plain": [
       "<Figure size 864x720 with 2 Axes>"
      ]
     },
     "metadata": {},
     "output_type": "display_data"
    }
   ],
   "source": [
    "fig, (ax1, ax2) = plt.subplots(1,2,figsize=(12,10),sharey=True)\n",
    "\n",
    "# Eixo 1 ou ax1 irá orientar o nosso primeiro gráfico.\n",
    "ax1.plot(dado.t068C,-dado.prDM,'r') # 2 #\n",
    "ax1.set_xlabel('Temperatura [ºC]') # 3 #\n",
    "ax1.set_ylabel('Pressão [db]')\n",
    "ax1.set_title('Perfil de Temperatura')\n",
    "\n",
    "\n",
    "ax2.plot(dado['sal00'],-dado.prDM,'y') # 2 #\n",
    "ax2.set_xlabel('Salinidade [PSU]') # 3 #\n",
    "ax2.set_ylabel('Pressão [db]')\n",
    "ax2.set_title('Perfil de Salinidade')"
   ]
  },
  {
   "cell_type": "markdown",
   "metadata": {},
   "source": [
    "<div class=\"alert alert-block alert-danger\"> Note que quando estamos trabalhando com os eixos de subplot, algumas funções devem ser executadas de forma diferente.<br> Ex: plt.title() = ax1.set_title()\n",
    "    </div>"
   ]
  },
  {
   "cell_type": "markdown",
   "metadata": {},
   "source": [
    "# Plot com 2 eixos\n",
    "<a id='section_id5'></a>\n"
   ]
  },
  {
   "cell_type": "markdown",
   "metadata": {},
   "source": [
    "Podemos utilizar a função subplot e a função [twin()](https://matplotlib.org/stable/api/_as_gen/matplotlib.axes.Axes.twiny.html) para criar um eixo \"gêmeo\" compartilhando o eixo y."
   ]
  },
  {
   "cell_type": "code",
   "execution_count": 13,
   "metadata": {
    "colab": {
     "base_uri": "https://localhost:8080/",
     "height": 645
    },
    "executionInfo": {
     "elapsed": 1476,
     "status": "ok",
     "timestamp": 1610728525026,
     "user": {
      "displayName": "Pedro Calixto",
      "photoUrl": "https://lh3.googleusercontent.com/a-/AOh14Gg0lRxjwA8brpeHxk7aHwRimkQ3KrPTXDrnAl0X8Lg=s64",
      "userId": "06936679020888677524"
     },
     "user_tz": 180
    },
    "id": "f7Qv5pmQuQVh",
    "outputId": "5ee23a80-e1be-4d94-adbc-bdc329747f9d"
   },
   "outputs": [
    {
     "data": {
      "image/png": "[encoded data removed]",
      "text/plain": [
       "<Figure size 360x504 with 2 Axes>"
      ]
     },
     "metadata": {},
     "output_type": "display_data"
    }
   ],
   "source": [
    "fig, ax1 = plt.subplots(figsize=(5,7))\n",
    "ax1.set_xlabel('Temperatura [ºC]',color = 'b')\n",
    "ax1.set_ylabel('Pressão [db]')\n",
    "ax1.plot(dado.t068C,-dado.prDM,'b') \n",
    "ax1.tick_params(axis='x', labelcolor='b')\n",
    "\n",
    "\n",
    "ax2 = ax1.twiny()  # Inicializando um segundo eixo que vai compartilhar o mesmo a\n",
    "\n",
    "ax2.set_xlabel('Salinidade [PSU]',color='g') \n",
    "ax2.plot(dado['sal00'],-dado.prDM,'g')\n",
    "ax2.tick_params(axis='x', labelcolor='g')\n"
   ]
  },
  {
   "cell_type": "markdown",
   "metadata": {
    "id": "hgyUJPLKuQVm"
   },
   "source": [
    "-------------"
   ]
  },
  {
   "cell_type": "markdown",
   "metadata": {
    "id": "l06FOeKguQVo"
   },
   "source": [
    "# Diagrama TS\n",
    "\n",
    "<a id='section_id6'></a>\n"
   ]
  },
  {
   "cell_type": "markdown",
   "metadata": {
    "id": "DDpAO6DAuQVq"
   },
   "source": [
    "<div class=\"alert alert-block alert-success\">\n",
    "    \n",
    "Em oceanografia, diagrama T-S é uma representação gráfica que combina perfis verticais de salinidade e temperatura na coluna de água do oceano, facilitando a identificação de diferentes massas de água. Assim, uma determinada parte da curva do diagrama T-S representa uma determinada massa de água. Em diferentes regiões oceânicas são obtidos diferentes tipos de diagrama T-S, pois a salinidade e a temperatura variam de região para região.\n",
    "\n",
    "Na oceanografia física, a representação da temperatura em função da salinidade permite estudar massas de água. Ela é uma representação da temperatura potencial (θ) em função da salinidade (S). Isso significa que a temperatura é plotada no eixo das ordenadas (y), enquanto a salinidade é plotada no eixo das abcissas (x). Além disso, um típico diagrama T-S também apresenta curvas de contorno que representam isolinhas de densidade potencial. As massas de água existentes no fundo do oceano são sempre mais densas do que aquelas localizadas na superfície. \n",
    "    </div>"
   ]
  },
  {
   "cell_type": "markdown",
   "metadata": {
    "id": "3dZi0WeouQVr"
   },
   "source": [
    "Para dar início ao diagrama precisamos fazer um <b>grid</b> com os nossos arrays de <b>temperatura</b> e <b> salinidade</b>. Para isso usamos a função [<b>meshgrid</b>](https://numpy.org/doc/stable/reference/generated/numpy.meshgrid.html) da biblioteca <b>numpy</b>"
   ]
  },
  {
   "cell_type": "code",
   "execution_count": 14,
   "metadata": {
    "id": "VXlJrdzHuQVs"
   },
   "outputs": [],
   "source": [
    "T,S = np.meshgrid(dado.t068C,dado.sal00)"
   ]
  },
  {
   "cell_type": "markdown",
   "metadata": {
    "id": "uB39GHmyz7M5"
   },
   "source": [
    "Exemplo de como funciona a função meshgrid()"
   ]
  },
  {
   "cell_type": "markdown",
   "metadata": {
    "id": "rTnmHAUsuQVx"
   },
   "source": [
    "![texto alternativo](https://i.stack.imgur.com/8Mbig.png)\n",
    "\n"
   ]
  },
  {
   "cell_type": "markdown",
   "metadata": {
    "id": "pnbsGKMzuQV0"
   },
   "source": [
    "Utilizando o dado, agora gridado, utilizamos as matrizes <b>T</b> e <b>S</b> para inferir a densidade. Para o calculo de densidade usamos a função <b>rho</b> da biblioteca [<b>GSW</b>](https://teos-10.github.io/GSW-Python/)."
   ]
  },
  {
   "cell_type": "markdown",
   "metadata": {},
   "source": [
    "caso nao possua a biblioteca GSW, instale utilizando o seguinte comando. "
   ]
  },
  {
   "cell_type": "markdown",
   "metadata": {
    "id": "J7aO1cMd0BHU"
   },
   "source": [
    "Instalando o pacote GSW"
   ]
  },
  {
   "cell_type": "markdown",
   "metadata": {},
   "source": [
    "<p style=\"background:black\">\n",
    "<code style=\"background:black;color:white\">pip install GSW\n",
    "</code>\n",
    "</p>"
   ]
  },
  {
   "cell_type": "code",
   "execution_count": 15,
   "metadata": {
    "id": "R7dS_dJD6XuF"
   },
   "outputs": [],
   "source": [
    "import gsw"
   ]
  },
  {
   "cell_type": "code",
   "execution_count": 16,
   "metadata": {
    "id": "ApmXnW5SuQV3"
   },
   "outputs": [],
   "source": [
    "DENS = gsw.density.rho(S,T,0)"
   ]
  },
  {
   "cell_type": "markdown",
   "metadata": {},
   "source": [
    "Para fazer o plot da densidade(DENS) utilizaremos a função [contour()](https://matplotlib.org/stable/api/_as_gen/matplotlib.pyplot.contour.html) da biblioteca Matplotlib. Com ela podemos plotar as linhas de contorno."
   ]
  },
  {
   "cell_type": "markdown",
   "metadata": {
    "id": "1I-1rwSSuQV9"
   },
   "source": [
    "Agora é só plotar o nosso Diagrama TS;"
   ]
  },
  {
   "cell_type": "code",
   "execution_count": 17,
   "metadata": {
    "colab": {
     "base_uri": "https://localhost:8080/",
     "height": 535
    },
    "executionInfo": {
     "elapsed": 2615,
     "status": "ok",
     "timestamp": 1610728989361,
     "user": {
      "displayName": "Pedro Calixto",
      "photoUrl": "https://lh3.googleusercontent.com/a-/AOh14Gg0lRxjwA8brpeHxk7aHwRimkQ3KrPTXDrnAl0X8Lg=s64",
      "userId": "06936679020888677524"
     },
     "user_tz": 180
    },
    "id": "2DtN-0HWuQWB",
    "outputId": "d5d0e90a-00fd-45c3-d521-d7870ed297bb",
    "scrolled": false
   },
   "outputs": [
    {
     "data": {
      "text/plain": [
       "Text(0.5, 1.0, 'Diagrama TS')"
      ]
     },
     "execution_count": 17,
     "metadata": {},
     "output_type": "execute_result"
    },
    {
     "data": {
      "image/png": "[encoded data removed]",
      "text/plain": [
       "<Figure size 720x576 with 1 Axes>"
      ]
     },
     "metadata": {},
     "output_type": "display_data"
    }
   ],
   "source": [
    "plt.figure(figsize = (10,8)) # 1 \n",
    "\n",
    "CS = plt.contour(S,T,DENS - 1000,colors = '0.5') # 2\n",
    "plt.clabel(CS, fontsize=12,fmt='%1.0f',colors='red') # inserindo os valores de densidade nas linhas contornadas\n",
    "\n",
    "\n",
    "plt.plot(dado.sal00, dado.t068C,'+',color='b',markersize=1) # plotando os pares TS\n",
    "\n",
    "plt.xlabel('Salinidade') # 3 #\n",
    "plt.ylabel('Temperatura [$^\\circ$C]')\n",
    "plt.title('Diagrama TS')\n"
   ]
  },
  {
   "cell_type": "markdown",
   "metadata": {},
   "source": [
    "---"
   ]
  },
  {
   "cell_type": "markdown",
   "metadata": {},
   "source": [
    "<img  style=\" width: 75px; height:30px; float:center\" src=\"https://raw.githubusercontent.com/calixtops/ES/main/img/logo_OEPY.png\">"
   ]
  },
  {
   "cell_type": "code",
   "execution_count": null,
   "metadata": {},
   "outputs": [],
   "source": []
  }
 ],
 "metadata": {
  "colab": {
   "collapsed_sections": [],
   "name": "ADADOS - Aula5 - Pandas  / Matplotlib / Diagrama TS.ipynb",
   "provenance": []
  },
  "kernelspec": {
   "display_name": "Python 3",
   "language": "python",
   "name": "python3"
  },
  "language_info": {
   "codemirror_mode": {
    "name": "ipython",
    "version": 3
   },
   "file_extension": ".py",
   "mimetype": "text/x-python",
   "name": "python",
   "nbconvert_exporter": "python",
   "pygments_lexer": "ipython3",
   "version": "3.8.3"
  }
 },
 "nbformat": 4,
 "nbformat_minor": 1
}
