{
 "cells": [
  {
   "cell_type": "markdown",
   "metadata": {},
   "source": [
    "<img style='float: right; height:85%; width: 25%' src=\"https://raw.githubusercontent.com/calixtops/ES/main/img/logo_OEPY.png\" >"
   ]
  },
  {
   "cell_type": "markdown",
   "metadata": {},
   "source": [
    "\n",
    "<h1 style=\"text-align: center\"> Aula 2 - Estrutura de Dados em Python </h1>\n",
    "<a id='section_id1'></a>\n"
   ]
  },
  {
   "cell_type": "markdown",
   "metadata": {},
   "source": [
    "---"
   ]
  },
  {
   "cell_type": "markdown",
   "metadata": {},
   "source": [
    "# Índice\n",
    "\n",
    "[**Aula 2 - Estrutura de Dados em Python**](#section_id1)\n",
    "- [1. Tuplas](#section_id2)\n",
    "    - [1.1 Operadores Relacionais](#section_id3)\n",
    "    - [1.2 Teste de Pertinência](#section_id4)\n",
    "    - [1.3 Criando Funções](#section_id5)\n",
    "- [2. Cadeias de Caracteres (Strings)](#section_id6)\n",
    "    - [2.1 Conversão Entre Tipos](#section_id7)\n",
    "\n",
    "- [3. Listas](#section_id8)\n",
    "    - [3.1 Fatiamento de Listas](#section_id9)\n",
    "    - [3.2 Métodos Utilizados em Listas](#section_id10)\n",
    "\n",
    "- [4. Dicionários](#section_id11)\n",
    "- [5. Numpy Array](#section_id12)\n"
   ]
  },
  {
   "cell_type": "markdown",
   "metadata": {
    "id": "l4hYgvjs4yAO"
   },
   "source": [
    "<p style=\"text-decoration: underline\">Estutura de dados é qualquer meio utilizado para armazenar ou recuperar informações</p>\n",
    "\n",
    "\n",
    "Abordaremos nessa aula as estruturas de dados como:\n",
    "Tuplas, cadeias de caracteres (string), listas, arquivos e dicionários."
   ]
  },
  {
   "cell_type": "markdown",
   "metadata": {
    "id": "aGO63wnu4yAR"
   },
   "source": [
    "## 1. Tuplas\n",
    "<a id='section_id2'></a>\n",
    "\n"
   ]
  },
  {
   "cell_type": "markdown",
   "metadata": {
    "id": "8jzHgnqz4yAT"
   },
   "source": [
    "<div class=\"alert alert-block alert-success\">\n",
    "\n",
    "\n",
    "<b>Uma tupla é um sequência de valores distintos de acordo com a posição\n",
    "em que aparecem na tupla. Em uma tupla, os valores componentes sao separados\n",
    "por vírgula.<b>\n",
    "    </div>"
   ]
  },
  {
   "cell_type": "code",
   "execution_count": 1,
   "metadata": {
    "id": "CdJYaKKr4yAV"
   },
   "outputs": [],
   "source": [
    "dupla = 'abc',10"
   ]
  },
  {
   "cell_type": "code",
   "execution_count": 2,
   "metadata": {
    "colab": {
     "base_uri": "https://localhost:8080/"
    },
    "executionInfo": {
     "elapsed": 5444,
     "status": "ok",
     "timestamp": 1607539716798,
     "user": {
      "displayName": "Pedro Calixto",
      "photoUrl": "https://lh3.googleusercontent.com/a-/AOh14Gg0lRxjwA8brpeHxk7aHwRimkQ3KrPTXDrnAl0X8Lg=s64",
      "userId": "06936679020888677524"
     },
     "user_tz": 180
    },
    "id": "KEYYt9Hy4yAi",
    "outputId": "a1a21dac-14ad-4f6d-c6f6-b4ee7b080f5a"
   },
   "outputs": [
    {
     "name": "stdout",
     "output_type": "stream",
     "text": [
      "('abc', 10)\n"
     ]
    }
   ],
   "source": [
    "print(dupla)"
   ]
  },
  {
   "cell_type": "code",
   "execution_count": 3,
   "metadata": {
    "id": "JuMmMRQb4yAp"
   },
   "outputs": [],
   "source": [
    "tripla = 1,True,'1'"
   ]
  },
  {
   "cell_type": "code",
   "execution_count": 4,
   "metadata": {
    "colab": {
     "base_uri": "https://localhost:8080/"
    },
    "executionInfo": {
     "elapsed": 5921,
     "status": "ok",
     "timestamp": 1607539730084,
     "user": {
      "displayName": "Pedro Calixto",
      "photoUrl": "https://lh3.googleusercontent.com/a-/AOh14Gg0lRxjwA8brpeHxk7aHwRimkQ3KrPTXDrnAl0X8Lg=s64",
      "userId": "06936679020888677524"
     },
     "user_tz": 180
    },
    "id": "6YWVB4cG4yAv",
    "outputId": "fe9f2c7f-3338-4a20-cf3d-900f60075cf6"
   },
   "outputs": [
    {
     "data": {
      "text/plain": [
       "(1, True, '1')"
      ]
     },
     "execution_count": 4,
     "metadata": {},
     "output_type": "execute_result"
    }
   ],
   "source": [
    "tripla"
   ]
  },
  {
   "cell_type": "markdown",
   "metadata": {
    "id": "ZbiFjIjr4yA3"
   },
   "source": [
    "<mark style=\"background-color:red\">Aqui nos deparamos com um novo tipo de valor, o tipo \"Boolean\" ou Booleano.</mark>\n",
    "    \n",
    "<b> Em Python, uma variável pode assumir valor booleano True (verdadeiro) ou False (falso). Esses valores são úteis para representar, por exemplo, o resultado de uma comparação. Experimente: <b>"
   ]
  },
  {
   "cell_type": "code",
   "execution_count": 5,
   "metadata": {
    "id": "IebVK08R4yA5"
   },
   "outputs": [],
   "source": [
    "a = 3"
   ]
  },
  {
   "cell_type": "code",
   "execution_count": 6,
   "metadata": {
    "id": "o5FpG2944yBA"
   },
   "outputs": [],
   "source": [
    "b = 4"
   ]
  },
  {
   "cell_type": "code",
   "execution_count": 7,
   "metadata": {
    "id": "wAXQa_p64yBF"
   },
   "outputs": [],
   "source": [
    "c = a < b # c recebe o valor da comparação a < b"
   ]
  },
  {
   "cell_type": "code",
   "execution_count": 8,
   "metadata": {
    "colab": {
     "base_uri": "https://localhost:8080/"
    },
    "executionInfo": {
     "elapsed": 748,
     "status": "ok",
     "timestamp": 1607539834354,
     "user": {
      "displayName": "Pedro Calixto",
      "photoUrl": "https://lh3.googleusercontent.com/a-/AOh14Gg0lRxjwA8brpeHxk7aHwRimkQ3KrPTXDrnAl0X8Lg=s64",
      "userId": "06936679020888677524"
     },
     "user_tz": 180
    },
    "id": "qUR2UH2Q4yBJ",
    "outputId": "513d8441-4784-4e84-efef-4a8ec4111a32"
   },
   "outputs": [
    {
     "name": "stdout",
     "output_type": "stream",
     "text": [
      "True\n"
     ]
    }
   ],
   "source": [
    "print(c)"
   ]
  },
  {
   "cell_type": "code",
   "execution_count": 9,
   "metadata": {
    "colab": {
     "base_uri": "https://localhost:8080/"
    },
    "executionInfo": {
     "elapsed": 1900,
     "status": "ok",
     "timestamp": 1607539845774,
     "user": {
      "displayName": "Pedro Calixto",
      "photoUrl": "https://lh3.googleusercontent.com/a-/AOh14Gg0lRxjwA8brpeHxk7aHwRimkQ3KrPTXDrnAl0X8Lg=s64",
      "userId": "06936679020888677524"
     },
     "user_tz": 180
    },
    "id": "TcCtfG_Y4yBP",
    "outputId": "57537786-2ce8-4446-9152-f3483d8a054a"
   },
   "outputs": [
    {
     "data": {
      "text/plain": [
       "bool"
      ]
     },
     "execution_count": 9,
     "metadata": {},
     "output_type": "execute_result"
    }
   ],
   "source": [
    "type(c)"
   ]
  },
  {
   "cell_type": "markdown",
   "metadata": {
    "id": "wTxmI-MN4yBV"
   },
   "source": [
    "Uma aplicação para os valores booleanos é a utilização de Operadores Relacionais e Operadores Comparativos."
   ]
  },
  {
   "cell_type": "markdown",
   "metadata": {},
   "source": [
    "### 1.1 Operadores Relacionais\n",
    "<a id='section_id3'></a>\n"
   ]
  },
  {
   "cell_type": "markdown",
   "metadata": {
    "id": "-2jTa78b4yBW"
   },
   "source": [
    "<div class=\"alert alert-block alert-success\">\n",
    "\n",
    "\n",
    "<b>Operador Relacional ou Comparativo é todo operador que obtém a relação do membro a esquerda com o membro a sua direita. São símbolos utilizados para fazer comparações.\n",
    "    </div>"
   ]
  },
  {
   "cell_type": "markdown",
   "metadata": {
    "id": "dVBqZZVT4yBX"
   },
   "source": [
    "<img src=\"https://aprendendoprogramacaocombr.files.wordpress.com/2018/08/relacionais.jpg?w=723\" width=600px height=600px/>\n"
   ]
  },
  {
   "cell_type": "markdown",
   "metadata": {
    "id": "Aqr_B--F4yBZ"
   },
   "source": [
    "Algumas formas de fazer comparações em python"
   ]
  },
  {
   "cell_type": "code",
   "execution_count": 10,
   "metadata": {
    "id": "3gf5iiuf4yBa"
   },
   "outputs": [],
   "source": [
    "d = a > b # d recebe o valor da comparação a > b"
   ]
  },
  {
   "cell_type": "code",
   "execution_count": 11,
   "metadata": {
    "colab": {
     "base_uri": "https://localhost:8080/"
    },
    "executionInfo": {
     "elapsed": 1889,
     "status": "ok",
     "timestamp": 1607539935321,
     "user": {
      "displayName": "Pedro Calixto",
      "photoUrl": "https://lh3.googleusercontent.com/a-/AOh14Gg0lRxjwA8brpeHxk7aHwRimkQ3KrPTXDrnAl0X8Lg=s64",
      "userId": "06936679020888677524"
     },
     "user_tz": 180
    },
    "id": "lzvTWzbl2J-g",
    "outputId": "3c703011-0f5a-4579-f7b3-813c069dc420"
   },
   "outputs": [
    {
     "name": "stdout",
     "output_type": "stream",
     "text": [
      "False\n"
     ]
    }
   ],
   "source": [
    "print(d)"
   ]
  },
  {
   "cell_type": "code",
   "execution_count": 12,
   "metadata": {
    "id": "mJOL-UE04yBg"
   },
   "outputs": [],
   "source": [
    "e = a == b # e recebe o valor da comparação a == b"
   ]
  },
  {
   "cell_type": "code",
   "execution_count": 13,
   "metadata": {
    "colab": {
     "base_uri": "https://localhost:8080/"
    },
    "executionInfo": {
     "elapsed": 2344,
     "status": "ok",
     "timestamp": 1607539963508,
     "user": {
      "displayName": "Pedro Calixto",
      "photoUrl": "https://lh3.googleusercontent.com/a-/AOh14Gg0lRxjwA8brpeHxk7aHwRimkQ3KrPTXDrnAl0X8Lg=s64",
      "userId": "06936679020888677524"
     },
     "user_tz": 180
    },
    "id": "I0CdG6iI4yBr",
    "outputId": "912ef8c9-af9d-41c0-99c6-6dce2961a7fb"
   },
   "outputs": [
    {
     "data": {
      "text/plain": [
       "False"
      ]
     },
     "execution_count": 13,
     "metadata": {},
     "output_type": "execute_result"
    }
   ],
   "source": [
    "e"
   ]
  },
  {
   "cell_type": "code",
   "execution_count": 14,
   "metadata": {
    "colab": {
     "base_uri": "https://localhost:8080/"
    },
    "executionInfo": {
     "elapsed": 771,
     "status": "ok",
     "timestamp": 1607540026293,
     "user": {
      "displayName": "Pedro Calixto",
      "photoUrl": "https://lh3.googleusercontent.com/a-/AOh14Gg0lRxjwA8brpeHxk7aHwRimkQ3KrPTXDrnAl0X8Lg=s64",
      "userId": "06936679020888677524"
     },
     "user_tz": 180
    },
    "id": "BbxF2RlO4yBv",
    "outputId": "db7f991e-0cfe-4cba-8f03-b09cbfe7a248"
   },
   "outputs": [
    {
     "name": "stdout",
     "output_type": "stream",
     "text": [
      "Valor de c: True \n",
      "Valor de d: False \n",
      "Valor de e: False \n"
     ]
    }
   ],
   "source": [
    "print(\"Valor de c: {} \".format(c))\n",
    "print(\"Valor de d: {} \".format(d))\n",
    "print(\"Valor de e: {} \".format(e))\n"
   ]
  },
  {
   "cell_type": "markdown",
   "metadata": {
    "id": "Z4xXRc-A4yB1"
   },
   "source": [
    "<div class=\"alert alert-block alert-info\">\n",
    "\n",
    "<b> Expressões aritméticas, como 2 + 3 * 4, são formadas por valores e operadores aritméticos +, *, -, /.\n",
    "    \n",
    "De maneira semelhante, expressões lógicas ou booleanas são formadas por valores e os operadores lógicos tais como and, or e not.\n",
    "    </div>"
   ]
  },
  {
   "cell_type": "markdown",
   "metadata": {
    "id": "s--c3EWY4yB3"
   },
   "source": [
    "Dado dois valores booleanos A e B, o operador lógico **and** resulta em **True** apenas quando A e B foram ambos **True**, e retorna **False** caso contrário."
   ]
  },
  {
   "cell_type": "code",
   "execution_count": 15,
   "metadata": {
    "colab": {
     "base_uri": "https://localhost:8080/"
    },
    "executionInfo": {
     "elapsed": 696,
     "status": "ok",
     "timestamp": 1607540195085,
     "user": {
      "displayName": "Pedro Calixto",
      "photoUrl": "https://lh3.googleusercontent.com/a-/AOh14Gg0lRxjwA8brpeHxk7aHwRimkQ3KrPTXDrnAl0X8Lg=s64",
      "userId": "06936679020888677524"
     },
     "user_tz": 180
    },
    "id": "sQc5sti64yB4",
    "outputId": "66e9760e-ddca-43c2-9757-4ff28a3aa37e"
   },
   "outputs": [
    {
     "name": "stdout",
     "output_type": "stream",
     "text": [
      "Valor de A e B:  False\n"
     ]
    }
   ],
   "source": [
    "A = True\n",
    "B = False\n",
    "print(\"Valor de A e B: \", A and B)"
   ]
  },
  {
   "cell_type": "markdown",
   "metadata": {
    "id": "LyAoA9Lb4yB8"
   },
   "source": [
    "O conector **and** significa que as duas condições devem ser verdadeiras. "
   ]
  },
  {
   "cell_type": "markdown",
   "metadata": {
    "id": "bwsd4SFC4yB8"
   },
   "source": [
    "**Exemplo:** Ao finalizar o curso, alunos de uma certa disciplina devem possuir nota maior que 7 e devem possuir, no máximo, 10 faltas. Para aferir essas condição temos a seguinte relação."
   ]
  },
  {
   "cell_type": "code",
   "execution_count": 16,
   "metadata": {
    "id": "Sc6bIyu64yB-"
   },
   "outputs": [],
   "source": [
    "nota = 7 \n",
    "faltas = 9"
   ]
  },
  {
   "cell_type": "code",
   "execution_count": 17,
   "metadata": {
    "colab": {
     "base_uri": "https://localhost:8080/"
    },
    "executionInfo": {
     "elapsed": 722,
     "status": "ok",
     "timestamp": 1607540254509,
     "user": {
      "displayName": "Pedro Calixto",
      "photoUrl": "https://lh3.googleusercontent.com/a-/AOh14Gg0lRxjwA8brpeHxk7aHwRimkQ3KrPTXDrnAl0X8Lg=s64",
      "userId": "06936679020888677524"
     },
     "user_tz": 180
    },
    "id": "eebTErZ14yCB",
    "outputId": "aac45a77-f6cc-4cb1-8228-c8bb374e6273"
   },
   "outputs": [
    {
     "data": {
      "text/plain": [
       "True"
      ]
     },
     "execution_count": 17,
     "metadata": {},
     "output_type": "execute_result"
    }
   ],
   "source": [
    "nota >=7 and faltas <=10"
   ]
  },
  {
   "cell_type": "markdown",
   "metadata": {
    "id": "FVcOqEr-4yCF"
   },
   "source": [
    "O valor de saída <b>True</b> quer dizer que a condição para que o aluno passe de ano foi satisfeita."
   ]
  },
  {
   "cell_type": "markdown",
   "metadata": {},
   "source": [
    "### 1.2 Teste de Pertinência\n",
    "\n",
    "<a id='section_id4'></a>\n"
   ]
  },
  {
   "cell_type": "markdown",
   "metadata": {
    "id": "jwVh_rze4yCH"
   },
   "source": [
    "<p><code class=\"docutils literal notranslate\"><span class=\"pre\">in</span></code> e <code class=\"docutils literal notranslate\"><span class=\"pre\">not</span> <span class=\"pre\">in</span></code> são operadores booleanos ou lógicos que testam a pertinência\n",
    " em uma sequência.</p>"
   ]
  },
  {
   "cell_type": "code",
   "execution_count": 18,
   "metadata": {
    "id": "OxkgyXUo4yCH"
   },
   "outputs": [],
   "source": [
    "dupla = 'abc',10"
   ]
  },
  {
   "cell_type": "code",
   "execution_count": 19,
   "metadata": {
    "id": "s2WiAZ6z3z-j"
   },
   "outputs": [],
   "source": [
    "cadeia = 'Hoje eu acordei e li um livro legal.'"
   ]
  },
  {
   "cell_type": "code",
   "execution_count": 20,
   "metadata": {
    "colab": {
     "base_uri": "https://localhost:8080/"
    },
    "executionInfo": {
     "elapsed": 804,
     "status": "ok",
     "timestamp": 1607540352284,
     "user": {
      "displayName": "Pedro Calixto",
      "photoUrl": "https://lh3.googleusercontent.com/a-/AOh14Gg0lRxjwA8brpeHxk7aHwRimkQ3KrPTXDrnAl0X8Lg=s64",
      "userId": "06936679020888677524"
     },
     "user_tz": 180
    },
    "id": "nWH8AsDT4yCK",
    "outputId": "5264a2c5-e31c-49c7-ba94-c843c4a9fe97"
   },
   "outputs": [
    {
     "data": {
      "text/plain": [
       "True"
      ]
     },
     "execution_count": 20,
     "metadata": {},
     "output_type": "execute_result"
    }
   ],
   "source": [
    "10 in dupla"
   ]
  },
  {
   "cell_type": "code",
   "execution_count": 21,
   "metadata": {
    "colab": {
     "base_uri": "https://localhost:8080/"
    },
    "executionInfo": {
     "elapsed": 2466,
     "status": "ok",
     "timestamp": 1607540418707,
     "user": {
      "displayName": "Pedro Calixto",
      "photoUrl": "https://lh3.googleusercontent.com/a-/AOh14Gg0lRxjwA8brpeHxk7aHwRimkQ3KrPTXDrnAl0X8Lg=s64",
      "userId": "06936679020888677524"
     },
     "user_tz": 180
    },
    "id": "sNVnz6pH359C",
    "outputId": "dd3f2723-a039-432c-9690-9048bdbb13ff"
   },
   "outputs": [
    {
     "data": {
      "text/plain": [
       "False"
      ]
     },
     "execution_count": 21,
     "metadata": {},
     "output_type": "execute_result"
    }
   ],
   "source": [
    "'livro  ' in cadeia"
   ]
  },
  {
   "cell_type": "code",
   "execution_count": 22,
   "metadata": {},
   "outputs": [
    {
     "data": {
      "text/plain": [
       "True"
      ]
     },
     "execution_count": 22,
     "metadata": {},
     "output_type": "execute_result"
    }
   ],
   "source": [
    "'livro  ' not in cadeia"
   ]
  },
  {
   "cell_type": "code",
   "execution_count": 23,
   "metadata": {},
   "outputs": [
    {
     "data": {
      "text/plain": [
       "True"
      ]
     },
     "execution_count": 23,
     "metadata": {},
     "output_type": "execute_result"
    }
   ],
   "source": [
    "'livro' in cadeia"
   ]
  },
  {
   "cell_type": "code",
   "execution_count": 24,
   "metadata": {
    "colab": {
     "base_uri": "https://localhost:8080/"
    },
    "executionInfo": {
     "elapsed": 679,
     "status": "ok",
     "timestamp": 1607540460808,
     "user": {
      "displayName": "Pedro Calixto",
      "photoUrl": "https://lh3.googleusercontent.com/a-/AOh14Gg0lRxjwA8brpeHxk7aHwRimkQ3KrPTXDrnAl0X8Lg=s64",
      "userId": "06936679020888677524"
     },
     "user_tz": 180
    },
    "id": "SWQGErQd4yCQ",
    "outputId": "77a7d28a-5f1d-4d90-8573-6287863917a4",
    "scrolled": true
   },
   "outputs": [
    {
     "name": "stdout",
     "output_type": "stream",
     "text": [
      "abc\n"
     ]
    }
   ],
   "source": [
    "print(dupla[0])"
   ]
  },
  {
   "cell_type": "code",
   "execution_count": 25,
   "metadata": {
    "colab": {
     "base_uri": "https://localhost:8080/"
    },
    "executionInfo": {
     "elapsed": 2481,
     "status": "ok",
     "timestamp": 1607540469569,
     "user": {
      "displayName": "Pedro Calixto",
      "photoUrl": "https://lh3.googleusercontent.com/a-/AOh14Gg0lRxjwA8brpeHxk7aHwRimkQ3KrPTXDrnAl0X8Lg=s64",
      "userId": "06936679020888677524"
     },
     "user_tz": 180
    },
    "id": "-fSPTHtf4yCU",
    "outputId": "bfc54605-1793-41af-927c-1ddeb63fddc2"
   },
   "outputs": [
    {
     "name": "stdout",
     "output_type": "stream",
     "text": [
      "10\n"
     ]
    }
   ],
   "source": [
    "print(dupla[1])"
   ]
  },
  {
   "cell_type": "code",
   "execution_count": 26,
   "metadata": {
    "colab": {
     "base_uri": "https://localhost:8080/",
     "height": 35
    },
    "executionInfo": {
     "elapsed": 5441,
     "status": "ok",
     "timestamp": 1607540499172,
     "user": {
      "displayName": "Pedro Calixto",
      "photoUrl": "https://lh3.googleusercontent.com/a-/AOh14Gg0lRxjwA8brpeHxk7aHwRimkQ3KrPTXDrnAl0X8Lg=s64",
      "userId": "06936679020888677524"
     },
     "user_tz": 180
    },
    "id": "eb7it4x14yCb",
    "outputId": "93e6e49c-d225-48a9-cce2-23166660cb7b"
   },
   "outputs": [
    {
     "data": {
      "text/plain": [
       "'abc'"
      ]
     },
     "execution_count": 26,
     "metadata": {},
     "output_type": "execute_result"
    }
   ],
   "source": [
    "dupla[-2]"
   ]
  },
  {
   "cell_type": "code",
   "execution_count": 27,
   "metadata": {
    "colab": {
     "base_uri": "https://localhost:8080/"
    },
    "executionInfo": {
     "elapsed": 846,
     "status": "ok",
     "timestamp": 1607540504934,
     "user": {
      "displayName": "Pedro Calixto",
      "photoUrl": "https://lh3.googleusercontent.com/a-/AOh14Gg0lRxjwA8brpeHxk7aHwRimkQ3KrPTXDrnAl0X8Lg=s64",
      "userId": "06936679020888677524"
     },
     "user_tz": 180
    },
    "id": "_ddXtmJU4yCr",
    "outputId": "275f64a0-7e13-43d7-bb60-ac8b40829961"
   },
   "outputs": [
    {
     "data": {
      "text/plain": [
       "(1, True, '1')"
      ]
     },
     "execution_count": 27,
     "metadata": {},
     "output_type": "execute_result"
    }
   ],
   "source": [
    "tripla"
   ]
  },
  {
   "cell_type": "markdown",
   "metadata": {
    "id": "dPB9kFl84yCy"
   },
   "source": [
    "### 1.3 Criando Funções\n",
    "<a id='section_id5'></a>\n"
   ]
  },
  {
   "cell_type": "markdown",
   "metadata": {
    "id": "0r10mzn04yC2"
   },
   "source": [
    "<p>Até aqui, temos utilizado somente as funções internas do Python, mas também é possível adicionar novas funções. Criar novas funções para resolver seus próprios problemas é uma das coisas mais úteis de uma linguagem de programação de propósito geral.</p>"
   ]
  },
  {
   "cell_type": "markdown",
   "metadata": {},
   "source": [
    "<div class=\"alert alert-block alert-success\">\n",
    "\n",
    "\n",
    "<strong>Função</strong> é uma sequência nomeada de instruções ou comandos, que realizam uma operação desejada. Esta operação é especificada na <strong>definição da função</strong>. \n",
    "    </div>"
   ]
  },
  {
   "cell_type": "markdown",
   "metadata": {},
   "source": [
    "<p>A sintaxe para definir uma função é:</p>\n",
    "\n",
    "<div style=\"background-color: gray\">\n",
    "<img src=\"https://raw.githubusercontent.com/calixtops/ES/main/img/Screenshot%20from%202021-04-05%2018-13-18.png\" />\n",
    "</div>"
   ]
  },
  {
   "cell_type": "markdown",
   "metadata": {
    "id": "Yy8dcRyK4yC5"
   },
   "source": [
    "Você pode usar o nome que quiser para as funções que deseja criar, exceto as palavras reservadas do Python. \n",
    "\n",
    "A lista de argumentos especifíca quais argumentos ou parâmetros, se houver, você tem que fornecer para poder usar a nova função.\n",
    "\n",
    "Uma função pode ter quantos comandos forem necessários, mas eles precisam estar identados a partir da margem esquerda."
   ]
  },
  {
   "cell_type": "markdown",
   "metadata": {},
   "source": [
    "As primeiras funções que vamos mostrar não terão argumentos, então, a sintaxe terá a seguinte aparência:"
   ]
  },
  {
   "cell_type": "code",
   "execution_count": 28,
   "metadata": {
    "id": "WPLvEraj4yC5"
   },
   "outputs": [],
   "source": [
    "def novaLinha():\n",
    "  ''' Help para a função novalinha()\n",
    "  Essa função adiciona uma linha'''\n",
    "  print()"
   ]
  },
  {
   "cell_type": "code",
   "execution_count": 29,
   "metadata": {
    "id": "wNB87DHp5NMW"
   },
   "outputs": [],
   "source": [
    "novaLinha?"
   ]
  },
  {
   "cell_type": "markdown",
   "metadata": {
    "id": "RmZimaRh4yC9"
   },
   "source": [
    "Esta função é chamada de <code class=\"docutils literal\"><span class=\"pre\">novaLinha</span></code>. Os parênteses vazios indicam que ela não tem parâmetros. Contém apenas um único comando, que gera como saída um caractere de nova linha (isso é o que acontece quando você usa um comando <code class=\"docutils literal\"><span class=\"pre\">print</span></code> sem qualquer argumento).</p>"
   ]
  },
  {
   "cell_type": "markdown",
   "metadata": {},
   "source": [
    "<p>A sintaxe para executar a nossa nova função é a mesma sintaxe para as funções nativas:</p>"
   ]
  },
  {
   "cell_type": "code",
   "execution_count": 30,
   "metadata": {
    "colab": {
     "base_uri": "https://localhost:8080/"
    },
    "executionInfo": {
     "elapsed": 1112,
     "status": "ok",
     "timestamp": 1607540894946,
     "user": {
      "displayName": "Pedro Calixto",
      "photoUrl": "https://lh3.googleusercontent.com/a-/AOh14Gg0lRxjwA8brpeHxk7aHwRimkQ3KrPTXDrnAl0X8Lg=s64",
      "userId": "06936679020888677524"
     },
     "user_tz": 180
    },
    "id": "iilxfuCt4yC9",
    "outputId": "732a70d0-e448-4d7a-deff-857620738a8b"
   },
   "outputs": [
    {
     "name": "stdout",
     "output_type": "stream",
     "text": [
      "Primeira Linha.\n",
      "\n",
      "Segunda Linha.\n"
     ]
    }
   ],
   "source": [
    "print( 'Primeira Linha.')\n",
    "novaLinha()\n",
    "print( 'Segunda Linha.')"
   ]
  },
  {
   "cell_type": "markdown",
   "metadata": {
    "id": "pIFlL4mE4yDG"
   },
   "source": [
    "Observe o espaço extra entre as duas linhas. E se desejarmos mais espaço entre as linhas? Poderíamos chamar a mesma função repetidamente:"
   ]
  },
  {
   "cell_type": "code",
   "execution_count": 31,
   "metadata": {
    "colab": {
     "base_uri": "https://localhost:8080/"
    },
    "executionInfo": {
     "elapsed": 858,
     "status": "ok",
     "timestamp": 1607540951211,
     "user": {
      "displayName": "Pedro Calixto",
      "photoUrl": "https://lh3.googleusercontent.com/a-/AOh14Gg0lRxjwA8brpeHxk7aHwRimkQ3KrPTXDrnAl0X8Lg=s64",
      "userId": "06936679020888677524"
     },
     "user_tz": 180
    },
    "id": "IXCOH2wn4yDI",
    "outputId": "235c0b5c-cc1a-4c0a-d898-6d8aae644a8a"
   },
   "outputs": [
    {
     "name": "stdout",
     "output_type": "stream",
     "text": [
      "Primeira Linha.\n",
      "\n",
      "\n",
      "\n",
      "Segunda Linha.\n"
     ]
    }
   ],
   "source": [
    "print( 'Primeira Linha.')\n",
    "novaLinha()\n",
    "novaLinha()\n",
    "novaLinha()\n",
    "print( 'Segunda Linha.')"
   ]
  },
  {
   "cell_type": "markdown",
   "metadata": {
    "id": "CKdp-kKD4yDO"
   },
   "source": [
    "Ou poderíamos escrever uma nova função chamada <code class=\"docutils literal\"><span class=\"pre\">tresLinhas</span></code>, que produzisse três novas linhas:"
   ]
  },
  {
   "cell_type": "code",
   "execution_count": 32,
   "metadata": {
    "colab": {
     "base_uri": "https://localhost:8080/"
    },
    "executionInfo": {
     "elapsed": 761,
     "status": "ok",
     "timestamp": 1607540992754,
     "user": {
      "displayName": "Pedro Calixto",
      "photoUrl": "https://lh3.googleusercontent.com/a-/AOh14Gg0lRxjwA8brpeHxk7aHwRimkQ3KrPTXDrnAl0X8Lg=s64",
      "userId": "06936679020888677524"
     },
     "user_tz": 180
    },
    "id": "bB3pPiQd4yDP",
    "outputId": "3b3043d8-f6f4-43ee-e170-940fb2b58bb4"
   },
   "outputs": [
    {
     "name": "stdout",
     "output_type": "stream",
     "text": [
      "Primeira Linha.\n",
      "\n",
      "\n",
      "\n",
      "Segunda Linha.\n"
     ]
    }
   ],
   "source": [
    "def tresLinhas() :\n",
    "  novaLinha()\n",
    "  novaLinha()\n",
    "  novaLinha()\n",
    "\n",
    "print( 'Primeira Linha.')\n",
    "tresLinhas()\n",
    "print( 'Segunda Linha.')"
   ]
  },
  {
   "cell_type": "markdown",
   "metadata": {
    "id": "K4Ndxpg44yDT"
   },
   "source": [
    "<p>Esta função contém três comandos, todos com recuo de dois espaços a partir da margem esquerda. Já que o próximo comando não está identado, o Python reconhece que ele não faz parte da função.</p>\n"
   ]
  },
  {
   "cell_type": "markdown",
   "metadata": {
    "id": "2nqeMrly4yDV"
   },
   "source": [
    "#### Criando uma função com operadores aritméticos "
   ]
  },
  {
   "cell_type": "markdown",
   "metadata": {
    "id": "LFy2ZiUC4yDW"
   },
   "source": [
    "Utilizando os conceitos da Aula 1, podemos montar funções que utilizem o que aprendemos."
   ]
  },
  {
   "cell_type": "code",
   "execution_count": 33,
   "metadata": {
    "id": "l_w9w0gA4yDY"
   },
   "outputs": [],
   "source": [
    "def soma(a,b):\n",
    "    c = a + b\n",
    "    print('a soma da variavel a + b é igual a {}'.format(c))"
   ]
  },
  {
   "cell_type": "markdown",
   "metadata": {
    "id": "OZoRI2JK4yDb"
   },
   "source": [
    "**Note que agora temos ARGUMENTOS ou PARAMETROS na função que criamos.**"
   ]
  },
  {
   "cell_type": "code",
   "execution_count": 34,
   "metadata": {
    "colab": {
     "base_uri": "https://localhost:8080/"
    },
    "executionInfo": {
     "elapsed": 725,
     "status": "ok",
     "timestamp": 1607541117206,
     "user": {
      "displayName": "Pedro Calixto",
      "photoUrl": "https://lh3.googleusercontent.com/a-/AOh14Gg0lRxjwA8brpeHxk7aHwRimkQ3KrPTXDrnAl0X8Lg=s64",
      "userId": "06936679020888677524"
     },
     "user_tz": 180
    },
    "id": "9LUkwr3q4yDc",
    "outputId": "4f2634c8-a09f-4edf-b2c9-39fbf8f1e86a"
   },
   "outputs": [
    {
     "name": "stdout",
     "output_type": "stream",
     "text": [
      "a soma da variavel a + b é igual a 13\n"
     ]
    }
   ],
   "source": [
    "soma(6,7)"
   ]
  },
  {
   "cell_type": "markdown",
   "metadata": {
    "id": "PMiETcoT4yDg"
   },
   "source": [
    "A função <mark>return</mark> serve para retornar algum valor ou variável de uma função, ou simplesmente encerrar a função."
   ]
  },
  {
   "cell_type": "code",
   "execution_count": 35,
   "metadata": {
    "id": "xrYNFzrO4yDv"
   },
   "outputs": [],
   "source": [
    "def soma(a,b):\n",
    "    print('a soma da variavel a + b é igual a {}'.format(a+b))\n",
    "    return a+b"
   ]
  },
  {
   "cell_type": "code",
   "execution_count": 36,
   "metadata": {
    "colab": {
     "base_uri": "https://localhost:8080/"
    },
    "executionInfo": {
     "elapsed": 977,
     "status": "ok",
     "timestamp": 1607541174072,
     "user": {
      "displayName": "Pedro Calixto",
      "photoUrl": "https://lh3.googleusercontent.com/a-/AOh14Gg0lRxjwA8brpeHxk7aHwRimkQ3KrPTXDrnAl0X8Lg=s64",
      "userId": "06936679020888677524"
     },
     "user_tz": 180
    },
    "id": "2VvNynS94yD2",
    "outputId": "ebc10b8b-354f-4abb-ddac-4780a503b82b"
   },
   "outputs": [
    {
     "name": "stdout",
     "output_type": "stream",
     "text": [
      "a soma da variavel a + b é igual a 8\n",
      "8\n"
     ]
    }
   ],
   "source": [
    "c = soma(5,3)\n",
    "print(c)"
   ]
  },
  {
   "cell_type": "markdown",
   "metadata": {
    "id": "Vw4NutD64yEA"
   },
   "source": [
    "## 2. Cadeias de Caracteres (Strings)\n",
    "<a id='section_id6'></a>"
   ]
  },
  {
   "cell_type": "markdown",
   "metadata": {
    "id": "nvFoY97L4yED"
   },
   "source": [
    "<div class=\"alert alert-block alert-success\">\n",
    "\n",
    "Caractere é a únidade mínima de toda String. Um caractere pode ser numérico, letras do alfabeto ou um caractere especial. Para o Python, tudo são Strings, indiferente se a mesma contiver 1 ou \"n\" caracteres.\n",
    "    </div>"
   ]
  },
  {
   "cell_type": "code",
   "execution_count": 37,
   "metadata": {
    "colab": {
     "base_uri": "https://localhost:8080/"
    },
    "executionInfo": {
     "elapsed": 744,
     "status": "ok",
     "timestamp": 1607541456184,
     "user": {
      "displayName": "Pedro Calixto",
      "photoUrl": "https://lh3.googleusercontent.com/a-/AOh14Gg0lRxjwA8brpeHxk7aHwRimkQ3KrPTXDrnAl0X8Lg=s64",
      "userId": "06936679020888677524"
     },
     "user_tz": 180
    },
    "id": "NC8CEj0G4yED",
    "outputId": "9bf24dd6-a696-4d07-c343-7a1bf18ca075"
   },
   "outputs": [
    {
     "data": {
      "text/plain": [
       "str"
      ]
     },
     "execution_count": 37,
     "metadata": {},
     "output_type": "execute_result"
    }
   ],
   "source": [
    "type(\"Olá\")"
   ]
  },
  {
   "cell_type": "code",
   "execution_count": 38,
   "metadata": {
    "colab": {
     "base_uri": "https://localhost:8080/"
    },
    "executionInfo": {
     "elapsed": 2616,
     "status": "ok",
     "timestamp": 1607541469666,
     "user": {
      "displayName": "Pedro Calixto",
      "photoUrl": "https://lh3.googleusercontent.com/a-/AOh14Gg0lRxjwA8brpeHxk7aHwRimkQ3KrPTXDrnAl0X8Lg=s64",
      "userId": "06936679020888677524"
     },
     "user_tz": 180
    },
    "id": "-0gL7ExO4yEH",
    "outputId": "112e5dd2-7011-4700-9080-078fc361c05c"
   },
   "outputs": [
    {
     "data": {
      "text/plain": [
       "str"
      ]
     },
     "execution_count": 38,
     "metadata": {},
     "output_type": "execute_result"
    }
   ],
   "source": [
    "type('O')"
   ]
  },
  {
   "cell_type": "markdown",
   "metadata": {
    "id": "yNxK0eSW4yEJ"
   },
   "source": [
    "Uma das formas usais de manipular Strings e outros valores é **CONCATENANDO**.\n",
    "\n",
    "**Concatenar é, basicamente, juntar 2 cadeias de caracteres dando origem a uma nova string.**"
   ]
  },
  {
   "cell_type": "code",
   "execution_count": 39,
   "metadata": {
    "id": "KOP2ro6k4yEM"
   },
   "outputs": [],
   "source": [
    "concatenado = \"Ola, \" + \"mundo\""
   ]
  },
  {
   "cell_type": "code",
   "execution_count": 40,
   "metadata": {
    "colab": {
     "base_uri": "https://localhost:8080/"
    },
    "executionInfo": {
     "elapsed": 2514,
     "status": "ok",
     "timestamp": 1607541508197,
     "user": {
      "displayName": "Pedro Calixto",
      "photoUrl": "https://lh3.googleusercontent.com/a-/AOh14Gg0lRxjwA8brpeHxk7aHwRimkQ3KrPTXDrnAl0X8Lg=s64",
      "userId": "06936679020888677524"
     },
     "user_tz": 180
    },
    "id": "XzeyvyaG4yEP",
    "outputId": "389d4733-7466-43fd-e697-7a2a5f17ad82"
   },
   "outputs": [
    {
     "name": "stdout",
     "output_type": "stream",
     "text": [
      "Ola, mundo\n"
     ]
    }
   ],
   "source": [
    "print(concatenado)"
   ]
  },
  {
   "cell_type": "markdown",
   "metadata": {
    "id": "dN2WvOdI4yES"
   },
   "source": [
    "Podemos utilizar a indexação para acessar elementos dentro de cadeias de caracteres:"
   ]
  },
  {
   "cell_type": "code",
   "execution_count": 41,
   "metadata": {
    "colab": {
     "base_uri": "https://localhost:8080/",
     "height": 35
    },
    "executionInfo": {
     "elapsed": 2586,
     "status": "ok",
     "timestamp": 1607541540434,
     "user": {
      "displayName": "Pedro Calixto",
      "photoUrl": "https://lh3.googleusercontent.com/a-/AOh14Gg0lRxjwA8brpeHxk7aHwRimkQ3KrPTXDrnAl0X8Lg=s64",
      "userId": "06936679020888677524"
     },
     "user_tz": 180
    },
    "id": "HAHaS6kc4yES",
    "outputId": "b210da9a-0f2a-4bbd-cb9f-1dd6a55254a3"
   },
   "outputs": [
    {
     "data": {
      "text/plain": [
       "'l'"
      ]
     },
     "execution_count": 41,
     "metadata": {},
     "output_type": "execute_result"
    }
   ],
   "source": [
    "concatenado[1]"
   ]
  },
  {
   "cell_type": "code",
   "execution_count": 42,
   "metadata": {
    "id": "f9fFpiE24yEV"
   },
   "outputs": [],
   "source": [
    "tupla = concatenado[0], concatenado[1], concatenado[2]"
   ]
  },
  {
   "cell_type": "code",
   "execution_count": 43,
   "metadata": {
    "colab": {
     "base_uri": "https://localhost:8080/"
    },
    "executionInfo": {
     "elapsed": 3815,
     "status": "ok",
     "timestamp": 1607541562306,
     "user": {
      "displayName": "Pedro Calixto",
      "photoUrl": "https://lh3.googleusercontent.com/a-/AOh14Gg0lRxjwA8brpeHxk7aHwRimkQ3KrPTXDrnAl0X8Lg=s64",
      "userId": "06936679020888677524"
     },
     "user_tz": 180
    },
    "id": "I5i-AJsY4yEY",
    "outputId": "e480d6e3-b724-4c1b-a706-75b8fc4310bf"
   },
   "outputs": [
    {
     "data": {
      "text/plain": [
       "('O', 'l', 'a')"
      ]
     },
     "execution_count": 43,
     "metadata": {},
     "output_type": "execute_result"
    }
   ],
   "source": [
    "tupla"
   ]
  },
  {
   "cell_type": "code",
   "execution_count": 44,
   "metadata": {
    "colab": {
     "base_uri": "https://localhost:8080/",
     "height": 35
    },
    "executionInfo": {
     "elapsed": 866,
     "status": "ok",
     "timestamp": 1607541579817,
     "user": {
      "displayName": "Pedro Calixto",
      "photoUrl": "https://lh3.googleusercontent.com/a-/AOh14Gg0lRxjwA8brpeHxk7aHwRimkQ3KrPTXDrnAl0X8Lg=s64",
      "userId": "06936679020888677524"
     },
     "user_tz": 180
    },
    "id": "fZQoY-nU4yEb",
    "outputId": "7108ffd6-7c2b-4bc2-81c9-33d89f125f4f"
   },
   "outputs": [
    {
     "data": {
      "text/plain": [
       "'Ola'"
      ]
     },
     "execution_count": 44,
     "metadata": {},
     "output_type": "execute_result"
    }
   ],
   "source": [
    "tupla[0] + tupla[1] + tupla[2]"
   ]
  },
  {
   "cell_type": "code",
   "execution_count": 45,
   "metadata": {
    "colab": {
     "base_uri": "https://localhost:8080/"
    },
    "executionInfo": {
     "elapsed": 2278,
     "status": "ok",
     "timestamp": 1607541612957,
     "user": {
      "displayName": "Pedro Calixto",
      "photoUrl": "https://lh3.googleusercontent.com/a-/AOh14Gg0lRxjwA8brpeHxk7aHwRimkQ3KrPTXDrnAl0X8Lg=s64",
      "userId": "06936679020888677524"
     },
     "user_tz": 180
    },
    "id": "3YGOepEo4yEf",
    "outputId": "fc984b8a-d127-4c9c-ad4e-65f003a2d354"
   },
   "outputs": [
    {
     "data": {
      "text/plain": [
       "('O', 'l', 'a')"
      ]
     },
     "execution_count": 45,
     "metadata": {},
     "output_type": "execute_result"
    }
   ],
   "source": [
    "tupla[0:3]"
   ]
  },
  {
   "cell_type": "markdown",
   "metadata": {
    "id": "x7m6aLoE4yEi"
   },
   "source": [
    "Podemos usar intervalos maiores para selecionar elementos dentro da cadeia. **Indexação**"
   ]
  },
  {
   "cell_type": "code",
   "execution_count": 46,
   "metadata": {
    "colab": {
     "base_uri": "https://localhost:8080/",
     "height": 35
    },
    "executionInfo": {
     "elapsed": 2360,
     "status": "ok",
     "timestamp": 1607541657512,
     "user": {
      "displayName": "Pedro Calixto",
      "photoUrl": "https://lh3.googleusercontent.com/a-/AOh14Gg0lRxjwA8brpeHxk7aHwRimkQ3KrPTXDrnAl0X8Lg=s64",
      "userId": "06936679020888677524"
     },
     "user_tz": 180
    },
    "id": "NtcVk2aw4yEj",
    "outputId": "baf047b6-a06c-499a-fa14-bce2af5085f4"
   },
   "outputs": [
    {
     "data": {
      "text/plain": [
       "'Oa ud'"
      ]
     },
     "execution_count": 46,
     "metadata": {},
     "output_type": "execute_result"
    }
   ],
   "source": [
    "concatenado[0:10:2]"
   ]
  },
  {
   "cell_type": "markdown",
   "metadata": {
    "id": "BzlrIWdh4yEm"
   },
   "source": [
    "<div class=\"alert alert-block alert-info\">\n",
    "\n",
    "\n",
    "A **indexação** é utilizada para acessar um ou vários elementos da nossa cadeia.\n",
    "\n",
    "x[i] retorna o elemento na i-ésima posição da cadeia. O indice **i** deve ser um numero inteiro.\n",
    "\n",
    "O indice **i** também pode ser negativo.\n",
    "    </div>"
   ]
  },
  {
   "cell_type": "code",
   "execution_count": 47,
   "metadata": {
    "colab": {
     "base_uri": "https://localhost:8080/",
     "height": 35
    },
    "executionInfo": {
     "elapsed": 4453,
     "status": "ok",
     "timestamp": 1607541684821,
     "user": {
      "displayName": "Pedro Calixto",
      "photoUrl": "https://lh3.googleusercontent.com/a-/AOh14Gg0lRxjwA8brpeHxk7aHwRimkQ3KrPTXDrnAl0X8Lg=s64",
      "userId": "06936679020888677524"
     },
     "user_tz": 180
    },
    "id": "7WAQRIPd4yEn",
    "outputId": "998fc667-b0b4-4049-dfc0-83d2d03092ae"
   },
   "outputs": [
    {
     "data": {
      "text/plain": [
       "'o'"
      ]
     },
     "execution_count": 47,
     "metadata": {},
     "output_type": "execute_result"
    }
   ],
   "source": [
    "concatenado[-1]"
   ]
  },
  {
   "cell_type": "code",
   "execution_count": 48,
   "metadata": {
    "colab": {
     "base_uri": "https://localhost:8080/",
     "height": 35
    },
    "executionInfo": {
     "elapsed": 4043,
     "status": "ok",
     "timestamp": 1607541686776,
     "user": {
      "displayName": "Pedro Calixto",
      "photoUrl": "https://lh3.googleusercontent.com/a-/AOh14Gg0lRxjwA8brpeHxk7aHwRimkQ3KrPTXDrnAl0X8Lg=s64",
      "userId": "06936679020888677524"
     },
     "user_tz": 180
    },
    "id": "yPF9ze4l4yEq",
    "outputId": "710bf010-2a8f-4a7b-8b01-defcf0853af1"
   },
   "outputs": [
    {
     "data": {
      "text/plain": [
       "'d'"
      ]
     },
     "execution_count": 48,
     "metadata": {},
     "output_type": "execute_result"
    }
   ],
   "source": [
    "concatenado[-2]"
   ]
  },
  {
   "cell_type": "markdown",
   "metadata": {
    "id": "aCfvd8Ld4yEs"
   },
   "source": [
    "<div class=\"alert alert-block alert-info\">\n",
    "\n",
    "\n",
    "Teste de existencia de sub-cadeia\n",
    "\n",
    "d **in** c retorna **True** se d é uma sub-cadeia de c\n",
    "\n",
    "d **not in** c retorna **True** se d não é uma subcadeia de c\n",
    "    </div>"
   ]
  },
  {
   "cell_type": "code",
   "execution_count": 49,
   "metadata": {
    "colab": {
     "base_uri": "https://localhost:8080/"
    },
    "executionInfo": {
     "elapsed": 667,
     "status": "ok",
     "timestamp": 1607541700845,
     "user": {
      "displayName": "Pedro Calixto",
      "photoUrl": "https://lh3.googleusercontent.com/a-/AOh14Gg0lRxjwA8brpeHxk7aHwRimkQ3KrPTXDrnAl0X8Lg=s64",
      "userId": "06936679020888677524"
     },
     "user_tz": 180
    },
    "id": "Da9raxdE4yEs",
    "outputId": "8b0407e1-3b08-4d9d-8bca-2db2598a0250"
   },
   "outputs": [
    {
     "data": {
      "text/plain": [
       "True"
      ]
     },
     "execution_count": 49,
     "metadata": {},
     "output_type": "execute_result"
    }
   ],
   "source": [
    "\"cd\" in \"abcde\""
   ]
  },
  {
   "cell_type": "code",
   "execution_count": 50,
   "metadata": {
    "colab": {
     "base_uri": "https://localhost:8080/"
    },
    "executionInfo": {
     "elapsed": 5837,
     "status": "ok",
     "timestamp": 1607541707842,
     "user": {
      "displayName": "Pedro Calixto",
      "photoUrl": "https://lh3.googleusercontent.com/a-/AOh14Gg0lRxjwA8brpeHxk7aHwRimkQ3KrPTXDrnAl0X8Lg=s64",
      "userId": "06936679020888677524"
     },
     "user_tz": 180
    },
    "id": "MHo-q7MK4yE2",
    "outputId": "71afb4e8-f5f2-4992-8e08-3bf9f855dfec"
   },
   "outputs": [
    {
     "data": {
      "text/plain": [
       "False"
      ]
     },
     "execution_count": 50,
     "metadata": {},
     "output_type": "execute_result"
    }
   ],
   "source": [
    "\"ce\" in \"abcde\"\n"
   ]
  },
  {
   "cell_type": "code",
   "execution_count": 51,
   "metadata": {
    "colab": {
     "base_uri": "https://localhost:8080/"
    },
    "executionInfo": {
     "elapsed": 2167,
     "status": "ok",
     "timestamp": 1607541744235,
     "user": {
      "displayName": "Pedro Calixto",
      "photoUrl": "https://lh3.googleusercontent.com/a-/AOh14Gg0lRxjwA8brpeHxk7aHwRimkQ3KrPTXDrnAl0X8Lg=s64",
      "userId": "06936679020888677524"
     },
     "user_tz": 180
    },
    "id": "kOwmh1lh4yE4",
    "outputId": "3fed848a-4e3e-438a-f485-e328f31df89c"
   },
   "outputs": [
    {
     "data": {
      "text/plain": [
       "True"
      ]
     },
     "execution_count": 51,
     "metadata": {},
     "output_type": "execute_result"
    }
   ],
   "source": [
    "\"ce\" not in \"abcde\" "
   ]
  },
  {
   "cell_type": "markdown",
   "metadata": {
    "id": "sv4H0LfW4yE9"
   },
   "source": [
    "### 2.1 Conversão entre tipos\n",
    "<a id='section_id7'></a>\n"
   ]
  },
  {
   "cell_type": "markdown",
   "metadata": {
    "id": "Wbu7q91s4yE_"
   },
   "source": [
    "O Python provê uma coleção de funções nativas que convertem valores de um tipo em outro. A função **int** recebe um valor e o converte para inteiro, se possível."
   ]
  },
  {
   "cell_type": "code",
   "execution_count": 52,
   "metadata": {
    "colab": {
     "base_uri": "https://localhost:8080/"
    },
    "executionInfo": {
     "elapsed": 2717,
     "status": "ok",
     "timestamp": 1607541846604,
     "user": {
      "displayName": "Pedro Calixto",
      "photoUrl": "https://lh3.googleusercontent.com/a-/AOh14Gg0lRxjwA8brpeHxk7aHwRimkQ3KrPTXDrnAl0X8Lg=s64",
      "userId": "06936679020888677524"
     },
     "user_tz": 180
    },
    "id": "1uuSbPUD4yFA",
    "outputId": "ee74cb2c-6d66-4715-818a-89f9e6547102"
   },
   "outputs": [
    {
     "data": {
      "text/plain": [
       "32"
      ]
     },
     "execution_count": 52,
     "metadata": {},
     "output_type": "execute_result"
    }
   ],
   "source": [
    "int('32')"
   ]
  },
  {
   "cell_type": "code",
   "execution_count": 53,
   "metadata": {
    "colab": {
     "base_uri": "https://localhost:8080/"
    },
    "executionInfo": {
     "elapsed": 2363,
     "status": "ok",
     "timestamp": 1607541853838,
     "user": {
      "displayName": "Pedro Calixto",
      "photoUrl": "https://lh3.googleusercontent.com/a-/AOh14Gg0lRxjwA8brpeHxk7aHwRimkQ3KrPTXDrnAl0X8Lg=s64",
      "userId": "06936679020888677524"
     },
     "user_tz": 180
    },
    "id": "A0XUAqsz4yFD",
    "outputId": "e6c58a4f-045f-4d88-a570-13d8140fde1c"
   },
   "outputs": [
    {
     "data": {
      "text/plain": [
       "int"
      ]
     },
     "execution_count": 53,
     "metadata": {},
     "output_type": "execute_result"
    }
   ],
   "source": [
    "type(int('32'))"
   ]
  },
  {
   "cell_type": "markdown",
   "metadata": {
    "id": "eIWl5UDr4yFH"
   },
   "source": [
    "A função **int** também pode converter valores em ponto flutuante para inteiro, mas lembre que isso trunca a parte fracionária:"
   ]
  },
  {
   "cell_type": "code",
   "execution_count": 54,
   "metadata": {
    "colab": {
     "base_uri": "https://localhost:8080/"
    },
    "executionInfo": {
     "elapsed": 824,
     "status": "ok",
     "timestamp": 1607541881276,
     "user": {
      "displayName": "Pedro Calixto",
      "photoUrl": "https://lh3.googleusercontent.com/a-/AOh14Gg0lRxjwA8brpeHxk7aHwRimkQ3KrPTXDrnAl0X8Lg=s64",
      "userId": "06936679020888677524"
     },
     "user_tz": 180
    },
    "id": "q_Ra6l3o4yFI",
    "outputId": "c38614b7-512e-4a70-c688-e47439902817"
   },
   "outputs": [
    {
     "data": {
      "text/plain": [
       "3"
      ]
     },
     "execution_count": 54,
     "metadata": {},
     "output_type": "execute_result"
    }
   ],
   "source": [
    "int(3.999999)"
   ]
  },
  {
   "cell_type": "code",
   "execution_count": 55,
   "metadata": {
    "id": "TIveuY0t9zH_"
   },
   "outputs": [],
   "source": [
    "import numpy as np"
   ]
  },
  {
   "cell_type": "code",
   "execution_count": 56,
   "metadata": {
    "colab": {
     "base_uri": "https://localhost:8080/"
    },
    "executionInfo": {
     "elapsed": 672,
     "status": "ok",
     "timestamp": 1607541950664,
     "user": {
      "displayName": "Pedro Calixto",
      "photoUrl": "https://lh3.googleusercontent.com/a-/AOh14Gg0lRxjwA8brpeHxk7aHwRimkQ3KrPTXDrnAl0X8Lg=s64",
      "userId": "06936679020888677524"
     },
     "user_tz": 180
    },
    "id": "RByInP_s4yFJ",
    "outputId": "721e0e38-d85d-4941-d040-9a4853a65ca9"
   },
   "outputs": [
    {
     "data": {
      "text/plain": [
       "-2"
      ]
     },
     "execution_count": 56,
     "metadata": {},
     "output_type": "execute_result"
    }
   ],
   "source": [
    "int(-2.3)"
   ]
  },
  {
   "cell_type": "markdown",
   "metadata": {
    "id": "o3hCxdwK4yFM"
   },
   "source": [
    "A função \"float\" converte inteiros e strings em números do tipo ponto flutuante:\n",
    "\n"
   ]
  },
  {
   "cell_type": "code",
   "execution_count": 57,
   "metadata": {
    "colab": {
     "base_uri": "https://localhost:8080/"
    },
    "executionInfo": {
     "elapsed": 2349,
     "status": "ok",
     "timestamp": 1607541970173,
     "user": {
      "displayName": "Pedro Calixto",
      "photoUrl": "https://lh3.googleusercontent.com/a-/AOh14Gg0lRxjwA8brpeHxk7aHwRimkQ3KrPTXDrnAl0X8Lg=s64",
      "userId": "06936679020888677524"
     },
     "user_tz": 180
    },
    "id": "IzEZ3sR04yFN",
    "outputId": "4b1350f0-715a-4c9a-c5eb-e85f7205fcbd"
   },
   "outputs": [
    {
     "data": {
      "text/plain": [
       "2.0"
      ]
     },
     "execution_count": 57,
     "metadata": {},
     "output_type": "execute_result"
    }
   ],
   "source": [
    "float(2)"
   ]
  },
  {
   "cell_type": "code",
   "execution_count": 58,
   "metadata": {
    "colab": {
     "base_uri": "https://localhost:8080/"
    },
    "executionInfo": {
     "elapsed": 2495,
     "status": "ok",
     "timestamp": 1607541976894,
     "user": {
      "displayName": "Pedro Calixto",
      "photoUrl": "https://lh3.googleusercontent.com/a-/AOh14Gg0lRxjwA8brpeHxk7aHwRimkQ3KrPTXDrnAl0X8Lg=s64",
      "userId": "06936679020888677524"
     },
     "user_tz": 180
    },
    "id": "jd92HySQ4yFP",
    "outputId": "15a7a1e9-fa53-4c04-8570-61f2c5b2a052"
   },
   "outputs": [
    {
     "data": {
      "text/plain": [
       "2.0"
      ]
     },
     "execution_count": 58,
     "metadata": {},
     "output_type": "execute_result"
    }
   ],
   "source": [
    "float('2')"
   ]
  },
  {
   "cell_type": "markdown",
   "metadata": {
    "id": "uB87OVqv4yFT"
   },
   "source": [
    "## 3. Listas\n",
    "<a id='section_id8'></a>\n"
   ]
  },
  {
   "cell_type": "markdown",
   "metadata": {
    "id": "VIDDVkJe4yFT"
   },
   "source": [
    "<div class=\"alert alert-block alert-success\">\n",
    "\n",
    "\n",
    "Uma **lista(<i>list</i>)** em Python é uma sequência ou coleção ordenada de valores. Listas são semelhantes às tuplas, podendo conter elementos de tipos distintos, porém, usualmente os elementos de listas são formados por elementos do mesmo tipo. \n",
    "\n",
    "A diferença principal entre listas e tuplas é que listas são mutáveis, enquanto tuplas são imutaveis.\n",
    "    </div>"
   ]
  },
  {
   "cell_type": "code",
   "execution_count": 59,
   "metadata": {
    "id": "GgF828hf4yFU"
   },
   "outputs": [],
   "source": [
    "lista = [1,2,3,4,5,6,7]"
   ]
  },
  {
   "cell_type": "code",
   "execution_count": 60,
   "metadata": {
    "colab": {
     "base_uri": "https://localhost:8080/"
    },
    "executionInfo": {
     "elapsed": 1728,
     "status": "ok",
     "timestamp": 1607542081580,
     "user": {
      "displayName": "Pedro Calixto",
      "photoUrl": "https://lh3.googleusercontent.com/a-/AOh14Gg0lRxjwA8brpeHxk7aHwRimkQ3KrPTXDrnAl0X8Lg=s64",
      "userId": "06936679020888677524"
     },
     "user_tz": 180
    },
    "id": "mLGf_5QL4yFW",
    "outputId": "061645ed-d84b-4b27-f108-0e7dfe12d273"
   },
   "outputs": [
    {
     "name": "stdout",
     "output_type": "stream",
     "text": [
      "[1, 2, 3, 4, 5, 6, 7]\n"
     ]
    }
   ],
   "source": [
    "print(lista)"
   ]
  },
  {
   "cell_type": "code",
   "execution_count": 61,
   "metadata": {
    "colab": {
     "base_uri": "https://localhost:8080/"
    },
    "executionInfo": {
     "elapsed": 2306,
     "status": "ok",
     "timestamp": 1607542120487,
     "user": {
      "displayName": "Pedro Calixto",
      "photoUrl": "https://lh3.googleusercontent.com/a-/AOh14Gg0lRxjwA8brpeHxk7aHwRimkQ3KrPTXDrnAl0X8Lg=s64",
      "userId": "06936679020888677524"
     },
     "user_tz": 180
    },
    "id": "sTJ9YZPk4yFZ",
    "outputId": "f22eb23c-ee6b-4417-fcd3-656096f2d7af"
   },
   "outputs": [
    {
     "data": {
      "text/plain": [
       "array([ 2,  4,  6,  8, 10, 12, 14])"
      ]
     },
     "execution_count": 61,
     "metadata": {},
     "output_type": "execute_result"
    }
   ],
   "source": [
    "np.array(lista) * 2"
   ]
  },
  {
   "cell_type": "markdown",
   "metadata": {
    "id": "EFLKpABd4yFa"
   },
   "source": [
    "Os elementos na lista são escritos entre colchetes, separados também por virgulas."
   ]
  },
  {
   "cell_type": "markdown",
   "metadata": {
    "id": "GuzxOc4N4yFa"
   },
   "source": [
    "### 3.1 Fatiamento de listas\n",
    "<a id='section_id9'></a>\n"
   ]
  },
  {
   "cell_type": "markdown",
   "metadata": {
    "id": "4gsAVHws4yFa"
   },
   "source": [
    "Muitas vezes, ao invés de considerar a lista completa, é necessário consider apenas um pedaço contínuo da lista, que podemos definir por 2 índices que marcam o início e o fim desse pedaço, que chamamos de fatia da lista."
   ]
  },
  {
   "cell_type": "code",
   "execution_count": 62,
   "metadata": {
    "colab": {
     "base_uri": "https://localhost:8080/"
    },
    "executionInfo": {
     "elapsed": 2637,
     "status": "ok",
     "timestamp": 1607542225655,
     "user": {
      "displayName": "Pedro Calixto",
      "photoUrl": "https://lh3.googleusercontent.com/a-/AOh14Gg0lRxjwA8brpeHxk7aHwRimkQ3KrPTXDrnAl0X8Lg=s64",
      "userId": "06936679020888677524"
     },
     "user_tz": 180
    },
    "id": "cuGE0HON4yFb",
    "outputId": "014241e4-ee5c-4084-d403-d41f1c67f719"
   },
   "outputs": [
    {
     "data": {
      "text/plain": [
       "[1, 2]"
      ]
     },
     "execution_count": 62,
     "metadata": {},
     "output_type": "execute_result"
    }
   ],
   "source": [
    "lista[0:2]"
   ]
  },
  {
   "cell_type": "code",
   "execution_count": 63,
   "metadata": {
    "colab": {
     "base_uri": "https://localhost:8080/"
    },
    "executionInfo": {
     "elapsed": 1053,
     "status": "ok",
     "timestamp": 1607542230901,
     "user": {
      "displayName": "Pedro Calixto",
      "photoUrl": "https://lh3.googleusercontent.com/a-/AOh14Gg0lRxjwA8brpeHxk7aHwRimkQ3KrPTXDrnAl0X8Lg=s64",
      "userId": "06936679020888677524"
     },
     "user_tz": 180
    },
    "id": "bhoq8TOF4yFd",
    "outputId": "a2b7de2b-e8c1-4f23-f82e-5748fc5ee7ae"
   },
   "outputs": [
    {
     "data": {
      "text/plain": [
       "2"
      ]
     },
     "execution_count": 63,
     "metadata": {},
     "output_type": "execute_result"
    }
   ],
   "source": [
    "lista[1]"
   ]
  },
  {
   "cell_type": "code",
   "execution_count": 64,
   "metadata": {
    "colab": {
     "base_uri": "https://localhost:8080/"
    },
    "executionInfo": {
     "elapsed": 2350,
     "status": "ok",
     "timestamp": 1607542234869,
     "user": {
      "displayName": "Pedro Calixto",
      "photoUrl": "https://lh3.googleusercontent.com/a-/AOh14Gg0lRxjwA8brpeHxk7aHwRimkQ3KrPTXDrnAl0X8Lg=s64",
      "userId": "06936679020888677524"
     },
     "user_tz": 180
    },
    "id": "2MX8Lqos4yFf",
    "outputId": "29a89f95-c6e5-4d1b-efa7-81e8f7dcbe6d"
   },
   "outputs": [
    {
     "data": {
      "text/plain": [
       "[3, 4, 5]"
      ]
     },
     "execution_count": 64,
     "metadata": {},
     "output_type": "execute_result"
    }
   ],
   "source": [
    "lista[2:5]"
   ]
  },
  {
   "cell_type": "code",
   "execution_count": 65,
   "metadata": {
    "colab": {
     "base_uri": "https://localhost:8080/"
    },
    "executionInfo": {
     "elapsed": 2647,
     "status": "ok",
     "timestamp": 1607542245296,
     "user": {
      "displayName": "Pedro Calixto",
      "photoUrl": "https://lh3.googleusercontent.com/a-/AOh14Gg0lRxjwA8brpeHxk7aHwRimkQ3KrPTXDrnAl0X8Lg=s64",
      "userId": "06936679020888677524"
     },
     "user_tz": 180
    },
    "id": "HZnPIdQk4yFo",
    "outputId": "b58e72c2-2760-468b-8b90-ce3ae03d9e56"
   },
   "outputs": [
    {
     "data": {
      "text/plain": [
       "[1, 2, 3, 4, 5, 6, 7]"
      ]
     },
     "execution_count": 65,
     "metadata": {},
     "output_type": "execute_result"
    }
   ],
   "source": [
    "lista[:]"
   ]
  },
  {
   "cell_type": "code",
   "execution_count": 66,
   "metadata": {
    "colab": {
     "base_uri": "https://localhost:8080/"
    },
    "executionInfo": {
     "elapsed": 904,
     "status": "ok",
     "timestamp": 1607542275397,
     "user": {
      "displayName": "Pedro Calixto",
      "photoUrl": "https://lh3.googleusercontent.com/a-/AOh14Gg0lRxjwA8brpeHxk7aHwRimkQ3KrPTXDrnAl0X8Lg=s64",
      "userId": "06936679020888677524"
     },
     "user_tz": 180
    },
    "id": "Ak7VOpFq4yFq",
    "outputId": "83d4477a-e743-44da-ffd1-64d875cae585"
   },
   "outputs": [
    {
     "name": "stdout",
     "output_type": "stream",
     "text": [
      "Os dois primeiros numeros da lista em questão são 1 e 2\n"
     ]
    }
   ],
   "source": [
    "print('Os dois primeiros numeros da lista em questão são {} e {}'.format(lista[0],lista[1]))"
   ]
  },
  {
   "cell_type": "markdown",
   "metadata": {},
   "source": [
    "### 3.2 Métodos Utilizados em Listas\n",
    "<a id='section_id10'></a>\n"
   ]
  },
  {
   "cell_type": "markdown",
   "metadata": {
    "id": "bo3220rL4yFv"
   },
   "source": [
    "O tipo de dado **lista**, possui diversos métodos. Abaixa você pode observar alguns métodos de objetos do tipo lista: "
   ]
  },
  {
   "cell_type": "markdown",
   "metadata": {
    "id": "HcPazCIu4yFw"
   },
   "source": [
    "<ul>\n",
    "\t<li>x.insert(i,e): insere 'e' na posição 'i' de x:\n",
    "</ul>\n"
   ]
  },
  {
   "cell_type": "code",
   "execution_count": 67,
   "metadata": {
    "id": "LSfqWATj4yFw"
   },
   "outputs": [],
   "source": [
    "x = [1,2,3]"
   ]
  },
  {
   "cell_type": "code",
   "execution_count": 68,
   "metadata": {
    "id": "uDZxF1aK4yF1"
   },
   "outputs": [],
   "source": [
    "x.insert(0,4)"
   ]
  },
  {
   "cell_type": "code",
   "execution_count": 69,
   "metadata": {
    "colab": {
     "base_uri": "https://localhost:8080/"
    },
    "executionInfo": {
     "elapsed": 3580,
     "status": "ok",
     "timestamp": 1607542333410,
     "user": {
      "displayName": "Pedro Calixto",
      "photoUrl": "https://lh3.googleusercontent.com/a-/AOh14Gg0lRxjwA8brpeHxk7aHwRimkQ3KrPTXDrnAl0X8Lg=s64",
      "userId": "06936679020888677524"
     },
     "user_tz": 180
    },
    "id": "7l1jGgz74yGH",
    "outputId": "6e4d133d-0809-4e1e-f69e-78c77532b139"
   },
   "outputs": [
    {
     "data": {
      "text/plain": [
       "[4, 1, 2, 3]"
      ]
     },
     "execution_count": 69,
     "metadata": {},
     "output_type": "execute_result"
    }
   ],
   "source": [
    "x"
   ]
  },
  {
   "cell_type": "code",
   "execution_count": 70,
   "metadata": {
    "id": "KloSKk5N4yGK"
   },
   "outputs": [],
   "source": [
    "x.insert(0,5)"
   ]
  },
  {
   "cell_type": "code",
   "execution_count": 71,
   "metadata": {
    "colab": {
     "base_uri": "https://localhost:8080/"
    },
    "executionInfo": {
     "elapsed": 756,
     "status": "ok",
     "timestamp": 1607542381543,
     "user": {
      "displayName": "Pedro Calixto",
      "photoUrl": "https://lh3.googleusercontent.com/a-/AOh14Gg0lRxjwA8brpeHxk7aHwRimkQ3KrPTXDrnAl0X8Lg=s64",
      "userId": "06936679020888677524"
     },
     "user_tz": 180
    },
    "id": "Duz6F5y04yGQ",
    "outputId": "080791f5-55db-4921-9696-0ae8adb8a4a3"
   },
   "outputs": [
    {
     "name": "stdout",
     "output_type": "stream",
     "text": [
      "[1, 2, 3, 4, 5]\n"
     ]
    }
   ],
   "source": [
    "x.sort()\n",
    "print(x)"
   ]
  },
  {
   "cell_type": "markdown",
   "metadata": {
    "id": "2P2hGLaY4yGV"
   },
   "source": [
    "<ul>\n",
    "<li>x.pop(): remove e retorna o elemento de índice \"i\" de \"x\"; se usar x.pop() o último elemento de \"x\" será removido de x e retornado\n",
    "</ul>\n"
   ]
  },
  {
   "cell_type": "code",
   "execution_count": 72,
   "metadata": {
    "id": "ZBzh6atS4yGV"
   },
   "outputs": [],
   "source": [
    "x = [1,2,3]"
   ]
  },
  {
   "cell_type": "code",
   "execution_count": 73,
   "metadata": {
    "colab": {
     "base_uri": "https://localhost:8080/"
    },
    "executionInfo": {
     "elapsed": 3923,
     "status": "ok",
     "timestamp": 1607542417886,
     "user": {
      "displayName": "Pedro Calixto",
      "photoUrl": "https://lh3.googleusercontent.com/a-/AOh14Gg0lRxjwA8brpeHxk7aHwRimkQ3KrPTXDrnAl0X8Lg=s64",
      "userId": "06936679020888677524"
     },
     "user_tz": 180
    },
    "id": "q6ASKhmB4yGY",
    "outputId": "170a44cc-c6c0-4c05-e283-b2a564423a39"
   },
   "outputs": [
    {
     "data": {
      "text/plain": [
       "3"
      ]
     },
     "execution_count": 73,
     "metadata": {},
     "output_type": "execute_result"
    }
   ],
   "source": [
    "x.pop()\n"
   ]
  },
  {
   "cell_type": "code",
   "execution_count": 74,
   "metadata": {
    "colab": {
     "base_uri": "https://localhost:8080/"
    },
    "executionInfo": {
     "elapsed": 4161,
     "status": "ok",
     "timestamp": 1607542420114,
     "user": {
      "displayName": "Pedro Calixto",
      "photoUrl": "https://lh3.googleusercontent.com/a-/AOh14Gg0lRxjwA8brpeHxk7aHwRimkQ3KrPTXDrnAl0X8Lg=s64",
      "userId": "06936679020888677524"
     },
     "user_tz": 180
    },
    "id": "IMEaTbCV4yGb",
    "outputId": "ef7ec454-371a-4f2f-cbb0-33751782fb28"
   },
   "outputs": [
    {
     "data": {
      "text/plain": [
       "[1, 2]"
      ]
     },
     "execution_count": 74,
     "metadata": {},
     "output_type": "execute_result"
    }
   ],
   "source": [
    "x"
   ]
  },
  {
   "cell_type": "code",
   "execution_count": 75,
   "metadata": {
    "colab": {
     "base_uri": "https://localhost:8080/"
    },
    "executionInfo": {
     "elapsed": 6276,
     "status": "ok",
     "timestamp": 1607542437258,
     "user": {
      "displayName": "Pedro Calixto",
      "photoUrl": "https://lh3.googleusercontent.com/a-/AOh14Gg0lRxjwA8brpeHxk7aHwRimkQ3KrPTXDrnAl0X8Lg=s64",
      "userId": "06936679020888677524"
     },
     "user_tz": 180
    },
    "id": "LKhvtJX34yGd",
    "outputId": "80d38900-49aa-46cc-ad01-e4265826e69d"
   },
   "outputs": [
    {
     "data": {
      "text/plain": [
       "1"
      ]
     },
     "execution_count": 75,
     "metadata": {},
     "output_type": "execute_result"
    }
   ],
   "source": [
    "x.pop(0)"
   ]
  },
  {
   "cell_type": "code",
   "execution_count": 76,
   "metadata": {
    "colab": {
     "base_uri": "https://localhost:8080/"
    },
    "executionInfo": {
     "elapsed": 4775,
     "status": "ok",
     "timestamp": 1607542437271,
     "user": {
      "displayName": "Pedro Calixto",
      "photoUrl": "https://lh3.googleusercontent.com/a-/AOh14Gg0lRxjwA8brpeHxk7aHwRimkQ3KrPTXDrnAl0X8Lg=s64",
      "userId": "06936679020888677524"
     },
     "user_tz": 180
    },
    "id": "M8xC_T3H4yGj",
    "outputId": "4bd478fa-8447-444f-cd74-2d24b9e4887e"
   },
   "outputs": [
    {
     "data": {
      "text/plain": [
       "[2]"
      ]
     },
     "execution_count": 76,
     "metadata": {},
     "output_type": "execute_result"
    }
   ],
   "source": [
    "x"
   ]
  },
  {
   "cell_type": "markdown",
   "metadata": {
    "id": "ayTeBly-4yGq"
   },
   "source": [
    "<ul>\n",
    "\t<li>x.append(): insere 'e' no fim de x:\n",
    "</ul>"
   ]
  },
  {
   "cell_type": "code",
   "execution_count": 77,
   "metadata": {
    "id": "JuqcvGF24yGq"
   },
   "outputs": [],
   "source": [
    "x.append(4)"
   ]
  },
  {
   "cell_type": "code",
   "execution_count": 78,
   "metadata": {
    "colab": {
     "base_uri": "https://localhost:8080/"
    },
    "executionInfo": {
     "elapsed": 548,
     "status": "ok",
     "timestamp": 1607542476500,
     "user": {
      "displayName": "Pedro Calixto",
      "photoUrl": "https://lh3.googleusercontent.com/a-/AOh14Gg0lRxjwA8brpeHxk7aHwRimkQ3KrPTXDrnAl0X8Lg=s64",
      "userId": "06936679020888677524"
     },
     "user_tz": 180
    },
    "id": "8raampF94yGu",
    "outputId": "61aed171-5075-4baf-dfb5-178f4b617c02"
   },
   "outputs": [
    {
     "data": {
      "text/plain": [
       "[2, 4]"
      ]
     },
     "execution_count": 78,
     "metadata": {},
     "output_type": "execute_result"
    }
   ],
   "source": [
    "x"
   ]
  },
  {
   "cell_type": "markdown",
   "metadata": {
    "id": "3w_EdKOu4yGz"
   },
   "source": [
    "<ul>\n",
    "\t<li>x.remove(e): remove a primeira ocorrência do elemento \"e\" em x:\n",
    "</ul>"
   ]
  },
  {
   "cell_type": "code",
   "execution_count": 79,
   "metadata": {
    "id": "NKLUXk5D4yGz"
   },
   "outputs": [],
   "source": [
    "x = [1,2,3,1]"
   ]
  },
  {
   "cell_type": "code",
   "execution_count": 80,
   "metadata": {
    "id": "JYYWrwfS4yG5"
   },
   "outputs": [],
   "source": [
    "x.remove(1)"
   ]
  },
  {
   "cell_type": "code",
   "execution_count": 81,
   "metadata": {
    "colab": {
     "base_uri": "https://localhost:8080/"
    },
    "executionInfo": {
     "elapsed": 2552,
     "status": "ok",
     "timestamp": 1607542516060,
     "user": {
      "displayName": "Pedro Calixto",
      "photoUrl": "https://lh3.googleusercontent.com/a-/AOh14Gg0lRxjwA8brpeHxk7aHwRimkQ3KrPTXDrnAl0X8Lg=s64",
      "userId": "06936679020888677524"
     },
     "user_tz": 180
    },
    "id": "9HWusHkh4yG_",
    "outputId": "244972fd-8b74-4e94-f447-822346a275b3"
   },
   "outputs": [
    {
     "name": "stdout",
     "output_type": "stream",
     "text": [
      "[2, 3, 1]\n"
     ]
    }
   ],
   "source": [
    "print(x)"
   ]
  },
  {
   "cell_type": "markdown",
   "metadata": {
    "id": "1Dl_8pkH4yHC"
   },
   "source": [
    "<ul>\n",
    "\t<li>x.count(e): retorna o número de ocorrências de \"e\" em \"x\":\n",
    "</ul>"
   ]
  },
  {
   "cell_type": "code",
   "execution_count": 82,
   "metadata": {
    "colab": {
     "base_uri": "https://localhost:8080/"
    },
    "executionInfo": {
     "elapsed": 2505,
     "status": "ok",
     "timestamp": 1607542532533,
     "user": {
      "displayName": "Pedro Calixto",
      "photoUrl": "https://lh3.googleusercontent.com/a-/AOh14Gg0lRxjwA8brpeHxk7aHwRimkQ3KrPTXDrnAl0X8Lg=s64",
      "userId": "06936679020888677524"
     },
     "user_tz": 180
    },
    "id": "lDgib7TI4yHD",
    "outputId": "96d0e4f7-1231-4fda-e5ff-1a1e263a342e"
   },
   "outputs": [
    {
     "data": {
      "text/plain": [
       "2"
      ]
     },
     "execution_count": 82,
     "metadata": {},
     "output_type": "execute_result"
    }
   ],
   "source": [
    "x = [1,2,3,1]\n",
    "x.count(1)\n"
   ]
  },
  {
   "cell_type": "code",
   "execution_count": 83,
   "metadata": {
    "colab": {
     "base_uri": "https://localhost:8080/"
    },
    "executionInfo": {
     "elapsed": 725,
     "status": "ok",
     "timestamp": 1607542537168,
     "user": {
      "displayName": "Pedro Calixto",
      "photoUrl": "https://lh3.googleusercontent.com/a-/AOh14Gg0lRxjwA8brpeHxk7aHwRimkQ3KrPTXDrnAl0X8Lg=s64",
      "userId": "06936679020888677524"
     },
     "user_tz": 180
    },
    "id": "ImsiBJbh4yHH",
    "outputId": "236eea23-d968-4fd3-f7d0-46d3234f8df9"
   },
   "outputs": [
    {
     "data": {
      "text/plain": [
       "0"
      ]
     },
     "execution_count": 83,
     "metadata": {},
     "output_type": "execute_result"
    }
   ],
   "source": [
    "x.count(4)"
   ]
  },
  {
   "cell_type": "markdown",
   "metadata": {
    "id": "LPtM9r8F4yHT"
   },
   "source": [
    "<ul>\n",
    "\t<li>sorted(x),x.sort(): retorna x em ordem crescente:\n",
    "</ul>\n"
   ]
  },
  {
   "cell_type": "code",
   "execution_count": 84,
   "metadata": {
    "id": "BQtgZ8HK4yHV"
   },
   "outputs": [],
   "source": [
    "x = [4,2,3,1]"
   ]
  },
  {
   "cell_type": "code",
   "execution_count": 85,
   "metadata": {
    "id": "dfnUY6Xf4yHX"
   },
   "outputs": [],
   "source": [
    "x.sort()"
   ]
  },
  {
   "cell_type": "code",
   "execution_count": 86,
   "metadata": {
    "colab": {
     "base_uri": "https://localhost:8080/"
    },
    "executionInfo": {
     "elapsed": 593,
     "status": "ok",
     "timestamp": 1607542558261,
     "user": {
      "displayName": "Pedro Calixto",
      "photoUrl": "https://lh3.googleusercontent.com/a-/AOh14Gg0lRxjwA8brpeHxk7aHwRimkQ3KrPTXDrnAl0X8Lg=s64",
      "userId": "06936679020888677524"
     },
     "user_tz": 180
    },
    "id": "e76O3uds4yHd",
    "outputId": "30db6631-5803-4c7b-b36a-4d46b995bb7d"
   },
   "outputs": [
    {
     "data": {
      "text/plain": [
       "[1, 2, 3, 4]"
      ]
     },
     "execution_count": 86,
     "metadata": {},
     "output_type": "execute_result"
    }
   ],
   "source": [
    "x"
   ]
  },
  {
   "cell_type": "markdown",
   "metadata": {
    "id": "FxpMXA3D4yHg"
   },
   "source": [
    "<ul>\n",
    "\t<li>min(x),max(x): Retorna o menor (maior) elemento de x:\n",
    "</ul>\n"
   ]
  },
  {
   "cell_type": "code",
   "execution_count": 87,
   "metadata": {
    "id": "r3ZEMUyL4yHh"
   },
   "outputs": [],
   "source": [
    "x = [2,1,3]"
   ]
  },
  {
   "cell_type": "code",
   "execution_count": 88,
   "metadata": {
    "colab": {
     "base_uri": "https://localhost:8080/"
    },
    "executionInfo": {
     "elapsed": 979,
     "status": "ok",
     "timestamp": 1607542586280,
     "user": {
      "displayName": "Pedro Calixto",
      "photoUrl": "https://lh3.googleusercontent.com/a-/AOh14Gg0lRxjwA8brpeHxk7aHwRimkQ3KrPTXDrnAl0X8Lg=s64",
      "userId": "06936679020888677524"
     },
     "user_tz": 180
    },
    "id": "9WjDUSkl4yHj",
    "outputId": "ed045a30-d851-413c-e4cf-a1bbc3b80be6"
   },
   "outputs": [
    {
     "data": {
      "text/plain": [
       "1"
      ]
     },
     "execution_count": 88,
     "metadata": {},
     "output_type": "execute_result"
    }
   ],
   "source": [
    "min(x)"
   ]
  },
  {
   "cell_type": "code",
   "execution_count": 89,
   "metadata": {
    "colab": {
     "base_uri": "https://localhost:8080/"
    },
    "executionInfo": {
     "elapsed": 701,
     "status": "ok",
     "timestamp": 1607542588172,
     "user": {
      "displayName": "Pedro Calixto",
      "photoUrl": "https://lh3.googleusercontent.com/a-/AOh14Gg0lRxjwA8brpeHxk7aHwRimkQ3KrPTXDrnAl0X8Lg=s64",
      "userId": "06936679020888677524"
     },
     "user_tz": 180
    },
    "id": "rxLw-09m4yHq",
    "outputId": "ae326dfd-b567-4f6c-a713-badd21ce0617"
   },
   "outputs": [
    {
     "data": {
      "text/plain": [
       "3"
      ]
     },
     "execution_count": 89,
     "metadata": {},
     "output_type": "execute_result"
    }
   ],
   "source": [
    "max(x)"
   ]
  },
  {
   "cell_type": "markdown",
   "metadata": {
    "id": "_id4xUmz4yHu"
   },
   "source": [
    "<ul>\n",
    "\t<li>sum(x), x.sum(): soma dos valores de x:\n",
    "</ul>\n"
   ]
  },
  {
   "cell_type": "code",
   "execution_count": 90,
   "metadata": {
    "id": "Q0RedDnJ4yHu"
   },
   "outputs": [],
   "source": [
    "x = [1,2,3]"
   ]
  },
  {
   "cell_type": "code",
   "execution_count": 91,
   "metadata": {
    "colab": {
     "base_uri": "https://localhost:8080/"
    },
    "executionInfo": {
     "elapsed": 2407,
     "status": "ok",
     "timestamp": 1607542603198,
     "user": {
      "displayName": "Pedro Calixto",
      "photoUrl": "https://lh3.googleusercontent.com/a-/AOh14Gg0lRxjwA8brpeHxk7aHwRimkQ3KrPTXDrnAl0X8Lg=s64",
      "userId": "06936679020888677524"
     },
     "user_tz": 180
    },
    "id": "0hEkwvgz4yHw",
    "outputId": "1d786394-d41a-42b5-e612-4d6d83b7d9b1"
   },
   "outputs": [
    {
     "data": {
      "text/plain": [
       "6"
      ]
     },
     "execution_count": 91,
     "metadata": {},
     "output_type": "execute_result"
    }
   ],
   "source": [
    "sum(x)"
   ]
  },
  {
   "cell_type": "markdown",
   "metadata": {
    "id": "-UR3aSuT4yHz"
   },
   "source": [
    "<ul>\n",
    "\t<li>len(x): números de elementos em \"x\":\n",
    "</ul>\n"
   ]
  },
  {
   "cell_type": "code",
   "execution_count": 92,
   "metadata": {
    "id": "0Nv-ZrsJ4yH6"
   },
   "outputs": [],
   "source": [
    "x = [1,2,3]"
   ]
  },
  {
   "cell_type": "code",
   "execution_count": 93,
   "metadata": {
    "colab": {
     "base_uri": "https://localhost:8080/"
    },
    "executionInfo": {
     "elapsed": 806,
     "status": "ok",
     "timestamp": 1607542626790,
     "user": {
      "displayName": "Pedro Calixto",
      "photoUrl": "https://lh3.googleusercontent.com/a-/AOh14Gg0lRxjwA8brpeHxk7aHwRimkQ3KrPTXDrnAl0X8Lg=s64",
      "userId": "06936679020888677524"
     },
     "user_tz": 180
    },
    "id": "g2YGCGCH4yIJ",
    "outputId": "69138b5c-4487-4393-8b46-f30c2d2f9287"
   },
   "outputs": [
    {
     "data": {
      "text/plain": [
       "3"
      ]
     },
     "execution_count": 93,
     "metadata": {},
     "output_type": "execute_result"
    }
   ],
   "source": [
    "len(x)"
   ]
  },
  {
   "cell_type": "markdown",
   "metadata": {
    "collapsed": true,
    "id": "e9e7j1eO4yIN"
   },
   "source": [
    "## 4. Dicionários\n",
    "<a id='section_id11'>\n"
   ]
  },
  {
   "cell_type": "markdown",
   "metadata": {
    "collapsed": true,
    "id": "60ii2A244yIN"
   },
   "source": [
    "<div class=\"alert alert-block alert-success\">\n",
    "\n",
    "\n",
    "Um dicionário é uma estrutura de dados que mapeia valores de entrada, usualmente chamado de chaves, à valores de saída, onde cada chave corresponde a um único valor de saída. A criação de dicionários pode ser feita por meio de diversos modos, usando listas ou conjuntos, de pares que associam um primeiro componente que é o valor da chave a seu valor correspondente:\n",
    "    </div>"
   ]
  },
  {
   "cell_type": "code",
   "execution_count": 94,
   "metadata": {
    "id": "4j37GeoIA7K2"
   },
   "outputs": [],
   "source": [
    "lv = []\n",
    "dv = {}"
   ]
  },
  {
   "cell_type": "code",
   "execution_count": 95,
   "metadata": {
    "id": "7d2oK59E4yIO"
   },
   "outputs": [],
   "source": [
    "dicionario = {'a':1,'b':2,'c':3}"
   ]
  },
  {
   "cell_type": "code",
   "execution_count": 96,
   "metadata": {
    "colab": {
     "base_uri": "https://localhost:8080/"
    },
    "executionInfo": {
     "elapsed": 2416,
     "status": "ok",
     "timestamp": 1607542782801,
     "user": {
      "displayName": "Pedro Calixto",
      "photoUrl": "https://lh3.googleusercontent.com/a-/AOh14Gg0lRxjwA8brpeHxk7aHwRimkQ3KrPTXDrnAl0X8Lg=s64",
      "userId": "06936679020888677524"
     },
     "user_tz": 180
    },
    "id": "7cFZ1U7c4yIQ",
    "outputId": "ad18ed16-3156-473c-81c1-81f3f5e4f04c"
   },
   "outputs": [
    {
     "name": "stdout",
     "output_type": "stream",
     "text": [
      "{'a': 1, 'b': 2, 'c': 3}\n"
     ]
    }
   ],
   "source": [
    "print(dicionario)"
   ]
  },
  {
   "cell_type": "code",
   "execution_count": 97,
   "metadata": {
    "colab": {
     "base_uri": "https://localhost:8080/"
    },
    "executionInfo": {
     "elapsed": 1285,
     "status": "ok",
     "timestamp": 1607542801210,
     "user": {
      "displayName": "Pedro Calixto",
      "photoUrl": "https://lh3.googleusercontent.com/a-/AOh14Gg0lRxjwA8brpeHxk7aHwRimkQ3KrPTXDrnAl0X8Lg=s64",
      "userId": "06936679020888677524"
     },
     "user_tz": 180
    },
    "id": "ds_dhhMFBF56",
    "outputId": "a320c080-1158-42a2-d463-1c1d46058a64"
   },
   "outputs": [
    {
     "data": {
      "text/plain": [
       "1"
      ]
     },
     "execution_count": 97,
     "metadata": {},
     "output_type": "execute_result"
    }
   ],
   "source": [
    "dicionario['a']"
   ]
  },
  {
   "cell_type": "code",
   "execution_count": 98,
   "metadata": {
    "id": "PRoRglXD4yIU"
   },
   "outputs": [],
   "source": [
    "dados = {'nome':'Joao','Idade':22,'Curso': 'Oceanografia'}"
   ]
  },
  {
   "cell_type": "code",
   "execution_count": 99,
   "metadata": {
    "colab": {
     "base_uri": "https://localhost:8080/"
    },
    "executionInfo": {
     "elapsed": 1638,
     "status": "ok",
     "timestamp": 1607542843530,
     "user": {
      "displayName": "Pedro Calixto",
      "photoUrl": "https://lh3.googleusercontent.com/a-/AOh14Gg0lRxjwA8brpeHxk7aHwRimkQ3KrPTXDrnAl0X8Lg=s64",
      "userId": "06936679020888677524"
     },
     "user_tz": 180
    },
    "id": "ze5Ks3Pd4yIX",
    "outputId": "0c4ccc44-069d-4376-a880-d9dd2997a2b4"
   },
   "outputs": [
    {
     "data": {
      "text/plain": [
       "{'nome': 'Joao', 'Idade': 22, 'Curso': 'Oceanografia'}"
      ]
     },
     "execution_count": 99,
     "metadata": {},
     "output_type": "execute_result"
    }
   ],
   "source": [
    "dados"
   ]
  },
  {
   "cell_type": "markdown",
   "metadata": {
    "id": "FLxmsBkt4yIa"
   },
   "source": [
    "Podemos usar indexação no dicionario formado usando as Chaves as quais foram atribuidos os dados"
   ]
  },
  {
   "cell_type": "code",
   "execution_count": 100,
   "metadata": {
    "colab": {
     "base_uri": "https://localhost:8080/"
    },
    "executionInfo": {
     "elapsed": 753,
     "status": "ok",
     "timestamp": 1607542858856,
     "user": {
      "displayName": "Pedro Calixto",
      "photoUrl": "https://lh3.googleusercontent.com/a-/AOh14Gg0lRxjwA8brpeHxk7aHwRimkQ3KrPTXDrnAl0X8Lg=s64",
      "userId": "06936679020888677524"
     },
     "user_tz": 180
    },
    "id": "4nX32TUE4yIa",
    "outputId": "c424e8fa-2f00-4f14-ca3a-8e3636771d81"
   },
   "outputs": [
    {
     "data": {
      "text/plain": [
       "22"
      ]
     },
     "execution_count": 100,
     "metadata": {},
     "output_type": "execute_result"
    }
   ],
   "source": [
    "dados['Idade']"
   ]
  },
  {
   "cell_type": "markdown",
   "metadata": {
    "id": "9ir3ZJnh4yIf"
   },
   "source": [
    "Outras formas de criar dicionarios"
   ]
  },
  {
   "cell_type": "code",
   "execution_count": 101,
   "metadata": {
    "colab": {
     "base_uri": "https://localhost:8080/"
    },
    "executionInfo": {
     "elapsed": 2790,
     "status": "ok",
     "timestamp": 1607542926868,
     "user": {
      "displayName": "Pedro Calixto",
      "photoUrl": "https://lh3.googleusercontent.com/a-/AOh14Gg0lRxjwA8brpeHxk7aHwRimkQ3KrPTXDrnAl0X8Lg=s64",
      "userId": "06936679020888677524"
     },
     "user_tz": 180
    },
    "id": "C45N4UkRBe_m",
    "outputId": "353822c4-34cd-44fe-ed14-e2671bb68f9c"
   },
   "outputs": [
    {
     "data": {
      "text/plain": [
       "<zip at 0x7fc2147c8a00>"
      ]
     },
     "execution_count": 101,
     "metadata": {},
     "output_type": "execute_result"
    }
   ],
   "source": [
    "zip('abc',[1,2,3,4])"
   ]
  },
  {
   "cell_type": "code",
   "execution_count": 102,
   "metadata": {
    "id": "d9c_tnPO4yIf"
   },
   "outputs": [],
   "source": [
    "x = dict(zip('abcd',[1,2,3,4]))"
   ]
  },
  {
   "cell_type": "code",
   "execution_count": 103,
   "metadata": {
    "colab": {
     "base_uri": "https://localhost:8080/"
    },
    "executionInfo": {
     "elapsed": 1394,
     "status": "ok",
     "timestamp": 1607542948011,
     "user": {
      "displayName": "Pedro Calixto",
      "photoUrl": "https://lh3.googleusercontent.com/a-/AOh14Gg0lRxjwA8brpeHxk7aHwRimkQ3KrPTXDrnAl0X8Lg=s64",
      "userId": "06936679020888677524"
     },
     "user_tz": 180
    },
    "id": "k-RQXi3r4yIk",
    "outputId": "d1b60bc2-d5fd-4c0d-9ee3-726cd1a9e1b7"
   },
   "outputs": [
    {
     "data": {
      "text/plain": [
       "{'a': 1, 'b': 2, 'c': 3, 'd': 4}"
      ]
     },
     "execution_count": 103,
     "metadata": {},
     "output_type": "execute_result"
    }
   ],
   "source": [
    "x"
   ]
  },
  {
   "cell_type": "code",
   "execution_count": 104,
   "metadata": {
    "id": "Ucqu9QvW4yIp"
   },
   "outputs": [],
   "source": [
    "lista = ['Nome','Idade','Curso']\n",
    "dados = ['Joao',22,'Oceano']"
   ]
  },
  {
   "cell_type": "code",
   "execution_count": 105,
   "metadata": {
    "colab": {
     "base_uri": "https://localhost:8080/"
    },
    "executionInfo": {
     "elapsed": 2506,
     "status": "ok",
     "timestamp": 1607542972951,
     "user": {
      "displayName": "Pedro Calixto",
      "photoUrl": "https://lh3.googleusercontent.com/a-/AOh14Gg0lRxjwA8brpeHxk7aHwRimkQ3KrPTXDrnAl0X8Lg=s64",
      "userId": "06936679020888677524"
     },
     "user_tz": 180
    },
    "id": "mI4jZnuo4yIr",
    "outputId": "2e6ba957-0c84-4fdc-b831-b83490e5232c"
   },
   "outputs": [
    {
     "data": {
      "text/plain": [
       "<zip at 0x7fc2062ab880>"
      ]
     },
     "execution_count": 105,
     "metadata": {},
     "output_type": "execute_result"
    }
   ],
   "source": [
    "zip(lista,dados)"
   ]
  },
  {
   "cell_type": "code",
   "execution_count": 106,
   "metadata": {
    "id": "CU50pgJX4yIu"
   },
   "outputs": [],
   "source": [
    "dicionario = dict(zip(lista,dados))"
   ]
  },
  {
   "cell_type": "code",
   "execution_count": 107,
   "metadata": {
    "colab": {
     "base_uri": "https://localhost:8080/"
    },
    "executionInfo": {
     "elapsed": 1822,
     "status": "ok",
     "timestamp": 1607542989250,
     "user": {
      "displayName": "Pedro Calixto",
      "photoUrl": "https://lh3.googleusercontent.com/a-/AOh14Gg0lRxjwA8brpeHxk7aHwRimkQ3KrPTXDrnAl0X8Lg=s64",
      "userId": "06936679020888677524"
     },
     "user_tz": 180
    },
    "id": "gy65a9h5B0c0",
    "outputId": "a844ff79-37ef-46eb-8ee3-ba14499f8a8c"
   },
   "outputs": [
    {
     "data": {
      "text/plain": [
       "{'Nome': 'Joao', 'Idade': 22, 'Curso': 'Oceano'}"
      ]
     },
     "execution_count": 107,
     "metadata": {},
     "output_type": "execute_result"
    }
   ],
   "source": [
    "dicionario"
   ]
  },
  {
   "cell_type": "code",
   "execution_count": 108,
   "metadata": {
    "id": "q1YW-CTf4yIw"
   },
   "outputs": [],
   "source": [
    "x2 = dict(a=1,b=2,c=3)"
   ]
  },
  {
   "cell_type": "code",
   "execution_count": 109,
   "metadata": {
    "colab": {
     "base_uri": "https://localhost:8080/"
    },
    "executionInfo": {
     "elapsed": 1212,
     "status": "ok",
     "timestamp": 1607543005927,
     "user": {
      "displayName": "Pedro Calixto",
      "photoUrl": "https://lh3.googleusercontent.com/a-/AOh14Gg0lRxjwA8brpeHxk7aHwRimkQ3KrPTXDrnAl0X8Lg=s64",
      "userId": "06936679020888677524"
     },
     "user_tz": 180
    },
    "id": "icCH4lgv4yIy",
    "outputId": "6899d343-75b0-4d2a-8d29-9df52c6d10ac"
   },
   "outputs": [
    {
     "data": {
      "text/plain": [
       "{'a': 1, 'b': 2, 'c': 3}"
      ]
     },
     "execution_count": 109,
     "metadata": {},
     "output_type": "execute_result"
    }
   ],
   "source": [
    "x2"
   ]
  },
  {
   "cell_type": "markdown",
   "metadata": {
    "id": "x4fvISMJ4yI0"
   },
   "source": [
    "Adicionando chaves e elementos no dicionário"
   ]
  },
  {
   "cell_type": "code",
   "execution_count": 110,
   "metadata": {
    "id": "Paq1Ynh-4yI0"
   },
   "outputs": [],
   "source": [
    "dicionario.update({'CPF':123456})\n"
   ]
  },
  {
   "cell_type": "code",
   "execution_count": 111,
   "metadata": {
    "colab": {
     "base_uri": "https://localhost:8080/"
    },
    "executionInfo": {
     "elapsed": 679,
     "status": "ok",
     "timestamp": 1607543040281,
     "user": {
      "displayName": "Pedro Calixto",
      "photoUrl": "https://lh3.googleusercontent.com/a-/AOh14Gg0lRxjwA8brpeHxk7aHwRimkQ3KrPTXDrnAl0X8Lg=s64",
      "userId": "06936679020888677524"
     },
     "user_tz": 180
    },
    "id": "uetcS3MY4yI4",
    "outputId": "49c285c4-9cba-4978-f594-9b70005689ea"
   },
   "outputs": [
    {
     "data": {
      "text/plain": [
       "{'Nome': 'Joao', 'Idade': 22, 'Curso': 'Oceano', 'CPF': 123456}"
      ]
     },
     "execution_count": 111,
     "metadata": {},
     "output_type": "execute_result"
    }
   ],
   "source": [
    "dicionario\n"
   ]
  },
  {
   "cell_type": "code",
   "execution_count": 112,
   "metadata": {
    "id": "tx3AzX2t4yI5"
   },
   "outputs": [],
   "source": [
    "dicionario['dadox'] = 2345678"
   ]
  },
  {
   "cell_type": "code",
   "execution_count": 113,
   "metadata": {
    "colab": {
     "base_uri": "https://localhost:8080/"
    },
    "executionInfo": {
     "elapsed": 2300,
     "status": "ok",
     "timestamp": 1607543071891,
     "user": {
      "displayName": "Pedro Calixto",
      "photoUrl": "https://lh3.googleusercontent.com/a-/AOh14Gg0lRxjwA8brpeHxk7aHwRimkQ3KrPTXDrnAl0X8Lg=s64",
      "userId": "06936679020888677524"
     },
     "user_tz": 180
    },
    "id": "X9EATR3z4yI7",
    "outputId": "e8c57d20-5e87-4a58-828c-931695e578b5"
   },
   "outputs": [
    {
     "name": "stdout",
     "output_type": "stream",
     "text": [
      "{'Nome': 'Joao', 'Idade': 22, 'Curso': 'Oceano', 'CPF': 123456, 'dadox': 2345678}\n"
     ]
    }
   ],
   "source": [
    "print(dicionario)"
   ]
  },
  {
   "cell_type": "code",
   "execution_count": 114,
   "metadata": {
    "id": "NQBgQbku4yI8"
   },
   "outputs": [],
   "source": [
    "dicionario['coisax'] = 'lalala'"
   ]
  },
  {
   "cell_type": "code",
   "execution_count": 115,
   "metadata": {
    "colab": {
     "base_uri": "https://localhost:8080/"
    },
    "executionInfo": {
     "elapsed": 2903,
     "status": "ok",
     "timestamp": 1607543108648,
     "user": {
      "displayName": "Pedro Calixto",
      "photoUrl": "https://lh3.googleusercontent.com/a-/AOh14Gg0lRxjwA8brpeHxk7aHwRimkQ3KrPTXDrnAl0X8Lg=s64",
      "userId": "06936679020888677524"
     },
     "user_tz": 180
    },
    "id": "bTdcsbI64yI-",
    "outputId": "7919bfa1-7542-4211-97b6-70806e995607"
   },
   "outputs": [
    {
     "data": {
      "text/plain": [
       "{'Nome': 'Joao',\n",
       " 'Idade': 22,\n",
       " 'Curso': 'Oceano',\n",
       " 'CPF': 123456,\n",
       " 'dadox': 2345678,\n",
       " 'coisax': 'lalala'}"
      ]
     },
     "execution_count": 115,
     "metadata": {},
     "output_type": "execute_result"
    }
   ],
   "source": [
    "dicionario"
   ]
  },
  {
   "cell_type": "markdown",
   "metadata": {
    "id": "GIbVuNRg4yJA"
   },
   "source": [
    "Acessando o conteudo do dicionario e suas chaves:"
   ]
  },
  {
   "cell_type": "code",
   "execution_count": 116,
   "metadata": {
    "colab": {
     "base_uri": "https://localhost:8080/"
    },
    "executionInfo": {
     "elapsed": 2343,
     "status": "ok",
     "timestamp": 1607543164409,
     "user": {
      "displayName": "Pedro Calixto",
      "photoUrl": "https://lh3.googleusercontent.com/a-/AOh14Gg0lRxjwA8brpeHxk7aHwRimkQ3KrPTXDrnAl0X8Lg=s64",
      "userId": "06936679020888677524"
     },
     "user_tz": 180
    },
    "id": "xJv7fta94yJA",
    "outputId": "a05348c2-9db5-47b7-b82c-b64aa7834500"
   },
   "outputs": [
    {
     "data": {
      "text/plain": [
       "dict_items([('Nome', 'Joao'), ('Idade', 22), ('Curso', 'Oceano'), ('CPF', 123456), ('dadox', 2345678), ('coisax', 'lalala')])"
      ]
     },
     "execution_count": 116,
     "metadata": {},
     "output_type": "execute_result"
    }
   ],
   "source": [
    "dicionario.items()"
   ]
  },
  {
   "cell_type": "code",
   "execution_count": 117,
   "metadata": {
    "colab": {
     "base_uri": "https://localhost:8080/",
     "height": 167
    },
    "executionInfo": {
     "elapsed": 2340,
     "status": "error",
     "timestamp": 1607543202399,
     "user": {
      "displayName": "Pedro Calixto",
      "photoUrl": "https://lh3.googleusercontent.com/a-/AOh14Gg0lRxjwA8brpeHxk7aHwRimkQ3KrPTXDrnAl0X8Lg=s64",
      "userId": "06936679020888677524"
     },
     "user_tz": 180
    },
    "id": "PQ_QoXs-4yJC",
    "outputId": "fae1055a-e5ed-47a0-8f48-e5a99dd4fdd0"
   },
   "outputs": [
    {
     "data": {
      "text/plain": [
       "dict_keys(['Nome', 'Idade', 'Curso', 'CPF', 'dadox', 'coisax'])"
      ]
     },
     "execution_count": 117,
     "metadata": {},
     "output_type": "execute_result"
    }
   ],
   "source": [
    "dicionario.keys()"
   ]
  },
  {
   "cell_type": "code",
   "execution_count": 118,
   "metadata": {
    "colab": {
     "base_uri": "https://localhost:8080/"
    },
    "executionInfo": {
     "elapsed": 4496,
     "status": "ok",
     "timestamp": 1607543219081,
     "user": {
      "displayName": "Pedro Calixto",
      "photoUrl": "https://lh3.googleusercontent.com/a-/AOh14Gg0lRxjwA8brpeHxk7aHwRimkQ3KrPTXDrnAl0X8Lg=s64",
      "userId": "06936679020888677524"
     },
     "user_tz": 180
    },
    "id": "kiPnFWjk4yJE",
    "outputId": "b95e50a9-8eaa-4c26-e48f-03f43503d2a0"
   },
   "outputs": [
    {
     "data": {
      "text/plain": [
       "dict_values(['Joao', 22, 'Oceano', 123456, 2345678, 'lalala'])"
      ]
     },
     "execution_count": 118,
     "metadata": {},
     "output_type": "execute_result"
    }
   ],
   "source": [
    "dicionario.values()"
   ]
  },
  {
   "cell_type": "markdown",
   "metadata": {
    "id": "_X7-Bf6k4yJF"
   },
   "source": [
    "## Numpy Array\n",
    "<a id='section_id12'>\n"
   ]
  },
  {
   "cell_type": "markdown",
   "metadata": {
    "id": "WuRi5YqM4yJG"
   },
   "source": [
    "<div class=\"alert alert-block alert-success\">\n",
    "\n",
    "Numpy é a biblioteca central para computação científica em Python. Ele fornece um objeto de matriz multidimensional de alto desempenho e ferramentas para trabalhar com essas matrizes. Se você já está familiarizado com o MATLAB, você pode achar este tutorial útil para começar a usar o Numpy.\n",
    "    </div>"
   ]
  },
  {
   "cell_type": "markdown",
   "metadata": {
    "id": "yiWF3c9n4yJG"
   },
   "source": [
    "<div class=\"alert alert-block alert-success\">\n",
    "\n",
    "Uma matriz numpy é uma grade de valores, todos do mesmo tipo e é indexada por uma tupla de inteiros não negativos. O número de dimensões é a classificação da matriz; a forma de uma matriz é uma tupla de inteiros que fornece o tamanho da matriz ao longo de cada dimensão.\n",
    "    </div>"
   ]
  },
  {
   "cell_type": "markdown",
   "metadata": {
    "id": "sYK7FZ174yJG"
   },
   "source": [
    "Podemos criar uma array a partir de listas e também acessar cada elemento a partir da indexação;"
   ]
  },
  {
   "cell_type": "code",
   "execution_count": 119,
   "metadata": {
    "id": "YWnRXzrk4yJG"
   },
   "outputs": [],
   "source": [
    "import numpy as np "
   ]
  },
  {
   "cell_type": "code",
   "execution_count": 120,
   "metadata": {
    "id": "JVA98_HK4yJI"
   },
   "outputs": [],
   "source": [
    "a = np.array([1, 2, 3])   # Cria um numpy-array com 1 dimensão"
   ]
  },
  {
   "cell_type": "code",
   "execution_count": 121,
   "metadata": {
    "colab": {
     "base_uri": "https://localhost:8080/"
    },
    "executionInfo": {
     "elapsed": 4497,
     "status": "ok",
     "timestamp": 1607543267083,
     "user": {
      "displayName": "Pedro Calixto",
      "photoUrl": "https://lh3.googleusercontent.com/a-/AOh14Gg0lRxjwA8brpeHxk7aHwRimkQ3KrPTXDrnAl0X8Lg=s64",
      "userId": "06936679020888677524"
     },
     "user_tz": 180
    },
    "id": "OWKf17YY4yJK",
    "outputId": "e9a46e99-ac20-4299-f61a-4637a974c75c"
   },
   "outputs": [
    {
     "data": {
      "text/plain": [
       "array([1, 2, 3])"
      ]
     },
     "execution_count": 121,
     "metadata": {},
     "output_type": "execute_result"
    }
   ],
   "source": [
    "a"
   ]
  },
  {
   "cell_type": "markdown",
   "metadata": {
    "id": "0KHswbfG4yJM"
   },
   "source": [
    "Algums métodos prórpios de um array podem ser de grande ajuda na manipulação dos seus dados."
   ]
  },
  {
   "cell_type": "code",
   "execution_count": 122,
   "metadata": {
    "colab": {
     "base_uri": "https://localhost:8080/"
    },
    "executionInfo": {
     "elapsed": 4358,
     "status": "ok",
     "timestamp": 1607543285923,
     "user": {
      "displayName": "Pedro Calixto",
      "photoUrl": "https://lh3.googleusercontent.com/a-/AOh14Gg0lRxjwA8brpeHxk7aHwRimkQ3KrPTXDrnAl0X8Lg=s64",
      "userId": "06936679020888677524"
     },
     "user_tz": 180
    },
    "id": "EkXyTx_N4yJM",
    "outputId": "6bdcc5fa-f6b6-4699-a5cf-38e4a0a1d0c8"
   },
   "outputs": [
    {
     "data": {
      "text/plain": [
       "(3,)"
      ]
     },
     "execution_count": 122,
     "metadata": {},
     "output_type": "execute_result"
    }
   ],
   "source": [
    "a.shape"
   ]
  },
  {
   "cell_type": "code",
   "execution_count": 123,
   "metadata": {
    "id": "DpdmsGca4yJN"
   },
   "outputs": [],
   "source": [
    "a[0] = 5"
   ]
  },
  {
   "cell_type": "code",
   "execution_count": 124,
   "metadata": {
    "colab": {
     "base_uri": "https://localhost:8080/"
    },
    "executionInfo": {
     "elapsed": 3652,
     "status": "ok",
     "timestamp": 1607543320433,
     "user": {
      "displayName": "Pedro Calixto",
      "photoUrl": "https://lh3.googleusercontent.com/a-/AOh14Gg0lRxjwA8brpeHxk7aHwRimkQ3KrPTXDrnAl0X8Lg=s64",
      "userId": "06936679020888677524"
     },
     "user_tz": 180
    },
    "id": "wqi0Yx9Z4yJQ",
    "outputId": "139e9620-4f4c-4c15-ae9e-993443426193"
   },
   "outputs": [
    {
     "data": {
      "text/plain": [
       "array([5, 2, 3])"
      ]
     },
     "execution_count": 124,
     "metadata": {},
     "output_type": "execute_result"
    }
   ],
   "source": [
    "a"
   ]
  },
  {
   "cell_type": "markdown",
   "metadata": {
    "id": "CWexlbZD4yJS"
   },
   "source": [
    "Podemos criar arrays e matrizes das seguintes formas:"
   ]
  },
  {
   "cell_type": "markdown",
   "metadata": {},
   "source": [
    "**np.zeros(i,j)** $\\rightarrow$ Cria um array com \"shape/dimensão\" pré definidas preenchidas com 0"
   ]
  },
  {
   "cell_type": "code",
   "execution_count": 125,
   "metadata": {
    "colab": {
     "base_uri": "https://localhost:8080/"
    },
    "executionInfo": {
     "elapsed": 5188,
     "status": "ok",
     "timestamp": 1607543399819,
     "user": {
      "displayName": "Pedro Calixto",
      "photoUrl": "https://lh3.googleusercontent.com/a-/AOh14Gg0lRxjwA8brpeHxk7aHwRimkQ3KrPTXDrnAl0X8Lg=s64",
      "userId": "06936679020888677524"
     },
     "user_tz": 180
    },
    "id": "Ynzb_j9X4yJS",
    "outputId": "59b2cbaa-5053-474a-8f8d-66934124a7b3"
   },
   "outputs": [
    {
     "name": "stdout",
     "output_type": "stream",
     "text": [
      "[[0. 0.]\n",
      " [0. 0.]]\n"
     ]
    }
   ],
   "source": [
    "a = np.zeros((2,2))   \n",
    "print(a)          "
   ]
  },
  {
   "cell_type": "markdown",
   "metadata": {},
   "source": [
    "**np.ones(i,j)** $\\rightarrow$ Cria um array com \"shape/dimensão\" pré definidas preenchidas com 1"
   ]
  },
  {
   "cell_type": "code",
   "execution_count": 126,
   "metadata": {
    "colab": {
     "base_uri": "https://localhost:8080/"
    },
    "executionInfo": {
     "elapsed": 4254,
     "status": "ok",
     "timestamp": 1607543405946,
     "user": {
      "displayName": "Pedro Calixto",
      "photoUrl": "https://lh3.googleusercontent.com/a-/AOh14Gg0lRxjwA8brpeHxk7aHwRimkQ3KrPTXDrnAl0X8Lg=s64",
      "userId": "06936679020888677524"
     },
     "user_tz": 180
    },
    "id": "k0KhWrPK4yJT",
    "outputId": "847b4430-cadc-429c-b4d2-f0bc73377814"
   },
   "outputs": [
    {
     "name": "stdout",
     "output_type": "stream",
     "text": [
      "[[1. 1.]]\n"
     ]
    }
   ],
   "source": [
    "b = np.ones((1,2))   \n",
    "print(b)              "
   ]
  },
  {
   "cell_type": "markdown",
   "metadata": {},
   "source": [
    "**np.full** $\\rightarrow$ Cria um array com \"shape/dimensão\" pré definidas preenchidas com um numero a sua escolha "
   ]
  },
  {
   "cell_type": "code",
   "execution_count": 127,
   "metadata": {
    "colab": {
     "base_uri": "https://localhost:8080/"
    },
    "executionInfo": {
     "elapsed": 497,
     "status": "ok",
     "timestamp": 1607543436514,
     "user": {
      "displayName": "Pedro Calixto",
      "photoUrl": "https://lh3.googleusercontent.com/a-/AOh14Gg0lRxjwA8brpeHxk7aHwRimkQ3KrPTXDrnAl0X8Lg=s64",
      "userId": "06936679020888677524"
     },
     "user_tz": 180
    },
    "id": "jwffObmm4yJV",
    "outputId": "33c7d06d-c280-48e5-c332-865fb0bb2be5"
   },
   "outputs": [
    {
     "name": "stdout",
     "output_type": "stream",
     "text": [
      "[[nan nan]\n",
      " [nan nan]]\n"
     ]
    }
   ],
   "source": [
    "c = np.full((2,2), np.nan) \n",
    "print(c)             "
   ]
  },
  {
   "cell_type": "code",
   "execution_count": 128,
   "metadata": {},
   "outputs": [
    {
     "name": "stdout",
     "output_type": "stream",
     "text": [
      "[[1000 1000]\n",
      " [1000 1000]]\n"
     ]
    }
   ],
   "source": [
    "cc = c = np.full((2,2), 1000) \n",
    "print(c)            "
   ]
  },
  {
   "cell_type": "markdown",
   "metadata": {},
   "source": [
    "**np.full** $\\rightarrow$ Cria uma matrix identidade "
   ]
  },
  {
   "cell_type": "code",
   "execution_count": 129,
   "metadata": {
    "colab": {
     "base_uri": "https://localhost:8080/"
    },
    "executionInfo": {
     "elapsed": 3962,
     "status": "ok",
     "timestamp": 1607543463326,
     "user": {
      "displayName": "Pedro Calixto",
      "photoUrl": "https://lh3.googleusercontent.com/a-/AOh14Gg0lRxjwA8brpeHxk7aHwRimkQ3KrPTXDrnAl0X8Lg=s64",
      "userId": "06936679020888677524"
     },
     "user_tz": 180
    },
    "id": "EXrQQgQj4yJX",
    "outputId": "3d1e1c3f-eac5-4370-828a-7dc9994f1b05"
   },
   "outputs": [
    {
     "name": "stdout",
     "output_type": "stream",
     "text": [
      "[[1. 0.]\n",
      " [0. 1.]]\n"
     ]
    }
   ],
   "source": [
    "d = np.eye(2)  \n",
    "print(d)              "
   ]
  },
  {
   "cell_type": "markdown",
   "metadata": {},
   "source": [
    "**np.full** $\\rightarrow$ Cria um array com \"shape/dimensão\" pré definidas preenchidas com valores randomicos;"
   ]
  },
  {
   "cell_type": "code",
   "execution_count": 130,
   "metadata": {
    "colab": {
     "base_uri": "https://localhost:8080/"
    },
    "executionInfo": {
     "elapsed": 2373,
     "status": "ok",
     "timestamp": 1607543473950,
     "user": {
      "displayName": "Pedro Calixto",
      "photoUrl": "https://lh3.googleusercontent.com/a-/AOh14Gg0lRxjwA8brpeHxk7aHwRimkQ3KrPTXDrnAl0X8Lg=s64",
      "userId": "06936679020888677524"
     },
     "user_tz": 180
    },
    "id": "6cVjTrIc4yJZ",
    "outputId": "31401835-a606-4ea8-8b54-0c26cf7ded42"
   },
   "outputs": [
    {
     "name": "stdout",
     "output_type": "stream",
     "text": [
      "[[0.53330795 0.73112634]\n",
      " [0.71683206 0.41895441]]\n"
     ]
    }
   ],
   "source": [
    "e = np.random.random((2,2)) \n",
    "print(e)"
   ]
  },
  {
   "cell_type": "markdown",
   "metadata": {
    "id": "6T86Tu234yJa"
   },
   "source": [
    "<h3> As funções sum, mean, min e max;"
   ]
  },
  {
   "cell_type": "markdown",
   "metadata": {},
   "source": [
    "Funções do Numpy utilizadas para operações básicas."
   ]
  },
  {
   "cell_type": "code",
   "execution_count": 131,
   "metadata": {
    "id": "yaZ-BsN24yJb",
    "scrolled": true
   },
   "outputs": [
    {
     "data": {
      "text/plain": [
       "2.4002207584008817"
      ]
     },
     "execution_count": 131,
     "metadata": {},
     "output_type": "execute_result"
    }
   ],
   "source": [
    "e.sum()"
   ]
  },
  {
   "cell_type": "code",
   "execution_count": 132,
   "metadata": {
    "id": "JoH54Qx34yJd"
   },
   "outputs": [
    {
     "data": {
      "text/plain": [
       "0.6000551896002204"
      ]
     },
     "execution_count": 132,
     "metadata": {},
     "output_type": "execute_result"
    }
   ],
   "source": [
    "e.mean()"
   ]
  },
  {
   "cell_type": "code",
   "execution_count": 133,
   "metadata": {
    "id": "plCNqvzA4yJf"
   },
   "outputs": [
    {
     "data": {
      "text/plain": [
       "0.41895440533938166"
      ]
     },
     "execution_count": 133,
     "metadata": {},
     "output_type": "execute_result"
    }
   ],
   "source": [
    "e.min()"
   ]
  },
  {
   "cell_type": "code",
   "execution_count": 134,
   "metadata": {
    "id": "u9eaTc4r4yJi"
   },
   "outputs": [
    {
     "data": {
      "text/plain": [
       "0.731126340779177"
      ]
     },
     "execution_count": 134,
     "metadata": {},
     "output_type": "execute_result"
    }
   ],
   "source": [
    "e.max()"
   ]
  },
  {
   "cell_type": "markdown",
   "metadata": {},
   "source": [
    "------------------------------"
   ]
  },
  {
   "cell_type": "markdown",
   "metadata": {},
   "source": [
    "<img src=\"https://raw.githubusercontent.com/calixtops/ES/main/img/logo_OEPY.png\" style=\" width: 150px; height:60px; align:center\">"
   ]
  }
 ],
 "metadata": {
  "colab": {
   "collapsed_sections": [
    "dPB9kFl84yCy",
    "2nqeMrly4yDV",
    "jcJlzt9q4yEA"
   ],
   "name": "ADADOS - Aula 2 - Estruturas de Dados.ipynb",
   "provenance": []
  },
  "kernelspec": {
   "display_name": "Python 3",
   "language": "python",
   "name": "python3"
  },
  "language_info": {
   "codemirror_mode": {
    "name": "ipython",
    "version": 3
   },
   "file_extension": ".py",
   "mimetype": "text/x-python",
   "name": "python",
   "nbconvert_exporter": "python",
   "pygments_lexer": "ipython3",
   "version": "3.8.3"
  }
 },
 "nbformat": 4,
 "nbformat_minor": 1
}
